{
 "cells": [
  {
   "cell_type": "code",
   "execution_count": 77,
   "metadata": {},
   "outputs": [],
   "source": [
    "%matplotlib inline\n",
    "import pandas as pd\n",
    "import numpy as np\n",
    "import matplotlib.pyplot as plt\n",
    "import seaborn as sns\n",
    "import scipy.stats as stats"
   ]
  },
  {
   "cell_type": "code",
   "execution_count": 78,
   "metadata": {},
   "outputs": [],
   "source": [
    "# other_train\n",
    "df = pd.read_csv('./other_train.csv', sep=',', index_col=0) # First column is Unnamed\n",
    "for column_name in df:\n",
    "    if df[column_name].dtypes == 'object':\n",
    "        df[column_name] = df[column_name].str.strip()"
   ]
  },
  {
   "cell_type": "code",
   "execution_count": 79,
   "metadata": {},
   "outputs": [
    {
     "name": "stdout",
     "output_type": "stream",
     "text": [
      "<class 'pandas.core.frame.DataFrame'>\n",
      "Int64Index: 3983 entries, 0 to 3982\n",
      "Data columns (total 22 columns):\n",
      " #   Column            Non-Null Count  Dtype  \n",
      "---  ------            --------------  -----  \n",
      " 0   name              3983 non-null   object \n",
      " 1   address           3983 non-null   object \n",
      " 2   race              3971 non-null   object \n",
      " 3   marital-status    3709 non-null   object \n",
      " 4   occupation        3968 non-null   object \n",
      " 5   pregnant          3967 non-null   object \n",
      " 6   education-num     3971 non-null   float64\n",
      " 7   relationship      3972 non-null   object \n",
      " 8   skewness_glucose  3968 non-null   float64\n",
      " 9   mean_glucose      3974 non-null   float64\n",
      " 10  capital-gain      3964 non-null   float64\n",
      " 11  kurtosis_glucose  3970 non-null   float64\n",
      " 12  education         3969 non-null   object \n",
      " 13  fnlwgt            3965 non-null   float64\n",
      " 14  class             3972 non-null   float64\n",
      " 15  std_glucose       3966 non-null   float64\n",
      " 16  income            3971 non-null   object \n",
      " 17  medical_info      3967 non-null   object \n",
      " 18  native-country    3967 non-null   object \n",
      " 19  hours-per-week    3971 non-null   float64\n",
      " 20  capital-loss      3971 non-null   float64\n",
      " 21  workclass         3968 non-null   object \n",
      "dtypes: float64(10), object(12)\n",
      "memory usage: 715.7+ KB\n"
     ]
    }
   ],
   "source": [
    "df.info()\n",
    "# There are 22 columns. 10 atributes are float type and 12 are object.\n",
    "# All columns expect name and adress have null values"
   ]
  },
  {
   "cell_type": "code",
   "execution_count": 80,
   "metadata": {},
   "outputs": [
    {
     "data": {
      "text/html": [
       "<div>\n",
       "<style scoped>\n",
       "    .dataframe tbody tr th:only-of-type {\n",
       "        vertical-align: middle;\n",
       "    }\n",
       "\n",
       "    .dataframe tbody tr th {\n",
       "        vertical-align: top;\n",
       "    }\n",
       "\n",
       "    .dataframe thead th {\n",
       "        text-align: right;\n",
       "    }\n",
       "</style>\n",
       "<table border=\"1\" class=\"dataframe\">\n",
       "  <thead>\n",
       "    <tr style=\"text-align: right;\">\n",
       "      <th></th>\n",
       "      <th>education-num</th>\n",
       "      <th>skewness_glucose</th>\n",
       "      <th>mean_glucose</th>\n",
       "      <th>capital-gain</th>\n",
       "      <th>kurtosis_glucose</th>\n",
       "      <th>fnlwgt</th>\n",
       "      <th>class</th>\n",
       "      <th>std_glucose</th>\n",
       "      <th>hours-per-week</th>\n",
       "      <th>capital-loss</th>\n",
       "    </tr>\n",
       "  </thead>\n",
       "  <tbody>\n",
       "    <tr>\n",
       "      <th>count</th>\n",
       "      <td>3971.000000</td>\n",
       "      <td>3968.000000</td>\n",
       "      <td>3974.000000</td>\n",
       "      <td>3964.000000</td>\n",
       "      <td>3970.000000</td>\n",
       "      <td>3.965000e+03</td>\n",
       "      <td>3972.000000</td>\n",
       "      <td>3966.000000</td>\n",
       "      <td>3971.000000</td>\n",
       "      <td>3971.000000</td>\n",
       "    </tr>\n",
       "    <tr>\n",
       "      <th>mean</th>\n",
       "      <td>10.065223</td>\n",
       "      <td>4.233223</td>\n",
       "      <td>69.173141</td>\n",
       "      <td>1228.128406</td>\n",
       "      <td>0.952248</td>\n",
       "      <td>1.911784e+05</td>\n",
       "      <td>0.256294</td>\n",
       "      <td>45.172793</td>\n",
       "      <td>40.505162</td>\n",
       "      <td>73.254092</td>\n",
       "    </tr>\n",
       "    <tr>\n",
       "      <th>std</th>\n",
       "      <td>2.671998</td>\n",
       "      <td>9.715162</td>\n",
       "      <td>3348.917032</td>\n",
       "      <td>8623.958204</td>\n",
       "      <td>1.614087</td>\n",
       "      <td>1.072410e+05</td>\n",
       "      <td>0.436641</td>\n",
       "      <td>7.621144</td>\n",
       "      <td>12.279149</td>\n",
       "      <td>369.551911</td>\n",
       "    </tr>\n",
       "    <tr>\n",
       "      <th>min</th>\n",
       "      <td>1.000000</td>\n",
       "      <td>-1.755332</td>\n",
       "      <td>-18973.437500</td>\n",
       "      <td>0.000000</td>\n",
       "      <td>-1.641515</td>\n",
       "      <td>1.882700e+04</td>\n",
       "      <td>0.000000</td>\n",
       "      <td>25.695250</td>\n",
       "      <td>1.000000</td>\n",
       "      <td>0.000000</td>\n",
       "    </tr>\n",
       "    <tr>\n",
       "      <th>25%</th>\n",
       "      <td>9.000000</td>\n",
       "      <td>-0.120081</td>\n",
       "      <td>83.955078</td>\n",
       "      <td>0.000000</td>\n",
       "      <td>0.070311</td>\n",
       "      <td>1.179830e+05</td>\n",
       "      <td>0.000000</td>\n",
       "      <td>40.151488</td>\n",
       "      <td>40.000000</td>\n",
       "      <td>0.000000</td>\n",
       "    </tr>\n",
       "    <tr>\n",
       "      <th>50%</th>\n",
       "      <td>10.000000</td>\n",
       "      <td>0.376026</td>\n",
       "      <td>110.613281</td>\n",
       "      <td>0.000000</td>\n",
       "      <td>0.311092</td>\n",
       "      <td>1.795090e+05</td>\n",
       "      <td>0.000000</td>\n",
       "      <td>45.878359</td>\n",
       "      <td>40.000000</td>\n",
       "      <td>0.000000</td>\n",
       "    </tr>\n",
       "    <tr>\n",
       "      <th>75%</th>\n",
       "      <td>13.000000</td>\n",
       "      <td>2.090854</td>\n",
       "      <td>125.382812</td>\n",
       "      <td>0.000000</td>\n",
       "      <td>0.776492</td>\n",
       "      <td>2.415230e+05</td>\n",
       "      <td>1.000000</td>\n",
       "      <td>50.350939</td>\n",
       "      <td>45.000000</td>\n",
       "      <td>0.000000</td>\n",
       "    </tr>\n",
       "    <tr>\n",
       "      <th>max</th>\n",
       "      <td>16.000000</td>\n",
       "      <td>68.101622</td>\n",
       "      <td>15887.500000</td>\n",
       "      <td>99999.000000</td>\n",
       "      <td>8.069522</td>\n",
       "      <td>1.366120e+06</td>\n",
       "      <td>1.000000</td>\n",
       "      <td>91.206475</td>\n",
       "      <td>99.000000</td>\n",
       "      <td>2824.000000</td>\n",
       "    </tr>\n",
       "  </tbody>\n",
       "</table>\n",
       "</div>"
      ],
      "text/plain": [
       "       education-num  skewness_glucose  mean_glucose  capital-gain  \\\n",
       "count    3971.000000       3968.000000   3974.000000   3964.000000   \n",
       "mean       10.065223          4.233223     69.173141   1228.128406   \n",
       "std         2.671998          9.715162   3348.917032   8623.958204   \n",
       "min         1.000000         -1.755332 -18973.437500      0.000000   \n",
       "25%         9.000000         -0.120081     83.955078      0.000000   \n",
       "50%        10.000000          0.376026    110.613281      0.000000   \n",
       "75%        13.000000          2.090854    125.382812      0.000000   \n",
       "max        16.000000         68.101622  15887.500000  99999.000000   \n",
       "\n",
       "       kurtosis_glucose        fnlwgt        class  std_glucose  \\\n",
       "count       3970.000000  3.965000e+03  3972.000000  3966.000000   \n",
       "mean           0.952248  1.911784e+05     0.256294    45.172793   \n",
       "std            1.614087  1.072410e+05     0.436641     7.621144   \n",
       "min           -1.641515  1.882700e+04     0.000000    25.695250   \n",
       "25%            0.070311  1.179830e+05     0.000000    40.151488   \n",
       "50%            0.311092  1.795090e+05     0.000000    45.878359   \n",
       "75%            0.776492  2.415230e+05     1.000000    50.350939   \n",
       "max            8.069522  1.366120e+06     1.000000    91.206475   \n",
       "\n",
       "       hours-per-week  capital-loss  \n",
       "count     3971.000000   3971.000000  \n",
       "mean        40.505162     73.254092  \n",
       "std         12.279149    369.551911  \n",
       "min          1.000000      0.000000  \n",
       "25%         40.000000      0.000000  \n",
       "50%         40.000000      0.000000  \n",
       "75%         45.000000      0.000000  \n",
       "max         99.000000   2824.000000  "
      ]
     },
     "execution_count": 80,
     "metadata": {},
     "output_type": "execute_result"
    }
   ],
   "source": [
    "df.describe() # Fundamental descriptive stats"
   ]
  },
  {
   "cell_type": "code",
   "execution_count": 81,
   "metadata": {},
   "outputs": [
    {
     "data": {
      "text/html": [
       "<div>\n",
       "<style scoped>\n",
       "    .dataframe tbody tr th:only-of-type {\n",
       "        vertical-align: middle;\n",
       "    }\n",
       "\n",
       "    .dataframe tbody tr th {\n",
       "        vertical-align: top;\n",
       "    }\n",
       "\n",
       "    .dataframe thead th {\n",
       "        text-align: right;\n",
       "    }\n",
       "</style>\n",
       "<table border=\"1\" class=\"dataframe\">\n",
       "  <thead>\n",
       "    <tr style=\"text-align: right;\">\n",
       "      <th></th>\n",
       "      <th>name</th>\n",
       "      <th>address</th>\n",
       "      <th>race</th>\n",
       "      <th>marital-status</th>\n",
       "      <th>occupation</th>\n",
       "      <th>pregnant</th>\n",
       "      <th>education-num</th>\n",
       "      <th>relationship</th>\n",
       "      <th>skewness_glucose</th>\n",
       "      <th>mean_glucose</th>\n",
       "      <th>...</th>\n",
       "      <th>education</th>\n",
       "      <th>fnlwgt</th>\n",
       "      <th>class</th>\n",
       "      <th>std_glucose</th>\n",
       "      <th>income</th>\n",
       "      <th>medical_info</th>\n",
       "      <th>native-country</th>\n",
       "      <th>hours-per-week</th>\n",
       "      <th>capital-loss</th>\n",
       "      <th>workclass</th>\n",
       "    </tr>\n",
       "  </thead>\n",
       "  <tbody>\n",
       "    <tr>\n",
       "      <th>0</th>\n",
       "      <td>David Hayes</td>\n",
       "      <td>235 Jennifer Throughway Suite 569\\r\\nNew Antho...</td>\n",
       "      <td>Black</td>\n",
       "      <td>??</td>\n",
       "      <td>Prof-specialty</td>\n",
       "      <td>f</td>\n",
       "      <td>5.0</td>\n",
       "      <td>Not-in-family</td>\n",
       "      <td>-0.197692</td>\n",
       "      <td>141.359375</td>\n",
       "      <td>...</td>\n",
       "      <td>9th</td>\n",
       "      <td>175431.0</td>\n",
       "      <td>0.0</td>\n",
       "      <td>49.842053</td>\n",
       "      <td>&lt;=50K</td>\n",
       "      <td>{'mean_oxygen':'4.04264214','std_oxygen':'19.4...</td>\n",
       "      <td>United-States</td>\n",
       "      <td>40.0</td>\n",
       "      <td>0.0</td>\n",
       "      <td>Private</td>\n",
       "    </tr>\n",
       "    <tr>\n",
       "      <th>1</th>\n",
       "      <td>Stanley Benny</td>\n",
       "      <td>08954 Johnson Course\\r\\nNew Lauraville, NV 22019</td>\n",
       "      <td>White</td>\n",
       "      <td>Married-civ-spouse</td>\n",
       "      <td>Exec-managerial</td>\n",
       "      <td>f</td>\n",
       "      <td>13.0</td>\n",
       "      <td>Husband</td>\n",
       "      <td>16.019670</td>\n",
       "      <td>53.968750</td>\n",
       "      <td>...</td>\n",
       "      <td>Bachelors</td>\n",
       "      <td>66473.0</td>\n",
       "      <td>1.0</td>\n",
       "      <td>31.900220</td>\n",
       "      <td>&gt;50K</td>\n",
       "      <td>{'mean_oxygen':'9.294314381','std_oxygen':'35....</td>\n",
       "      <td>United-States</td>\n",
       "      <td>40.0</td>\n",
       "      <td>0.0</td>\n",
       "      <td>Private</td>\n",
       "    </tr>\n",
       "    <tr>\n",
       "      <th>2</th>\n",
       "      <td>Domingo Labriola</td>\n",
       "      <td>36319 Wiley Drive Suite 094\\r\\nSouth Michael, ...</td>\n",
       "      <td>Asian-Pac-Islander</td>\n",
       "      <td>Married-civ-spouse</td>\n",
       "      <td>Farming-fishing</td>\n",
       "      <td>f</td>\n",
       "      <td>3.0</td>\n",
       "      <td>Husband</td>\n",
       "      <td>21.803837</td>\n",
       "      <td>2257.812500</td>\n",
       "      <td>...</td>\n",
       "      <td>5th-6th</td>\n",
       "      <td>93206.0</td>\n",
       "      <td>1.0</td>\n",
       "      <td>35.793158</td>\n",
       "      <td>&lt;=50K</td>\n",
       "      <td>{'mean_oxygen':'138.7876254','std_oxygen':'79....</td>\n",
       "      <td>Philippines</td>\n",
       "      <td>40.0</td>\n",
       "      <td>0.0</td>\n",
       "      <td>Private</td>\n",
       "    </tr>\n",
       "    <tr>\n",
       "      <th>3</th>\n",
       "      <td>Ronnie Moore</td>\n",
       "      <td>0755 Soto Oval Apt. 443\\r\\nWest Markside, TX 3...</td>\n",
       "      <td>White</td>\n",
       "      <td>Never-married</td>\n",
       "      <td>Other-service</td>\n",
       "      <td>FALSE</td>\n",
       "      <td>10.0</td>\n",
       "      <td>Not-in-family</td>\n",
       "      <td>-0.112191</td>\n",
       "      <td>110.046875</td>\n",
       "      <td>...</td>\n",
       "      <td>Some-college</td>\n",
       "      <td>137604.0</td>\n",
       "      <td>0.0</td>\n",
       "      <td>53.876575</td>\n",
       "      <td>&lt;=50K</td>\n",
       "      <td>{'mean_oxygen':'3.100334448','std_oxygen':'17....</td>\n",
       "      <td>United-States</td>\n",
       "      <td>40.0</td>\n",
       "      <td>0.0</td>\n",
       "      <td>Private</td>\n",
       "    </tr>\n",
       "    <tr>\n",
       "      <th>4</th>\n",
       "      <td>Victor Mcjunkin</td>\n",
       "      <td>95738 Keller Overpass\\r\\nKennedyland, MO 71071</td>\n",
       "      <td>White</td>\n",
       "      <td>NaN</td>\n",
       "      <td>Adm-clerical</td>\n",
       "      <td>f</td>\n",
       "      <td>10.0</td>\n",
       "      <td>Not-in-family</td>\n",
       "      <td>-0.309642</td>\n",
       "      <td>137.960938</td>\n",
       "      <td>...</td>\n",
       "      <td>Some-college</td>\n",
       "      <td>174592.0</td>\n",
       "      <td>0.0</td>\n",
       "      <td>51.885451</td>\n",
       "      <td>&lt;=50K</td>\n",
       "      <td>{'mean_oxygen':'4.203177258','std_oxygen':'23....</td>\n",
       "      <td>United-States</td>\n",
       "      <td>40.0</td>\n",
       "      <td>0.0</td>\n",
       "      <td>Private</td>\n",
       "    </tr>\n",
       "  </tbody>\n",
       "</table>\n",
       "<p>5 rows × 22 columns</p>\n",
       "</div>"
      ],
      "text/plain": [
       "               name                                            address  \\\n",
       "0       David Hayes  235 Jennifer Throughway Suite 569\\r\\nNew Antho...   \n",
       "1     Stanley Benny   08954 Johnson Course\\r\\nNew Lauraville, NV 22019   \n",
       "2  Domingo Labriola  36319 Wiley Drive Suite 094\\r\\nSouth Michael, ...   \n",
       "3      Ronnie Moore  0755 Soto Oval Apt. 443\\r\\nWest Markside, TX 3...   \n",
       "4   Victor Mcjunkin     95738 Keller Overpass\\r\\nKennedyland, MO 71071   \n",
       "\n",
       "                 race      marital-status       occupation pregnant  \\\n",
       "0               Black                  ??   Prof-specialty        f   \n",
       "1               White  Married-civ-spouse  Exec-managerial        f   \n",
       "2  Asian-Pac-Islander  Married-civ-spouse  Farming-fishing        f   \n",
       "3               White       Never-married    Other-service    FALSE   \n",
       "4               White                 NaN     Adm-clerical        f   \n",
       "\n",
       "   education-num   relationship  skewness_glucose  mean_glucose  ...  \\\n",
       "0            5.0  Not-in-family         -0.197692    141.359375  ...   \n",
       "1           13.0        Husband         16.019670     53.968750  ...   \n",
       "2            3.0        Husband         21.803837   2257.812500  ...   \n",
       "3           10.0  Not-in-family         -0.112191    110.046875  ...   \n",
       "4           10.0  Not-in-family         -0.309642    137.960938  ...   \n",
       "\n",
       "      education    fnlwgt class  std_glucose  income  \\\n",
       "0           9th  175431.0   0.0    49.842053   <=50K   \n",
       "1     Bachelors   66473.0   1.0    31.900220    >50K   \n",
       "2       5th-6th   93206.0   1.0    35.793158   <=50K   \n",
       "3  Some-college  137604.0   0.0    53.876575   <=50K   \n",
       "4  Some-college  174592.0   0.0    51.885451   <=50K   \n",
       "\n",
       "                                        medical_info native-country  \\\n",
       "0  {'mean_oxygen':'4.04264214','std_oxygen':'19.4...  United-States   \n",
       "1  {'mean_oxygen':'9.294314381','std_oxygen':'35....  United-States   \n",
       "2  {'mean_oxygen':'138.7876254','std_oxygen':'79....    Philippines   \n",
       "3  {'mean_oxygen':'3.100334448','std_oxygen':'17....  United-States   \n",
       "4  {'mean_oxygen':'4.203177258','std_oxygen':'23....  United-States   \n",
       "\n",
       "  hours-per-week capital-loss  workclass  \n",
       "0           40.0          0.0    Private  \n",
       "1           40.0          0.0    Private  \n",
       "2           40.0          0.0    Private  \n",
       "3           40.0          0.0    Private  \n",
       "4           40.0          0.0    Private  \n",
       "\n",
       "[5 rows x 22 columns]"
      ]
     },
     "execution_count": 81,
     "metadata": {},
     "output_type": "execute_result"
    }
   ],
   "source": [
    "df.head()# medical_info complex object. Can be separated into multiple columns"
   ]
  },
  {
   "cell_type": "code",
   "execution_count": 82,
   "metadata": {},
   "outputs": [
    {
     "data": {
      "text/plain": [
       "337"
      ]
     },
     "execution_count": 82,
     "metadata": {},
     "output_type": "execute_result"
    }
   ],
   "source": [
    "df.shape[0] - df.dropna().shape[0] # there are 337 nan values"
   ]
  },
  {
   "cell_type": "code",
   "execution_count": 83,
   "metadata": {},
   "outputs": [
    {
     "data": {
      "text/plain": [
       "0       235 Jennifer Throughway Suite 569\\r\\nNew Antho...\n",
       "1        08954 Johnson Course\\r\\nNew Lauraville, NV 22019\n",
       "2       36319 Wiley Drive Suite 094\\r\\nSouth Michael, ...\n",
       "3       0755 Soto Oval Apt. 443\\r\\nWest Markside, TX 3...\n",
       "4          95738 Keller Overpass\\r\\nKennedyland, MO 71071\n",
       "                              ...                        \n",
       "3978    7401 Donaldson Lake Apt. 338\\r\\nPort Wayneview...\n",
       "3979    7060 Tammy Greens Apt. 475\\r\\nEast Michael, KS...\n",
       "3980           75021 Bishop Pass\\r\\nLake Rachel, ID 91709\n",
       "3981    81727 Rubio Rapids Apt. 057\\r\\nLawsonburgh, NM...\n",
       "3982          953 Caldwell Mount\\r\\nPort Willie, MS 14959\n",
       "Name: address, Length: 3983, dtype: object"
      ]
     },
     "execution_count": 83,
     "metadata": {},
     "output_type": "execute_result"
    }
   ],
   "source": [
    "df['address'] # We can separate address into three different columns(street, city, zip_code)"
   ]
  },
  {
   "cell_type": "code",
   "execution_count": 84,
   "metadata": {},
   "outputs": [
    {
     "data": {
      "text/plain": [
       "array(['Black', 'White', 'Asian-Pac-Islander', 'Other', nan,\n",
       "       'Amer-Indian-Eskimo'], dtype=object)"
      ]
     },
     "execution_count": 84,
     "metadata": {},
     "output_type": "execute_result"
    }
   ],
   "source": [
    "df['race'].unique() # Can we change Other to nan or vice-versa?"
   ]
  },
  {
   "cell_type": "code",
   "execution_count": 85,
   "metadata": {},
   "outputs": [
    {
     "data": {
      "text/plain": [
       "Married-civ-spouse       1680\n",
       "Never-married            1180\n",
       "Divorced                  439\n",
       "??                        139\n",
       "Widowed                   111\n",
       "Separated                 109\n",
       "Married-spouse-absent      49\n",
       "Married-AF-spouse           2\n",
       "Name: marital-status, dtype: int64"
      ]
     },
     "execution_count": 85,
     "metadata": {},
     "output_type": "execute_result"
    }
   ],
   "source": [
    "df['marital-status'].value_counts() # We can change '??' values to nan"
   ]
  },
  {
   "cell_type": "code",
   "execution_count": 86,
   "metadata": {},
   "outputs": [
    {
     "data": {
      "text/plain": [
       "Married-civ-spouse       1680\n",
       "Never-married            1180\n",
       "Divorced                  439\n",
       "Widowed                   111\n",
       "Separated                 109\n",
       "Married-spouse-absent      49\n",
       "Married-AF-spouse           2\n",
       "Name: marital-status, dtype: int64"
      ]
     },
     "execution_count": 86,
     "metadata": {},
     "output_type": "execute_result"
    }
   ],
   "source": [
    "df['marital-status'] = df['marital-status'].replace('??', np.nan)\n",
    "df['marital-status'].value_counts() # We have succesfully replaced '??' values with NaN"
   ]
  },
  {
   "cell_type": "code",
   "execution_count": 87,
   "metadata": {},
   "outputs": [
    {
     "data": {
      "text/plain": [
       "Craft-repair         512\n",
       "Prof-specialty       499\n",
       "Exec-managerial      492\n",
       "Adm-clerical         472\n",
       "Other-service        424\n",
       "Sales                423\n",
       "Machine-op-inspct    228\n",
       "?                    224\n",
       "Transport-moving     192\n",
       "Handlers-cleaners    177\n",
       "Farming-fishing      119\n",
       "Tech-support         115\n",
       "Protective-serv       72\n",
       "Priv-house-serv       19\n",
       "Name: occupation, dtype: int64"
      ]
     },
     "execution_count": 87,
     "metadata": {},
     "output_type": "execute_result"
    }
   ],
   "source": [
    "df['occupation'].value_counts() # Again we can replace '?' values with NaN"
   ]
  },
  {
   "cell_type": "code",
   "execution_count": 88,
   "metadata": {},
   "outputs": [
    {
     "data": {
      "text/plain": [
       "Craft-repair         512\n",
       "Prof-specialty       499\n",
       "Exec-managerial      492\n",
       "Adm-clerical         472\n",
       "Other-service        424\n",
       "Sales                423\n",
       "Machine-op-inspct    228\n",
       "Transport-moving     192\n",
       "Handlers-cleaners    177\n",
       "Farming-fishing      119\n",
       "Tech-support         115\n",
       "Protective-serv       72\n",
       "Priv-house-serv       19\n",
       "Name: occupation, dtype: int64"
      ]
     },
     "execution_count": 88,
     "metadata": {},
     "output_type": "execute_result"
    }
   ],
   "source": [
    "df['occupation'] = df['occupation'].replace('?', np.nan)\n",
    "df['occupation'].value_counts() # We have succesfully replaced '?' values with NaN"
   ]
  },
  {
   "cell_type": "code",
   "execution_count": 89,
   "metadata": {},
   "outputs": [
    {
     "data": {
      "text/plain": [
       "f        3503\n",
       "F         194\n",
       "FALSE     192\n",
       "t          69\n",
       "TRUE        5\n",
       "T           4\n",
       "Name: pregnant, dtype: int64"
      ]
     },
     "execution_count": 89,
     "metadata": {},
     "output_type": "execute_result"
    }
   ],
   "source": [
    "# Replace 'f', 'F' and \"FALSE\" with one stable value \"False\", apply same method for \"True\"\n",
    "df['pregnant'].value_counts() "
   ]
  },
  {
   "cell_type": "code",
   "execution_count": 90,
   "metadata": {},
   "outputs": [
    {
     "data": {
      "text/plain": [
       "False    3889\n",
       "True       78\n",
       "Name: pregnant, dtype: int64"
      ]
     },
     "execution_count": 90,
     "metadata": {},
     "output_type": "execute_result"
    }
   ],
   "source": [
    "df['pregnant'] = df['pregnant'].replace(['f', 'F', 'FALSE'], 'False')\n",
    "df['pregnant'] = df['pregnant'].replace(['t', 'T', 'TRUE'], 'True')\n",
    "df['pregnant'].value_counts()"
   ]
  },
  {
   "cell_type": "code",
   "execution_count": 91,
   "metadata": {},
   "outputs": [
    {
     "data": {
      "text/plain": [
       "9.0     1249\n",
       "10.0     870\n",
       "13.0     663\n",
       "14.0     220\n",
       "11.0     188\n",
       "7.0      138\n",
       "6.0      109\n",
       "12.0     103\n",
       "4.0       97\n",
       "15.0      82\n",
       "5.0       74\n",
       "16.0      54\n",
       "3.0       52\n",
       "8.0       44\n",
       "2.0       17\n",
       "1.0       11\n",
       "Name: education-num, dtype: int64"
      ]
     },
     "execution_count": 91,
     "metadata": {},
     "output_type": "execute_result"
    }
   ],
   "source": [
    "df['education-num'].value_counts() # This column is OK I guess"
   ]
  },
  {
   "cell_type": "code",
   "execution_count": 92,
   "metadata": {},
   "outputs": [
    {
     "data": {
      "text/plain": [
       "array(['Not-in-family', 'Husband', 'Own-child', 'Not_in_family',\n",
       "       'Unmarried', 'Own_child', 'Wife', 'Other-relative', nan,\n",
       "       'Other_relative'], dtype=object)"
      ]
     },
     "execution_count": 92,
     "metadata": {},
     "output_type": "execute_result"
    }
   ],
   "source": [
    "df['relationship'].value_counts() # There are multiple same values, but they are written differently, so we can fix it\n",
    "df['relationship'].unique()"
   ]
  },
  {
   "cell_type": "code",
   "execution_count": 93,
   "metadata": {},
   "outputs": [
    {
     "data": {
      "text/plain": [
       "Husband           1630\n",
       "Not-in-family      998\n",
       "Own-child          588\n",
       "Unmarried          427\n",
       "Wife               205\n",
       "Other-relative     124\n",
       "Name: relationship, dtype: int64"
      ]
     },
     "execution_count": 93,
     "metadata": {},
     "output_type": "execute_result"
    }
   ],
   "source": [
    "df['relationship'] = df['relationship'].replace('Not_in_family', 'Not-in-family')\n",
    "df['relationship'] = df['relationship'].replace('Own_child', 'Own-child')\n",
    "df['relationship'] = df['relationship'].replace('Other_relative', 'Other-relative')\n",
    "df['relationship'].value_counts()"
   ]
  },
  {
   "cell_type": "code",
   "execution_count": 94,
   "metadata": {},
   "outputs": [
    {
     "data": {
      "text/plain": [
       "-0.458587     2\n",
       " 0.396490     2\n",
       " 0.165603     2\n",
       " 3.673929     2\n",
       " 36.104846    2\n",
       "             ..\n",
       " 0.228760     1\n",
       "-0.119966     1\n",
       "-1.469010     1\n",
       " 24.270634    1\n",
       " 39.078306    1\n",
       "Name: skewness_glucose, Length: 3932, dtype: int64"
      ]
     },
     "execution_count": 94,
     "metadata": {},
     "output_type": "execute_result"
    }
   ],
   "source": [
    "df['skewness_glucose'].value_counts() # Maybe we can round this numbers? # 24.270634 and 39.078306 ??"
   ]
  },
  {
   "cell_type": "code",
   "execution_count": 95,
   "metadata": {},
   "outputs": [
    {
     "data": {
      "text/plain": [
       " 123.031250     4\n",
       " 124.546875     4\n",
       " 108.968750     4\n",
       " 128.218750     4\n",
       " 122.968750     3\n",
       "               ..\n",
       " 88.179688      1\n",
       "-8657.812500    1\n",
       " 84.210938      1\n",
       " 68.234375      1\n",
       " 124.000000     1\n",
       "Name: mean_glucose, Length: 3449, dtype: int64"
      ]
     },
     "execution_count": 95,
     "metadata": {},
     "output_type": "execute_result"
    }
   ],
   "source": [
    "df['mean_glucose'].value_counts() # Maybe we can round this numbers -8657.812500 ??"
   ]
  },
  {
   "cell_type": "code",
   "execution_count": 96,
   "metadata": {},
   "outputs": [
    {
     "data": {
      "text/plain": [
       "HS-grad         1246\n",
       "Some-college     869\n",
       "Bachelors        662\n",
       "Masters          220\n",
       "Assoc-voc        188\n",
       "11th             137\n",
       "10th             109\n",
       "Assoc-acdm       103\n",
       "7th-8th           99\n",
       "Prof-school       82\n",
       "9th               75\n",
       "Doctorate         54\n",
       "5th-6th           52\n",
       "12th              45\n",
       "1st-4th           17\n",
       "Preschool         11\n",
       "Name: education, dtype: int64"
      ]
     },
     "execution_count": 96,
     "metadata": {},
     "output_type": "execute_result"
    }
   ],
   "source": [
    "df['education'].value_counts() # OK?"
   ]
  },
  {
   "cell_type": "code",
   "execution_count": 97,
   "metadata": {},
   "outputs": [
    {
     "data": {
      "text/plain": [
       "113364.0    4\n",
       "144064.0    4\n",
       "34180.0     4\n",
       "161141.0    4\n",
       "123983.0    4\n",
       "           ..\n",
       "179594.0    1\n",
       "33619.0     1\n",
       "285335.0    1\n",
       "222539.0    1\n",
       "28160.0     1\n",
       "Name: fnlwgt, Length: 3671, dtype: int64"
      ]
     },
     "execution_count": 97,
     "metadata": {},
     "output_type": "execute_result"
    }
   ],
   "source": [
    "df['fnlwgt'].value_counts() # change name of the column to final_weight, how did we get value of this atribute ?"
   ]
  },
  {
   "cell_type": "code",
   "execution_count": 98,
   "metadata": {},
   "outputs": [
    {
     "data": {
      "text/plain": [
       "0.0    2954\n",
       "1.0    1018\n",
       "Name: class, dtype: int64"
      ]
     },
     "execution_count": 98,
     "metadata": {},
     "output_type": "execute_result"
    }
   ],
   "source": [
    "df['class'].value_counts() # This can be integer"
   ]
  },
  {
   "cell_type": "code",
   "execution_count": 99,
   "metadata": {},
   "outputs": [
    {
     "data": {
      "text/plain": [
       "56.678746    2\n",
       "46.336825    2\n",
       "30.322605    2\n",
       "42.872164    2\n",
       "49.762971    2\n",
       "            ..\n",
       "52.244316    1\n",
       "58.893506    1\n",
       "52.811404    1\n",
       "51.129297    1\n",
       "36.876648    1\n",
       "Name: std_glucose, Length: 3929, dtype: int64"
      ]
     },
     "execution_count": 99,
     "metadata": {},
     "output_type": "execute_result"
    }
   ],
   "source": [
    "df['std_glucose'].value_counts() # Mayber round"
   ]
  },
  {
   "cell_type": "code",
   "execution_count": 100,
   "metadata": {},
   "outputs": [
    {
     "data": {
      "text/plain": [
       "<=50K    2982\n",
       ">50K      989\n",
       "Name: income, dtype: int64"
      ]
     },
     "execution_count": 100,
     "metadata": {},
     "output_type": "execute_result"
    }
   ],
   "source": [
    "df['income'].value_counts() # OK"
   ]
  },
  {
   "cell_type": "code",
   "execution_count": 101,
   "metadata": {},
   "outputs": [
    {
     "data": {
      "text/plain": [
       "{'mean_oxygen':'3.120401338','std_oxygen':'23.53089235','kurtosis_oxygen':'8.331097683','skewness_oxygen':'71.68512789'}           2\n",
       "{'mean_oxygen':'3.091137124','std_oxygen':'15.97387777','kurtosis_oxygen':'7.50088876','skewness_oxygen':'76.03836498'}            2\n",
       "{'mean_oxygen':'79.75585284','std_oxygen':'71.3531698','kurtosis_oxygen':'0.850185387','skewness_oxygen':'-0.437195641'}           2\n",
       "{'mean_oxygen':'1.785117057','std_oxygen':'17.9354047','kurtosis_oxygen':'10.76379769','skewness_oxygen':'121.1406569'}            2\n",
       "{'mean_oxygen':'36.98160535','std_oxygen':'68.9542381','kurtosis_oxygen':'1.508511427','skewness_oxygen':'0.623755762'}            2\n",
       "                                                                                                                                  ..\n",
       "{'mean_oxygen':'36.16304348','std_oxygen':'67.88042313','kurtosis_oxygen':'1.514739181','skewness_oxygen':'0.631103897'}           1\n",
       "{'mean_oxygen':'8.35367893','std_oxygen':'35.96427754','kurtosis_oxygen':'4.4263579','skewness_oxygen':'19.06763528'}              1\n",
       "{'mean_oxygen':'31.38628763','std_oxygen':'51.3579928','kurtosis_oxygen':'2.2790806580000003','skewness_oxygen':'5.406194859'}     1\n",
       "{'mean_oxygen':'2.4565217390000003','std_oxygen':'16.61890216','kurtosis_oxygen':'9.019758569','skewness_oxygen':'95.72392251'}    1\n",
       "{'mean_oxygen':'25.48578595','std_oxygen':'64.60579433','kurtosis_oxygen':'2.162228241','skewness_oxygen':'2.745630212'}           1\n",
       "Name: medical_info, Length: 3932, dtype: int64"
      ]
     },
     "execution_count": 101,
     "metadata": {},
     "output_type": "execute_result"
    }
   ],
   "source": [
    "df['medical_info'].value_counts() # separate this into different columns?"
   ]
  },
  {
   "cell_type": "code",
   "execution_count": 102,
   "metadata": {},
   "outputs": [
    {
     "data": {
      "text/plain": [
       "United-States         3554\n",
       "Mexico                  86\n",
       "?                       58\n",
       "Philippines             25\n",
       "Germany                 17\n",
       "India                   15\n",
       "Canada                  14\n",
       "Guatemala               13\n",
       "Japan                   11\n",
       "Puerto-Rico             11\n",
       "Jamaica                 11\n",
       "Cuba                    11\n",
       "Dominican-Republic      10\n",
       "Italy                   10\n",
       "Taiwan                  10\n",
       "China                   10\n",
       "England                 10\n",
       "South                    9\n",
       "El-Salvador              9\n",
       "Poland                   8\n",
       "Vietnam                  7\n",
       "Nicaragua                6\n",
       "Scotland                 5\n",
       "Haiti                    5\n",
       "Trinadad&Tobago          5\n",
       "Laos                     5\n",
       "Columbia                 4\n",
       "Peru                     4\n",
       "Ecuador                  4\n",
       "Iran                     3\n",
       "Portugal                 3\n",
       "Hong                     3\n",
       "France                   2\n",
       "Greece                   2\n",
       "Cambodia                 2\n",
       "Honduras                 2\n",
       "Hungary                  2\n",
       "Thailand                 1\n",
       "Name: native-country, dtype: int64"
      ]
     },
     "execution_count": 102,
     "metadata": {},
     "output_type": "execute_result"
    }
   ],
   "source": [
    "df['native-country'].value_counts() # replace '?' with NaN"
   ]
  },
  {
   "cell_type": "code",
   "execution_count": 103,
   "metadata": {},
   "outputs": [
    {
     "data": {
      "text/plain": [
       "United-States         3554\n",
       "Mexico                  86\n",
       "Philippines             25\n",
       "Germany                 17\n",
       "India                   15\n",
       "Canada                  14\n",
       "Guatemala               13\n",
       "Japan                   11\n",
       "Cuba                    11\n",
       "Puerto-Rico             11\n",
       "Jamaica                 11\n",
       "China                   10\n",
       "Dominican-Republic      10\n",
       "England                 10\n",
       "Italy                   10\n",
       "Taiwan                  10\n",
       "South                    9\n",
       "El-Salvador              9\n",
       "Poland                   8\n",
       "Vietnam                  7\n",
       "Nicaragua                6\n",
       "Haiti                    5\n",
       "Scotland                 5\n",
       "Laos                     5\n",
       "Trinadad&Tobago          5\n",
       "Peru                     4\n",
       "Ecuador                  4\n",
       "Columbia                 4\n",
       "Hong                     3\n",
       "Iran                     3\n",
       "Portugal                 3\n",
       "Hungary                  2\n",
       "Cambodia                 2\n",
       "France                   2\n",
       "Honduras                 2\n",
       "Greece                   2\n",
       "Thailand                 1\n",
       "Name: native-country, dtype: int64"
      ]
     },
     "execution_count": 103,
     "metadata": {},
     "output_type": "execute_result"
    }
   ],
   "source": [
    "df['native-country'] = df['native-country'].replace('?', np.nan)\n",
    "df['native-country'].value_counts() # # We have succesfully replaced '?' values with NaN"
   ]
  },
  {
   "cell_type": "code",
   "execution_count": 104,
   "metadata": {},
   "outputs": [
    {
     "data": {
      "text/plain": [
       "40.0    1860\n",
       "50.0     359\n",
       "45.0     208\n",
       "60.0     173\n",
       "35.0     160\n",
       "        ... \n",
       "29.0       1\n",
       "81.0       1\n",
       "67.0       1\n",
       "68.0       1\n",
       "77.0       1\n",
       "Name: hours-per-week, Length: 76, dtype: int64"
      ]
     },
     "execution_count": 104,
     "metadata": {},
     "output_type": "execute_result"
    }
   ],
   "source": [
    "df['hours-per-week'].value_counts() # OK"
   ]
  },
  {
   "cell_type": "code",
   "execution_count": 105,
   "metadata": {},
   "outputs": [
    {
     "data": {
      "text/plain": [
       "0.0       3815\n",
       "1887.0      23\n",
       "1977.0      22\n",
       "1902.0      15\n",
       "2415.0      10\n",
       "1590.0       7\n",
       "1485.0       7\n",
       "1876.0       5\n",
       "1848.0       5\n",
       "1741.0       3\n",
       "2258.0       3\n",
       "2042.0       3\n",
       "1740.0       3\n",
       "1980.0       3\n",
       "1092.0       3\n",
       "1672.0       3\n",
       "1628.0       2\n",
       "1721.0       2\n",
       "1504.0       2\n",
       "1579.0       2\n",
       "1594.0       2\n",
       "2339.0       2\n",
       "323.0        2\n",
       "2377.0       2\n",
       "1719.0       2\n",
       "2174.0       2\n",
       "2444.0       2\n",
       "2179.0       1\n",
       "1408.0       1\n",
       "1258.0       1\n",
       "1380.0       1\n",
       "625.0        1\n",
       "2057.0       1\n",
       "2051.0       1\n",
       "880.0        1\n",
       "2002.0       1\n",
       "1573.0       1\n",
       "1762.0       1\n",
       "1602.0       1\n",
       "1669.0       1\n",
       "2603.0       1\n",
       "2352.0       1\n",
       "1617.0       1\n",
       "2559.0       1\n",
       "2824.0       1\n",
       "2392.0       1\n",
       "Name: capital-loss, dtype: int64"
      ]
     },
     "execution_count": 105,
     "metadata": {},
     "output_type": "execute_result"
    }
   ],
   "source": [
    "df['capital-loss'].value_counts() # OK"
   ]
  },
  {
   "cell_type": "code",
   "execution_count": 106,
   "metadata": {},
   "outputs": [
    {
     "data": {
      "text/plain": [
       "Private             2770\n",
       "Self-emp-not-inc     293\n",
       "Local-gov            260\n",
       "?                    227\n",
       "State-gov            150\n",
       "Self-emp-inc         142\n",
       "Federal-gov          124\n",
       "Without-pay            2\n",
       "Name: workclass, dtype: int64"
      ]
     },
     "execution_count": 106,
     "metadata": {},
     "output_type": "execute_result"
    }
   ],
   "source": [
    "df['workclass'].value_counts() # Again we can replace '?' with NaN"
   ]
  },
  {
   "cell_type": "code",
   "execution_count": 107,
   "metadata": {},
   "outputs": [
    {
     "data": {
      "text/plain": [
       "Private             2770\n",
       "Self-emp-not-inc     293\n",
       "Local-gov            260\n",
       "State-gov            150\n",
       "Self-emp-inc         142\n",
       "Federal-gov          124\n",
       "Without-pay            2\n",
       "Name: workclass, dtype: int64"
      ]
     },
     "execution_count": 107,
     "metadata": {},
     "output_type": "execute_result"
    }
   ],
   "source": [
    "df['workclass'] = df['workclass'].replace('?', np.nan)\n",
    "df['workclass'].value_counts()"
   ]
  },
  {
   "cell_type": "code",
   "execution_count": 108,
   "metadata": {},
   "outputs": [
    {
     "data": {
      "text/plain": [
       "<matplotlib.axes._subplots.AxesSubplot at 0x22c22a40190>"
      ]
     },
     "execution_count": 108,
     "metadata": {},
     "output_type": "execute_result"
    },
    {
     "data": {
      "image/png": "[encoded data removed]",
      "text/plain": [
       "<Figure size 432x288 with 1 Axes>"
      ]
     },
     "metadata": {
      "needs_background": "light"
     },
     "output_type": "display_data"
    }
   ],
   "source": [
    "sns.distplot(df['education-num'], bins=30)"
   ]
  },
  {
   "cell_type": "code",
   "execution_count": 109,
   "metadata": {},
   "outputs": [
    {
     "data": {
      "text/plain": [
       "<matplotlib.axes._subplots.AxesSubplot at 0x22c22ac1d00>"
      ]
     },
     "execution_count": 109,
     "metadata": {},
     "output_type": "execute_result"
    },
    {
     "data": {
      "image/png": "[encoded data removed]",
      "text/plain": [
       "<Figure size 432x288 with 1 Axes>"
      ]
     },
     "metadata": {
      "needs_background": "light"
     },
     "output_type": "display_data"
    }
   ],
   "source": [
    "sns.distplot(df['fnlwgt'], bins=30)"
   ]
  },
  {
   "cell_type": "code",
   "execution_count": 110,
   "metadata": {},
   "outputs": [
    {
     "data": {
      "text/plain": [
       "<matplotlib.axes._subplots.AxesSubplot at 0x22c22b6f940>"
      ]
     },
     "execution_count": 110,
     "metadata": {},
     "output_type": "execute_result"
    },
    {
     "data": {
      "image/png": "[encoded data removed]",
      "text/plain": [
       "<Figure size 432x288 with 1 Axes>"
      ]
     },
     "metadata": {
      "needs_background": "light"
     },
     "output_type": "display_data"
    }
   ],
   "source": [
    "sns.distplot(df['hours-per-week'], bins=30)"
   ]
  },
  {
   "cell_type": "code",
   "execution_count": 111,
   "metadata": {},
   "outputs": [
    {
     "name": "stderr",
     "output_type": "stream",
     "text": [
      "C:\\Users\\vanco\\anaconda3\\lib\\site-packages\\seaborn\\distributions.py:369: UserWarning: Default bandwidth for data is 0; skipping density estimation.\n",
      "  warnings.warn(msg, UserWarning)\n"
     ]
    },
    {
     "data": {
      "text/plain": [
       "<matplotlib.axes._subplots.AxesSubplot at 0x22c22be7ee0>"
      ]
     },
     "execution_count": 111,
     "metadata": {},
     "output_type": "execute_result"
    },
    {
     "data": {
      "image/png": "[encoded data removed]",
      "text/plain": [
       "<Figure size 432x288 with 1 Axes>"
      ]
     },
     "metadata": {
      "needs_background": "light"
     },
     "output_type": "display_data"
    }
   ],
   "source": [
    "sns.distplot(df['capital-loss'], bins=30)"
   ]
  },
  {
   "cell_type": "code",
   "execution_count": 112,
   "metadata": {},
   "outputs": [
    {
     "data": {
      "text/plain": [
       "<matplotlib.axes._subplots.AxesSubplot at 0x22c22cb3310>"
      ]
     },
     "execution_count": 112,
     "metadata": {},
     "output_type": "execute_result"
    },
    {
     "data": {
      "image/png": "[encoded data removed]",
      "text/plain": [
       "<Figure size 432x288 with 1 Axes>"
      ]
     },
     "metadata": {
      "needs_background": "light"
     },
     "output_type": "display_data"
    }
   ],
   "source": [
    "df['race'].value_counts().plot(kind='bar')"
   ]
  },
  {
   "cell_type": "code",
   "execution_count": 113,
   "metadata": {},
   "outputs": [
    {
     "data": {
      "text/plain": [
       "<matplotlib.axes._subplots.AxesSubplot at 0x22c22ce3850>"
      ]
     },
     "execution_count": 113,
     "metadata": {},
     "output_type": "execute_result"
    },
    {
     "data": {
      "image/png": "[encoded data removed]",
      "text/plain": [
       "<Figure size 432x288 with 1 Axes>"
      ]
     },
     "metadata": {
      "needs_background": "light"
     },
     "output_type": "display_data"
    }
   ],
   "source": [
    "df['marital-status'].value_counts().plot(kind='bar')"
   ]
  },
  {
   "cell_type": "code",
   "execution_count": 114,
   "metadata": {},
   "outputs": [
    {
     "data": {
      "text/plain": [
       "<matplotlib.axes._subplots.AxesSubplot at 0x22c22d78040>"
      ]
     },
     "execution_count": 114,
     "metadata": {},
     "output_type": "execute_result"
    },
    {
     "data": {
      "image/png": "[encoded data removed]",
      "text/plain": [
       "<Figure size 432x288 with 1 Axes>"
      ]
     },
     "metadata": {
      "needs_background": "light"
     },
     "output_type": "display_data"
    }
   ],
   "source": [
    "df['occupation'].value_counts().plot(kind='bar')"
   ]
  },
  {
   "cell_type": "code",
   "execution_count": 115,
   "metadata": {},
   "outputs": [
    {
     "data": {
      "text/plain": [
       "<matplotlib.axes._subplots.AxesSubplot at 0x22c20628910>"
      ]
     },
     "execution_count": 115,
     "metadata": {},
     "output_type": "execute_result"
    },
    {
     "data": {
      "image/png": "[encoded data removed]",
      "text/plain": [
       "<Figure size 432x288 with 1 Axes>"
      ]
     },
     "metadata": {
      "needs_background": "light"
     },
     "output_type": "display_data"
    }
   ],
   "source": [
    "df['pregnant'].value_counts().plot(kind='bar')"
   ]
  },
  {
   "cell_type": "code",
   "execution_count": 116,
   "metadata": {},
   "outputs": [
    {
     "data": {
      "text/plain": [
       "<matplotlib.axes._subplots.AxesSubplot at 0x22c1f1e7b50>"
      ]
     },
     "execution_count": 116,
     "metadata": {},
     "output_type": "execute_result"
    },
    {
     "data": {
      "image/png": "[encoded data removed]",
      "text/plain": [
       "<Figure size 432x288 with 1 Axes>"
      ]
     },
     "metadata": {
      "needs_background": "light"
     },
     "output_type": "display_data"
    }
   ],
   "source": [
    "df['relationship'].value_counts().plot(kind='bar')"
   ]
  },
  {
   "cell_type": "code",
   "execution_count": 117,
   "metadata": {},
   "outputs": [
    {
     "data": {
      "text/plain": [
       "<matplotlib.axes._subplots.AxesSubplot at 0x22c20a9e310>"
      ]
     },
     "execution_count": 117,
     "metadata": {},
     "output_type": "execute_result"
    },
    {
     "data": {
      "image/png": "[encoded data removed]",
      "text/plain": [
       "<Figure size 432x288 with 1 Axes>"
      ]
     },
     "metadata": {
      "needs_background": "light"
     },
     "output_type": "display_data"
    }
   ],
   "source": [
    "df['education'].value_counts().plot(kind='bar')"
   ]
  },
  {
   "cell_type": "code",
   "execution_count": 118,
   "metadata": {},
   "outputs": [
    {
     "data": {
      "text/plain": [
       "<matplotlib.axes._subplots.AxesSubplot at 0x22c20b2b850>"
      ]
     },
     "execution_count": 118,
     "metadata": {},
     "output_type": "execute_result"
    },
    {
     "data": {
      "image/png": "[encoded data removed]",
      "text/plain": [
       "<Figure size 432x288 with 1 Axes>"
      ]
     },
     "metadata": {
      "needs_background": "light"
     },
     "output_type": "display_data"
    }
   ],
   "source": [
    "df['workclass'].value_counts().plot(kind='bar')"
   ]
  },
  {
   "cell_type": "code",
   "execution_count": 119,
   "metadata": {},
   "outputs": [
    {
     "data": {
      "text/html": [
       "<div>\n",
       "<style scoped>\n",
       "    .dataframe tbody tr th:only-of-type {\n",
       "        vertical-align: middle;\n",
       "    }\n",
       "\n",
       "    .dataframe tbody tr th {\n",
       "        vertical-align: top;\n",
       "    }\n",
       "\n",
       "    .dataframe thead th {\n",
       "        text-align: right;\n",
       "    }\n",
       "</style>\n",
       "<table border=\"1\" class=\"dataframe\">\n",
       "  <thead>\n",
       "    <tr style=\"text-align: right;\">\n",
       "      <th></th>\n",
       "      <th>name</th>\n",
       "      <th>address</th>\n",
       "      <th>race</th>\n",
       "      <th>marital-status</th>\n",
       "      <th>occupation</th>\n",
       "      <th>pregnant</th>\n",
       "      <th>education-num</th>\n",
       "      <th>relationship</th>\n",
       "      <th>skewness_glucose</th>\n",
       "      <th>mean_glucose</th>\n",
       "      <th>...</th>\n",
       "      <th>education</th>\n",
       "      <th>fnlwgt</th>\n",
       "      <th>class</th>\n",
       "      <th>std_glucose</th>\n",
       "      <th>income</th>\n",
       "      <th>medical_info</th>\n",
       "      <th>native-country</th>\n",
       "      <th>hours-per-week</th>\n",
       "      <th>capital-loss</th>\n",
       "      <th>workclass</th>\n",
       "    </tr>\n",
       "  </thead>\n",
       "  <tbody>\n",
       "    <tr>\n",
       "      <th>0</th>\n",
       "      <td>David Hayes</td>\n",
       "      <td>235 Jennifer Throughway Suite 569\\r\\nNew Antho...</td>\n",
       "      <td>Black</td>\n",
       "      <td>NaN</td>\n",
       "      <td>Prof-specialty</td>\n",
       "      <td>False</td>\n",
       "      <td>5.0</td>\n",
       "      <td>Not-in-family</td>\n",
       "      <td>-0.197692</td>\n",
       "      <td>141.359375</td>\n",
       "      <td>...</td>\n",
       "      <td>9th</td>\n",
       "      <td>175431.0</td>\n",
       "      <td>0.0</td>\n",
       "      <td>49.842053</td>\n",
       "      <td>&lt;=50K</td>\n",
       "      <td>{'mean_oxygen':'4.04264214','std_oxygen':'19.4...</td>\n",
       "      <td>United-States</td>\n",
       "      <td>40.0</td>\n",
       "      <td>0.0</td>\n",
       "      <td>Private</td>\n",
       "    </tr>\n",
       "    <tr>\n",
       "      <th>1</th>\n",
       "      <td>Stanley Benny</td>\n",
       "      <td>08954 Johnson Course\\r\\nNew Lauraville, NV 22019</td>\n",
       "      <td>White</td>\n",
       "      <td>Married-civ-spouse</td>\n",
       "      <td>Exec-managerial</td>\n",
       "      <td>False</td>\n",
       "      <td>13.0</td>\n",
       "      <td>Husband</td>\n",
       "      <td>16.019670</td>\n",
       "      <td>53.968750</td>\n",
       "      <td>...</td>\n",
       "      <td>Bachelors</td>\n",
       "      <td>66473.0</td>\n",
       "      <td>1.0</td>\n",
       "      <td>31.900220</td>\n",
       "      <td>&gt;50K</td>\n",
       "      <td>{'mean_oxygen':'9.294314381','std_oxygen':'35....</td>\n",
       "      <td>United-States</td>\n",
       "      <td>40.0</td>\n",
       "      <td>0.0</td>\n",
       "      <td>Private</td>\n",
       "    </tr>\n",
       "    <tr>\n",
       "      <th>2</th>\n",
       "      <td>Domingo Labriola</td>\n",
       "      <td>36319 Wiley Drive Suite 094\\r\\nSouth Michael, ...</td>\n",
       "      <td>Asian-Pac-Islander</td>\n",
       "      <td>Married-civ-spouse</td>\n",
       "      <td>Farming-fishing</td>\n",
       "      <td>False</td>\n",
       "      <td>3.0</td>\n",
       "      <td>Husband</td>\n",
       "      <td>21.803837</td>\n",
       "      <td>2257.812500</td>\n",
       "      <td>...</td>\n",
       "      <td>5th-6th</td>\n",
       "      <td>93206.0</td>\n",
       "      <td>1.0</td>\n",
       "      <td>35.793158</td>\n",
       "      <td>&lt;=50K</td>\n",
       "      <td>{'mean_oxygen':'138.7876254','std_oxygen':'79....</td>\n",
       "      <td>Philippines</td>\n",
       "      <td>40.0</td>\n",
       "      <td>0.0</td>\n",
       "      <td>Private</td>\n",
       "    </tr>\n",
       "    <tr>\n",
       "      <th>3</th>\n",
       "      <td>Ronnie Moore</td>\n",
       "      <td>0755 Soto Oval Apt. 443\\r\\nWest Markside, TX 3...</td>\n",
       "      <td>White</td>\n",
       "      <td>Never-married</td>\n",
       "      <td>Other-service</td>\n",
       "      <td>False</td>\n",
       "      <td>10.0</td>\n",
       "      <td>Not-in-family</td>\n",
       "      <td>-0.112191</td>\n",
       "      <td>110.046875</td>\n",
       "      <td>...</td>\n",
       "      <td>Some-college</td>\n",
       "      <td>137604.0</td>\n",
       "      <td>0.0</td>\n",
       "      <td>53.876575</td>\n",
       "      <td>&lt;=50K</td>\n",
       "      <td>{'mean_oxygen':'3.100334448','std_oxygen':'17....</td>\n",
       "      <td>United-States</td>\n",
       "      <td>40.0</td>\n",
       "      <td>0.0</td>\n",
       "      <td>Private</td>\n",
       "    </tr>\n",
       "    <tr>\n",
       "      <th>4</th>\n",
       "      <td>Victor Mcjunkin</td>\n",
       "      <td>95738 Keller Overpass\\r\\nKennedyland, MO 71071</td>\n",
       "      <td>White</td>\n",
       "      <td>NaN</td>\n",
       "      <td>Adm-clerical</td>\n",
       "      <td>False</td>\n",
       "      <td>10.0</td>\n",
       "      <td>Not-in-family</td>\n",
       "      <td>-0.309642</td>\n",
       "      <td>137.960938</td>\n",
       "      <td>...</td>\n",
       "      <td>Some-college</td>\n",
       "      <td>174592.0</td>\n",
       "      <td>0.0</td>\n",
       "      <td>51.885451</td>\n",
       "      <td>&lt;=50K</td>\n",
       "      <td>{'mean_oxygen':'4.203177258','std_oxygen':'23....</td>\n",
       "      <td>United-States</td>\n",
       "      <td>40.0</td>\n",
       "      <td>0.0</td>\n",
       "      <td>Private</td>\n",
       "    </tr>\n",
       "  </tbody>\n",
       "</table>\n",
       "<p>5 rows × 22 columns</p>\n",
       "</div>"
      ],
      "text/plain": [
       "               name                                            address  \\\n",
       "0       David Hayes  235 Jennifer Throughway Suite 569\\r\\nNew Antho...   \n",
       "1     Stanley Benny   08954 Johnson Course\\r\\nNew Lauraville, NV 22019   \n",
       "2  Domingo Labriola  36319 Wiley Drive Suite 094\\r\\nSouth Michael, ...   \n",
       "3      Ronnie Moore  0755 Soto Oval Apt. 443\\r\\nWest Markside, TX 3...   \n",
       "4   Victor Mcjunkin     95738 Keller Overpass\\r\\nKennedyland, MO 71071   \n",
       "\n",
       "                 race      marital-status       occupation pregnant  \\\n",
       "0               Black                 NaN   Prof-specialty    False   \n",
       "1               White  Married-civ-spouse  Exec-managerial    False   \n",
       "2  Asian-Pac-Islander  Married-civ-spouse  Farming-fishing    False   \n",
       "3               White       Never-married    Other-service    False   \n",
       "4               White                 NaN     Adm-clerical    False   \n",
       "\n",
       "   education-num   relationship  skewness_glucose  mean_glucose  ...  \\\n",
       "0            5.0  Not-in-family         -0.197692    141.359375  ...   \n",
       "1           13.0        Husband         16.019670     53.968750  ...   \n",
       "2            3.0        Husband         21.803837   2257.812500  ...   \n",
       "3           10.0  Not-in-family         -0.112191    110.046875  ...   \n",
       "4           10.0  Not-in-family         -0.309642    137.960938  ...   \n",
       "\n",
       "      education    fnlwgt class  std_glucose  income  \\\n",
       "0           9th  175431.0   0.0    49.842053   <=50K   \n",
       "1     Bachelors   66473.0   1.0    31.900220    >50K   \n",
       "2       5th-6th   93206.0   1.0    35.793158   <=50K   \n",
       "3  Some-college  137604.0   0.0    53.876575   <=50K   \n",
       "4  Some-college  174592.0   0.0    51.885451   <=50K   \n",
       "\n",
       "                                        medical_info native-country  \\\n",
       "0  {'mean_oxygen':'4.04264214','std_oxygen':'19.4...  United-States   \n",
       "1  {'mean_oxygen':'9.294314381','std_oxygen':'35....  United-States   \n",
       "2  {'mean_oxygen':'138.7876254','std_oxygen':'79....    Philippines   \n",
       "3  {'mean_oxygen':'3.100334448','std_oxygen':'17....  United-States   \n",
       "4  {'mean_oxygen':'4.203177258','std_oxygen':'23....  United-States   \n",
       "\n",
       "  hours-per-week capital-loss  workclass  \n",
       "0           40.0          0.0    Private  \n",
       "1           40.0          0.0    Private  \n",
       "2           40.0          0.0    Private  \n",
       "3           40.0          0.0    Private  \n",
       "4           40.0          0.0    Private  \n",
       "\n",
       "[5 rows x 22 columns]"
      ]
     },
     "execution_count": 119,
     "metadata": {},
     "output_type": "execute_result"
    }
   ],
   "source": [
    "df.head()"
   ]
  },
  {
   "cell_type": "code",
   "execution_count": 120,
   "metadata": {},
   "outputs": [
    {
     "data": {
      "text/plain": [
       "<matplotlib.axes._subplots.AxesSubplot at 0x22c20b98790>"
      ]
     },
     "execution_count": 120,
     "metadata": {},
     "output_type": "execute_result"
    },
    {
     "data": {
      "image/png": "[encoded data removed]",
      "text/plain": [
       "<Figure size 432x288 with 1 Axes>"
      ]
     },
     "metadata": {
      "needs_background": "light"
     },
     "output_type": "display_data"
    }
   ],
   "source": [
    "sns.scatterplot(x='fnlwgt', y='mean_glucose', hue='race', data=df) # moze byt mean pri tomto minusovy ?"
   ]
  },
  {
   "cell_type": "code",
   "execution_count": 121,
   "metadata": {},
   "outputs": [
    {
     "data": {
      "text/plain": [
       "<matplotlib.axes._subplots.AxesSubplot at 0x22c20c46910>"
      ]
     },
     "execution_count": 121,
     "metadata": {},
     "output_type": "execute_result"
    },
    {
     "data": {
      "image/png": "[encoded data removed]",
      "text/plain": [
       "<Figure size 432x288 with 1 Axes>"
      ]
     },
     "metadata": {
      "needs_background": "light"
     },
     "output_type": "display_data"
    }
   ],
   "source": [
    "sns.scatterplot(x='fnlwgt', y='std_glucose', hue='occupation', data=df)"
   ]
  },
  {
   "cell_type": "code",
   "execution_count": 122,
   "metadata": {},
   "outputs": [
    {
     "data": {
      "text/plain": [
       "<matplotlib.axes._subplots.AxesSubplot at 0x22c20ce5e20>"
      ]
     },
     "execution_count": 122,
     "metadata": {},
     "output_type": "execute_result"
    },
    {
     "data": {
      "image/png": "[encoded data removed]",
      "text/plain": [
       "<Figure size 432x288 with 1 Axes>"
      ]
     },
     "metadata": {
      "needs_background": "light"
     },
     "output_type": "display_data"
    }
   ],
   "source": [
    "sns.scatterplot(x='fnlwgt', y='hours-per-week', hue='income', data=df)"
   ]
  },
  {
   "cell_type": "code",
   "execution_count": 123,
   "metadata": {},
   "outputs": [
    {
     "data": {
      "text/plain": [
       "<matplotlib.axes._subplots.AxesSubplot at 0x22c20d5af10>"
      ]
     },
     "execution_count": 123,
     "metadata": {},
     "output_type": "execute_result"
    },
    {
     "data": {
      "image/png": "[encoded data removed]",
      "text/plain": [
       "<Figure size 432x288 with 1 Axes>"
      ]
     },
     "metadata": {
      "needs_background": "light"
     },
     "output_type": "display_data"
    }
   ],
   "source": [
    "sns.violinplot(x='income', y='hours-per-week', data=df)"
   ]
  },
  {
   "cell_type": "code",
   "execution_count": 124,
   "metadata": {},
   "outputs": [
    {
     "ename": "NameError",
     "evalue": "name 'iris' is not defined",
     "output_type": "error",
     "traceback": [
      "\u001b[1;31m---------------------------------------------------------------------------\u001b[0m",
      "\u001b[1;31mNameError\u001b[0m                                 Traceback (most recent call last)",
      "\u001b[1;32m<ipython-input-124-570eefdd79f0>\u001b[0m in \u001b[0;36m<module>\u001b[1;34m\u001b[0m\n\u001b[1;32m----> 1\u001b[1;33m \u001b[0msns\u001b[0m\u001b[1;33m.\u001b[0m\u001b[0mscatterplot\u001b[0m\u001b[1;33m(\u001b[0m\u001b[0mdata\u001b[0m\u001b[1;33m=\u001b[0m\u001b[0miris\u001b[0m\u001b[1;33m,\u001b[0m \u001b[0mx\u001b[0m\u001b[1;33m=\u001b[0m\u001b[1;34m'petal_length'\u001b[0m\u001b[1;33m,\u001b[0m \u001b[0my\u001b[0m\u001b[1;33m=\u001b[0m\u001b[1;34m'petal_width'\u001b[0m\u001b[1;33m)\u001b[0m\u001b[1;33m\u001b[0m\u001b[1;33m\u001b[0m\u001b[0m\n\u001b[0m\u001b[0;32m      2\u001b[0m \u001b[0msns\u001b[0m\u001b[1;33m.\u001b[0m\u001b[0mregplot\u001b[0m\u001b[1;33m(\u001b[0m\u001b[0mx\u001b[0m\u001b[1;33m=\u001b[0m\u001b[1;34m\"petal_length\"\u001b[0m\u001b[1;33m,\u001b[0m \u001b[0my\u001b[0m\u001b[1;33m=\u001b[0m\u001b[1;34m\"petal_width\"\u001b[0m\u001b[1;33m,\u001b[0m \u001b[0mdata\u001b[0m\u001b[1;33m=\u001b[0m\u001b[0miris\u001b[0m\u001b[1;33m)\u001b[0m\u001b[1;33m\u001b[0m\u001b[1;33m\u001b[0m\u001b[0m\n\u001b[0;32m      3\u001b[0m \u001b[1;33m\u001b[0m\u001b[0m\n\u001b[0;32m      4\u001b[0m \u001b[1;31m# This is used for parova analyza\u001b[0m\u001b[1;33m\u001b[0m\u001b[1;33m\u001b[0m\u001b[1;33m\u001b[0m\u001b[0m\n\u001b[0;32m      5\u001b[0m \u001b[0mplt\u001b[0m\u001b[1;33m.\u001b[0m\u001b[0mscatter\u001b[0m\u001b[1;33m(\u001b[0m\u001b[0mdf\u001b[0m\u001b[1;33m.\u001b[0m\u001b[0mage\u001b[0m\u001b[1;33m,\u001b[0m \u001b[0mdf\u001b[0m\u001b[1;33m.\u001b[0m\u001b[0msex\u001b[0m\u001b[1;33m)\u001b[0m\u001b[1;33m\u001b[0m\u001b[1;33m\u001b[0m\u001b[0m\n",
      "\u001b[1;31mNameError\u001b[0m: name 'iris' is not defined"
     ]
    }
   ],
   "source": [
    "sns.scatterplot(data=iris, x='petal_length', y='petal_width')\n",
    "sns.regplot(x=\"petal_length\", y=\"petal_width\", data=iris)\n",
    "\n",
    "# This is used for parova analyza\n",
    "plt.scatter(df.age, df.sex)\n",
    "sns.pairplot(df, hue=\"age\") # This isn't working\n",
    "sns.regplot(x=\"petal_length\", y=\"petal_width\", data=iris)\n",
    "\n",
    "# Corr\n",
    "print(\"Pearson correlation: %.3f\" % iris.petal_length.corr(iris.petal_width))\n",
    "iris.corr()\n",
    "fig, ax = plt.subplots(figsize=(10,8))\n",
    "sns.heatmap(iris.corr(), ax=ax, annot=True, fmt=\".3f\")\n",
    "sns.boxplot('species', 'petal_length', data=iris)"
   ]
  },
  {
   "cell_type": "code",
   "execution_count": 125,
   "metadata": {},
   "outputs": [
    {
     "data": {
      "text/html": [
       "<div>\n",
       "<style scoped>\n",
       "    .dataframe tbody tr th:only-of-type {\n",
       "        vertical-align: middle;\n",
       "    }\n",
       "\n",
       "    .dataframe tbody tr th {\n",
       "        vertical-align: top;\n",
       "    }\n",
       "\n",
       "    .dataframe thead th {\n",
       "        text-align: right;\n",
       "    }\n",
       "</style>\n",
       "<table border=\"1\" class=\"dataframe\">\n",
       "  <thead>\n",
       "    <tr style=\"text-align: right;\">\n",
       "      <th></th>\n",
       "      <th>education-num</th>\n",
       "      <th>skewness_glucose</th>\n",
       "      <th>mean_glucose</th>\n",
       "      <th>capital-gain</th>\n",
       "      <th>kurtosis_glucose</th>\n",
       "      <th>fnlwgt</th>\n",
       "      <th>class</th>\n",
       "      <th>std_glucose</th>\n",
       "      <th>hours-per-week</th>\n",
       "      <th>capital-loss</th>\n",
       "    </tr>\n",
       "  </thead>\n",
       "  <tbody>\n",
       "    <tr>\n",
       "      <th>education-num</th>\n",
       "      <td>1.000000</td>\n",
       "      <td>-0.011979</td>\n",
       "      <td>0.012340</td>\n",
       "      <td>0.121256</td>\n",
       "      <td>-0.010947</td>\n",
       "      <td>-0.051732</td>\n",
       "      <td>-0.021412</td>\n",
       "      <td>-0.004888</td>\n",
       "      <td>0.143040</td>\n",
       "      <td>0.090149</td>\n",
       "    </tr>\n",
       "    <tr>\n",
       "      <th>skewness_glucose</th>\n",
       "      <td>-0.011979</td>\n",
       "      <td>1.000000</td>\n",
       "      <td>-0.009434</td>\n",
       "      <td>0.000182</td>\n",
       "      <td>0.961722</td>\n",
       "      <td>-0.024980</td>\n",
       "      <td>0.680597</td>\n",
       "      <td>-0.666135</td>\n",
       "      <td>-0.012818</td>\n",
       "      <td>0.002315</td>\n",
       "    </tr>\n",
       "    <tr>\n",
       "      <th>mean_glucose</th>\n",
       "      <td>0.012340</td>\n",
       "      <td>-0.009434</td>\n",
       "      <td>1.000000</td>\n",
       "      <td>0.024359</td>\n",
       "      <td>-0.005865</td>\n",
       "      <td>-0.022246</td>\n",
       "      <td>-0.015211</td>\n",
       "      <td>0.022384</td>\n",
       "      <td>0.024153</td>\n",
       "      <td>-0.024901</td>\n",
       "    </tr>\n",
       "    <tr>\n",
       "      <th>capital-gain</th>\n",
       "      <td>0.121256</td>\n",
       "      <td>0.000182</td>\n",
       "      <td>0.024359</td>\n",
       "      <td>1.000000</td>\n",
       "      <td>-0.007008</td>\n",
       "      <td>0.010546</td>\n",
       "      <td>-0.014670</td>\n",
       "      <td>0.008979</td>\n",
       "      <td>0.096427</td>\n",
       "      <td>-0.028317</td>\n",
       "    </tr>\n",
       "    <tr>\n",
       "      <th>kurtosis_glucose</th>\n",
       "      <td>-0.010947</td>\n",
       "      <td>0.961722</td>\n",
       "      <td>-0.005865</td>\n",
       "      <td>-0.007008</td>\n",
       "      <td>1.000000</td>\n",
       "      <td>-0.024385</td>\n",
       "      <td>0.788871</td>\n",
       "      <td>-0.653934</td>\n",
       "      <td>-0.008163</td>\n",
       "      <td>0.003581</td>\n",
       "    </tr>\n",
       "    <tr>\n",
       "      <th>fnlwgt</th>\n",
       "      <td>-0.051732</td>\n",
       "      <td>-0.024980</td>\n",
       "      <td>-0.022246</td>\n",
       "      <td>0.010546</td>\n",
       "      <td>-0.024385</td>\n",
       "      <td>1.000000</td>\n",
       "      <td>-0.009104</td>\n",
       "      <td>0.026743</td>\n",
       "      <td>-0.021165</td>\n",
       "      <td>-0.034717</td>\n",
       "    </tr>\n",
       "    <tr>\n",
       "      <th>class</th>\n",
       "      <td>-0.021412</td>\n",
       "      <td>0.680597</td>\n",
       "      <td>-0.015211</td>\n",
       "      <td>-0.014670</td>\n",
       "      <td>0.788871</td>\n",
       "      <td>-0.009104</td>\n",
       "      <td>1.000000</td>\n",
       "      <td>-0.500898</td>\n",
       "      <td>0.003044</td>\n",
       "      <td>0.003158</td>\n",
       "    </tr>\n",
       "    <tr>\n",
       "      <th>std_glucose</th>\n",
       "      <td>-0.004888</td>\n",
       "      <td>-0.666135</td>\n",
       "      <td>0.022384</td>\n",
       "      <td>0.008979</td>\n",
       "      <td>-0.653934</td>\n",
       "      <td>0.026743</td>\n",
       "      <td>-0.500898</td>\n",
       "      <td>1.000000</td>\n",
       "      <td>0.018442</td>\n",
       "      <td>-0.007243</td>\n",
       "    </tr>\n",
       "    <tr>\n",
       "      <th>hours-per-week</th>\n",
       "      <td>0.143040</td>\n",
       "      <td>-0.012818</td>\n",
       "      <td>0.024153</td>\n",
       "      <td>0.096427</td>\n",
       "      <td>-0.008163</td>\n",
       "      <td>-0.021165</td>\n",
       "      <td>0.003044</td>\n",
       "      <td>0.018442</td>\n",
       "      <td>1.000000</td>\n",
       "      <td>0.070361</td>\n",
       "    </tr>\n",
       "    <tr>\n",
       "      <th>capital-loss</th>\n",
       "      <td>0.090149</td>\n",
       "      <td>0.002315</td>\n",
       "      <td>-0.024901</td>\n",
       "      <td>-0.028317</td>\n",
       "      <td>0.003581</td>\n",
       "      <td>-0.034717</td>\n",
       "      <td>0.003158</td>\n",
       "      <td>-0.007243</td>\n",
       "      <td>0.070361</td>\n",
       "      <td>1.000000</td>\n",
       "    </tr>\n",
       "  </tbody>\n",
       "</table>\n",
       "</div>"
      ],
      "text/plain": [
       "                  education-num  skewness_glucose  mean_glucose  capital-gain  \\\n",
       "education-num          1.000000         -0.011979      0.012340      0.121256   \n",
       "skewness_glucose      -0.011979          1.000000     -0.009434      0.000182   \n",
       "mean_glucose           0.012340         -0.009434      1.000000      0.024359   \n",
       "capital-gain           0.121256          0.000182      0.024359      1.000000   \n",
       "kurtosis_glucose      -0.010947          0.961722     -0.005865     -0.007008   \n",
       "fnlwgt                -0.051732         -0.024980     -0.022246      0.010546   \n",
       "class                 -0.021412          0.680597     -0.015211     -0.014670   \n",
       "std_glucose           -0.004888         -0.666135      0.022384      0.008979   \n",
       "hours-per-week         0.143040         -0.012818      0.024153      0.096427   \n",
       "capital-loss           0.090149          0.002315     -0.024901     -0.028317   \n",
       "\n",
       "                  kurtosis_glucose    fnlwgt     class  std_glucose  \\\n",
       "education-num            -0.010947 -0.051732 -0.021412    -0.004888   \n",
       "skewness_glucose          0.961722 -0.024980  0.680597    -0.666135   \n",
       "mean_glucose             -0.005865 -0.022246 -0.015211     0.022384   \n",
       "capital-gain             -0.007008  0.010546 -0.014670     0.008979   \n",
       "kurtosis_glucose          1.000000 -0.024385  0.788871    -0.653934   \n",
       "fnlwgt                   -0.024385  1.000000 -0.009104     0.026743   \n",
       "class                     0.788871 -0.009104  1.000000    -0.500898   \n",
       "std_glucose              -0.653934  0.026743 -0.500898     1.000000   \n",
       "hours-per-week           -0.008163 -0.021165  0.003044     0.018442   \n",
       "capital-loss              0.003581 -0.034717  0.003158    -0.007243   \n",
       "\n",
       "                  hours-per-week  capital-loss  \n",
       "education-num           0.143040      0.090149  \n",
       "skewness_glucose       -0.012818      0.002315  \n",
       "mean_glucose            0.024153     -0.024901  \n",
       "capital-gain            0.096427     -0.028317  \n",
       "kurtosis_glucose       -0.008163      0.003581  \n",
       "fnlwgt                 -0.021165     -0.034717  \n",
       "class                   0.003044      0.003158  \n",
       "std_glucose             0.018442     -0.007243  \n",
       "hours-per-week          1.000000      0.070361  \n",
       "capital-loss            0.070361      1.000000  "
      ]
     },
     "execution_count": 125,
     "metadata": {},
     "output_type": "execute_result"
    }
   ],
   "source": [
    "df.corr()"
   ]
  },
  {
   "cell_type": "code",
   "execution_count": 126,
   "metadata": {},
   "outputs": [
    {
     "data": {
      "text/plain": [
       "<matplotlib.axes._subplots.AxesSubplot at 0x22c216dbdf0>"
      ]
     },
     "execution_count": 126,
     "metadata": {},
     "output_type": "execute_result"
    },
    {
     "data": {
      "image/png": "[encoded data removed]",
      "text/plain": [
       "<Figure size 432x288 with 1 Axes>"
      ]
     },
     "metadata": {
      "needs_background": "light"
     },
     "output_type": "display_data"
    }
   ],
   "source": [
    "sns.boxplot(x='education-num', y='income', data=df)"
   ]
  },
  {
   "cell_type": "code",
   "execution_count": 51,
   "metadata": {},
   "outputs": [],
   "source": [
    "# personal_traindata:image/png;base64,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\n",
    "df = pd.read_csv(\"./personal_train.csv\", index_col=0, sep=',') # First column was Unnamend"
   ]
  },
  {
   "cell_type": "code",
   "execution_count": 52,
   "metadata": {},
   "outputs": [
    {
     "data": {
      "text/html": [
       "<div>\n",
       "<style scoped>\n",
       "    .dataframe tbody tr th:only-of-type {\n",
       "        vertical-align: middle;\n",
       "    }\n",
       "\n",
       "    .dataframe tbody tr th {\n",
       "        vertical-align: top;\n",
       "    }\n",
       "\n",
       "    .dataframe thead th {\n",
       "        text-align: right;\n",
       "    }\n",
       "</style>\n",
       "<table border=\"1\" class=\"dataframe\">\n",
       "  <thead>\n",
       "    <tr style=\"text-align: right;\">\n",
       "      <th></th>\n",
       "      <th>age</th>\n",
       "    </tr>\n",
       "  </thead>\n",
       "  <tbody>\n",
       "    <tr>\n",
       "      <th>count</th>\n",
       "      <td>3540.000000</td>\n",
       "    </tr>\n",
       "    <tr>\n",
       "      <th>mean</th>\n",
       "      <td>51.816949</td>\n",
       "    </tr>\n",
       "    <tr>\n",
       "      <th>std</th>\n",
       "      <td>11.914637</td>\n",
       "    </tr>\n",
       "    <tr>\n",
       "      <th>min</th>\n",
       "      <td>-1.000000</td>\n",
       "    </tr>\n",
       "    <tr>\n",
       "      <th>25%</th>\n",
       "      <td>44.000000</td>\n",
       "    </tr>\n",
       "    <tr>\n",
       "      <th>50%</th>\n",
       "      <td>52.000000</td>\n",
       "    </tr>\n",
       "    <tr>\n",
       "      <th>75%</th>\n",
       "      <td>60.000000</td>\n",
       "    </tr>\n",
       "    <tr>\n",
       "      <th>max</th>\n",
       "      <td>113.000000</td>\n",
       "    </tr>\n",
       "  </tbody>\n",
       "</table>\n",
       "</div>"
      ],
      "text/plain": [
       "               age\n",
       "count  3540.000000\n",
       "mean     51.816949\n",
       "std      11.914637\n",
       "min      -1.000000\n",
       "25%      44.000000\n",
       "50%      52.000000\n",
       "75%      60.000000\n",
       "max     113.000000"
      ]
     },
     "execution_count": 52,
     "metadata": {},
     "output_type": "execute_result"
    }
   ],
   "source": [
    "df.describe() # Fundamental descriptive stats"
   ]
  },
  {
   "cell_type": "code",
   "execution_count": 53,
   "metadata": {},
   "outputs": [
    {
     "name": "stdout",
     "output_type": "stream",
     "text": [
      "<class 'pandas.core.frame.DataFrame'>\n",
      "Int64Index: 3933 entries, 0 to 3932\n",
      "Data columns (total 5 columns):\n",
      " #   Column         Non-Null Count  Dtype  \n",
      "---  ------         --------------  -----  \n",
      " 0   name           3933 non-null   object \n",
      " 1   address        3933 non-null   object \n",
      " 2   age            3540 non-null   float64\n",
      " 3   sex            3933 non-null   object \n",
      " 4   date_of_birth  3933 non-null   object \n",
      "dtypes: float64(1), object(4)\n",
      "memory usage: 184.4+ KB\n"
     ]
    }
   ],
   "source": [
    "df.info() # number of records: 3933, number of atributes: 5\n",
    "# name = object\n",
    "# address = object\n",
    "# age = float\n",
    "# sex = object\n",
    "# date_of_birth = object\n",
    "# there are 393 cells in age column with null value\n",
    "# other columns don't have null values"
   ]
  },
  {
   "cell_type": "code",
   "execution_count": 54,
   "metadata": {},
   "outputs": [
    {
     "data": {
      "text/html": [
       "<div>\n",
       "<style scoped>\n",
       "    .dataframe tbody tr th:only-of-type {\n",
       "        vertical-align: middle;\n",
       "    }\n",
       "\n",
       "    .dataframe tbody tr th {\n",
       "        vertical-align: top;\n",
       "    }\n",
       "\n",
       "    .dataframe thead th {\n",
       "        text-align: right;\n",
       "    }\n",
       "</style>\n",
       "<table border=\"1\" class=\"dataframe\">\n",
       "  <thead>\n",
       "    <tr style=\"text-align: right;\">\n",
       "      <th></th>\n",
       "      <th>name</th>\n",
       "      <th>address</th>\n",
       "      <th>age</th>\n",
       "      <th>sex</th>\n",
       "      <th>date_of_birth</th>\n",
       "    </tr>\n",
       "  </thead>\n",
       "  <tbody>\n",
       "    <tr>\n",
       "      <th>0</th>\n",
       "      <td>Roscoe Bohannon</td>\n",
       "      <td>7183 Osborne Ways Apt. 651\\r\\nEast Andrew, OH ...</td>\n",
       "      <td>63.0</td>\n",
       "      <td>Female</td>\n",
       "      <td>1956-10-02</td>\n",
       "    </tr>\n",
       "    <tr>\n",
       "      <th>1</th>\n",
       "      <td>Ernest Kline</td>\n",
       "      <td>391 Ball Road Suite 961\\r\\nFlowersborough, IN ...</td>\n",
       "      <td>58.0</td>\n",
       "      <td>Female</td>\n",
       "      <td>1961-05-14</td>\n",
       "    </tr>\n",
       "    <tr>\n",
       "      <th>2</th>\n",
       "      <td>Harold Hendriks</td>\n",
       "      <td>8702 Vincent Square\\r\\nNew Jerryfurt, CO 30614</td>\n",
       "      <td>47.0</td>\n",
       "      <td>Male</td>\n",
       "      <td>1972-06-19</td>\n",
       "    </tr>\n",
       "    <tr>\n",
       "      <th>3</th>\n",
       "      <td>Randy Baptiste</td>\n",
       "      <td>2751 Harris Crossroad\\r\\nWest Ashley, CA 30311</td>\n",
       "      <td>60.0</td>\n",
       "      <td>Female</td>\n",
       "      <td>1959-02-19</td>\n",
       "    </tr>\n",
       "    <tr>\n",
       "      <th>4</th>\n",
       "      <td>Anthony Colucci</td>\n",
       "      <td>904 Robert Cliffs Suite 186\\r\\nWest Kyle, CO 7...</td>\n",
       "      <td>31.0</td>\n",
       "      <td>Female</td>\n",
       "      <td>1988-08-04</td>\n",
       "    </tr>\n",
       "  </tbody>\n",
       "</table>\n",
       "</div>"
      ],
      "text/plain": [
       "              name                                            address   age  \\\n",
       "0  Roscoe Bohannon  7183 Osborne Ways Apt. 651\\r\\nEast Andrew, OH ...  63.0   \n",
       "1     Ernest Kline  391 Ball Road Suite 961\\r\\nFlowersborough, IN ...  58.0   \n",
       "2  Harold Hendriks     8702 Vincent Square\\r\\nNew Jerryfurt, CO 30614  47.0   \n",
       "3   Randy Baptiste     2751 Harris Crossroad\\r\\nWest Ashley, CA 30311  60.0   \n",
       "4  Anthony Colucci  904 Robert Cliffs Suite 186\\r\\nWest Kyle, CO 7...  31.0   \n",
       "\n",
       "       sex date_of_birth  \n",
       "0   Female    1956-10-02  \n",
       "1   Female    1961-05-14  \n",
       "2     Male    1972-06-19  \n",
       "3   Female    1959-02-19  \n",
       "4   Female    1988-08-04  "
      ]
     },
     "execution_count": 54,
     "metadata": {},
     "output_type": "execute_result"
    }
   ],
   "source": [
    "df.head()"
   ]
  },
  {
   "cell_type": "code",
   "execution_count": 55,
   "metadata": {},
   "outputs": [
    {
     "data": {
      "text/html": [
       "<div>\n",
       "<style scoped>\n",
       "    .dataframe tbody tr th:only-of-type {\n",
       "        vertical-align: middle;\n",
       "    }\n",
       "\n",
       "    .dataframe tbody tr th {\n",
       "        vertical-align: top;\n",
       "    }\n",
       "\n",
       "    .dataframe thead th {\n",
       "        text-align: right;\n",
       "    }\n",
       "</style>\n",
       "<table border=\"1\" class=\"dataframe\">\n",
       "  <thead>\n",
       "    <tr style=\"text-align: right;\">\n",
       "      <th></th>\n",
       "      <th>name</th>\n",
       "      <th>age</th>\n",
       "      <th>sex</th>\n",
       "      <th>date_of_birth</th>\n",
       "      <th>street</th>\n",
       "      <th>city</th>\n",
       "      <th>zip_code</th>\n",
       "    </tr>\n",
       "  </thead>\n",
       "  <tbody>\n",
       "    <tr>\n",
       "      <th>0</th>\n",
       "      <td>Roscoe Bohannon</td>\n",
       "      <td>63.0</td>\n",
       "      <td>Female</td>\n",
       "      <td>1956-10-02</td>\n",
       "      <td>7183 Osborne Ways Apt. 651</td>\n",
       "      <td>East Andrew</td>\n",
       "      <td>OH 53211</td>\n",
       "    </tr>\n",
       "    <tr>\n",
       "      <th>1</th>\n",
       "      <td>Ernest Kline</td>\n",
       "      <td>58.0</td>\n",
       "      <td>Female</td>\n",
       "      <td>1961-05-14</td>\n",
       "      <td>391 Ball Road Suite 961</td>\n",
       "      <td>Flowersborough</td>\n",
       "      <td>IN 57550</td>\n",
       "    </tr>\n",
       "    <tr>\n",
       "      <th>2</th>\n",
       "      <td>Harold Hendriks</td>\n",
       "      <td>47.0</td>\n",
       "      <td>Male</td>\n",
       "      <td>1972-06-19</td>\n",
       "      <td>8702 Vincent Square</td>\n",
       "      <td>New Jerryfurt</td>\n",
       "      <td>CO 30614</td>\n",
       "    </tr>\n",
       "    <tr>\n",
       "      <th>3</th>\n",
       "      <td>Randy Baptiste</td>\n",
       "      <td>60.0</td>\n",
       "      <td>Female</td>\n",
       "      <td>1959-02-19</td>\n",
       "      <td>2751 Harris Crossroad</td>\n",
       "      <td>West Ashley</td>\n",
       "      <td>CA 30311</td>\n",
       "    </tr>\n",
       "    <tr>\n",
       "      <th>4</th>\n",
       "      <td>Anthony Colucci</td>\n",
       "      <td>31.0</td>\n",
       "      <td>Female</td>\n",
       "      <td>1988-08-04</td>\n",
       "      <td>904 Robert Cliffs Suite 186</td>\n",
       "      <td>West Kyle</td>\n",
       "      <td>CO 77139</td>\n",
       "    </tr>\n",
       "  </tbody>\n",
       "</table>\n",
       "</div>"
      ],
      "text/plain": [
       "              name   age      sex date_of_birth                       street  \\\n",
       "0  Roscoe Bohannon  63.0   Female    1956-10-02   7183 Osborne Ways Apt. 651   \n",
       "1     Ernest Kline  58.0   Female    1961-05-14      391 Ball Road Suite 961   \n",
       "2  Harold Hendriks  47.0     Male    1972-06-19          8702 Vincent Square   \n",
       "3   Randy Baptiste  60.0   Female    1959-02-19        2751 Harris Crossroad   \n",
       "4  Anthony Colucci  31.0   Female    1988-08-04  904 Robert Cliffs Suite 186   \n",
       "\n",
       "              city   zip_code  \n",
       "0      East Andrew   OH 53211  \n",
       "1   Flowersborough   IN 57550  \n",
       "2    New Jerryfurt   CO 30614  \n",
       "3      West Ashley   CA 30311  \n",
       "4        West Kyle   CO 77139  "
      ]
     },
     "execution_count": 55,
     "metadata": {},
     "output_type": "execute_result"
    }
   ],
   "source": [
    "df_addresses = df['address'].replace('\\r', ',', regex=True)\n",
    "df_addresses = df_addresses.replace('\\n', ' ', regex=True)\n",
    "df_addresses = df_addresses.str.split(',')\n",
    "df_addresses.head()\n",
    "\n",
    "cities = []\n",
    "streets = []\n",
    "zip_codes = []\n",
    "\n",
    "for address in df_addresses:\n",
    "    if len(address) < 3: # these records have cities in address\n",
    "        streets.append(address[0])\n",
    "        cities.append(None)\n",
    "        zip_codes.append(address[1])\n",
    "    else: # these records don't have cities in address\n",
    "        streets.append(address[0])\n",
    "        cities.append(address[1])\n",
    "        zip_codes.append(address[2])\n",
    "   \n",
    "df['street'] = streets\n",
    "df['city'] = cities\n",
    "df['zip_code'] = zip_codes\n",
    "\n",
    "df = df.drop('address', axis=1)\n",
    "df.head()"
   ]
  },
  {
   "cell_type": "code",
   "execution_count": 56,
   "metadata": {
    "scrolled": true
   },
   "outputs": [
    {
     "name": "stdout",
     "output_type": "stream",
     "text": [
      "<class 'pandas.core.frame.DataFrame'>\n",
      "Int64Index: 3933 entries, 0 to 3932\n",
      "Data columns (total 7 columns):\n",
      " #   Column         Non-Null Count  Dtype  \n",
      "---  ------         --------------  -----  \n",
      " 0   name           3933 non-null   object \n",
      " 1   age            3540 non-null   float64\n",
      " 2   sex            3933 non-null   object \n",
      " 3   date_of_birth  3933 non-null   object \n",
      " 4   street         3933 non-null   object \n",
      " 5   city           3657 non-null   object \n",
      " 6   zip_code       3933 non-null   object \n",
      "dtypes: float64(1), object(6)\n",
      "memory usage: 245.8+ KB\n"
     ]
    }
   ],
   "source": [
    "df.info() # 276 number of cells in city column have null value"
   ]
  },
  {
   "cell_type": "code",
   "execution_count": 57,
   "metadata": {},
   "outputs": [
    {
     "data": {
      "text/plain": [
       "643"
      ]
     },
     "execution_count": 57,
     "metadata": {},
     "output_type": "execute_result"
    }
   ],
   "source": [
    "df.shape[0] - df.dropna().shape[0] # there are 643 nan values"
   ]
  },
  {
   "cell_type": "code",
   "execution_count": 58,
   "metadata": {},
   "outputs": [
    {
     "data": {
      "text/html": [
       "<div>\n",
       "<style scoped>\n",
       "    .dataframe tbody tr th:only-of-type {\n",
       "        vertical-align: middle;\n",
       "    }\n",
       "\n",
       "    .dataframe tbody tr th {\n",
       "        vertical-align: top;\n",
       "    }\n",
       "\n",
       "    .dataframe thead th {\n",
       "        text-align: right;\n",
       "    }\n",
       "</style>\n",
       "<table border=\"1\" class=\"dataframe\">\n",
       "  <thead>\n",
       "    <tr style=\"text-align: right;\">\n",
       "      <th></th>\n",
       "      <th>name</th>\n",
       "      <th>age</th>\n",
       "      <th>sex</th>\n",
       "      <th>date_of_birth</th>\n",
       "      <th>street</th>\n",
       "      <th>city</th>\n",
       "      <th>zip_code</th>\n",
       "    </tr>\n",
       "  </thead>\n",
       "  <tbody>\n",
       "    <tr>\n",
       "      <th>8</th>\n",
       "      <td>Harold Miller</td>\n",
       "      <td>NaN</td>\n",
       "      <td>Female</td>\n",
       "      <td>66-06-24</td>\n",
       "      <td>8514 Elizabeth Crescent</td>\n",
       "      <td>West Joseland</td>\n",
       "      <td>GA 49359</td>\n",
       "    </tr>\n",
       "    <tr>\n",
       "      <th>9</th>\n",
       "      <td>Charles Czachorowski</td>\n",
       "      <td>NaN</td>\n",
       "      <td>Male</td>\n",
       "      <td>1957-06-06</td>\n",
       "      <td>6798 Wagner Locks Suite 377</td>\n",
       "      <td>Lake Brenda</td>\n",
       "      <td>DC 53038</td>\n",
       "    </tr>\n",
       "    <tr>\n",
       "      <th>10</th>\n",
       "      <td>Robert Grantham</td>\n",
       "      <td>NaN</td>\n",
       "      <td>Male</td>\n",
       "      <td>1971-08-08</td>\n",
       "      <td>822 Adams Plains</td>\n",
       "      <td>New Karen</td>\n",
       "      <td>AK 92114</td>\n",
       "    </tr>\n",
       "    <tr>\n",
       "      <th>21</th>\n",
       "      <td>Jeffrey Taylor</td>\n",
       "      <td>42.0</td>\n",
       "      <td>Male</td>\n",
       "      <td>27/04/1977</td>\n",
       "      <td>USNV Kim</td>\n",
       "      <td>None</td>\n",
       "      <td>FPO AA 96043</td>\n",
       "    </tr>\n",
       "    <tr>\n",
       "      <th>24</th>\n",
       "      <td>Thaddeus Mackerl</td>\n",
       "      <td>NaN</td>\n",
       "      <td>Female</td>\n",
       "      <td>1969-06-15</td>\n",
       "      <td>8122 Jessica Knolls Apt. 880</td>\n",
       "      <td>Dakotafurt</td>\n",
       "      <td>WV 62098</td>\n",
       "    </tr>\n",
       "    <tr>\n",
       "      <th>...</th>\n",
       "      <td>...</td>\n",
       "      <td>...</td>\n",
       "      <td>...</td>\n",
       "      <td>...</td>\n",
       "      <td>...</td>\n",
       "      <td>...</td>\n",
       "      <td>...</td>\n",
       "    </tr>\n",
       "    <tr>\n",
       "      <th>3915</th>\n",
       "      <td>Drew Garst</td>\n",
       "      <td>50.0</td>\n",
       "      <td>Male</td>\n",
       "      <td>69-01-03</td>\n",
       "      <td>USNS Duarte</td>\n",
       "      <td>None</td>\n",
       "      <td>FPO AA 22046</td>\n",
       "    </tr>\n",
       "    <tr>\n",
       "      <th>3920</th>\n",
       "      <td>David Lackey</td>\n",
       "      <td>44.0</td>\n",
       "      <td>Male</td>\n",
       "      <td>1975-02-15</td>\n",
       "      <td>USNV Patterson</td>\n",
       "      <td>None</td>\n",
       "      <td>FPO AA 81791</td>\n",
       "    </tr>\n",
       "    <tr>\n",
       "      <th>3926</th>\n",
       "      <td>Joseph Leroux</td>\n",
       "      <td>59.0</td>\n",
       "      <td>Male</td>\n",
       "      <td>1960/01/04</td>\n",
       "      <td>Unit 7574 Box 5626</td>\n",
       "      <td>None</td>\n",
       "      <td>DPO AE 77296</td>\n",
       "    </tr>\n",
       "    <tr>\n",
       "      <th>3930</th>\n",
       "      <td>Jared Kinsey</td>\n",
       "      <td>48.0</td>\n",
       "      <td>Male</td>\n",
       "      <td>1971-05-10</td>\n",
       "      <td>Unit 8416 Box 3801</td>\n",
       "      <td>None</td>\n",
       "      <td>DPO AE 31166</td>\n",
       "    </tr>\n",
       "    <tr>\n",
       "      <th>3932</th>\n",
       "      <td>Adalberto Daughters</td>\n",
       "      <td>33.0</td>\n",
       "      <td>Male</td>\n",
       "      <td>1986-10-03</td>\n",
       "      <td>Unit 7931 Box 0601</td>\n",
       "      <td>None</td>\n",
       "      <td>DPO AE 50505</td>\n",
       "    </tr>\n",
       "  </tbody>\n",
       "</table>\n",
       "<p>643 rows × 7 columns</p>\n",
       "</div>"
      ],
      "text/plain": [
       "                      name   age      sex date_of_birth  \\\n",
       "8            Harold Miller   NaN   Female      66-06-24   \n",
       "9     Charles Czachorowski   NaN     Male    1957-06-06   \n",
       "10         Robert Grantham   NaN     Male    1971-08-08   \n",
       "21          Jeffrey Taylor  42.0     Male    27/04/1977   \n",
       "24        Thaddeus Mackerl   NaN   Female    1969-06-15   \n",
       "...                    ...   ...      ...           ...   \n",
       "3915            Drew Garst  50.0     Male      69-01-03   \n",
       "3920          David Lackey  44.0     Male    1975-02-15   \n",
       "3926         Joseph Leroux  59.0     Male    1960/01/04   \n",
       "3930          Jared Kinsey  48.0     Male    1971-05-10   \n",
       "3932   Adalberto Daughters  33.0     Male    1986-10-03   \n",
       "\n",
       "                            street            city       zip_code  \n",
       "8          8514 Elizabeth Crescent   West Joseland       GA 49359  \n",
       "9      6798 Wagner Locks Suite 377     Lake Brenda       DC 53038  \n",
       "10                822 Adams Plains       New Karen       AK 92114  \n",
       "21                        USNV Kim            None   FPO AA 96043  \n",
       "24    8122 Jessica Knolls Apt. 880      Dakotafurt       WV 62098  \n",
       "...                            ...             ...            ...  \n",
       "3915                   USNS Duarte            None   FPO AA 22046  \n",
       "3920                USNV Patterson            None   FPO AA 81791  \n",
       "3926            Unit 7574 Box 5626            None   DPO AE 77296  \n",
       "3930            Unit 8416 Box 3801            None   DPO AE 31166  \n",
       "3932            Unit 7931 Box 0601            None   DPO AE 50505  \n",
       "\n",
       "[643 rows x 7 columns]"
      ]
     },
     "execution_count": 58,
     "metadata": {},
     "output_type": "execute_result"
    }
   ],
   "source": [
    "df[df.isnull().any(axis=1)]"
   ]
  },
  {
   "cell_type": "code",
   "execution_count": 59,
   "metadata": {},
   "outputs": [
    {
     "data": {
      "text/plain": [
       "<matplotlib.axes._subplots.AxesSubplot at 0x22c20562cd0>"
      ]
     },
     "execution_count": 59,
     "metadata": {},
     "output_type": "execute_result"
    },
    {
     "data": {
      "image/png": "[encoded data removed]",
      "text/plain": [
       "<Figure size 432x288 with 1 Axes>"
      ]
     },
     "metadata": {
      "needs_background": "light"
     },
     "output_type": "display_data"
    }
   ],
   "source": [
    "df.sex.value_counts().plot(kind='bar') # there are about 1600 more records about men than about women "
   ]
  },
  {
   "cell_type": "code",
   "execution_count": 60,
   "metadata": {},
   "outputs": [
    {
     "data": {
      "text/plain": [
       "<matplotlib.axes._subplots.AxesSubplot at 0x22c208837f0>"
      ]
     },
     "execution_count": 60,
     "metadata": {},
     "output_type": "execute_result"
    },
    {
     "data": {
      "image/png": "[encoded data removed]",
      "text/plain": [
       "<Figure size 1440x720 with 1 Axes>"
      ]
     },
     "metadata": {
      "needs_background": "light"
     },
     "output_type": "display_data"
    }
   ],
   "source": [
    "df.plot(figsize=(20,10))\n",
    "df.age.value_counts().plot(kind='bar')"
   ]
  },
  {
   "cell_type": "code",
   "execution_count": 61,
   "metadata": {},
   "outputs": [
    {
     "data": {
      "text/plain": [
       "<matplotlib.axes._subplots.AxesSubplot at 0x22c1f35d250>"
      ]
     },
     "execution_count": 61,
     "metadata": {},
     "output_type": "execute_result"
    },
    {
     "data": {
      "image/png": "[encoded data removed]",
      "text/plain": [
       "<Figure size 432x288 with 1 Axes>"
      ]
     },
     "metadata": {
      "needs_background": "light"
     },
     "output_type": "display_data"
    }
   ],
   "source": [
    "sns.distplot(df.age, bins=30) # Distribution of age values, Positive kurtosis and normal skewness"
   ]
  },
  {
   "cell_type": "code",
   "execution_count": 62,
   "metadata": {},
   "outputs": [
    {
     "data": {
      "text/plain": [
       "<matplotlib.axes._subplots.AxesSubplot at 0x22c21122be0>"
      ]
     },
     "execution_count": 62,
     "metadata": {},
     "output_type": "execute_result"
    },
    {
     "data": {
      "image/png": "[encoded data removed]",
      "text/plain": [
       "<Figure size 432x288 with 1 Axes>"
      ]
     },
     "metadata": {
      "needs_background": "light"
     },
     "output_type": "display_data"
    }
   ],
   "source": [
    "sns.distplot(df.age, bins=30) # Distribution of age values"
   ]
  },
  {
   "cell_type": "code",
   "execution_count": 63,
   "metadata": {},
   "outputs": [],
   "source": [
    "personal = df"
   ]
  },
  {
   "cell_type": "code",
   "execution_count": 64,
   "metadata": {},
   "outputs": [],
   "source": [
    "# other_train\n",
    "df = pd.read_csv('./other_train.csv', sep=',', index_col=0) # First column is Unnamed\n",
    "for column_name in df:\n",
    "    if df[column_name].dtypes == 'object':\n",
    "        df[column_name] = df[column_name].str.strip()"
   ]
  },
  {
   "cell_type": "code",
   "execution_count": 127,
   "metadata": {},
   "outputs": [
    {
     "data": {
      "text/html": [
       "<div>\n",
       "<style scoped>\n",
       "    .dataframe tbody tr th:only-of-type {\n",
       "        vertical-align: middle;\n",
       "    }\n",
       "\n",
       "    .dataframe tbody tr th {\n",
       "        vertical-align: top;\n",
       "    }\n",
       "\n",
       "    .dataframe thead th {\n",
       "        text-align: right;\n",
       "    }\n",
       "</style>\n",
       "<table border=\"1\" class=\"dataframe\">\n",
       "  <thead>\n",
       "    <tr style=\"text-align: right;\">\n",
       "      <th></th>\n",
       "      <th>name</th>\n",
       "      <th>address</th>\n",
       "      <th>race</th>\n",
       "      <th>marital-status</th>\n",
       "      <th>occupation</th>\n",
       "      <th>pregnant</th>\n",
       "      <th>education-num</th>\n",
       "      <th>relationship</th>\n",
       "      <th>skewness_glucose</th>\n",
       "      <th>mean_glucose</th>\n",
       "      <th>...</th>\n",
       "      <th>education</th>\n",
       "      <th>fnlwgt</th>\n",
       "      <th>class</th>\n",
       "      <th>std_glucose</th>\n",
       "      <th>income</th>\n",
       "      <th>medical_info</th>\n",
       "      <th>native-country</th>\n",
       "      <th>hours-per-week</th>\n",
       "      <th>capital-loss</th>\n",
       "      <th>workclass</th>\n",
       "    </tr>\n",
       "  </thead>\n",
       "  <tbody>\n",
       "    <tr>\n",
       "      <th>0</th>\n",
       "      <td>David Hayes</td>\n",
       "      <td>235 Jennifer Throughway Suite 569\\r\\nNew Antho...</td>\n",
       "      <td>Black</td>\n",
       "      <td>NaN</td>\n",
       "      <td>Prof-specialty</td>\n",
       "      <td>False</td>\n",
       "      <td>5.0</td>\n",
       "      <td>Not-in-family</td>\n",
       "      <td>-0.197692</td>\n",
       "      <td>141.359375</td>\n",
       "      <td>...</td>\n",
       "      <td>9th</td>\n",
       "      <td>175431.0</td>\n",
       "      <td>0.0</td>\n",
       "      <td>49.842053</td>\n",
       "      <td>&lt;=50K</td>\n",
       "      <td>{'mean_oxygen':'4.04264214','std_oxygen':'19.4...</td>\n",
       "      <td>United-States</td>\n",
       "      <td>40.0</td>\n",
       "      <td>0.0</td>\n",
       "      <td>Private</td>\n",
       "    </tr>\n",
       "    <tr>\n",
       "      <th>1</th>\n",
       "      <td>Stanley Benny</td>\n",
       "      <td>08954 Johnson Course\\r\\nNew Lauraville, NV 22019</td>\n",
       "      <td>White</td>\n",
       "      <td>Married-civ-spouse</td>\n",
       "      <td>Exec-managerial</td>\n",
       "      <td>False</td>\n",
       "      <td>13.0</td>\n",
       "      <td>Husband</td>\n",
       "      <td>16.019670</td>\n",
       "      <td>53.968750</td>\n",
       "      <td>...</td>\n",
       "      <td>Bachelors</td>\n",
       "      <td>66473.0</td>\n",
       "      <td>1.0</td>\n",
       "      <td>31.900220</td>\n",
       "      <td>&gt;50K</td>\n",
       "      <td>{'mean_oxygen':'9.294314381','std_oxygen':'35....</td>\n",
       "      <td>United-States</td>\n",
       "      <td>40.0</td>\n",
       "      <td>0.0</td>\n",
       "      <td>Private</td>\n",
       "    </tr>\n",
       "    <tr>\n",
       "      <th>2</th>\n",
       "      <td>Domingo Labriola</td>\n",
       "      <td>36319 Wiley Drive Suite 094\\r\\nSouth Michael, ...</td>\n",
       "      <td>Asian-Pac-Islander</td>\n",
       "      <td>Married-civ-spouse</td>\n",
       "      <td>Farming-fishing</td>\n",
       "      <td>False</td>\n",
       "      <td>3.0</td>\n",
       "      <td>Husband</td>\n",
       "      <td>21.803837</td>\n",
       "      <td>2257.812500</td>\n",
       "      <td>...</td>\n",
       "      <td>5th-6th</td>\n",
       "      <td>93206.0</td>\n",
       "      <td>1.0</td>\n",
       "      <td>35.793158</td>\n",
       "      <td>&lt;=50K</td>\n",
       "      <td>{'mean_oxygen':'138.7876254','std_oxygen':'79....</td>\n",
       "      <td>Philippines</td>\n",
       "      <td>40.0</td>\n",
       "      <td>0.0</td>\n",
       "      <td>Private</td>\n",
       "    </tr>\n",
       "    <tr>\n",
       "      <th>3</th>\n",
       "      <td>Ronnie Moore</td>\n",
       "      <td>0755 Soto Oval Apt. 443\\r\\nWest Markside, TX 3...</td>\n",
       "      <td>White</td>\n",
       "      <td>Never-married</td>\n",
       "      <td>Other-service</td>\n",
       "      <td>False</td>\n",
       "      <td>10.0</td>\n",
       "      <td>Not-in-family</td>\n",
       "      <td>-0.112191</td>\n",
       "      <td>110.046875</td>\n",
       "      <td>...</td>\n",
       "      <td>Some-college</td>\n",
       "      <td>137604.0</td>\n",
       "      <td>0.0</td>\n",
       "      <td>53.876575</td>\n",
       "      <td>&lt;=50K</td>\n",
       "      <td>{'mean_oxygen':'3.100334448','std_oxygen':'17....</td>\n",
       "      <td>United-States</td>\n",
       "      <td>40.0</td>\n",
       "      <td>0.0</td>\n",
       "      <td>Private</td>\n",
       "    </tr>\n",
       "    <tr>\n",
       "      <th>4</th>\n",
       "      <td>Victor Mcjunkin</td>\n",
       "      <td>95738 Keller Overpass\\r\\nKennedyland, MO 71071</td>\n",
       "      <td>White</td>\n",
       "      <td>NaN</td>\n",
       "      <td>Adm-clerical</td>\n",
       "      <td>False</td>\n",
       "      <td>10.0</td>\n",
       "      <td>Not-in-family</td>\n",
       "      <td>-0.309642</td>\n",
       "      <td>137.960938</td>\n",
       "      <td>...</td>\n",
       "      <td>Some-college</td>\n",
       "      <td>174592.0</td>\n",
       "      <td>0.0</td>\n",
       "      <td>51.885451</td>\n",
       "      <td>&lt;=50K</td>\n",
       "      <td>{'mean_oxygen':'4.203177258','std_oxygen':'23....</td>\n",
       "      <td>United-States</td>\n",
       "      <td>40.0</td>\n",
       "      <td>0.0</td>\n",
       "      <td>Private</td>\n",
       "    </tr>\n",
       "  </tbody>\n",
       "</table>\n",
       "<p>5 rows × 22 columns</p>\n",
       "</div>"
      ],
      "text/plain": [
       "               name                                            address  \\\n",
       "0       David Hayes  235 Jennifer Throughway Suite 569\\r\\nNew Antho...   \n",
       "1     Stanley Benny   08954 Johnson Course\\r\\nNew Lauraville, NV 22019   \n",
       "2  Domingo Labriola  36319 Wiley Drive Suite 094\\r\\nSouth Michael, ...   \n",
       "3      Ronnie Moore  0755 Soto Oval Apt. 443\\r\\nWest Markside, TX 3...   \n",
       "4   Victor Mcjunkin     95738 Keller Overpass\\r\\nKennedyland, MO 71071   \n",
       "\n",
       "                 race      marital-status       occupation pregnant  \\\n",
       "0               Black                 NaN   Prof-specialty    False   \n",
       "1               White  Married-civ-spouse  Exec-managerial    False   \n",
       "2  Asian-Pac-Islander  Married-civ-spouse  Farming-fishing    False   \n",
       "3               White       Never-married    Other-service    False   \n",
       "4               White                 NaN     Adm-clerical    False   \n",
       "\n",
       "   education-num   relationship  skewness_glucose  mean_glucose  ...  \\\n",
       "0            5.0  Not-in-family         -0.197692    141.359375  ...   \n",
       "1           13.0        Husband         16.019670     53.968750  ...   \n",
       "2            3.0        Husband         21.803837   2257.812500  ...   \n",
       "3           10.0  Not-in-family         -0.112191    110.046875  ...   \n",
       "4           10.0  Not-in-family         -0.309642    137.960938  ...   \n",
       "\n",
       "      education    fnlwgt class  std_glucose  income  \\\n",
       "0           9th  175431.0   0.0    49.842053   <=50K   \n",
       "1     Bachelors   66473.0   1.0    31.900220    >50K   \n",
       "2       5th-6th   93206.0   1.0    35.793158   <=50K   \n",
       "3  Some-college  137604.0   0.0    53.876575   <=50K   \n",
       "4  Some-college  174592.0   0.0    51.885451   <=50K   \n",
       "\n",
       "                                        medical_info native-country  \\\n",
       "0  {'mean_oxygen':'4.04264214','std_oxygen':'19.4...  United-States   \n",
       "1  {'mean_oxygen':'9.294314381','std_oxygen':'35....  United-States   \n",
       "2  {'mean_oxygen':'138.7876254','std_oxygen':'79....    Philippines   \n",
       "3  {'mean_oxygen':'3.100334448','std_oxygen':'17....  United-States   \n",
       "4  {'mean_oxygen':'4.203177258','std_oxygen':'23....  United-States   \n",
       "\n",
       "  hours-per-week capital-loss  workclass  \n",
       "0           40.0          0.0    Private  \n",
       "1           40.0          0.0    Private  \n",
       "2           40.0          0.0    Private  \n",
       "3           40.0          0.0    Private  \n",
       "4           40.0          0.0    Private  \n",
       "\n",
       "[5 rows x 22 columns]"
      ]
     },
     "execution_count": 127,
     "metadata": {},
     "output_type": "execute_result"
    }
   ],
   "source": [
    "df.head()"
   ]
  },
  {
   "cell_type": "code",
   "execution_count": 128,
   "metadata": {},
   "outputs": [
    {
     "name": "stdout",
     "output_type": "stream",
     "text": [
      "<class 'pandas.core.frame.DataFrame'>\n",
      "Int64Index: 3983 entries, 0 to 3982\n",
      "Data columns (total 22 columns):\n",
      " #   Column            Non-Null Count  Dtype  \n",
      "---  ------            --------------  -----  \n",
      " 0   name              3983 non-null   object \n",
      " 1   address           3983 non-null   object \n",
      " 2   race              3971 non-null   object \n",
      " 3   marital-status    3570 non-null   object \n",
      " 4   occupation        3744 non-null   object \n",
      " 5   pregnant          3967 non-null   object \n",
      " 6   education-num     3971 non-null   float64\n",
      " 7   relationship      3972 non-null   object \n",
      " 8   skewness_glucose  3968 non-null   float64\n",
      " 9   mean_glucose      3974 non-null   float64\n",
      " 10  capital-gain      3964 non-null   float64\n",
      " 11  kurtosis_glucose  3970 non-null   float64\n",
      " 12  education         3969 non-null   object \n",
      " 13  fnlwgt            3965 non-null   float64\n",
      " 14  class             3972 non-null   float64\n",
      " 15  std_glucose       3966 non-null   float64\n",
      " 16  income            3971 non-null   object \n",
      " 17  medical_info      3967 non-null   object \n",
      " 18  native-country    3909 non-null   object \n",
      " 19  hours-per-week    3971 non-null   float64\n",
      " 20  capital-loss      3971 non-null   float64\n",
      " 21  workclass         3741 non-null   object \n",
      "dtypes: float64(10), object(12)\n",
      "memory usage: 875.7+ KB\n"
     ]
    }
   ],
   "source": [
    "df.info()"
   ]
  },
  {
   "cell_type": "code",
   "execution_count": 129,
   "metadata": {},
   "outputs": [],
   "source": [
    "df2 = pd.DataFrame() \n",
    "\n",
    "# Iterate through every row and take values from medical_info column\n",
    "for _,column_data in df['medical_info'].iteritems(): \n",
    "    if isinstance(column_data, str): # If value isn't nan\n",
    "        column_data = column_data[1:-1] # Delect curly brackets from start and end of string\n",
    "        column_data_split = column_data.split(',') # Split string by comma\n",
    "\n",
    "        row = {} \n",
    "        for name_value in column_data_split: # Iterate through split string\n",
    "            name_value_split = name_value.split(':') # Split into name of column and value of columns\n",
    "            # Store value into dictionary with name of the column as a key\n",
    "            row[name_value_split[0][1:-1]] = [np.float(name_value_split[1][1:-1])] # Get rid of '' by [1:-1]\n",
    "\n",
    "        row_data_frame = pd.DataFrame(row) # Convert dictionary into DataFrame\n",
    "        df2 = df2.append(row_data_frame, ignore_index=True) # Append row_data_frame into df2\n",
    "    else: # Value is nan, append nan row into df2\n",
    "        df2 = df2.append(pd.Series(np.nan), ignore_index=True)\n",
    "        \n",
    "df2 = df2.drop(columns=[0]) # Drop last column\n",
    "\n",
    "# Add values from df2 to main df\n",
    "for column_name in df2.columns:\n",
    "    df[column_name] = df2[column_name]"
   ]
  },
  {
   "cell_type": "code",
   "execution_count": 130,
   "metadata": {},
   "outputs": [],
   "source": [
    "del df['medical_info'] # medical info is already divided into another columns, so we can erase it"
   ]
  },
  {
   "cell_type": "code",
   "execution_count": 131,
   "metadata": {
    "scrolled": true
   },
   "outputs": [],
   "source": [
    "joined = df.join(personal.set_index('name'), on='name') # join other train and personal train on name"
   ]
  },
  {
   "cell_type": "code",
   "execution_count": 132,
   "metadata": {},
   "outputs": [],
   "source": [
    "del joined['address'] # we can also erase disgusting address column, because we have it in detail from personal train"
   ]
  },
  {
   "cell_type": "code",
   "execution_count": 133,
   "metadata": {
    "scrolled": true
   },
   "outputs": [
    {
     "data": {
      "text/html": [
       "<div>\n",
       "<style scoped>\n",
       "    .dataframe tbody tr th:only-of-type {\n",
       "        vertical-align: middle;\n",
       "    }\n",
       "\n",
       "    .dataframe tbody tr th {\n",
       "        vertical-align: top;\n",
       "    }\n",
       "\n",
       "    .dataframe thead th {\n",
       "        text-align: right;\n",
       "    }\n",
       "</style>\n",
       "<table border=\"1\" class=\"dataframe\">\n",
       "  <thead>\n",
       "    <tr style=\"text-align: right;\">\n",
       "      <th></th>\n",
       "      <th>name</th>\n",
       "      <th>race</th>\n",
       "      <th>marital-status</th>\n",
       "      <th>occupation</th>\n",
       "      <th>pregnant</th>\n",
       "      <th>education-num</th>\n",
       "      <th>relationship</th>\n",
       "      <th>skewness_glucose</th>\n",
       "      <th>mean_glucose</th>\n",
       "      <th>capital-gain</th>\n",
       "      <th>...</th>\n",
       "      <th>mean_oxygen</th>\n",
       "      <th>std_oxygen</th>\n",
       "      <th>kurtosis_oxygen</th>\n",
       "      <th>skewness_oxygen</th>\n",
       "      <th>age</th>\n",
       "      <th>sex</th>\n",
       "      <th>date_of_birth</th>\n",
       "      <th>street</th>\n",
       "      <th>city</th>\n",
       "      <th>zip_code</th>\n",
       "    </tr>\n",
       "  </thead>\n",
       "  <tbody>\n",
       "    <tr>\n",
       "      <th>0</th>\n",
       "      <td>David Hayes</td>\n",
       "      <td>Black</td>\n",
       "      <td>NaN</td>\n",
       "      <td>Prof-specialty</td>\n",
       "      <td>False</td>\n",
       "      <td>5.0</td>\n",
       "      <td>Not-in-family</td>\n",
       "      <td>-0.197692</td>\n",
       "      <td>141.359375</td>\n",
       "      <td>0.0</td>\n",
       "      <td>...</td>\n",
       "      <td>4.042642</td>\n",
       "      <td>19.456469</td>\n",
       "      <td>6.410765</td>\n",
       "      <td>49.813954</td>\n",
       "      <td>45.0</td>\n",
       "      <td>Female</td>\n",
       "      <td>1974-06-18 00:00:00</td>\n",
       "      <td>235 Jennifer Throughway Suite 569</td>\n",
       "      <td>New Anthonyland</td>\n",
       "      <td>PA 19524</td>\n",
       "    </tr>\n",
       "    <tr>\n",
       "      <th>1</th>\n",
       "      <td>Stanley Benny</td>\n",
       "      <td>White</td>\n",
       "      <td>Married-civ-spouse</td>\n",
       "      <td>Exec-managerial</td>\n",
       "      <td>False</td>\n",
       "      <td>13.0</td>\n",
       "      <td>Husband</td>\n",
       "      <td>16.019670</td>\n",
       "      <td>53.968750</td>\n",
       "      <td>0.0</td>\n",
       "      <td>...</td>\n",
       "      <td>9.294314</td>\n",
       "      <td>35.958174</td>\n",
       "      <td>4.424007</td>\n",
       "      <td>19.868969</td>\n",
       "      <td>42.0</td>\n",
       "      <td>Male</td>\n",
       "      <td>1977-03-12</td>\n",
       "      <td>08954 Johnson Course</td>\n",
       "      <td>New Lauraville</td>\n",
       "      <td>NV 22019</td>\n",
       "    </tr>\n",
       "    <tr>\n",
       "      <th>2</th>\n",
       "      <td>Domingo Labriola</td>\n",
       "      <td>Asian-Pac-Islander</td>\n",
       "      <td>Married-civ-spouse</td>\n",
       "      <td>Farming-fishing</td>\n",
       "      <td>False</td>\n",
       "      <td>3.0</td>\n",
       "      <td>Husband</td>\n",
       "      <td>21.803837</td>\n",
       "      <td>2257.812500</td>\n",
       "      <td>0.0</td>\n",
       "      <td>...</td>\n",
       "      <td>138.787625</td>\n",
       "      <td>79.152788</td>\n",
       "      <td>-0.445270</td>\n",
       "      <td>-0.909086</td>\n",
       "      <td>46.0</td>\n",
       "      <td>Male</td>\n",
       "      <td>1973-02-08</td>\n",
       "      <td>36319 Wiley Drive Suite 094</td>\n",
       "      <td>South Michael</td>\n",
       "      <td>WI 41806</td>\n",
       "    </tr>\n",
       "    <tr>\n",
       "      <th>3</th>\n",
       "      <td>Ronnie Moore</td>\n",
       "      <td>White</td>\n",
       "      <td>Never-married</td>\n",
       "      <td>Other-service</td>\n",
       "      <td>False</td>\n",
       "      <td>10.0</td>\n",
       "      <td>Not-in-family</td>\n",
       "      <td>-0.112191</td>\n",
       "      <td>110.046875</td>\n",
       "      <td>0.0</td>\n",
       "      <td>...</td>\n",
       "      <td>3.100334</td>\n",
       "      <td>17.819373</td>\n",
       "      <td>8.434320</td>\n",
       "      <td>85.665564</td>\n",
       "      <td>53.0</td>\n",
       "      <td>Male</td>\n",
       "      <td>1966/05/03</td>\n",
       "      <td>0755 Soto Oval Apt. 443</td>\n",
       "      <td>West Markside</td>\n",
       "      <td>TX 32737</td>\n",
       "    </tr>\n",
       "    <tr>\n",
       "      <th>4</th>\n",
       "      <td>Victor Mcjunkin</td>\n",
       "      <td>White</td>\n",
       "      <td>NaN</td>\n",
       "      <td>Adm-clerical</td>\n",
       "      <td>False</td>\n",
       "      <td>10.0</td>\n",
       "      <td>Not-in-family</td>\n",
       "      <td>-0.309642</td>\n",
       "      <td>137.960938</td>\n",
       "      <td>0.0</td>\n",
       "      <td>...</td>\n",
       "      <td>4.203177</td>\n",
       "      <td>23.949006</td>\n",
       "      <td>6.531796</td>\n",
       "      <td>45.866688</td>\n",
       "      <td>52.0</td>\n",
       "      <td>Female</td>\n",
       "      <td>20/05/1967</td>\n",
       "      <td>95738 Keller Overpass</td>\n",
       "      <td>Kennedyland</td>\n",
       "      <td>MO 71071</td>\n",
       "    </tr>\n",
       "  </tbody>\n",
       "</table>\n",
       "<p>5 rows × 30 columns</p>\n",
       "</div>"
      ],
      "text/plain": [
       "               name                race      marital-status       occupation  \\\n",
       "0       David Hayes               Black                 NaN   Prof-specialty   \n",
       "1     Stanley Benny               White  Married-civ-spouse  Exec-managerial   \n",
       "2  Domingo Labriola  Asian-Pac-Islander  Married-civ-spouse  Farming-fishing   \n",
       "3      Ronnie Moore               White       Never-married    Other-service   \n",
       "4   Victor Mcjunkin               White                 NaN     Adm-clerical   \n",
       "\n",
       "  pregnant  education-num   relationship  skewness_glucose  mean_glucose  \\\n",
       "0    False            5.0  Not-in-family         -0.197692    141.359375   \n",
       "1    False           13.0        Husband         16.019670     53.968750   \n",
       "2    False            3.0        Husband         21.803837   2257.812500   \n",
       "3    False           10.0  Not-in-family         -0.112191    110.046875   \n",
       "4    False           10.0  Not-in-family         -0.309642    137.960938   \n",
       "\n",
       "   capital-gain  ...  mean_oxygen std_oxygen  kurtosis_oxygen  \\\n",
       "0           0.0  ...     4.042642  19.456469         6.410765   \n",
       "1           0.0  ...     9.294314  35.958174         4.424007   \n",
       "2           0.0  ...   138.787625  79.152788        -0.445270   \n",
       "3           0.0  ...     3.100334  17.819373         8.434320   \n",
       "4           0.0  ...     4.203177  23.949006         6.531796   \n",
       "\n",
       "   skewness_oxygen   age      sex        date_of_birth  \\\n",
       "0        49.813954  45.0   Female  1974-06-18 00:00:00   \n",
       "1        19.868969  42.0     Male           1977-03-12   \n",
       "2        -0.909086  46.0     Male           1973-02-08   \n",
       "3        85.665564  53.0     Male           1966/05/03   \n",
       "4        45.866688  52.0   Female           20/05/1967   \n",
       "\n",
       "                              street              city   zip_code  \n",
       "0  235 Jennifer Throughway Suite 569   New Anthonyland   PA 19524  \n",
       "1               08954 Johnson Course    New Lauraville   NV 22019  \n",
       "2        36319 Wiley Drive Suite 094     South Michael   WI 41806  \n",
       "3            0755 Soto Oval Apt. 443     West Markside   TX 32737  \n",
       "4              95738 Keller Overpass       Kennedyland   MO 71071  \n",
       "\n",
       "[5 rows x 30 columns]"
      ]
     },
     "execution_count": 133,
     "metadata": {},
     "output_type": "execute_result"
    }
   ],
   "source": [
    "joined.head()"
   ]
  },
  {
   "cell_type": "markdown",
   "metadata": {},
   "source": [
    "# Hypothesis 1: Prof-specialty has bigger education number than Craft-repair"
   ]
  },
  {
   "cell_type": "code",
   "execution_count": 139,
   "metadata": {},
   "outputs": [
    {
     "data": {
      "text/plain": [
       "<matplotlib.axes._subplots.AxesSubplot at 0x22c240ba7c0>"
      ]
     },
     "execution_count": 139,
     "metadata": {},
     "output_type": "execute_result"
    },
    {
     "data": {
      "image/png": "[encoded data removed]",
      "text/plain": [
       "<Figure size 432x288 with 1 Axes>"
      ]
     },
     "metadata": {
      "needs_background": "light"
     },
     "output_type": "display_data"
    }
   ],
   "source": [
    "sns.boxplot('education-num', 'occupation', data=joined)"
   ]
  },
  {
   "cell_type": "code",
   "execution_count": 152,
   "metadata": {},
   "outputs": [],
   "source": [
    "prof = joined.loc[joined.occupation == \"Prof-specialty\", 'education-num']\n",
    "craft = joined.loc[joined.occupation == \"Craft-repair\", 'education-num']"
   ]
  },
  {
   "cell_type": "markdown",
   "metadata": {},
   "source": [
    "Deleting NaN values"
   ]
  },
  {
   "cell_type": "code",
   "execution_count": 166,
   "metadata": {},
   "outputs": [],
   "source": [
    "nan_value = float(\"NaN\")\n",
    "prof.dropna()\n",
    "craft = craft.apply (pd.to_numeric, errors='coerce')\n",
    "prof = prof.apply (pd.to_numeric, errors='coerce')\n",
    "prof.replace(\"\", nan_value, inplace=True)"
   ]
  },
  {
   "cell_type": "code",
   "execution_count": 167,
   "metadata": {},
   "outputs": [],
   "source": [
    "craft.dropna(how='any', inplace=True)\n",
    "craft = craft.reset_index(drop=True)\n",
    "prof.dropna(how='any', inplace=True)\n",
    "prof = prof.reset_index(drop=True)"
   ]
  },
  {
   "cell_type": "code",
   "execution_count": 168,
   "metadata": {},
   "outputs": [
    {
     "data": {
      "text/plain": [
       "<matplotlib.axes._subplots.AxesSubplot at 0x22c25071ca0>"
      ]
     },
     "execution_count": 168,
     "metadata": {},
     "output_type": "execute_result"
    },
    {
     "data": {
      "image/png": "[encoded data removed]",
      "text/plain": [
       "<Figure size 432x288 with 1 Axes>"
      ]
     },
     "metadata": {
      "needs_background": "light"
     },
     "output_type": "display_data"
    }
   ],
   "source": [
    "sns.distplot(prof)"
   ]
  },
  {
   "cell_type": "code",
   "execution_count": 169,
   "metadata": {},
   "outputs": [
    {
     "data": {
      "text/plain": [
       "<matplotlib.axes._subplots.AxesSubplot at 0x22c25071b20>"
      ]
     },
     "execution_count": 169,
     "metadata": {},
     "output_type": "execute_result"
    },
    {
     "data": {
      "image/png": "[encoded data removed]",
      "text/plain": [
       "<Figure size 432x288 with 1 Axes>"
      ]
     },
     "metadata": {
      "needs_background": "light"
     },
     "output_type": "display_data"
    }
   ],
   "source": [
    "sns.distplot(craft)"
   ]
  },
  {
   "cell_type": "code",
   "execution_count": 170,
   "metadata": {},
   "outputs": [
    {
     "data": {
      "image/png": "[encoded data removed]",
      "text/plain": [
       "<Figure size 432x288 with 1 Axes>"
      ]
     },
     "metadata": {
      "needs_background": "light"
     },
     "output_type": "display_data"
    }
   ],
   "source": [
    "import statsmodels.api as sm\n",
    "import statsmodels.stats.api as sms\n",
    "_ = sm.ProbPlot(prof, fit=True).qqplot(line='45')"
   ]
  },
  {
   "cell_type": "code",
   "execution_count": 171,
   "metadata": {},
   "outputs": [
    {
     "data": {
      "image/png": "[encoded data removed]",
      "text/plain": [
       "<Figure size 432x288 with 1 Axes>"
      ]
     },
     "metadata": {
      "needs_background": "light"
     },
     "output_type": "display_data"
    }
   ],
   "source": [
    "_ = sm.ProbPlot(craft, fit=True).qqplot(line='45')"
   ]
  },
  {
   "cell_type": "code",
   "execution_count": 185,
   "metadata": {},
   "outputs": [
    {
     "data": {
      "text/plain": [
       "True"
      ]
     },
     "execution_count": 185,
     "metadata": {},
     "output_type": "execute_result"
    }
   ],
   "source": [
    "stats.shapiro(prof)\n",
    "stats.shapiro(prof).pvalue < 0.05"
   ]
  },
  {
   "cell_type": "code",
   "execution_count": 186,
   "metadata": {},
   "outputs": [
    {
     "data": {
      "text/plain": [
       "True"
      ]
     },
     "execution_count": 186,
     "metadata": {},
     "output_type": "execute_result"
    }
   ],
   "source": [
    "stats.shapiro(craft)\n",
    "stats.shapiro(craft).pvalue < 0.05"
   ]
  },
  {
   "cell_type": "code",
   "execution_count": 176,
   "metadata": {},
   "outputs": [
    {
     "data": {
      "text/plain": [
       "LeveneResult(statistic=0.022422528548436682, pvalue=0.8809984890742923)"
      ]
     },
     "execution_count": 176,
     "metadata": {},
     "output_type": "execute_result"
    }
   ],
   "source": [
    "stats.levene(prof, craft)"
   ]
  },
  {
   "cell_type": "code",
   "execution_count": 178,
   "metadata": {},
   "outputs": [
    {
     "data": {
      "text/plain": [
       "MannwhitneyuResult(statistic=20024.5, pvalue=9.521682387651138e-123)"
      ]
     },
     "execution_count": 178,
     "metadata": {},
     "output_type": "execute_result"
    }
   ],
   "source": [
    "stats.mannwhitneyu(prof, craft) "
   ]
  },
  {
   "cell_type": "markdown",
   "metadata": {},
   "source": [
    "Rozdiel medzi education-num pre prof-specialty a craft-repair je signifikantny "
   ]
  },
  {
   "cell_type": "code",
   "execution_count": 179,
   "metadata": {},
   "outputs": [
    {
     "data": {
      "text/plain": [
       "<matplotlib.axes._subplots.AxesSubplot at 0x22c262c4700>"
      ]
     },
     "execution_count": 179,
     "metadata": {},
     "output_type": "execute_result"
    },
    {
     "data": {
      "image/png": "[encoded data removed]",
      "text/plain": [
       "<Figure size 432x288 with 1 Axes>"
      ]
     },
     "metadata": {
      "needs_background": "light"
     },
     "output_type": "display_data"
    }
   ],
   "source": [
    "sns.barplot(x='occupation', y='education-num', data=joined[(joined.occupation == 'Prof-specialty') | (joined.occupation == 'Craft-repair')], \n",
    "            capsize=0.1, errwidth=2, palette=sns.color_palette(\"Blues\"))"
   ]
  },
  {
   "cell_type": "markdown",
   "metadata": {},
   "source": [
    "# Hypothesis 2: More educated people have higher income"
   ]
  },
  {
   "cell_type": "code",
   "execution_count": 237,
   "metadata": {},
   "outputs": [
    {
     "data": {
      "text/plain": [
       "<matplotlib.axes._subplots.AxesSubplot at 0x22c944828b0>"
      ]
     },
     "execution_count": 237,
     "metadata": {},
     "output_type": "execute_result"
    },
    {
     "data": {
      "image/png": "[encoded data removed]",
      "text/plain": [
       "<Figure size 432x288 with 1 Axes>"
      ]
     },
     "metadata": {
      "needs_background": "light"
     },
     "output_type": "display_data"
    }
   ],
   "source": [
    "sns.boxplot('education-num', 'income', data=joined)"
   ]
  },
  {
   "cell_type": "code",
   "execution_count": 239,
   "metadata": {},
   "outputs": [],
   "source": [
    "poor = joined.loc[joined.income == \"<=50K\", 'education-num']\n",
    "rich = joined.loc[joined.income == \">50K\", 'education-num']"
   ]
  },
  {
   "cell_type": "code",
   "execution_count": 241,
   "metadata": {},
   "outputs": [],
   "source": [
    "nan_value = float(\"NaN\")\n",
    "poor.dropna()\n",
    "rich = rich.apply (pd.to_numeric, errors='coerce')\n",
    "poor = poor.apply (pd.to_numeric, errors='coerce')\n",
    "poor.replace(\"\", nan_value, inplace=True)"
   ]
  },
  {
   "cell_type": "code",
   "execution_count": 242,
   "metadata": {},
   "outputs": [],
   "source": [
    "rich.dropna(how='any', inplace=True)\n",
    "rich = rich.reset_index(drop=True)\n",
    "poor.dropna(how='any', inplace=True)\n",
    "poor = poor.reset_index(drop=True)"
   ]
  },
  {
   "cell_type": "code",
   "execution_count": 243,
   "metadata": {},
   "outputs": [
    {
     "data": {
      "text/plain": [
       "<matplotlib.axes._subplots.AxesSubplot at 0x22c95ae7610>"
      ]
     },
     "execution_count": 243,
     "metadata": {},
     "output_type": "execute_result"
    },
    {
     "data": {
      "image/png": "[encoded data removed]",
      "text/plain": [
       "<Figure size 432x288 with 1 Axes>"
      ]
     },
     "metadata": {
      "needs_background": "light"
     },
     "output_type": "display_data"
    }
   ],
   "source": [
    "sns.distplot(poor)"
   ]
  },
  {
   "cell_type": "code",
   "execution_count": 244,
   "metadata": {},
   "outputs": [
    {
     "data": {
      "text/plain": [
       "<matplotlib.axes._subplots.AxesSubplot at 0x22c95ff63d0>"
      ]
     },
     "execution_count": 244,
     "metadata": {},
     "output_type": "execute_result"
    },
    {
     "data": {
      "image/png": "[encoded data removed]",
      "text/plain": [
       "<Figure size 432x288 with 1 Axes>"
      ]
     },
     "metadata": {
      "needs_background": "light"
     },
     "output_type": "display_data"
    }
   ],
   "source": [
    "sns.distplot(rich)"
   ]
  },
  {
   "cell_type": "code",
   "execution_count": 245,
   "metadata": {},
   "outputs": [
    {
     "data": {
      "image/png": "[encoded data removed]",
      "text/plain": [
       "<Figure size 432x288 with 1 Axes>"
      ]
     },
     "metadata": {
      "needs_background": "light"
     },
     "output_type": "display_data"
    }
   ],
   "source": [
    "_ = sm.ProbPlot(poor, fit=True).qqplot(line='45')"
   ]
  },
  {
   "cell_type": "code",
   "execution_count": 247,
   "metadata": {},
   "outputs": [
    {
     "data": {
      "image/png": "[encoded data removed]",
      "text/plain": [
       "<Figure size 432x288 with 1 Axes>"
      ]
     },
     "metadata": {
      "needs_background": "light"
     },
     "output_type": "display_data"
    }
   ],
   "source": [
    "_ = sm.ProbPlot(rich, fit=True).qqplot(line='45')"
   ]
  },
  {
   "cell_type": "code",
   "execution_count": 253,
   "metadata": {},
   "outputs": [
    {
     "data": {
      "text/plain": [
       "ShapiroResult(statistic=0.9127867817878723, pvalue=2.4707834652821607e-38)"
      ]
     },
     "execution_count": 253,
     "metadata": {},
     "output_type": "execute_result"
    }
   ],
   "source": [
    "stats.shapiro(poor)"
   ]
  },
  {
   "cell_type": "code",
   "execution_count": 254,
   "metadata": {},
   "outputs": [
    {
     "data": {
      "text/plain": [
       "True"
      ]
     },
     "execution_count": 254,
     "metadata": {},
     "output_type": "execute_result"
    }
   ],
   "source": [
    "stats.shapiro(poor).pvalue < 0.05"
   ]
  },
  {
   "cell_type": "code",
   "execution_count": 255,
   "metadata": {},
   "outputs": [
    {
     "data": {
      "text/plain": [
       "ShapiroResult(statistic=0.9222409725189209, pvalue=3.6064562263267975e-22)"
      ]
     },
     "execution_count": 255,
     "metadata": {},
     "output_type": "execute_result"
    }
   ],
   "source": [
    "stats.shapiro(rich)"
   ]
  },
  {
   "cell_type": "code",
   "execution_count": 256,
   "metadata": {},
   "outputs": [
    {
     "data": {
      "text/plain": [
       "True"
      ]
     },
     "execution_count": 256,
     "metadata": {},
     "output_type": "execute_result"
    }
   ],
   "source": [
    "stats.shapiro(rich).pvalue < 0.05"
   ]
  },
  {
   "cell_type": "code",
   "execution_count": 258,
   "metadata": {},
   "outputs": [
    {
     "data": {
      "text/plain": [
       "LeveneResult(statistic=20.805011027024538, pvalue=5.238895248836376e-06)"
      ]
     },
     "execution_count": 258,
     "metadata": {},
     "output_type": "execute_result"
    }
   ],
   "source": [
    "stats.levene(poor, rich)"
   ]
  },
  {
   "cell_type": "code",
   "execution_count": 259,
   "metadata": {},
   "outputs": [
    {
     "data": {
      "text/plain": [
       "MannwhitneyuResult(statistic=802523.5, pvalue=7.67084773516636e-107)"
      ]
     },
     "execution_count": 259,
     "metadata": {},
     "output_type": "execute_result"
    }
   ],
   "source": [
    "stats.mannwhitneyu(poor, rich) "
   ]
  },
  {
   "cell_type": "code",
   "execution_count": 260,
   "metadata": {},
   "outputs": [
    {
     "data": {
      "text/plain": [
       "<matplotlib.axes._subplots.AxesSubplot at 0x22c965c5040>"
      ]
     },
     "execution_count": 260,
     "metadata": {},
     "output_type": "execute_result"
    },
    {
     "data": {
      "image/png": "[encoded data removed]",
      "text/plain": [
       "<Figure size 432x288 with 1 Axes>"
      ]
     },
     "metadata": {
      "needs_background": "light"
     },
     "output_type": "display_data"
    }
   ],
   "source": [
    "sns.barplot(x='income', y='education-num', data=joined[(joined.income == '<=50K') | (joined.income == '>50K')], \n",
    "            capsize=0.1, errwidth=2, palette=sns.color_palette(\"Blues\"))"
   ]
  },
  {
   "cell_type": "code",
   "execution_count": null,
   "metadata": {},
   "outputs": [],
   "source": []
  },
  {
   "cell_type": "code",
   "execution_count": 248,
   "metadata": {},
   "outputs": [
    {
     "data": {
      "text/html": [
       "<div>\n",
       "<style scoped>\n",
       "    .dataframe tbody tr th:only-of-type {\n",
       "        vertical-align: middle;\n",
       "    }\n",
       "\n",
       "    .dataframe tbody tr th {\n",
       "        vertical-align: top;\n",
       "    }\n",
       "\n",
       "    .dataframe thead th {\n",
       "        text-align: right;\n",
       "    }\n",
       "</style>\n",
       "<table border=\"1\" class=\"dataframe\">\n",
       "  <thead>\n",
       "    <tr style=\"text-align: right;\">\n",
       "      <th></th>\n",
       "      <th>name</th>\n",
       "      <th>address</th>\n",
       "      <th>race</th>\n",
       "      <th>marital-status</th>\n",
       "      <th>occupation</th>\n",
       "      <th>pregnant</th>\n",
       "      <th>education-num</th>\n",
       "      <th>relationship</th>\n",
       "      <th>skewness_glucose</th>\n",
       "      <th>mean_glucose</th>\n",
       "      <th>...</th>\n",
       "      <th>std_glucose</th>\n",
       "      <th>income</th>\n",
       "      <th>native-country</th>\n",
       "      <th>hours-per-week</th>\n",
       "      <th>capital-loss</th>\n",
       "      <th>workclass</th>\n",
       "      <th>mean_oxygen</th>\n",
       "      <th>std_oxygen</th>\n",
       "      <th>kurtosis_oxygen</th>\n",
       "      <th>skewness_oxygen</th>\n",
       "    </tr>\n",
       "  </thead>\n",
       "  <tbody>\n",
       "    <tr>\n",
       "      <th>0</th>\n",
       "      <td>David Hayes</td>\n",
       "      <td>235 Jennifer Throughway Suite 569\\r\\nNew Antho...</td>\n",
       "      <td>Black</td>\n",
       "      <td>NaN</td>\n",
       "      <td>Prof-specialty</td>\n",
       "      <td>False</td>\n",
       "      <td>5.0</td>\n",
       "      <td>Not-in-family</td>\n",
       "      <td>-0.197692</td>\n",
       "      <td>141.359375</td>\n",
       "      <td>...</td>\n",
       "      <td>49.842053</td>\n",
       "      <td>&lt;=50K</td>\n",
       "      <td>United-States</td>\n",
       "      <td>40.0</td>\n",
       "      <td>0.0</td>\n",
       "      <td>Private</td>\n",
       "      <td>4.042642</td>\n",
       "      <td>19.456469</td>\n",
       "      <td>6.410765</td>\n",
       "      <td>49.813954</td>\n",
       "    </tr>\n",
       "    <tr>\n",
       "      <th>1</th>\n",
       "      <td>Stanley Benny</td>\n",
       "      <td>08954 Johnson Course\\r\\nNew Lauraville, NV 22019</td>\n",
       "      <td>White</td>\n",
       "      <td>Married-civ-spouse</td>\n",
       "      <td>Exec-managerial</td>\n",
       "      <td>False</td>\n",
       "      <td>13.0</td>\n",
       "      <td>Husband</td>\n",
       "      <td>16.019670</td>\n",
       "      <td>53.968750</td>\n",
       "      <td>...</td>\n",
       "      <td>31.900220</td>\n",
       "      <td>&gt;50K</td>\n",
       "      <td>United-States</td>\n",
       "      <td>40.0</td>\n",
       "      <td>0.0</td>\n",
       "      <td>Private</td>\n",
       "      <td>9.294314</td>\n",
       "      <td>35.958174</td>\n",
       "      <td>4.424007</td>\n",
       "      <td>19.868969</td>\n",
       "    </tr>\n",
       "    <tr>\n",
       "      <th>2</th>\n",
       "      <td>Domingo Labriola</td>\n",
       "      <td>36319 Wiley Drive Suite 094\\r\\nSouth Michael, ...</td>\n",
       "      <td>Asian-Pac-Islander</td>\n",
       "      <td>Married-civ-spouse</td>\n",
       "      <td>Farming-fishing</td>\n",
       "      <td>False</td>\n",
       "      <td>3.0</td>\n",
       "      <td>Husband</td>\n",
       "      <td>21.803837</td>\n",
       "      <td>2257.812500</td>\n",
       "      <td>...</td>\n",
       "      <td>35.793158</td>\n",
       "      <td>&lt;=50K</td>\n",
       "      <td>Philippines</td>\n",
       "      <td>40.0</td>\n",
       "      <td>0.0</td>\n",
       "      <td>Private</td>\n",
       "      <td>138.787625</td>\n",
       "      <td>79.152788</td>\n",
       "      <td>-0.445270</td>\n",
       "      <td>-0.909086</td>\n",
       "    </tr>\n",
       "    <tr>\n",
       "      <th>3</th>\n",
       "      <td>Ronnie Moore</td>\n",
       "      <td>0755 Soto Oval Apt. 443\\r\\nWest Markside, TX 3...</td>\n",
       "      <td>White</td>\n",
       "      <td>Never-married</td>\n",
       "      <td>Other-service</td>\n",
       "      <td>False</td>\n",
       "      <td>10.0</td>\n",
       "      <td>Not-in-family</td>\n",
       "      <td>-0.112191</td>\n",
       "      <td>110.046875</td>\n",
       "      <td>...</td>\n",
       "      <td>53.876575</td>\n",
       "      <td>&lt;=50K</td>\n",
       "      <td>United-States</td>\n",
       "      <td>40.0</td>\n",
       "      <td>0.0</td>\n",
       "      <td>Private</td>\n",
       "      <td>3.100334</td>\n",
       "      <td>17.819373</td>\n",
       "      <td>8.434320</td>\n",
       "      <td>85.665564</td>\n",
       "    </tr>\n",
       "    <tr>\n",
       "      <th>4</th>\n",
       "      <td>Victor Mcjunkin</td>\n",
       "      <td>95738 Keller Overpass\\r\\nKennedyland, MO 71071</td>\n",
       "      <td>White</td>\n",
       "      <td>NaN</td>\n",
       "      <td>Adm-clerical</td>\n",
       "      <td>False</td>\n",
       "      <td>10.0</td>\n",
       "      <td>Not-in-family</td>\n",
       "      <td>-0.309642</td>\n",
       "      <td>137.960938</td>\n",
       "      <td>...</td>\n",
       "      <td>51.885451</td>\n",
       "      <td>&lt;=50K</td>\n",
       "      <td>United-States</td>\n",
       "      <td>40.0</td>\n",
       "      <td>0.0</td>\n",
       "      <td>Private</td>\n",
       "      <td>4.203177</td>\n",
       "      <td>23.949006</td>\n",
       "      <td>6.531796</td>\n",
       "      <td>45.866688</td>\n",
       "    </tr>\n",
       "  </tbody>\n",
       "</table>\n",
       "<p>5 rows × 25 columns</p>\n",
       "</div>"
      ],
      "text/plain": [
       "               name                                            address  \\\n",
       "0       David Hayes  235 Jennifer Throughway Suite 569\\r\\nNew Antho...   \n",
       "1     Stanley Benny   08954 Johnson Course\\r\\nNew Lauraville, NV 22019   \n",
       "2  Domingo Labriola  36319 Wiley Drive Suite 094\\r\\nSouth Michael, ...   \n",
       "3      Ronnie Moore  0755 Soto Oval Apt. 443\\r\\nWest Markside, TX 3...   \n",
       "4   Victor Mcjunkin     95738 Keller Overpass\\r\\nKennedyland, MO 71071   \n",
       "\n",
       "                 race      marital-status       occupation pregnant  \\\n",
       "0               Black                 NaN   Prof-specialty    False   \n",
       "1               White  Married-civ-spouse  Exec-managerial    False   \n",
       "2  Asian-Pac-Islander  Married-civ-spouse  Farming-fishing    False   \n",
       "3               White       Never-married    Other-service    False   \n",
       "4               White                 NaN     Adm-clerical    False   \n",
       "\n",
       "   education-num   relationship  skewness_glucose  mean_glucose  ...  \\\n",
       "0            5.0  Not-in-family         -0.197692    141.359375  ...   \n",
       "1           13.0        Husband         16.019670     53.968750  ...   \n",
       "2            3.0        Husband         21.803837   2257.812500  ...   \n",
       "3           10.0  Not-in-family         -0.112191    110.046875  ...   \n",
       "4           10.0  Not-in-family         -0.309642    137.960938  ...   \n",
       "\n",
       "   std_glucose  income native-country  hours-per-week  capital-loss  \\\n",
       "0    49.842053   <=50K  United-States            40.0           0.0   \n",
       "1    31.900220    >50K  United-States            40.0           0.0   \n",
       "2    35.793158   <=50K    Philippines            40.0           0.0   \n",
       "3    53.876575   <=50K  United-States            40.0           0.0   \n",
       "4    51.885451   <=50K  United-States            40.0           0.0   \n",
       "\n",
       "   workclass mean_oxygen std_oxygen  kurtosis_oxygen  skewness_oxygen  \n",
       "0    Private    4.042642  19.456469         6.410765        49.813954  \n",
       "1    Private    9.294314  35.958174         4.424007        19.868969  \n",
       "2    Private  138.787625  79.152788        -0.445270        -0.909086  \n",
       "3    Private    3.100334  17.819373         8.434320        85.665564  \n",
       "4    Private    4.203177  23.949006         6.531796        45.866688  \n",
       "\n",
       "[5 rows x 25 columns]"
      ]
     },
     "execution_count": 248,
     "metadata": {},
     "output_type": "execute_result"
    }
   ],
   "source": [
    "joined_dataframe = df\n",
    "\n",
    "for column_name in df2.columns:\n",
    "    joined_dataframe[column_name] = df2[column_name]\n",
    "    \n",
    "joined_dataframe.head()"
   ]
  },
  {
   "cell_type": "code",
   "execution_count": 249,
   "metadata": {},
   "outputs": [
    {
     "ename": "KeyError",
     "evalue": "'[0] not found in axis'",
     "output_type": "error",
     "traceback": [
      "\u001b[1;31m---------------------------------------------------------------------------\u001b[0m",
      "\u001b[1;31mKeyError\u001b[0m                                  Traceback (most recent call last)",
      "\u001b[1;32m<ipython-input-249-df86e128908e>\u001b[0m in \u001b[0;36m<module>\u001b[1;34m\u001b[0m\n\u001b[1;32m----> 1\u001b[1;33m \u001b[0mjoined_dataframe\u001b[0m \u001b[1;33m=\u001b[0m \u001b[0mjoined_dataframe\u001b[0m\u001b[1;33m.\u001b[0m\u001b[0mdrop\u001b[0m\u001b[1;33m(\u001b[0m\u001b[0mcolumns\u001b[0m\u001b[1;33m=\u001b[0m\u001b[1;33m[\u001b[0m\u001b[1;36m0\u001b[0m\u001b[1;33m]\u001b[0m\u001b[1;33m)\u001b[0m\u001b[1;33m\u001b[0m\u001b[1;33m\u001b[0m\u001b[0m\n\u001b[0m",
      "\u001b[1;32m~\\anaconda3\\lib\\site-packages\\pandas\\core\\frame.py\u001b[0m in \u001b[0;36mdrop\u001b[1;34m(self, labels, axis, index, columns, level, inplace, errors)\u001b[0m\n\u001b[0;32m   3988\u001b[0m                 \u001b[0mweight\u001b[0m  \u001b[1;36m1.0\u001b[0m     \u001b[1;36m0.8\u001b[0m\u001b[1;33m\u001b[0m\u001b[1;33m\u001b[0m\u001b[0m\n\u001b[0;32m   3989\u001b[0m         \"\"\"\n\u001b[1;32m-> 3990\u001b[1;33m         return super().drop(\n\u001b[0m\u001b[0;32m   3991\u001b[0m             \u001b[0mlabels\u001b[0m\u001b[1;33m=\u001b[0m\u001b[0mlabels\u001b[0m\u001b[1;33m,\u001b[0m\u001b[1;33m\u001b[0m\u001b[1;33m\u001b[0m\u001b[0m\n\u001b[0;32m   3992\u001b[0m             \u001b[0maxis\u001b[0m\u001b[1;33m=\u001b[0m\u001b[0maxis\u001b[0m\u001b[1;33m,\u001b[0m\u001b[1;33m\u001b[0m\u001b[1;33m\u001b[0m\u001b[0m\n",
      "\u001b[1;32m~\\anaconda3\\lib\\site-packages\\pandas\\core\\generic.py\u001b[0m in \u001b[0;36mdrop\u001b[1;34m(self, labels, axis, index, columns, level, inplace, errors)\u001b[0m\n\u001b[0;32m   3934\u001b[0m         \u001b[1;32mfor\u001b[0m \u001b[0maxis\u001b[0m\u001b[1;33m,\u001b[0m \u001b[0mlabels\u001b[0m \u001b[1;32min\u001b[0m \u001b[0maxes\u001b[0m\u001b[1;33m.\u001b[0m\u001b[0mitems\u001b[0m\u001b[1;33m(\u001b[0m\u001b[1;33m)\u001b[0m\u001b[1;33m:\u001b[0m\u001b[1;33m\u001b[0m\u001b[1;33m\u001b[0m\u001b[0m\n\u001b[0;32m   3935\u001b[0m             \u001b[1;32mif\u001b[0m \u001b[0mlabels\u001b[0m \u001b[1;32mis\u001b[0m \u001b[1;32mnot\u001b[0m \u001b[1;32mNone\u001b[0m\u001b[1;33m:\u001b[0m\u001b[1;33m\u001b[0m\u001b[1;33m\u001b[0m\u001b[0m\n\u001b[1;32m-> 3936\u001b[1;33m                 \u001b[0mobj\u001b[0m \u001b[1;33m=\u001b[0m \u001b[0mobj\u001b[0m\u001b[1;33m.\u001b[0m\u001b[0m_drop_axis\u001b[0m\u001b[1;33m(\u001b[0m\u001b[0mlabels\u001b[0m\u001b[1;33m,\u001b[0m \u001b[0maxis\u001b[0m\u001b[1;33m,\u001b[0m \u001b[0mlevel\u001b[0m\u001b[1;33m=\u001b[0m\u001b[0mlevel\u001b[0m\u001b[1;33m,\u001b[0m \u001b[0merrors\u001b[0m\u001b[1;33m=\u001b[0m\u001b[0merrors\u001b[0m\u001b[1;33m)\u001b[0m\u001b[1;33m\u001b[0m\u001b[1;33m\u001b[0m\u001b[0m\n\u001b[0m\u001b[0;32m   3937\u001b[0m \u001b[1;33m\u001b[0m\u001b[0m\n\u001b[0;32m   3938\u001b[0m         \u001b[1;32mif\u001b[0m \u001b[0minplace\u001b[0m\u001b[1;33m:\u001b[0m\u001b[1;33m\u001b[0m\u001b[1;33m\u001b[0m\u001b[0m\n",
      "\u001b[1;32m~\\anaconda3\\lib\\site-packages\\pandas\\core\\generic.py\u001b[0m in \u001b[0;36m_drop_axis\u001b[1;34m(self, labels, axis, level, errors)\u001b[0m\n\u001b[0;32m   3968\u001b[0m                 \u001b[0mnew_axis\u001b[0m \u001b[1;33m=\u001b[0m \u001b[0maxis\u001b[0m\u001b[1;33m.\u001b[0m\u001b[0mdrop\u001b[0m\u001b[1;33m(\u001b[0m\u001b[0mlabels\u001b[0m\u001b[1;33m,\u001b[0m \u001b[0mlevel\u001b[0m\u001b[1;33m=\u001b[0m\u001b[0mlevel\u001b[0m\u001b[1;33m,\u001b[0m \u001b[0merrors\u001b[0m\u001b[1;33m=\u001b[0m\u001b[0merrors\u001b[0m\u001b[1;33m)\u001b[0m\u001b[1;33m\u001b[0m\u001b[1;33m\u001b[0m\u001b[0m\n\u001b[0;32m   3969\u001b[0m             \u001b[1;32melse\u001b[0m\u001b[1;33m:\u001b[0m\u001b[1;33m\u001b[0m\u001b[1;33m\u001b[0m\u001b[0m\n\u001b[1;32m-> 3970\u001b[1;33m                 \u001b[0mnew_axis\u001b[0m \u001b[1;33m=\u001b[0m \u001b[0maxis\u001b[0m\u001b[1;33m.\u001b[0m\u001b[0mdrop\u001b[0m\u001b[1;33m(\u001b[0m\u001b[0mlabels\u001b[0m\u001b[1;33m,\u001b[0m \u001b[0merrors\u001b[0m\u001b[1;33m=\u001b[0m\u001b[0merrors\u001b[0m\u001b[1;33m)\u001b[0m\u001b[1;33m\u001b[0m\u001b[1;33m\u001b[0m\u001b[0m\n\u001b[0m\u001b[0;32m   3971\u001b[0m             \u001b[0mresult\u001b[0m \u001b[1;33m=\u001b[0m \u001b[0mself\u001b[0m\u001b[1;33m.\u001b[0m\u001b[0mreindex\u001b[0m\u001b[1;33m(\u001b[0m\u001b[1;33m**\u001b[0m\u001b[1;33m{\u001b[0m\u001b[0maxis_name\u001b[0m\u001b[1;33m:\u001b[0m \u001b[0mnew_axis\u001b[0m\u001b[1;33m}\u001b[0m\u001b[1;33m)\u001b[0m\u001b[1;33m\u001b[0m\u001b[1;33m\u001b[0m\u001b[0m\n\u001b[0;32m   3972\u001b[0m \u001b[1;33m\u001b[0m\u001b[0m\n",
      "\u001b[1;32m~\\anaconda3\\lib\\site-packages\\pandas\\core\\indexes\\base.py\u001b[0m in \u001b[0;36mdrop\u001b[1;34m(self, labels, errors)\u001b[0m\n\u001b[0;32m   5016\u001b[0m         \u001b[1;32mif\u001b[0m \u001b[0mmask\u001b[0m\u001b[1;33m.\u001b[0m\u001b[0many\u001b[0m\u001b[1;33m(\u001b[0m\u001b[1;33m)\u001b[0m\u001b[1;33m:\u001b[0m\u001b[1;33m\u001b[0m\u001b[1;33m\u001b[0m\u001b[0m\n\u001b[0;32m   5017\u001b[0m             \u001b[1;32mif\u001b[0m \u001b[0merrors\u001b[0m \u001b[1;33m!=\u001b[0m \u001b[1;34m\"ignore\"\u001b[0m\u001b[1;33m:\u001b[0m\u001b[1;33m\u001b[0m\u001b[1;33m\u001b[0m\u001b[0m\n\u001b[1;32m-> 5018\u001b[1;33m                 \u001b[1;32mraise\u001b[0m \u001b[0mKeyError\u001b[0m\u001b[1;33m(\u001b[0m\u001b[1;34mf\"{labels[mask]} not found in axis\"\u001b[0m\u001b[1;33m)\u001b[0m\u001b[1;33m\u001b[0m\u001b[1;33m\u001b[0m\u001b[0m\n\u001b[0m\u001b[0;32m   5019\u001b[0m             \u001b[0mindexer\u001b[0m \u001b[1;33m=\u001b[0m \u001b[0mindexer\u001b[0m\u001b[1;33m[\u001b[0m\u001b[1;33m~\u001b[0m\u001b[0mmask\u001b[0m\u001b[1;33m]\u001b[0m\u001b[1;33m\u001b[0m\u001b[1;33m\u001b[0m\u001b[0m\n\u001b[0;32m   5020\u001b[0m         \u001b[1;32mreturn\u001b[0m \u001b[0mself\u001b[0m\u001b[1;33m.\u001b[0m\u001b[0mdelete\u001b[0m\u001b[1;33m(\u001b[0m\u001b[0mindexer\u001b[0m\u001b[1;33m)\u001b[0m\u001b[1;33m\u001b[0m\u001b[1;33m\u001b[0m\u001b[0m\n",
      "\u001b[1;31mKeyError\u001b[0m: '[0] not found in axis'"
     ]
    }
   ],
   "source": [
    "joined_dataframe = joined_dataframe.drop(columns=[0])"
   ]
  },
  {
   "cell_type": "code",
   "execution_count": 70,
   "metadata": {},
   "outputs": [],
   "source": [
    "joined_dataframe['mean_oxygen'] = pd.to_numeric(joined_dataframe['mean_oxygen'])"
   ]
  },
  {
   "cell_type": "code",
   "execution_count": 71,
   "metadata": {},
   "outputs": [
    {
     "name": "stdout",
     "output_type": "stream",
     "text": [
      "131\n",
      "232\n",
      "318\n",
      "680\n",
      "869\n",
      "1171\n",
      "1678\n",
      "1741\n",
      "1991\n",
      "2115\n",
      "2197\n",
      "2327\n",
      "3064\n",
      "3068\n",
      "3691\n",
      "3712\n"
     ]
    }
   ],
   "source": [
    "count = 0\n",
    "\n",
    "for _, column_data in df['medical_info'].iteritems():\n",
    "    if not isinstance(column_data, str):\n",
    "        print(count)\n",
    "    count = count + 1"
   ]
  },
  {
   "cell_type": "code",
   "execution_count": 72,
   "metadata": {},
   "outputs": [
    {
     "name": "stdout",
     "output_type": "stream",
     "text": [
      "0\n"
     ]
    },
    {
     "ename": "AttributeError",
     "evalue": "'float' object has no attribute 'dtype'",
     "output_type": "error",
     "traceback": [
      "\u001b[1;31m---------------------------------------------------------------------------\u001b[0m",
      "\u001b[1;31mAttributeError\u001b[0m                            Traceback (most recent call last)",
      "\u001b[1;32m<ipython-input-72-8cc8e57327cc>\u001b[0m in \u001b[0;36m<module>\u001b[1;34m\u001b[0m\n\u001b[0;32m      2\u001b[0m \u001b[1;32mfor\u001b[0m \u001b[0m_\u001b[0m\u001b[1;33m,\u001b[0m \u001b[0mcolumn_data\u001b[0m \u001b[1;32min\u001b[0m \u001b[0mjoined_dataframe\u001b[0m\u001b[1;33m[\u001b[0m\u001b[1;34m'mean_oxygen'\u001b[0m\u001b[1;33m]\u001b[0m\u001b[1;33m.\u001b[0m\u001b[0miteritems\u001b[0m\u001b[1;33m(\u001b[0m\u001b[1;33m)\u001b[0m\u001b[1;33m:\u001b[0m\u001b[1;33m\u001b[0m\u001b[1;33m\u001b[0m\u001b[0m\n\u001b[0;32m      3\u001b[0m     \u001b[0mprint\u001b[0m\u001b[1;33m(\u001b[0m\u001b[0mcount\u001b[0m\u001b[1;33m)\u001b[0m\u001b[1;33m\u001b[0m\u001b[1;33m\u001b[0m\u001b[0m\n\u001b[1;32m----> 4\u001b[1;33m     \u001b[0mprint\u001b[0m\u001b[1;33m(\u001b[0m\u001b[0mcolumn_data\u001b[0m\u001b[1;33m.\u001b[0m\u001b[0mdtype\u001b[0m\u001b[1;33m)\u001b[0m\u001b[1;33m\u001b[0m\u001b[1;33m\u001b[0m\u001b[0m\n\u001b[0m\u001b[0;32m      5\u001b[0m     \u001b[0mcount\u001b[0m \u001b[1;33m=\u001b[0m \u001b[0mcount\u001b[0m \u001b[1;33m+\u001b[0m \u001b[1;36m1\u001b[0m\u001b[1;33m\u001b[0m\u001b[1;33m\u001b[0m\u001b[0m\n",
      "\u001b[1;31mAttributeError\u001b[0m: 'float' object has no attribute 'dtype'"
     ]
    }
   ],
   "source": [
    "count = 0\n",
    "for _, column_data in joined_dataframe['mean_oxygen'].iteritems():\n",
    "    print(count)\n",
    "    print(column_data.dtype)\n",
    "    count = count + 1"
   ]
  },
  {
   "cell_type": "code",
   "execution_count": null,
   "metadata": {},
   "outputs": [],
   "source": []
  }
 ],
 "metadata": {
  "kernelspec": {
   "display_name": "Python 3",
   "language": "python",
   "name": "python3"
  },
  "language_info": {
   "codemirror_mode": {
    "name": "ipython",
    "version": 3
   },
   "file_extension": ".py",
   "mimetype": "text/x-python",
   "name": "python",
   "nbconvert_exporter": "python",
   "pygments_lexer": "ipython3",
   "version": "3.8.3"
  }
 },
 "nbformat": 4,
 "nbformat_minor": 4
}
