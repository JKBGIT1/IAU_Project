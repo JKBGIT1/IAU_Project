{
 "cells": [
  {
   "cell_type": "code",
   "execution_count": 1,
   "metadata": {},
   "outputs": [],
   "source": [
    "%matplotlib inline\n",
    "import pandas as pd\n",
    "import numpy as np\n",
    "import matplotlib.pyplot as plt\n",
    "import seaborn as sns\n",
    "import scipy.stats as stats"
   ]
  },
  {
   "cell_type": "code",
   "execution_count": 2,
   "metadata": {},
   "outputs": [],
   "source": [
    "# other_train\n",
    "df = pd.read_csv('./other_train.csv', sep=',', index_col=0) # First column is Unnamed\n",
    "for column_name in df:\n",
    "    if df[column_name].dtypes == 'object':\n",
    "        df[column_name] = df[column_name].str.strip()"
   ]
  },
  {
   "cell_type": "code",
   "execution_count": 3,
   "metadata": {},
   "outputs": [
    {
     "name": "stdout",
     "output_type": "stream",
     "text": [
      "<class 'pandas.core.frame.DataFrame'>\n",
      "Int64Index: 3983 entries, 0 to 3982\n",
      "Data columns (total 22 columns):\n",
      " #   Column            Non-Null Count  Dtype  \n",
      "---  ------            --------------  -----  \n",
      " 0   name              3983 non-null   object \n",
      " 1   address           3983 non-null   object \n",
      " 2   race              3971 non-null   object \n",
      " 3   marital-status    3709 non-null   object \n",
      " 4   occupation        3968 non-null   object \n",
      " 5   pregnant          3967 non-null   object \n",
      " 6   education-num     3971 non-null   float64\n",
      " 7   relationship      3972 non-null   object \n",
      " 8   skewness_glucose  3968 non-null   float64\n",
      " 9   mean_glucose      3974 non-null   float64\n",
      " 10  capital-gain      3964 non-null   float64\n",
      " 11  kurtosis_glucose  3970 non-null   float64\n",
      " 12  education         3969 non-null   object \n",
      " 13  fnlwgt            3965 non-null   float64\n",
      " 14  class             3972 non-null   float64\n",
      " 15  std_glucose       3966 non-null   float64\n",
      " 16  income            3971 non-null   object \n",
      " 17  medical_info      3967 non-null   object \n",
      " 18  native-country    3967 non-null   object \n",
      " 19  hours-per-week    3971 non-null   float64\n",
      " 20  capital-loss      3971 non-null   float64\n",
      " 21  workclass         3968 non-null   object \n",
      "dtypes: float64(10), object(12)\n",
      "memory usage: 715.7+ KB\n"
     ]
    }
   ],
   "source": [
    "df.info()\n",
    "# There are 22 columns. 10 atributes are float type and 12 are object.\n",
    "# All columns expect name and adress have null values"
   ]
  },
  {
   "cell_type": "code",
   "execution_count": 5,
   "metadata": {},
   "outputs": [
    {
     "data": {
      "text/html": [
       "<div>\n",
       "<style scoped>\n",
       "    .dataframe tbody tr th:only-of-type {\n",
       "        vertical-align: middle;\n",
       "    }\n",
       "\n",
       "    .dataframe tbody tr th {\n",
       "        vertical-align: top;\n",
       "    }\n",
       "\n",
       "    .dataframe thead th {\n",
       "        text-align: right;\n",
       "    }\n",
       "</style>\n",
       "<table border=\"1\" class=\"dataframe\">\n",
       "  <thead>\n",
       "    <tr style=\"text-align: right;\">\n",
       "      <th></th>\n",
       "      <th>education-num</th>\n",
       "      <th>skewness_glucose</th>\n",
       "      <th>mean_glucose</th>\n",
       "      <th>capital-gain</th>\n",
       "      <th>kurtosis_glucose</th>\n",
       "      <th>fnlwgt</th>\n",
       "      <th>class</th>\n",
       "      <th>std_glucose</th>\n",
       "      <th>hours-per-week</th>\n",
       "      <th>capital-loss</th>\n",
       "    </tr>\n",
       "  </thead>\n",
       "  <tbody>\n",
       "    <tr>\n",
       "      <th>count</th>\n",
       "      <td>3971.000000</td>\n",
       "      <td>3968.000000</td>\n",
       "      <td>3974.000000</td>\n",
       "      <td>3964.000000</td>\n",
       "      <td>3970.000000</td>\n",
       "      <td>3.965000e+03</td>\n",
       "      <td>3972.000000</td>\n",
       "      <td>3966.000000</td>\n",
       "      <td>3971.000000</td>\n",
       "      <td>3971.000000</td>\n",
       "    </tr>\n",
       "    <tr>\n",
       "      <th>mean</th>\n",
       "      <td>10.065223</td>\n",
       "      <td>4.233223</td>\n",
       "      <td>69.173141</td>\n",
       "      <td>1228.128406</td>\n",
       "      <td>0.952248</td>\n",
       "      <td>1.911784e+05</td>\n",
       "      <td>0.256294</td>\n",
       "      <td>45.172793</td>\n",
       "      <td>40.505162</td>\n",
       "      <td>73.254092</td>\n",
       "    </tr>\n",
       "    <tr>\n",
       "      <th>std</th>\n",
       "      <td>2.671998</td>\n",
       "      <td>9.715162</td>\n",
       "      <td>3348.917032</td>\n",
       "      <td>8623.958204</td>\n",
       "      <td>1.614087</td>\n",
       "      <td>1.072410e+05</td>\n",
       "      <td>0.436641</td>\n",
       "      <td>7.621144</td>\n",
       "      <td>12.279149</td>\n",
       "      <td>369.551911</td>\n",
       "    </tr>\n",
       "    <tr>\n",
       "      <th>min</th>\n",
       "      <td>1.000000</td>\n",
       "      <td>-1.755332</td>\n",
       "      <td>-18973.437500</td>\n",
       "      <td>0.000000</td>\n",
       "      <td>-1.641515</td>\n",
       "      <td>1.882700e+04</td>\n",
       "      <td>0.000000</td>\n",
       "      <td>25.695250</td>\n",
       "      <td>1.000000</td>\n",
       "      <td>0.000000</td>\n",
       "    </tr>\n",
       "    <tr>\n",
       "      <th>25%</th>\n",
       "      <td>9.000000</td>\n",
       "      <td>-0.120081</td>\n",
       "      <td>83.955078</td>\n",
       "      <td>0.000000</td>\n",
       "      <td>0.070311</td>\n",
       "      <td>1.179830e+05</td>\n",
       "      <td>0.000000</td>\n",
       "      <td>40.151488</td>\n",
       "      <td>40.000000</td>\n",
       "      <td>0.000000</td>\n",
       "    </tr>\n",
       "    <tr>\n",
       "      <th>50%</th>\n",
       "      <td>10.000000</td>\n",
       "      <td>0.376026</td>\n",
       "      <td>110.613281</td>\n",
       "      <td>0.000000</td>\n",
       "      <td>0.311092</td>\n",
       "      <td>1.795090e+05</td>\n",
       "      <td>0.000000</td>\n",
       "      <td>45.878359</td>\n",
       "      <td>40.000000</td>\n",
       "      <td>0.000000</td>\n",
       "    </tr>\n",
       "    <tr>\n",
       "      <th>75%</th>\n",
       "      <td>13.000000</td>\n",
       "      <td>2.090854</td>\n",
       "      <td>125.382812</td>\n",
       "      <td>0.000000</td>\n",
       "      <td>0.776492</td>\n",
       "      <td>2.415230e+05</td>\n",
       "      <td>1.000000</td>\n",
       "      <td>50.350939</td>\n",
       "      <td>45.000000</td>\n",
       "      <td>0.000000</td>\n",
       "    </tr>\n",
       "    <tr>\n",
       "      <th>max</th>\n",
       "      <td>16.000000</td>\n",
       "      <td>68.101622</td>\n",
       "      <td>15887.500000</td>\n",
       "      <td>99999.000000</td>\n",
       "      <td>8.069522</td>\n",
       "      <td>1.366120e+06</td>\n",
       "      <td>1.000000</td>\n",
       "      <td>91.206475</td>\n",
       "      <td>99.000000</td>\n",
       "      <td>2824.000000</td>\n",
       "    </tr>\n",
       "  </tbody>\n",
       "</table>\n",
       "</div>"
      ],
      "text/plain": [
       "       education-num  skewness_glucose  mean_glucose  capital-gain  \\\n",
       "count    3971.000000       3968.000000   3974.000000   3964.000000   \n",
       "mean       10.065223          4.233223     69.173141   1228.128406   \n",
       "std         2.671998          9.715162   3348.917032   8623.958204   \n",
       "min         1.000000         -1.755332 -18973.437500      0.000000   \n",
       "25%         9.000000         -0.120081     83.955078      0.000000   \n",
       "50%        10.000000          0.376026    110.613281      0.000000   \n",
       "75%        13.000000          2.090854    125.382812      0.000000   \n",
       "max        16.000000         68.101622  15887.500000  99999.000000   \n",
       "\n",
       "       kurtosis_glucose        fnlwgt        class  std_glucose  \\\n",
       "count       3970.000000  3.965000e+03  3972.000000  3966.000000   \n",
       "mean           0.952248  1.911784e+05     0.256294    45.172793   \n",
       "std            1.614087  1.072410e+05     0.436641     7.621144   \n",
       "min           -1.641515  1.882700e+04     0.000000    25.695250   \n",
       "25%            0.070311  1.179830e+05     0.000000    40.151488   \n",
       "50%            0.311092  1.795090e+05     0.000000    45.878359   \n",
       "75%            0.776492  2.415230e+05     1.000000    50.350939   \n",
       "max            8.069522  1.366120e+06     1.000000    91.206475   \n",
       "\n",
       "       hours-per-week  capital-loss  \n",
       "count     3971.000000   3971.000000  \n",
       "mean        40.505162     73.254092  \n",
       "std         12.279149    369.551911  \n",
       "min          1.000000      0.000000  \n",
       "25%         40.000000      0.000000  \n",
       "50%         40.000000      0.000000  \n",
       "75%         45.000000      0.000000  \n",
       "max         99.000000   2824.000000  "
      ]
     },
     "execution_count": 5,
     "metadata": {},
     "output_type": "execute_result"
    }
   ],
   "source": [
    "df.describe() # Fundamental descriptive stats"
   ]
  },
  {
   "cell_type": "code",
   "execution_count": 3,
   "metadata": {},
   "outputs": [
    {
     "data": {
      "text/html": [
       "<div>\n",
       "<style scoped>\n",
       "    .dataframe tbody tr th:only-of-type {\n",
       "        vertical-align: middle;\n",
       "    }\n",
       "\n",
       "    .dataframe tbody tr th {\n",
       "        vertical-align: top;\n",
       "    }\n",
       "\n",
       "    .dataframe thead th {\n",
       "        text-align: right;\n",
       "    }\n",
       "</style>\n",
       "<table border=\"1\" class=\"dataframe\">\n",
       "  <thead>\n",
       "    <tr style=\"text-align: right;\">\n",
       "      <th></th>\n",
       "      <th>name</th>\n",
       "      <th>address</th>\n",
       "      <th>race</th>\n",
       "      <th>marital-status</th>\n",
       "      <th>occupation</th>\n",
       "      <th>pregnant</th>\n",
       "      <th>education-num</th>\n",
       "      <th>relationship</th>\n",
       "      <th>skewness_glucose</th>\n",
       "      <th>mean_glucose</th>\n",
       "      <th>...</th>\n",
       "      <th>education</th>\n",
       "      <th>fnlwgt</th>\n",
       "      <th>class</th>\n",
       "      <th>std_glucose</th>\n",
       "      <th>income</th>\n",
       "      <th>medical_info</th>\n",
       "      <th>native-country</th>\n",
       "      <th>hours-per-week</th>\n",
       "      <th>capital-loss</th>\n",
       "      <th>workclass</th>\n",
       "    </tr>\n",
       "  </thead>\n",
       "  <tbody>\n",
       "    <tr>\n",
       "      <th>0</th>\n",
       "      <td>David Hayes</td>\n",
       "      <td>235 Jennifer Throughway Suite 569\\r\\nNew Antho...</td>\n",
       "      <td>Black</td>\n",
       "      <td>??</td>\n",
       "      <td>Prof-specialty</td>\n",
       "      <td>f</td>\n",
       "      <td>5.0</td>\n",
       "      <td>Not-in-family</td>\n",
       "      <td>-0.197692</td>\n",
       "      <td>141.359375</td>\n",
       "      <td>...</td>\n",
       "      <td>9th</td>\n",
       "      <td>175431.0</td>\n",
       "      <td>0.0</td>\n",
       "      <td>49.842053</td>\n",
       "      <td>&lt;=50K</td>\n",
       "      <td>{'mean_oxygen':'4.04264214','std_oxygen':'19.4...</td>\n",
       "      <td>United-States</td>\n",
       "      <td>40.0</td>\n",
       "      <td>0.0</td>\n",
       "      <td>Private</td>\n",
       "    </tr>\n",
       "    <tr>\n",
       "      <th>1</th>\n",
       "      <td>Stanley Benny</td>\n",
       "      <td>08954 Johnson Course\\r\\nNew Lauraville, NV 22019</td>\n",
       "      <td>White</td>\n",
       "      <td>Married-civ-spouse</td>\n",
       "      <td>Exec-managerial</td>\n",
       "      <td>f</td>\n",
       "      <td>13.0</td>\n",
       "      <td>Husband</td>\n",
       "      <td>16.019670</td>\n",
       "      <td>53.968750</td>\n",
       "      <td>...</td>\n",
       "      <td>Bachelors</td>\n",
       "      <td>66473.0</td>\n",
       "      <td>1.0</td>\n",
       "      <td>31.900220</td>\n",
       "      <td>&gt;50K</td>\n",
       "      <td>{'mean_oxygen':'9.294314381','std_oxygen':'35....</td>\n",
       "      <td>United-States</td>\n",
       "      <td>40.0</td>\n",
       "      <td>0.0</td>\n",
       "      <td>Private</td>\n",
       "    </tr>\n",
       "    <tr>\n",
       "      <th>2</th>\n",
       "      <td>Domingo Labriola</td>\n",
       "      <td>36319 Wiley Drive Suite 094\\r\\nSouth Michael, ...</td>\n",
       "      <td>Asian-Pac-Islander</td>\n",
       "      <td>Married-civ-spouse</td>\n",
       "      <td>Farming-fishing</td>\n",
       "      <td>f</td>\n",
       "      <td>3.0</td>\n",
       "      <td>Husband</td>\n",
       "      <td>21.803837</td>\n",
       "      <td>2257.812500</td>\n",
       "      <td>...</td>\n",
       "      <td>5th-6th</td>\n",
       "      <td>93206.0</td>\n",
       "      <td>1.0</td>\n",
       "      <td>35.793158</td>\n",
       "      <td>&lt;=50K</td>\n",
       "      <td>{'mean_oxygen':'138.7876254','std_oxygen':'79....</td>\n",
       "      <td>Philippines</td>\n",
       "      <td>40.0</td>\n",
       "      <td>0.0</td>\n",
       "      <td>Private</td>\n",
       "    </tr>\n",
       "    <tr>\n",
       "      <th>3</th>\n",
       "      <td>Ronnie Moore</td>\n",
       "      <td>0755 Soto Oval Apt. 443\\r\\nWest Markside, TX 3...</td>\n",
       "      <td>White</td>\n",
       "      <td>Never-married</td>\n",
       "      <td>Other-service</td>\n",
       "      <td>FALSE</td>\n",
       "      <td>10.0</td>\n",
       "      <td>Not-in-family</td>\n",
       "      <td>-0.112191</td>\n",
       "      <td>110.046875</td>\n",
       "      <td>...</td>\n",
       "      <td>Some-college</td>\n",
       "      <td>137604.0</td>\n",
       "      <td>0.0</td>\n",
       "      <td>53.876575</td>\n",
       "      <td>&lt;=50K</td>\n",
       "      <td>{'mean_oxygen':'3.100334448','std_oxygen':'17....</td>\n",
       "      <td>United-States</td>\n",
       "      <td>40.0</td>\n",
       "      <td>0.0</td>\n",
       "      <td>Private</td>\n",
       "    </tr>\n",
       "    <tr>\n",
       "      <th>4</th>\n",
       "      <td>Victor Mcjunkin</td>\n",
       "      <td>95738 Keller Overpass\\r\\nKennedyland, MO 71071</td>\n",
       "      <td>White</td>\n",
       "      <td>NaN</td>\n",
       "      <td>Adm-clerical</td>\n",
       "      <td>f</td>\n",
       "      <td>10.0</td>\n",
       "      <td>Not-in-family</td>\n",
       "      <td>-0.309642</td>\n",
       "      <td>137.960938</td>\n",
       "      <td>...</td>\n",
       "      <td>Some-college</td>\n",
       "      <td>174592.0</td>\n",
       "      <td>0.0</td>\n",
       "      <td>51.885451</td>\n",
       "      <td>&lt;=50K</td>\n",
       "      <td>{'mean_oxygen':'4.203177258','std_oxygen':'23....</td>\n",
       "      <td>United-States</td>\n",
       "      <td>40.0</td>\n",
       "      <td>0.0</td>\n",
       "      <td>Private</td>\n",
       "    </tr>\n",
       "  </tbody>\n",
       "</table>\n",
       "<p>5 rows × 22 columns</p>\n",
       "</div>"
      ],
      "text/plain": [
       "               name                                            address  \\\n",
       "0       David Hayes  235 Jennifer Throughway Suite 569\\r\\nNew Antho...   \n",
       "1     Stanley Benny   08954 Johnson Course\\r\\nNew Lauraville, NV 22019   \n",
       "2  Domingo Labriola  36319 Wiley Drive Suite 094\\r\\nSouth Michael, ...   \n",
       "3      Ronnie Moore  0755 Soto Oval Apt. 443\\r\\nWest Markside, TX 3...   \n",
       "4   Victor Mcjunkin     95738 Keller Overpass\\r\\nKennedyland, MO 71071   \n",
       "\n",
       "                 race      marital-status       occupation pregnant  \\\n",
       "0               Black                  ??   Prof-specialty        f   \n",
       "1               White  Married-civ-spouse  Exec-managerial        f   \n",
       "2  Asian-Pac-Islander  Married-civ-spouse  Farming-fishing        f   \n",
       "3               White       Never-married    Other-service    FALSE   \n",
       "4               White                 NaN     Adm-clerical        f   \n",
       "\n",
       "   education-num   relationship  skewness_glucose  mean_glucose  ...  \\\n",
       "0            5.0  Not-in-family         -0.197692    141.359375  ...   \n",
       "1           13.0        Husband         16.019670     53.968750  ...   \n",
       "2            3.0        Husband         21.803837   2257.812500  ...   \n",
       "3           10.0  Not-in-family         -0.112191    110.046875  ...   \n",
       "4           10.0  Not-in-family         -0.309642    137.960938  ...   \n",
       "\n",
       "      education    fnlwgt class  std_glucose  income  \\\n",
       "0           9th  175431.0   0.0    49.842053   <=50K   \n",
       "1     Bachelors   66473.0   1.0    31.900220    >50K   \n",
       "2       5th-6th   93206.0   1.0    35.793158   <=50K   \n",
       "3  Some-college  137604.0   0.0    53.876575   <=50K   \n",
       "4  Some-college  174592.0   0.0    51.885451   <=50K   \n",
       "\n",
       "                                        medical_info native-country  \\\n",
       "0  {'mean_oxygen':'4.04264214','std_oxygen':'19.4...  United-States   \n",
       "1  {'mean_oxygen':'9.294314381','std_oxygen':'35....  United-States   \n",
       "2  {'mean_oxygen':'138.7876254','std_oxygen':'79....    Philippines   \n",
       "3  {'mean_oxygen':'3.100334448','std_oxygen':'17....  United-States   \n",
       "4  {'mean_oxygen':'4.203177258','std_oxygen':'23....  United-States   \n",
       "\n",
       "  hours-per-week capital-loss  workclass  \n",
       "0           40.0          0.0    Private  \n",
       "1           40.0          0.0    Private  \n",
       "2           40.0          0.0    Private  \n",
       "3           40.0          0.0    Private  \n",
       "4           40.0          0.0    Private  \n",
       "\n",
       "[5 rows x 22 columns]"
      ]
     },
     "execution_count": 3,
     "metadata": {},
     "output_type": "execute_result"
    }
   ],
   "source": [
    "df.head()# medical_info complex object. Can be separated into multiple columns"
   ]
  },
  {
   "cell_type": "code",
   "execution_count": 4,
   "metadata": {},
   "outputs": [
    {
     "data": {
      "text/plain": [
       "337"
      ]
     },
     "execution_count": 4,
     "metadata": {},
     "output_type": "execute_result"
    }
   ],
   "source": [
    "df.shape[0] - df.dropna().shape[0] # there are 337 nan values"
   ]
  },
  {
   "cell_type": "code",
   "execution_count": 4,
   "metadata": {},
   "outputs": [
    {
     "data": {
      "text/plain": [
       "0       235 Jennifer Throughway Suite 569\\r\\nNew Antho...\n",
       "1        08954 Johnson Course\\r\\nNew Lauraville, NV 22019\n",
       "2       36319 Wiley Drive Suite 094\\r\\nSouth Michael, ...\n",
       "3       0755 Soto Oval Apt. 443\\r\\nWest Markside, TX 3...\n",
       "4          95738 Keller Overpass\\r\\nKennedyland, MO 71071\n",
       "                              ...                        \n",
       "3978    7401 Donaldson Lake Apt. 338\\r\\nPort Wayneview...\n",
       "3979    7060 Tammy Greens Apt. 475\\r\\nEast Michael, KS...\n",
       "3980           75021 Bishop Pass\\r\\nLake Rachel, ID 91709\n",
       "3981    81727 Rubio Rapids Apt. 057\\r\\nLawsonburgh, NM...\n",
       "3982          953 Caldwell Mount\\r\\nPort Willie, MS 14959\n",
       "Name: address, Length: 3983, dtype: object"
      ]
     },
     "execution_count": 4,
     "metadata": {},
     "output_type": "execute_result"
    }
   ],
   "source": [
    "df['address'] # We can separate address into three different columns(street, city, zip_code)"
   ]
  },
  {
   "cell_type": "code",
   "execution_count": 5,
   "metadata": {},
   "outputs": [
    {
     "data": {
      "text/plain": [
       "array(['Black', 'White', 'Asian-Pac-Islander', 'Other', nan,\n",
       "       'Amer-Indian-Eskimo'], dtype=object)"
      ]
     },
     "execution_count": 5,
     "metadata": {},
     "output_type": "execute_result"
    }
   ],
   "source": [
    "df['race'].unique() # Can we change Other to nan or vice-versa?"
   ]
  },
  {
   "cell_type": "code",
   "execution_count": 9,
   "metadata": {},
   "outputs": [
    {
     "data": {
      "text/plain": [
       "Married-civ-spouse       1680\n",
       "Never-married            1180\n",
       "Divorced                  439\n",
       "??                        139\n",
       "Widowed                   111\n",
       "Separated                 109\n",
       "Married-spouse-absent      49\n",
       "Married-AF-spouse           2\n",
       "Name: marital-status, dtype: int64"
      ]
     },
     "execution_count": 9,
     "metadata": {},
     "output_type": "execute_result"
    }
   ],
   "source": [
    "df['marital-status'].value_counts() # We can change '??' values to nan"
   ]
  },
  {
   "cell_type": "code",
   "execution_count": 6,
   "metadata": {},
   "outputs": [
    {
     "data": {
      "text/plain": [
       "Married-civ-spouse       1680\n",
       "Never-married            1180\n",
       "Divorced                  439\n",
       "Widowed                   111\n",
       "Separated                 109\n",
       "Married-spouse-absent      49\n",
       "Married-AF-spouse           2\n",
       "Name: marital-status, dtype: int64"
      ]
     },
     "execution_count": 6,
     "metadata": {},
     "output_type": "execute_result"
    }
   ],
   "source": [
    "df['marital-status'] = df['marital-status'].replace('??', np.nan)\n",
    "df['marital-status'].value_counts() # We have succesfully replaced '??' values with NaN"
   ]
  },
  {
   "cell_type": "code",
   "execution_count": 11,
   "metadata": {},
   "outputs": [
    {
     "data": {
      "text/plain": [
       "Craft-repair         512\n",
       "Prof-specialty       499\n",
       "Exec-managerial      492\n",
       "Adm-clerical         472\n",
       "Other-service        424\n",
       "Sales                423\n",
       "Machine-op-inspct    228\n",
       "?                    224\n",
       "Transport-moving     192\n",
       "Handlers-cleaners    177\n",
       "Farming-fishing      119\n",
       "Tech-support         115\n",
       "Protective-serv       72\n",
       "Priv-house-serv       19\n",
       "Name: occupation, dtype: int64"
      ]
     },
     "execution_count": 11,
     "metadata": {},
     "output_type": "execute_result"
    }
   ],
   "source": [
    "df['occupation'].value_counts() # Again we can replace '?' values with NaN"
   ]
  },
  {
   "cell_type": "code",
   "execution_count": 7,
   "metadata": {},
   "outputs": [
    {
     "data": {
      "text/plain": [
       "Craft-repair         512\n",
       "Prof-specialty       499\n",
       "Exec-managerial      492\n",
       "Adm-clerical         472\n",
       "Other-service        424\n",
       "Sales                423\n",
       "Machine-op-inspct    228\n",
       "Transport-moving     192\n",
       "Handlers-cleaners    177\n",
       "Farming-fishing      119\n",
       "Tech-support         115\n",
       "Protective-serv       72\n",
       "Priv-house-serv       19\n",
       "Name: occupation, dtype: int64"
      ]
     },
     "execution_count": 7,
     "metadata": {},
     "output_type": "execute_result"
    }
   ],
   "source": [
    "df['occupation'] = df['occupation'].replace('?', np.nan)\n",
    "df['occupation'].value_counts() # We have succesfully replaced '?' values with NaN"
   ]
  },
  {
   "cell_type": "code",
   "execution_count": 13,
   "metadata": {},
   "outputs": [
    {
     "data": {
      "text/plain": [
       "f        3503\n",
       "F         194\n",
       "FALSE     192\n",
       "t          69\n",
       "TRUE        5\n",
       "T           4\n",
       "Name: pregnant, dtype: int64"
      ]
     },
     "execution_count": 13,
     "metadata": {},
     "output_type": "execute_result"
    }
   ],
   "source": [
    "# Replace 'f', 'F' and \"FALSE\" with one stable value \"False\", apply same method for \"True\"\n",
    "df['pregnant'].value_counts() "
   ]
  },
  {
   "cell_type": "code",
   "execution_count": 8,
   "metadata": {},
   "outputs": [
    {
     "data": {
      "text/plain": [
       "False    3889\n",
       "True       78\n",
       "Name: pregnant, dtype: int64"
      ]
     },
     "execution_count": 8,
     "metadata": {},
     "output_type": "execute_result"
    }
   ],
   "source": [
    "df['pregnant'] = df['pregnant'].replace(['f', 'F', 'FALSE'], 'False')\n",
    "df['pregnant'] = df['pregnant'].replace(['t', 'T', 'TRUE'], 'True')\n",
    "df['pregnant'].value_counts()"
   ]
  },
  {
   "cell_type": "code",
   "execution_count": 15,
   "metadata": {},
   "outputs": [
    {
     "data": {
      "text/plain": [
       "9.0     1249\n",
       "10.0     870\n",
       "13.0     663\n",
       "14.0     220\n",
       "11.0     188\n",
       "7.0      138\n",
       "6.0      109\n",
       "12.0     103\n",
       "4.0       97\n",
       "15.0      82\n",
       "5.0       74\n",
       "16.0      54\n",
       "3.0       52\n",
       "8.0       44\n",
       "2.0       17\n",
       "1.0       11\n",
       "Name: education-num, dtype: int64"
      ]
     },
     "execution_count": 15,
     "metadata": {},
     "output_type": "execute_result"
    }
   ],
   "source": [
    "df['education-num'].value_counts() # This column is OK I guess"
   ]
  },
  {
   "cell_type": "code",
   "execution_count": 9,
   "metadata": {},
   "outputs": [
    {
     "data": {
      "text/plain": [
       "array(['Not-in-family', 'Husband', 'Own-child', 'Not_in_family',\n",
       "       'Unmarried', 'Own_child', 'Wife', 'Other-relative', nan,\n",
       "       'Other_relative'], dtype=object)"
      ]
     },
     "execution_count": 9,
     "metadata": {},
     "output_type": "execute_result"
    }
   ],
   "source": [
    "df['relationship'].value_counts() # There are multiple same values, but they are written differently, so we can fix it\n",
    "df['relationship'].unique()"
   ]
  },
  {
   "cell_type": "code",
   "execution_count": 10,
   "metadata": {},
   "outputs": [
    {
     "data": {
      "text/plain": [
       "Husband           1630\n",
       "Not-in-family      998\n",
       "Own-child          588\n",
       "Unmarried          427\n",
       "Wife               205\n",
       "Other-relative     124\n",
       "Name: relationship, dtype: int64"
      ]
     },
     "execution_count": 10,
     "metadata": {},
     "output_type": "execute_result"
    }
   ],
   "source": [
    "df['relationship'] = df['relationship'].replace('Not_in_family', 'Not-in-family')\n",
    "df['relationship'] = df['relationship'].replace('Own_child', 'Own-child')\n",
    "df['relationship'] = df['relationship'].replace('Other_relative', 'Other-relative')\n",
    "df['relationship'].value_counts()"
   ]
  },
  {
   "cell_type": "code",
   "execution_count": 18,
   "metadata": {},
   "outputs": [
    {
     "data": {
      "text/plain": [
       "-0.458587     2\n",
       " 0.396490     2\n",
       " 0.165603     2\n",
       " 3.673929     2\n",
       " 36.104846    2\n",
       "             ..\n",
       " 0.228760     1\n",
       "-0.119966     1\n",
       "-1.469010     1\n",
       " 24.270634    1\n",
       " 39.078306    1\n",
       "Name: skewness_glucose, Length: 3932, dtype: int64"
      ]
     },
     "execution_count": 18,
     "metadata": {},
     "output_type": "execute_result"
    }
   ],
   "source": [
    "df['skewness_glucose'].value_counts() # Maybe we can round this numbers? # 24.270634 and 39.078306 ??"
   ]
  },
  {
   "cell_type": "code",
   "execution_count": 19,
   "metadata": {},
   "outputs": [
    {
     "data": {
      "text/plain": [
       " 123.031250     4\n",
       " 124.546875     4\n",
       " 108.968750     4\n",
       " 128.218750     4\n",
       " 122.968750     3\n",
       "               ..\n",
       " 88.179688      1\n",
       "-8657.812500    1\n",
       " 84.210938      1\n",
       " 68.234375      1\n",
       " 124.000000     1\n",
       "Name: mean_glucose, Length: 3449, dtype: int64"
      ]
     },
     "execution_count": 19,
     "metadata": {},
     "output_type": "execute_result"
    }
   ],
   "source": [
    "df['mean_glucose'].value_counts() # Maybe we can round this numbers -8657.812500 ??"
   ]
  },
  {
   "cell_type": "code",
   "execution_count": 20,
   "metadata": {},
   "outputs": [
    {
     "data": {
      "text/plain": [
       "HS-grad         1246\n",
       "Some-college     869\n",
       "Bachelors        662\n",
       "Masters          220\n",
       "Assoc-voc        188\n",
       "11th             137\n",
       "10th             109\n",
       "Assoc-acdm       103\n",
       "7th-8th           99\n",
       "Prof-school       82\n",
       "9th               75\n",
       "Doctorate         54\n",
       "5th-6th           52\n",
       "12th              45\n",
       "1st-4th           17\n",
       "Preschool         11\n",
       "Name: education, dtype: int64"
      ]
     },
     "execution_count": 20,
     "metadata": {},
     "output_type": "execute_result"
    }
   ],
   "source": [
    "df['education'].value_counts() # OK?"
   ]
  },
  {
   "cell_type": "code",
   "execution_count": 21,
   "metadata": {},
   "outputs": [
    {
     "data": {
      "text/plain": [
       "113364.0    4\n",
       "144064.0    4\n",
       "34180.0     4\n",
       "161141.0    4\n",
       "123983.0    4\n",
       "           ..\n",
       "179594.0    1\n",
       "33619.0     1\n",
       "285335.0    1\n",
       "222539.0    1\n",
       "28160.0     1\n",
       "Name: fnlwgt, Length: 3671, dtype: int64"
      ]
     },
     "execution_count": 21,
     "metadata": {},
     "output_type": "execute_result"
    }
   ],
   "source": [
    "df['fnlwgt'].value_counts() # change name of the column to final_weight, how did we get value of this atribute ?"
   ]
  },
  {
   "cell_type": "code",
   "execution_count": 22,
   "metadata": {},
   "outputs": [
    {
     "data": {
      "text/plain": [
       "0.0    2954\n",
       "1.0    1018\n",
       "Name: class, dtype: int64"
      ]
     },
     "execution_count": 22,
     "metadata": {},
     "output_type": "execute_result"
    }
   ],
   "source": [
    "df['class'].value_counts() # This can be integer"
   ]
  },
  {
   "cell_type": "code",
   "execution_count": 23,
   "metadata": {},
   "outputs": [
    {
     "data": {
      "text/plain": [
       "56.678746    2\n",
       "46.336825    2\n",
       "30.322605    2\n",
       "42.872164    2\n",
       "49.762971    2\n",
       "            ..\n",
       "52.244316    1\n",
       "58.893506    1\n",
       "52.811404    1\n",
       "51.129297    1\n",
       "36.876648    1\n",
       "Name: std_glucose, Length: 3929, dtype: int64"
      ]
     },
     "execution_count": 23,
     "metadata": {},
     "output_type": "execute_result"
    }
   ],
   "source": [
    "df['std_glucose'].value_counts() # Mayber round"
   ]
  },
  {
   "cell_type": "code",
   "execution_count": 24,
   "metadata": {},
   "outputs": [
    {
     "data": {
      "text/plain": [
       "<=50K    2982\n",
       ">50K      989\n",
       "Name: income, dtype: int64"
      ]
     },
     "execution_count": 24,
     "metadata": {},
     "output_type": "execute_result"
    }
   ],
   "source": [
    "df['income'].value_counts() # OK"
   ]
  },
  {
   "cell_type": "code",
   "execution_count": 25,
   "metadata": {},
   "outputs": [
    {
     "data": {
      "text/plain": [
       "{'mean_oxygen':'0.668896321','std_oxygen':'9.464989304','kurtosis_oxygen':'20.02758258','skewness_oxygen':'473.449223'}            2\n",
       "{'mean_oxygen':'1.984949833','std_oxygen':'14.3641057','kurtosis_oxygen':'10.94532652','skewness_oxygen':'149.84775369999997'}     2\n",
       "{'mean_oxygen':'3.501672241','std_oxygen':'22.12598838','kurtosis_oxygen':'7.005293056','skewness_oxygen':'51.90616029'}           2\n",
       "{'mean_oxygen':'2.673076923','std_oxygen':'15.56239929','kurtosis_oxygen':'8.785771755','skewness_oxygen':'97.52747517'}           2\n",
       "{'mean_oxygen':'22.73327759','std_oxygen':'49.30776594','kurtosis_oxygen':'2.716095654','skewness_oxygen':'7.546922134'}           2\n",
       "                                                                                                                                  ..\n",
       "{'mean_oxygen':'135.0200669','std_oxygen':'55.57571531','kurtosis_oxygen':'0.260256506','skewness_oxygen':'-0.917726214'}          1\n",
       "{'mean_oxygen':'102.0443144','std_oxygen':'73.94695882','kurtosis_oxygen':'0.17534749','skewness_oxygen':'-0.786496017'}           1\n",
       "{'mean_oxygen':'4.133779264','std_oxygen':'24.48090846','kurtosis_oxygen':'6.762621958','skewness_oxygen':'48.97614397'}           1\n",
       "{'mean_oxygen':'3.823578595','std_oxygen':'21.72228513','kurtosis_oxygen':'7.064031002999999','skewness_oxygen':'56.75060235'}     1\n",
       "{'mean_oxygen':'1.862876254','std_oxygen':'18.067633800000007','kurtosis_oxygen':'11.44157535','skewness_oxygen':'139.9952121'}    1\n",
       "Name: medical_info, Length: 3932, dtype: int64"
      ]
     },
     "execution_count": 25,
     "metadata": {},
     "output_type": "execute_result"
    }
   ],
   "source": [
    "df['medical_info'].value_counts() # separate this into different columns?"
   ]
  },
  {
   "cell_type": "code",
   "execution_count": 26,
   "metadata": {},
   "outputs": [
    {
     "data": {
      "text/plain": [
       "United-States         3554\n",
       "Mexico                  86\n",
       "?                       58\n",
       "Philippines             25\n",
       "Germany                 17\n",
       "India                   15\n",
       "Canada                  14\n",
       "Guatemala               13\n",
       "Japan                   11\n",
       "Cuba                    11\n",
       "Jamaica                 11\n",
       "Puerto-Rico             11\n",
       "Italy                   10\n",
       "Dominican-Republic      10\n",
       "Taiwan                  10\n",
       "England                 10\n",
       "China                   10\n",
       "El-Salvador              9\n",
       "South                    9\n",
       "Poland                   8\n",
       "Vietnam                  7\n",
       "Nicaragua                6\n",
       "Scotland                 5\n",
       "Laos                     5\n",
       "Trinadad&Tobago          5\n",
       "Haiti                    5\n",
       "Ecuador                  4\n",
       "Peru                     4\n",
       "Columbia                 4\n",
       "Portugal                 3\n",
       "Hong                     3\n",
       "Iran                     3\n",
       "Cambodia                 2\n",
       "Hungary                  2\n",
       "Greece                   2\n",
       "France                   2\n",
       "Honduras                 2\n",
       "Thailand                 1\n",
       "Name: native-country, dtype: int64"
      ]
     },
     "execution_count": 26,
     "metadata": {},
     "output_type": "execute_result"
    }
   ],
   "source": [
    "df['native-country'].value_counts() # replace '?' with NaN"
   ]
  },
  {
   "cell_type": "code",
   "execution_count": 11,
   "metadata": {},
   "outputs": [
    {
     "data": {
      "text/plain": [
       "United-States         3554\n",
       "Mexico                  86\n",
       "Philippines             25\n",
       "Germany                 17\n",
       "India                   15\n",
       "Canada                  14\n",
       "Guatemala               13\n",
       "Puerto-Rico             11\n",
       "Japan                   11\n",
       "Jamaica                 11\n",
       "Cuba                    11\n",
       "Italy                   10\n",
       "China                   10\n",
       "Dominican-Republic      10\n",
       "Taiwan                  10\n",
       "England                 10\n",
       "El-Salvador              9\n",
       "South                    9\n",
       "Poland                   8\n",
       "Vietnam                  7\n",
       "Nicaragua                6\n",
       "Laos                     5\n",
       "Haiti                    5\n",
       "Trinadad&Tobago          5\n",
       "Scotland                 5\n",
       "Columbia                 4\n",
       "Ecuador                  4\n",
       "Peru                     4\n",
       "Hong                     3\n",
       "Iran                     3\n",
       "Portugal                 3\n",
       "Honduras                 2\n",
       "Cambodia                 2\n",
       "Greece                   2\n",
       "France                   2\n",
       "Hungary                  2\n",
       "Thailand                 1\n",
       "Name: native-country, dtype: int64"
      ]
     },
     "execution_count": 11,
     "metadata": {},
     "output_type": "execute_result"
    }
   ],
   "source": [
    "df['native-country'] = df['native-country'].replace('?', np.nan)\n",
    "df['native-country'].value_counts() # # We have succesfully replaced '?' values with NaN"
   ]
  },
  {
   "cell_type": "code",
   "execution_count": 28,
   "metadata": {},
   "outputs": [
    {
     "data": {
      "text/plain": [
       "40.0    1860\n",
       "50.0     359\n",
       "45.0     208\n",
       "60.0     173\n",
       "35.0     160\n",
       "        ... \n",
       "29.0       1\n",
       "81.0       1\n",
       "67.0       1\n",
       "68.0       1\n",
       "77.0       1\n",
       "Name: hours-per-week, Length: 76, dtype: int64"
      ]
     },
     "execution_count": 28,
     "metadata": {},
     "output_type": "execute_result"
    }
   ],
   "source": [
    "df['hours-per-week'].value_counts() # OK"
   ]
  },
  {
   "cell_type": "code",
   "execution_count": 29,
   "metadata": {},
   "outputs": [
    {
     "data": {
      "text/plain": [
       "0.0       3815\n",
       "1887.0      23\n",
       "1977.0      22\n",
       "1902.0      15\n",
       "2415.0      10\n",
       "1590.0       7\n",
       "1485.0       7\n",
       "1876.0       5\n",
       "1848.0       5\n",
       "1741.0       3\n",
       "2258.0       3\n",
       "2042.0       3\n",
       "1740.0       3\n",
       "1980.0       3\n",
       "1092.0       3\n",
       "1672.0       3\n",
       "1628.0       2\n",
       "1721.0       2\n",
       "1504.0       2\n",
       "1579.0       2\n",
       "1594.0       2\n",
       "2339.0       2\n",
       "323.0        2\n",
       "2377.0       2\n",
       "1719.0       2\n",
       "2174.0       2\n",
       "2444.0       2\n",
       "2179.0       1\n",
       "1408.0       1\n",
       "1258.0       1\n",
       "1380.0       1\n",
       "625.0        1\n",
       "2057.0       1\n",
       "2051.0       1\n",
       "880.0        1\n",
       "2002.0       1\n",
       "1573.0       1\n",
       "1762.0       1\n",
       "1602.0       1\n",
       "1669.0       1\n",
       "2603.0       1\n",
       "2352.0       1\n",
       "1617.0       1\n",
       "2559.0       1\n",
       "2824.0       1\n",
       "2392.0       1\n",
       "Name: capital-loss, dtype: int64"
      ]
     },
     "execution_count": 29,
     "metadata": {},
     "output_type": "execute_result"
    }
   ],
   "source": [
    "df['capital-loss'].value_counts() # OK"
   ]
  },
  {
   "cell_type": "code",
   "execution_count": 30,
   "metadata": {},
   "outputs": [
    {
     "data": {
      "text/plain": [
       "Private             2770\n",
       "Self-emp-not-inc     293\n",
       "Local-gov            260\n",
       "?                    227\n",
       "State-gov            150\n",
       "Self-emp-inc         142\n",
       "Federal-gov          124\n",
       "Without-pay            2\n",
       "Name: workclass, dtype: int64"
      ]
     },
     "execution_count": 30,
     "metadata": {},
     "output_type": "execute_result"
    }
   ],
   "source": [
    "df['workclass'].value_counts() # Again we can replace '?' with NaN"
   ]
  },
  {
   "cell_type": "code",
   "execution_count": 12,
   "metadata": {},
   "outputs": [
    {
     "data": {
      "text/plain": [
       "Private             2770\n",
       "Self-emp-not-inc     293\n",
       "Local-gov            260\n",
       "State-gov            150\n",
       "Self-emp-inc         142\n",
       "Federal-gov          124\n",
       "Without-pay            2\n",
       "Name: workclass, dtype: int64"
      ]
     },
     "execution_count": 12,
     "metadata": {},
     "output_type": "execute_result"
    }
   ],
   "source": [
    "df['workclass'] = df['workclass'].replace('?', np.nan)\n",
    "df['workclass'].value_counts()"
   ]
  },
  {
   "cell_type": "code",
   "execution_count": 33,
   "metadata": {},
   "outputs": [
    {
     "name": "stderr",
     "output_type": "stream",
     "text": [
      "c:\\python38\\lib\\site-packages\\seaborn\\distributions.py:2551: FutureWarning: `distplot` is a deprecated function and will be removed in a future version. Please adapt your code to use either `displot` (a figure-level function with similar flexibility) or `histplot` (an axes-level function for histograms).\n",
      "  warnings.warn(msg, FutureWarning)\n"
     ]
    },
    {
     "data": {
      "text/plain": [
       "<AxesSubplot:xlabel='education-num', ylabel='Density'>"
      ]
     },
     "execution_count": 33,
     "metadata": {},
     "output_type": "execute_result"
    },
    {
     "data": {
      "image/png": "[encoded data removed]",
      "text/plain": [
       "<Figure size 432x288 with 1 Axes>"
      ]
     },
     "metadata": {
      "needs_background": "light"
     },
     "output_type": "display_data"
    }
   ],
   "source": [
    "sns.distplot(df['education-num'], bins=30)"
   ]
  },
  {
   "cell_type": "code",
   "execution_count": 71,
   "metadata": {},
   "outputs": [
    {
     "name": "stderr",
     "output_type": "stream",
     "text": [
      "c:\\python38\\lib\\site-packages\\seaborn\\distributions.py:2551: FutureWarning: `distplot` is a deprecated function and will be removed in a future version. Please adapt your code to use either `displot` (a figure-level function with similar flexibility) or `histplot` (an axes-level function for histograms).\n",
      "  warnings.warn(msg, FutureWarning)\n"
     ]
    },
    {
     "data": {
      "text/plain": [
       "<AxesSubplot:xlabel='fnlwgt', ylabel='Density'>"
      ]
     },
     "execution_count": 71,
     "metadata": {},
     "output_type": "execute_result"
    },
    {
     "data": {
      "image/png": "[encoded data removed]",
      "text/plain": [
       "<Figure size 432x288 with 1 Axes>"
      ]
     },
     "metadata": {
      "needs_background": "light"
     },
     "output_type": "display_data"
    }
   ],
   "source": [
    "sns.distplot(df['fnlwgt'], bins=30)"
   ]
  },
  {
   "cell_type": "code",
   "execution_count": 63,
   "metadata": {},
   "outputs": [
    {
     "name": "stderr",
     "output_type": "stream",
     "text": [
      "c:\\python38\\lib\\site-packages\\seaborn\\distributions.py:2551: FutureWarning: `distplot` is a deprecated function and will be removed in a future version. Please adapt your code to use either `displot` (a figure-level function with similar flexibility) or `histplot` (an axes-level function for histograms).\n",
      "  warnings.warn(msg, FutureWarning)\n"
     ]
    },
    {
     "data": {
      "text/plain": [
       "<AxesSubplot:xlabel='hours-per-week', ylabel='Density'>"
      ]
     },
     "execution_count": 63,
     "metadata": {},
     "output_type": "execute_result"
    },
    {
     "data": {
      "image/png": "[encoded data removed]",
      "text/plain": [
       "<Figure size 432x288 with 1 Axes>"
      ]
     },
     "metadata": {
      "needs_background": "light"
     },
     "output_type": "display_data"
    }
   ],
   "source": [
    "sns.distplot(df['hours-per-week'], bins=30)"
   ]
  },
  {
   "cell_type": "code",
   "execution_count": 34,
   "metadata": {},
   "outputs": [
    {
     "name": "stderr",
     "output_type": "stream",
     "text": [
      "c:\\python38\\lib\\site-packages\\seaborn\\distributions.py:2551: FutureWarning: `distplot` is a deprecated function and will be removed in a future version. Please adapt your code to use either `displot` (a figure-level function with similar flexibility) or `histplot` (an axes-level function for histograms).\n",
      "  warnings.warn(msg, FutureWarning)\n"
     ]
    },
    {
     "data": {
      "text/plain": [
       "<AxesSubplot:xlabel='capital-loss', ylabel='Density'>"
      ]
     },
     "execution_count": 34,
     "metadata": {},
     "output_type": "execute_result"
    },
    {
     "data": {
      "image/png": "[encoded data removed]",
      "text/plain": [
       "<Figure size 432x288 with 1 Axes>"
      ]
     },
     "metadata": {
      "needs_background": "light"
     },
     "output_type": "display_data"
    }
   ],
   "source": [
    "sns.distplot(df['capital-loss'], bins=30)"
   ]
  },
  {
   "cell_type": "code",
   "execution_count": 48,
   "metadata": {},
   "outputs": [
    {
     "data": {
      "text/plain": [
       "<AxesSubplot:>"
      ]
     },
     "execution_count": 48,
     "metadata": {},
     "output_type": "execute_result"
    },
    {
     "data": {
      "image/png": "[encoded data removed]",
      "text/plain": [
       "<Figure size 432x288 with 1 Axes>"
      ]
     },
     "metadata": {
      "needs_background": "light"
     },
     "output_type": "display_data"
    }
   ],
   "source": [
    "df['race'].value_counts().plot(kind='bar')"
   ]
  },
  {
   "cell_type": "code",
   "execution_count": 45,
   "metadata": {},
   "outputs": [
    {
     "data": {
      "text/plain": [
       "<AxesSubplot:>"
      ]
     },
     "execution_count": 45,
     "metadata": {},
     "output_type": "execute_result"
    },
    {
     "data": {
      "image/png": "[encoded data removed]",
      "text/plain": [
       "<Figure size 432x288 with 1 Axes>"
      ]
     },
     "metadata": {
      "needs_background": "light"
     },
     "output_type": "display_data"
    }
   ],
   "source": [
    "df['marital-status'].value_counts().plot(kind='bar')"
   ]
  },
  {
   "cell_type": "code",
   "execution_count": 51,
   "metadata": {},
   "outputs": [
    {
     "data": {
      "text/plain": [
       "<AxesSubplot:>"
      ]
     },
     "execution_count": 51,
     "metadata": {},
     "output_type": "execute_result"
    },
    {
     "data": {
      "image/png": "[encoded data removed]",
      "text/plain": [
       "<Figure size 432x288 with 1 Axes>"
      ]
     },
     "metadata": {
      "needs_background": "light"
     },
     "output_type": "display_data"
    }
   ],
   "source": [
    "df['occupation'].value_counts().plot(kind='bar')"
   ]
  },
  {
   "cell_type": "code",
   "execution_count": 52,
   "metadata": {},
   "outputs": [
    {
     "data": {
      "text/plain": [
       "<AxesSubplot:>"
      ]
     },
     "execution_count": 52,
     "metadata": {},
     "output_type": "execute_result"
    },
    {
     "data": {
      "image/png": "[encoded data removed]",
      "text/plain": [
       "<Figure size 432x288 with 1 Axes>"
      ]
     },
     "metadata": {
      "needs_background": "light"
     },
     "output_type": "display_data"
    }
   ],
   "source": [
    "df['pregnant'].value_counts().plot(kind='bar')"
   ]
  },
  {
   "cell_type": "code",
   "execution_count": 53,
   "metadata": {},
   "outputs": [
    {
     "data": {
      "text/plain": [
       "<AxesSubplot:>"
      ]
     },
     "execution_count": 53,
     "metadata": {},
     "output_type": "execute_result"
    },
    {
     "data": {
      "image/png": "[encoded data removed]",
      "text/plain": [
       "<Figure size 432x288 with 1 Axes>"
      ]
     },
     "metadata": {
      "needs_background": "light"
     },
     "output_type": "display_data"
    }
   ],
   "source": [
    "df['relationship'].value_counts().plot(kind='bar')"
   ]
  },
  {
   "cell_type": "code",
   "execution_count": 54,
   "metadata": {},
   "outputs": [
    {
     "data": {
      "text/plain": [
       "<AxesSubplot:>"
      ]
     },
     "execution_count": 54,
     "metadata": {},
     "output_type": "execute_result"
    },
    {
     "data": {
      "image/png": "[encoded data removed]",
      "text/plain": [
       "<Figure size 432x288 with 1 Axes>"
      ]
     },
     "metadata": {
      "needs_background": "light"
     },
     "output_type": "display_data"
    }
   ],
   "source": [
    "df['education'].value_counts().plot(kind='bar')"
   ]
  },
  {
   "cell_type": "code",
   "execution_count": 56,
   "metadata": {},
   "outputs": [
    {
     "data": {
      "text/plain": [
       "<AxesSubplot:>"
      ]
     },
     "execution_count": 56,
     "metadata": {},
     "output_type": "execute_result"
    },
    {
     "data": {
      "image/png": "[encoded data removed]",
      "text/plain": [
       "<Figure size 432x288 with 1 Axes>"
      ]
     },
     "metadata": {
      "needs_background": "light"
     },
     "output_type": "display_data"
    }
   ],
   "source": [
    "df['workclass'].value_counts().plot(kind='bar')"
   ]
  },
  {
   "cell_type": "code",
   "execution_count": 15,
   "metadata": {},
   "outputs": [
    {
     "data": {
      "text/html": [
       "<div>\n",
       "<style scoped>\n",
       "    .dataframe tbody tr th:only-of-type {\n",
       "        vertical-align: middle;\n",
       "    }\n",
       "\n",
       "    .dataframe tbody tr th {\n",
       "        vertical-align: top;\n",
       "    }\n",
       "\n",
       "    .dataframe thead th {\n",
       "        text-align: right;\n",
       "    }\n",
       "</style>\n",
       "<table border=\"1\" class=\"dataframe\">\n",
       "  <thead>\n",
       "    <tr style=\"text-align: right;\">\n",
       "      <th></th>\n",
       "      <th>name</th>\n",
       "      <th>address</th>\n",
       "      <th>race</th>\n",
       "      <th>marital-status</th>\n",
       "      <th>occupation</th>\n",
       "      <th>pregnant</th>\n",
       "      <th>education-num</th>\n",
       "      <th>relationship</th>\n",
       "      <th>skewness_glucose</th>\n",
       "      <th>mean_glucose</th>\n",
       "      <th>...</th>\n",
       "      <th>education</th>\n",
       "      <th>fnlwgt</th>\n",
       "      <th>class</th>\n",
       "      <th>std_glucose</th>\n",
       "      <th>income</th>\n",
       "      <th>medical_info</th>\n",
       "      <th>native-country</th>\n",
       "      <th>hours-per-week</th>\n",
       "      <th>capital-loss</th>\n",
       "      <th>workclass</th>\n",
       "    </tr>\n",
       "  </thead>\n",
       "  <tbody>\n",
       "    <tr>\n",
       "      <th>0</th>\n",
       "      <td>David Hayes</td>\n",
       "      <td>235 Jennifer Throughway Suite 569\\r\\nNew Antho...</td>\n",
       "      <td>Black</td>\n",
       "      <td>NaN</td>\n",
       "      <td>Prof-specialty</td>\n",
       "      <td>False</td>\n",
       "      <td>5.0</td>\n",
       "      <td>Not-in-family</td>\n",
       "      <td>-0.197692</td>\n",
       "      <td>141.359375</td>\n",
       "      <td>...</td>\n",
       "      <td>9th</td>\n",
       "      <td>175431.0</td>\n",
       "      <td>0.0</td>\n",
       "      <td>49.842053</td>\n",
       "      <td>&lt;=50K</td>\n",
       "      <td>{'mean_oxygen':'4.04264214','std_oxygen':'19.4...</td>\n",
       "      <td>United-States</td>\n",
       "      <td>40.0</td>\n",
       "      <td>0.0</td>\n",
       "      <td>Private</td>\n",
       "    </tr>\n",
       "    <tr>\n",
       "      <th>1</th>\n",
       "      <td>Stanley Benny</td>\n",
       "      <td>08954 Johnson Course\\r\\nNew Lauraville, NV 22019</td>\n",
       "      <td>White</td>\n",
       "      <td>Married-civ-spouse</td>\n",
       "      <td>Exec-managerial</td>\n",
       "      <td>False</td>\n",
       "      <td>13.0</td>\n",
       "      <td>Husband</td>\n",
       "      <td>16.019670</td>\n",
       "      <td>53.968750</td>\n",
       "      <td>...</td>\n",
       "      <td>Bachelors</td>\n",
       "      <td>66473.0</td>\n",
       "      <td>1.0</td>\n",
       "      <td>31.900220</td>\n",
       "      <td>&gt;50K</td>\n",
       "      <td>{'mean_oxygen':'9.294314381','std_oxygen':'35....</td>\n",
       "      <td>United-States</td>\n",
       "      <td>40.0</td>\n",
       "      <td>0.0</td>\n",
       "      <td>Private</td>\n",
       "    </tr>\n",
       "    <tr>\n",
       "      <th>2</th>\n",
       "      <td>Domingo Labriola</td>\n",
       "      <td>36319 Wiley Drive Suite 094\\r\\nSouth Michael, ...</td>\n",
       "      <td>Asian-Pac-Islander</td>\n",
       "      <td>Married-civ-spouse</td>\n",
       "      <td>Farming-fishing</td>\n",
       "      <td>False</td>\n",
       "      <td>3.0</td>\n",
       "      <td>Husband</td>\n",
       "      <td>21.803837</td>\n",
       "      <td>2257.812500</td>\n",
       "      <td>...</td>\n",
       "      <td>5th-6th</td>\n",
       "      <td>93206.0</td>\n",
       "      <td>1.0</td>\n",
       "      <td>35.793158</td>\n",
       "      <td>&lt;=50K</td>\n",
       "      <td>{'mean_oxygen':'138.7876254','std_oxygen':'79....</td>\n",
       "      <td>Philippines</td>\n",
       "      <td>40.0</td>\n",
       "      <td>0.0</td>\n",
       "      <td>Private</td>\n",
       "    </tr>\n",
       "    <tr>\n",
       "      <th>3</th>\n",
       "      <td>Ronnie Moore</td>\n",
       "      <td>0755 Soto Oval Apt. 443\\r\\nWest Markside, TX 3...</td>\n",
       "      <td>White</td>\n",
       "      <td>Never-married</td>\n",
       "      <td>Other-service</td>\n",
       "      <td>False</td>\n",
       "      <td>10.0</td>\n",
       "      <td>Not-in-family</td>\n",
       "      <td>-0.112191</td>\n",
       "      <td>110.046875</td>\n",
       "      <td>...</td>\n",
       "      <td>Some-college</td>\n",
       "      <td>137604.0</td>\n",
       "      <td>0.0</td>\n",
       "      <td>53.876575</td>\n",
       "      <td>&lt;=50K</td>\n",
       "      <td>{'mean_oxygen':'3.100334448','std_oxygen':'17....</td>\n",
       "      <td>United-States</td>\n",
       "      <td>40.0</td>\n",
       "      <td>0.0</td>\n",
       "      <td>Private</td>\n",
       "    </tr>\n",
       "    <tr>\n",
       "      <th>4</th>\n",
       "      <td>Victor Mcjunkin</td>\n",
       "      <td>95738 Keller Overpass\\r\\nKennedyland, MO 71071</td>\n",
       "      <td>White</td>\n",
       "      <td>NaN</td>\n",
       "      <td>Adm-clerical</td>\n",
       "      <td>False</td>\n",
       "      <td>10.0</td>\n",
       "      <td>Not-in-family</td>\n",
       "      <td>-0.309642</td>\n",
       "      <td>137.960938</td>\n",
       "      <td>...</td>\n",
       "      <td>Some-college</td>\n",
       "      <td>174592.0</td>\n",
       "      <td>0.0</td>\n",
       "      <td>51.885451</td>\n",
       "      <td>&lt;=50K</td>\n",
       "      <td>{'mean_oxygen':'4.203177258','std_oxygen':'23....</td>\n",
       "      <td>United-States</td>\n",
       "      <td>40.0</td>\n",
       "      <td>0.0</td>\n",
       "      <td>Private</td>\n",
       "    </tr>\n",
       "  </tbody>\n",
       "</table>\n",
       "<p>5 rows × 22 columns</p>\n",
       "</div>"
      ],
      "text/plain": [
       "               name                                            address  \\\n",
       "0       David Hayes  235 Jennifer Throughway Suite 569\\r\\nNew Antho...   \n",
       "1     Stanley Benny   08954 Johnson Course\\r\\nNew Lauraville, NV 22019   \n",
       "2  Domingo Labriola  36319 Wiley Drive Suite 094\\r\\nSouth Michael, ...   \n",
       "3      Ronnie Moore  0755 Soto Oval Apt. 443\\r\\nWest Markside, TX 3...   \n",
       "4   Victor Mcjunkin     95738 Keller Overpass\\r\\nKennedyland, MO 71071   \n",
       "\n",
       "                 race      marital-status       occupation pregnant  \\\n",
       "0               Black                 NaN   Prof-specialty    False   \n",
       "1               White  Married-civ-spouse  Exec-managerial    False   \n",
       "2  Asian-Pac-Islander  Married-civ-spouse  Farming-fishing    False   \n",
       "3               White       Never-married    Other-service    False   \n",
       "4               White                 NaN     Adm-clerical    False   \n",
       "\n",
       "   education-num   relationship  skewness_glucose  mean_glucose  ...  \\\n",
       "0            5.0  Not-in-family         -0.197692    141.359375  ...   \n",
       "1           13.0        Husband         16.019670     53.968750  ...   \n",
       "2            3.0        Husband         21.803837   2257.812500  ...   \n",
       "3           10.0  Not-in-family         -0.112191    110.046875  ...   \n",
       "4           10.0  Not-in-family         -0.309642    137.960938  ...   \n",
       "\n",
       "      education    fnlwgt class  std_glucose  income  \\\n",
       "0           9th  175431.0   0.0    49.842053   <=50K   \n",
       "1     Bachelors   66473.0   1.0    31.900220    >50K   \n",
       "2       5th-6th   93206.0   1.0    35.793158   <=50K   \n",
       "3  Some-college  137604.0   0.0    53.876575   <=50K   \n",
       "4  Some-college  174592.0   0.0    51.885451   <=50K   \n",
       "\n",
       "                                        medical_info native-country  \\\n",
       "0  {'mean_oxygen':'4.04264214','std_oxygen':'19.4...  United-States   \n",
       "1  {'mean_oxygen':'9.294314381','std_oxygen':'35....  United-States   \n",
       "2  {'mean_oxygen':'138.7876254','std_oxygen':'79....    Philippines   \n",
       "3  {'mean_oxygen':'3.100334448','std_oxygen':'17....  United-States   \n",
       "4  {'mean_oxygen':'4.203177258','std_oxygen':'23....  United-States   \n",
       "\n",
       "  hours-per-week capital-loss  workclass  \n",
       "0           40.0          0.0    Private  \n",
       "1           40.0          0.0    Private  \n",
       "2           40.0          0.0    Private  \n",
       "3           40.0          0.0    Private  \n",
       "4           40.0          0.0    Private  \n",
       "\n",
       "[5 rows x 22 columns]"
      ]
     },
     "execution_count": 15,
     "metadata": {},
     "output_type": "execute_result"
    }
   ],
   "source": [
    "df.head()"
   ]
  },
  {
   "cell_type": "code",
   "execution_count": 23,
   "metadata": {},
   "outputs": [
    {
     "data": {
      "text/plain": [
       "<AxesSubplot:xlabel='fnlwgt', ylabel='mean_glucose'>"
      ]
     },
     "execution_count": 23,
     "metadata": {},
     "output_type": "execute_result"
    },
    {
     "data": {
      "image/png": "[encoded data removed]",
      "text/plain": [
       "<Figure size 432x288 with 1 Axes>"
      ]
     },
     "metadata": {
      "needs_background": "light"
     },
     "output_type": "display_data"
    }
   ],
   "source": [
    "sns.scatterplot(x='fnlwgt', y='mean_glucose', hue='occupation', data=df) # moze byt mean pri tomto minusovy ?"
   ]
  },
  {
   "cell_type": "code",
   "execution_count": 24,
   "metadata": {},
   "outputs": [
    {
     "data": {
      "text/plain": [
       "<AxesSubplot:xlabel='fnlwgt', ylabel='std_glucose'>"
      ]
     },
     "execution_count": 24,
     "metadata": {},
     "output_type": "execute_result"
    },
    {
     "data": {
      "image/png": "[encoded data removed]",
      "text/plain": [
       "<Figure size 432x288 with 1 Axes>"
      ]
     },
     "metadata": {
      "needs_background": "light"
     },
     "output_type": "display_data"
    }
   ],
   "source": [
    "sns.scatterplot(x='fnlwgt', y='std_glucose', hue='occupation', data=df)"
   ]
  },
  {
   "cell_type": "code",
   "execution_count": 28,
   "metadata": {},
   "outputs": [
    {
     "data": {
      "text/plain": [
       "<AxesSubplot:xlabel='fnlwgt', ylabel='hours-per-week'>"
      ]
     },
     "execution_count": 28,
     "metadata": {},
     "output_type": "execute_result"
    },
    {
     "data": {
      "image/png": "[encoded data removed]",
      "text/plain": [
       "<Figure size 432x288 with 1 Axes>"
      ]
     },
     "metadata": {
      "needs_background": "light"
     },
     "output_type": "display_data"
    }
   ],
   "source": [
    "sns.scatterplot(x='fnlwgt', y='hours-per-week', hue='income', data=df)"
   ]
  },
  {
   "cell_type": "code",
   "execution_count": 31,
   "metadata": {},
   "outputs": [
    {
     "data": {
      "text/plain": [
       "<AxesSubplot:xlabel='income', ylabel='hours-per-week'>"
      ]
     },
     "execution_count": 31,
     "metadata": {},
     "output_type": "execute_result"
    },
    {
     "data": {
      "image/png": "[encoded data removed]",
      "text/plain": [
       "<Figure size 432x288 with 1 Axes>"
      ]
     },
     "metadata": {
      "needs_background": "light"
     },
     "output_type": "display_data"
    }
   ],
   "source": [
    "sns.violinplot(x='income', y='hours-per-week', data=df)"
   ]
  },
  {
   "cell_type": "code",
   "execution_count": null,
   "metadata": {},
   "outputs": [],
   "source": [
    "sns.scatterplot(data=iris, x='petal_length', y='petal_width')\n",
    "sns.regplot(x=\"petal_length\", y=\"petal_width\", data=iris)\n",
    "\n",
    "# This is used for parova analyza\n",
    "plt.scatter(df.age, df.sex)\n",
    "sns.pairplot(df, hue=\"age\") # This isn't working\n",
    "sns.regplot(x=\"petal_length\", y=\"petal_width\", data=iris)\n",
    "\n",
    "# Corr\n",
    "print(\"Pearson correlation: %.3f\" % iris.petal_length.corr(iris.petal_width))\n",
    "iris.corr()\n",
    "fig, ax = plt.subplots(figsize=(10,8))\n",
    "sns.heatmap(iris.corr(), ax=ax, annot=True, fmt=\".3f\")\n",
    "sns.boxplot('species', 'petal_length', data=iris)"
   ]
  },
  {
   "cell_type": "code",
   "execution_count": 76,
   "metadata": {},
   "outputs": [
    {
     "data": {
      "text/html": [
       "<div>\n",
       "<style scoped>\n",
       "    .dataframe tbody tr th:only-of-type {\n",
       "        vertical-align: middle;\n",
       "    }\n",
       "\n",
       "    .dataframe tbody tr th {\n",
       "        vertical-align: top;\n",
       "    }\n",
       "\n",
       "    .dataframe thead th {\n",
       "        text-align: right;\n",
       "    }\n",
       "</style>\n",
       "<table border=\"1\" class=\"dataframe\">\n",
       "  <thead>\n",
       "    <tr style=\"text-align: right;\">\n",
       "      <th></th>\n",
       "      <th>education-num</th>\n",
       "      <th>skewness_glucose</th>\n",
       "      <th>mean_glucose</th>\n",
       "      <th>capital-gain</th>\n",
       "      <th>kurtosis_glucose</th>\n",
       "      <th>fnlwgt</th>\n",
       "      <th>class</th>\n",
       "      <th>std_glucose</th>\n",
       "      <th>hours-per-week</th>\n",
       "      <th>capital-loss</th>\n",
       "    </tr>\n",
       "  </thead>\n",
       "  <tbody>\n",
       "    <tr>\n",
       "      <th>education-num</th>\n",
       "      <td>1.000000</td>\n",
       "      <td>-0.011979</td>\n",
       "      <td>0.012340</td>\n",
       "      <td>0.121256</td>\n",
       "      <td>-0.010947</td>\n",
       "      <td>-0.051732</td>\n",
       "      <td>-0.021412</td>\n",
       "      <td>-0.004888</td>\n",
       "      <td>0.143040</td>\n",
       "      <td>0.090149</td>\n",
       "    </tr>\n",
       "    <tr>\n",
       "      <th>skewness_glucose</th>\n",
       "      <td>-0.011979</td>\n",
       "      <td>1.000000</td>\n",
       "      <td>-0.009434</td>\n",
       "      <td>0.000182</td>\n",
       "      <td>0.961722</td>\n",
       "      <td>-0.024980</td>\n",
       "      <td>0.680597</td>\n",
       "      <td>-0.666135</td>\n",
       "      <td>-0.012818</td>\n",
       "      <td>0.002315</td>\n",
       "    </tr>\n",
       "    <tr>\n",
       "      <th>mean_glucose</th>\n",
       "      <td>0.012340</td>\n",
       "      <td>-0.009434</td>\n",
       "      <td>1.000000</td>\n",
       "      <td>0.024359</td>\n",
       "      <td>-0.005865</td>\n",
       "      <td>-0.022246</td>\n",
       "      <td>-0.015211</td>\n",
       "      <td>0.022384</td>\n",
       "      <td>0.024153</td>\n",
       "      <td>-0.024901</td>\n",
       "    </tr>\n",
       "    <tr>\n",
       "      <th>capital-gain</th>\n",
       "      <td>0.121256</td>\n",
       "      <td>0.000182</td>\n",
       "      <td>0.024359</td>\n",
       "      <td>1.000000</td>\n",
       "      <td>-0.007008</td>\n",
       "      <td>0.010546</td>\n",
       "      <td>-0.014670</td>\n",
       "      <td>0.008979</td>\n",
       "      <td>0.096427</td>\n",
       "      <td>-0.028317</td>\n",
       "    </tr>\n",
       "    <tr>\n",
       "      <th>kurtosis_glucose</th>\n",
       "      <td>-0.010947</td>\n",
       "      <td>0.961722</td>\n",
       "      <td>-0.005865</td>\n",
       "      <td>-0.007008</td>\n",
       "      <td>1.000000</td>\n",
       "      <td>-0.024385</td>\n",
       "      <td>0.788871</td>\n",
       "      <td>-0.653934</td>\n",
       "      <td>-0.008163</td>\n",
       "      <td>0.003581</td>\n",
       "    </tr>\n",
       "    <tr>\n",
       "      <th>fnlwgt</th>\n",
       "      <td>-0.051732</td>\n",
       "      <td>-0.024980</td>\n",
       "      <td>-0.022246</td>\n",
       "      <td>0.010546</td>\n",
       "      <td>-0.024385</td>\n",
       "      <td>1.000000</td>\n",
       "      <td>-0.009104</td>\n",
       "      <td>0.026743</td>\n",
       "      <td>-0.021165</td>\n",
       "      <td>-0.034717</td>\n",
       "    </tr>\n",
       "    <tr>\n",
       "      <th>class</th>\n",
       "      <td>-0.021412</td>\n",
       "      <td>0.680597</td>\n",
       "      <td>-0.015211</td>\n",
       "      <td>-0.014670</td>\n",
       "      <td>0.788871</td>\n",
       "      <td>-0.009104</td>\n",
       "      <td>1.000000</td>\n",
       "      <td>-0.500898</td>\n",
       "      <td>0.003044</td>\n",
       "      <td>0.003158</td>\n",
       "    </tr>\n",
       "    <tr>\n",
       "      <th>std_glucose</th>\n",
       "      <td>-0.004888</td>\n",
       "      <td>-0.666135</td>\n",
       "      <td>0.022384</td>\n",
       "      <td>0.008979</td>\n",
       "      <td>-0.653934</td>\n",
       "      <td>0.026743</td>\n",
       "      <td>-0.500898</td>\n",
       "      <td>1.000000</td>\n",
       "      <td>0.018442</td>\n",
       "      <td>-0.007243</td>\n",
       "    </tr>\n",
       "    <tr>\n",
       "      <th>hours-per-week</th>\n",
       "      <td>0.143040</td>\n",
       "      <td>-0.012818</td>\n",
       "      <td>0.024153</td>\n",
       "      <td>0.096427</td>\n",
       "      <td>-0.008163</td>\n",
       "      <td>-0.021165</td>\n",
       "      <td>0.003044</td>\n",
       "      <td>0.018442</td>\n",
       "      <td>1.000000</td>\n",
       "      <td>0.070361</td>\n",
       "    </tr>\n",
       "    <tr>\n",
       "      <th>capital-loss</th>\n",
       "      <td>0.090149</td>\n",
       "      <td>0.002315</td>\n",
       "      <td>-0.024901</td>\n",
       "      <td>-0.028317</td>\n",
       "      <td>0.003581</td>\n",
       "      <td>-0.034717</td>\n",
       "      <td>0.003158</td>\n",
       "      <td>-0.007243</td>\n",
       "      <td>0.070361</td>\n",
       "      <td>1.000000</td>\n",
       "    </tr>\n",
       "  </tbody>\n",
       "</table>\n",
       "</div>"
      ],
      "text/plain": [
       "                  education-num  skewness_glucose  mean_glucose  capital-gain  \\\n",
       "education-num          1.000000         -0.011979      0.012340      0.121256   \n",
       "skewness_glucose      -0.011979          1.000000     -0.009434      0.000182   \n",
       "mean_glucose           0.012340         -0.009434      1.000000      0.024359   \n",
       "capital-gain           0.121256          0.000182      0.024359      1.000000   \n",
       "kurtosis_glucose      -0.010947          0.961722     -0.005865     -0.007008   \n",
       "fnlwgt                -0.051732         -0.024980     -0.022246      0.010546   \n",
       "class                 -0.021412          0.680597     -0.015211     -0.014670   \n",
       "std_glucose           -0.004888         -0.666135      0.022384      0.008979   \n",
       "hours-per-week         0.143040         -0.012818      0.024153      0.096427   \n",
       "capital-loss           0.090149          0.002315     -0.024901     -0.028317   \n",
       "\n",
       "                  kurtosis_glucose    fnlwgt     class  std_glucose  \\\n",
       "education-num            -0.010947 -0.051732 -0.021412    -0.004888   \n",
       "skewness_glucose          0.961722 -0.024980  0.680597    -0.666135   \n",
       "mean_glucose             -0.005865 -0.022246 -0.015211     0.022384   \n",
       "capital-gain             -0.007008  0.010546 -0.014670     0.008979   \n",
       "kurtosis_glucose          1.000000 -0.024385  0.788871    -0.653934   \n",
       "fnlwgt                   -0.024385  1.000000 -0.009104     0.026743   \n",
       "class                     0.788871 -0.009104  1.000000    -0.500898   \n",
       "std_glucose              -0.653934  0.026743 -0.500898     1.000000   \n",
       "hours-per-week           -0.008163 -0.021165  0.003044     0.018442   \n",
       "capital-loss              0.003581 -0.034717  0.003158    -0.007243   \n",
       "\n",
       "                  hours-per-week  capital-loss  \n",
       "education-num           0.143040      0.090149  \n",
       "skewness_glucose       -0.012818      0.002315  \n",
       "mean_glucose            0.024153     -0.024901  \n",
       "capital-gain            0.096427     -0.028317  \n",
       "kurtosis_glucose       -0.008163      0.003581  \n",
       "fnlwgt                 -0.021165     -0.034717  \n",
       "class                   0.003044      0.003158  \n",
       "std_glucose             0.018442     -0.007243  \n",
       "hours-per-week          1.000000      0.070361  \n",
       "capital-loss            0.070361      1.000000  "
      ]
     },
     "execution_count": 76,
     "metadata": {},
     "output_type": "execute_result"
    }
   ],
   "source": [
    "df.corr()"
   ]
  },
  {
   "cell_type": "code",
   "execution_count": 62,
   "metadata": {},
   "outputs": [
    {
     "data": {
      "text/plain": [
       "<AxesSubplot:xlabel='education-num', ylabel='income'>"
      ]
     },
     "execution_count": 62,
     "metadata": {},
     "output_type": "execute_result"
    },
    {
     "data": {
      "image/png": "[encoded data removed]",
      "text/plain": [
       "<Figure size 432x288 with 1 Axes>"
      ]
     },
     "metadata": {
      "needs_background": "light"
     },
     "output_type": "display_data"
    }
   ],
   "source": [
    "sns.boxplot(x='education-num', y='income', data=df)"
   ]
  },
  {
   "cell_type": "code",
   "execution_count": 5,
   "metadata": {},
   "outputs": [],
   "source": [
    "# personal_train\n",
    "df = pd.read_csv(\"./personal_train.csv\", index_col=0, sep=',') # First column was Unnamend"
   ]
  },
  {
   "cell_type": "code",
   "execution_count": 18,
   "metadata": {},
   "outputs": [
    {
     "data": {
      "text/html": [
       "<div>\n",
       "<style scoped>\n",
       "    .dataframe tbody tr th:only-of-type {\n",
       "        vertical-align: middle;\n",
       "    }\n",
       "\n",
       "    .dataframe tbody tr th {\n",
       "        vertical-align: top;\n",
       "    }\n",
       "\n",
       "    .dataframe thead th {\n",
       "        text-align: right;\n",
       "    }\n",
       "</style>\n",
       "<table border=\"1\" class=\"dataframe\">\n",
       "  <thead>\n",
       "    <tr style=\"text-align: right;\">\n",
       "      <th></th>\n",
       "      <th>age</th>\n",
       "    </tr>\n",
       "  </thead>\n",
       "  <tbody>\n",
       "    <tr>\n",
       "      <th>count</th>\n",
       "      <td>3540.000000</td>\n",
       "    </tr>\n",
       "    <tr>\n",
       "      <th>mean</th>\n",
       "      <td>51.816949</td>\n",
       "    </tr>\n",
       "    <tr>\n",
       "      <th>std</th>\n",
       "      <td>11.914637</td>\n",
       "    </tr>\n",
       "    <tr>\n",
       "      <th>min</th>\n",
       "      <td>-1.000000</td>\n",
       "    </tr>\n",
       "    <tr>\n",
       "      <th>25%</th>\n",
       "      <td>44.000000</td>\n",
       "    </tr>\n",
       "    <tr>\n",
       "      <th>50%</th>\n",
       "      <td>52.000000</td>\n",
       "    </tr>\n",
       "    <tr>\n",
       "      <th>75%</th>\n",
       "      <td>60.000000</td>\n",
       "    </tr>\n",
       "    <tr>\n",
       "      <th>max</th>\n",
       "      <td>113.000000</td>\n",
       "    </tr>\n",
       "  </tbody>\n",
       "</table>\n",
       "</div>"
      ],
      "text/plain": [
       "               age\n",
       "count  3540.000000\n",
       "mean     51.816949\n",
       "std      11.914637\n",
       "min      -1.000000\n",
       "25%      44.000000\n",
       "50%      52.000000\n",
       "75%      60.000000\n",
       "max     113.000000"
      ]
     },
     "execution_count": 18,
     "metadata": {},
     "output_type": "execute_result"
    }
   ],
   "source": [
    "df.describe() # Fundamental descriptive stats"
   ]
  },
  {
   "cell_type": "code",
   "execution_count": 7,
   "metadata": {},
   "outputs": [
    {
     "name": "stdout",
     "output_type": "stream",
     "text": [
      "<class 'pandas.core.frame.DataFrame'>\n",
      "Int64Index: 3933 entries, 0 to 3932\n",
      "Data columns (total 5 columns):\n",
      " #   Column         Non-Null Count  Dtype  \n",
      "---  ------         --------------  -----  \n",
      " 0   name           3933 non-null   object \n",
      " 1   address        3933 non-null   object \n",
      " 2   age            3540 non-null   float64\n",
      " 3   sex            3933 non-null   object \n",
      " 4   date_of_birth  3933 non-null   object \n",
      "dtypes: float64(1), object(4)\n",
      "memory usage: 184.4+ KB\n"
     ]
    }
   ],
   "source": [
    "df.info() # number of records: 3933, number of atributes: 5\n",
    "# name = object\n",
    "# address = object\n",
    "# age = float\n",
    "# sex = object\n",
    "# date_of_birth = object\n",
    "# there are 393 cells in age column with null value\n",
    "# other columns don't have null values"
   ]
  },
  {
   "cell_type": "code",
   "execution_count": 8,
   "metadata": {},
   "outputs": [
    {
     "data": {
      "text/html": [
       "<div>\n",
       "<style scoped>\n",
       "    .dataframe tbody tr th:only-of-type {\n",
       "        vertical-align: middle;\n",
       "    }\n",
       "\n",
       "    .dataframe tbody tr th {\n",
       "        vertical-align: top;\n",
       "    }\n",
       "\n",
       "    .dataframe thead th {\n",
       "        text-align: right;\n",
       "    }\n",
       "</style>\n",
       "<table border=\"1\" class=\"dataframe\">\n",
       "  <thead>\n",
       "    <tr style=\"text-align: right;\">\n",
       "      <th></th>\n",
       "      <th>name</th>\n",
       "      <th>address</th>\n",
       "      <th>age</th>\n",
       "      <th>sex</th>\n",
       "      <th>date_of_birth</th>\n",
       "    </tr>\n",
       "  </thead>\n",
       "  <tbody>\n",
       "    <tr>\n",
       "      <th>0</th>\n",
       "      <td>Roscoe Bohannon</td>\n",
       "      <td>7183 Osborne Ways Apt. 651\\r\\nEast Andrew, OH ...</td>\n",
       "      <td>63.0</td>\n",
       "      <td>Female</td>\n",
       "      <td>1956-10-02</td>\n",
       "    </tr>\n",
       "    <tr>\n",
       "      <th>1</th>\n",
       "      <td>Ernest Kline</td>\n",
       "      <td>391 Ball Road Suite 961\\r\\nFlowersborough, IN ...</td>\n",
       "      <td>58.0</td>\n",
       "      <td>Female</td>\n",
       "      <td>1961-05-14</td>\n",
       "    </tr>\n",
       "    <tr>\n",
       "      <th>2</th>\n",
       "      <td>Harold Hendriks</td>\n",
       "      <td>8702 Vincent Square\\r\\nNew Jerryfurt, CO 30614</td>\n",
       "      <td>47.0</td>\n",
       "      <td>Male</td>\n",
       "      <td>1972-06-19</td>\n",
       "    </tr>\n",
       "    <tr>\n",
       "      <th>3</th>\n",
       "      <td>Randy Baptiste</td>\n",
       "      <td>2751 Harris Crossroad\\r\\nWest Ashley, CA 30311</td>\n",
       "      <td>60.0</td>\n",
       "      <td>Female</td>\n",
       "      <td>1959-02-19</td>\n",
       "    </tr>\n",
       "    <tr>\n",
       "      <th>4</th>\n",
       "      <td>Anthony Colucci</td>\n",
       "      <td>904 Robert Cliffs Suite 186\\r\\nWest Kyle, CO 7...</td>\n",
       "      <td>31.0</td>\n",
       "      <td>Female</td>\n",
       "      <td>1988-08-04</td>\n",
       "    </tr>\n",
       "  </tbody>\n",
       "</table>\n",
       "</div>"
      ],
      "text/plain": [
       "              name                                            address   age  \\\n",
       "0  Roscoe Bohannon  7183 Osborne Ways Apt. 651\\r\\nEast Andrew, OH ...  63.0   \n",
       "1     Ernest Kline  391 Ball Road Suite 961\\r\\nFlowersborough, IN ...  58.0   \n",
       "2  Harold Hendriks     8702 Vincent Square\\r\\nNew Jerryfurt, CO 30614  47.0   \n",
       "3   Randy Baptiste     2751 Harris Crossroad\\r\\nWest Ashley, CA 30311  60.0   \n",
       "4  Anthony Colucci  904 Robert Cliffs Suite 186\\r\\nWest Kyle, CO 7...  31.0   \n",
       "\n",
       "       sex date_of_birth  \n",
       "0   Female    1956-10-02  \n",
       "1   Female    1961-05-14  \n",
       "2     Male    1972-06-19  \n",
       "3   Female    1959-02-19  \n",
       "4   Female    1988-08-04  "
      ]
     },
     "execution_count": 8,
     "metadata": {},
     "output_type": "execute_result"
    }
   ],
   "source": [
    "df.head()"
   ]
  },
  {
   "cell_type": "code",
   "execution_count": 9,
   "metadata": {},
   "outputs": [
    {
     "data": {
      "text/html": [
       "<div>\n",
       "<style scoped>\n",
       "    .dataframe tbody tr th:only-of-type {\n",
       "        vertical-align: middle;\n",
       "    }\n",
       "\n",
       "    .dataframe tbody tr th {\n",
       "        vertical-align: top;\n",
       "    }\n",
       "\n",
       "    .dataframe thead th {\n",
       "        text-align: right;\n",
       "    }\n",
       "</style>\n",
       "<table border=\"1\" class=\"dataframe\">\n",
       "  <thead>\n",
       "    <tr style=\"text-align: right;\">\n",
       "      <th></th>\n",
       "      <th>name</th>\n",
       "      <th>age</th>\n",
       "      <th>sex</th>\n",
       "      <th>date_of_birth</th>\n",
       "      <th>street</th>\n",
       "      <th>city</th>\n",
       "      <th>zip_code</th>\n",
       "    </tr>\n",
       "  </thead>\n",
       "  <tbody>\n",
       "    <tr>\n",
       "      <th>0</th>\n",
       "      <td>Roscoe Bohannon</td>\n",
       "      <td>63.0</td>\n",
       "      <td>Female</td>\n",
       "      <td>1956-10-02</td>\n",
       "      <td>7183 Osborne Ways Apt. 651</td>\n",
       "      <td>East Andrew</td>\n",
       "      <td>OH 53211</td>\n",
       "    </tr>\n",
       "    <tr>\n",
       "      <th>1</th>\n",
       "      <td>Ernest Kline</td>\n",
       "      <td>58.0</td>\n",
       "      <td>Female</td>\n",
       "      <td>1961-05-14</td>\n",
       "      <td>391 Ball Road Suite 961</td>\n",
       "      <td>Flowersborough</td>\n",
       "      <td>IN 57550</td>\n",
       "    </tr>\n",
       "    <tr>\n",
       "      <th>2</th>\n",
       "      <td>Harold Hendriks</td>\n",
       "      <td>47.0</td>\n",
       "      <td>Male</td>\n",
       "      <td>1972-06-19</td>\n",
       "      <td>8702 Vincent Square</td>\n",
       "      <td>New Jerryfurt</td>\n",
       "      <td>CO 30614</td>\n",
       "    </tr>\n",
       "    <tr>\n",
       "      <th>3</th>\n",
       "      <td>Randy Baptiste</td>\n",
       "      <td>60.0</td>\n",
       "      <td>Female</td>\n",
       "      <td>1959-02-19</td>\n",
       "      <td>2751 Harris Crossroad</td>\n",
       "      <td>West Ashley</td>\n",
       "      <td>CA 30311</td>\n",
       "    </tr>\n",
       "    <tr>\n",
       "      <th>4</th>\n",
       "      <td>Anthony Colucci</td>\n",
       "      <td>31.0</td>\n",
       "      <td>Female</td>\n",
       "      <td>1988-08-04</td>\n",
       "      <td>904 Robert Cliffs Suite 186</td>\n",
       "      <td>West Kyle</td>\n",
       "      <td>CO 77139</td>\n",
       "    </tr>\n",
       "  </tbody>\n",
       "</table>\n",
       "</div>"
      ],
      "text/plain": [
       "              name   age      sex date_of_birth                       street  \\\n",
       "0  Roscoe Bohannon  63.0   Female    1956-10-02   7183 Osborne Ways Apt. 651   \n",
       "1     Ernest Kline  58.0   Female    1961-05-14      391 Ball Road Suite 961   \n",
       "2  Harold Hendriks  47.0     Male    1972-06-19          8702 Vincent Square   \n",
       "3   Randy Baptiste  60.0   Female    1959-02-19        2751 Harris Crossroad   \n",
       "4  Anthony Colucci  31.0   Female    1988-08-04  904 Robert Cliffs Suite 186   \n",
       "\n",
       "              city   zip_code  \n",
       "0      East Andrew   OH 53211  \n",
       "1   Flowersborough   IN 57550  \n",
       "2    New Jerryfurt   CO 30614  \n",
       "3      West Ashley   CA 30311  \n",
       "4        West Kyle   CO 77139  "
      ]
     },
     "execution_count": 9,
     "metadata": {},
     "output_type": "execute_result"
    }
   ],
   "source": [
    "df_addresses = df['address'].replace('\\r', ',', regex=True)\n",
    "df_addresses = df_addresses.replace('\\n', ' ', regex=True)\n",
    "df_addresses = df_addresses.str.split(',')\n",
    "df_addresses.head()\n",
    "\n",
    "cities = []\n",
    "streets = []\n",
    "zip_codes = []\n",
    "\n",
    "for address in df_addresses:\n",
    "    if len(address) < 3: # these records have cities in address\n",
    "        streets.append(address[0])\n",
    "        cities.append(None)\n",
    "        zip_codes.append(address[1])\n",
    "    else: # these records don't have cities in address\n",
    "        streets.append(address[0])\n",
    "        cities.append(address[1])\n",
    "        zip_codes.append(address[2])\n",
    "   \n",
    "df['street'] = streets\n",
    "df['city'] = cities\n",
    "df['zip_code'] = zip_codes\n",
    "\n",
    "df = df.drop('address', axis=1)\n",
    "df.head()"
   ]
  },
  {
   "cell_type": "code",
   "execution_count": 10,
   "metadata": {},
   "outputs": [
    {
     "name": "stdout",
     "output_type": "stream",
     "text": [
      "<class 'pandas.core.frame.DataFrame'>\n",
      "Int64Index: 3933 entries, 0 to 3932\n",
      "Data columns (total 7 columns):\n",
      " #   Column         Non-Null Count  Dtype  \n",
      "---  ------         --------------  -----  \n",
      " 0   name           3933 non-null   object \n",
      " 1   age            3540 non-null   float64\n",
      " 2   sex            3933 non-null   object \n",
      " 3   date_of_birth  3933 non-null   object \n",
      " 4   street         3933 non-null   object \n",
      " 5   city           3657 non-null   object \n",
      " 6   zip_code       3933 non-null   object \n",
      "dtypes: float64(1), object(6)\n",
      "memory usage: 245.8+ KB\n"
     ]
    }
   ],
   "source": [
    "df.info() # 276 number of cells in city column have null value"
   ]
  },
  {
   "cell_type": "code",
   "execution_count": 11,
   "metadata": {},
   "outputs": [
    {
     "data": {
      "text/plain": [
       "643"
      ]
     },
     "execution_count": 11,
     "metadata": {},
     "output_type": "execute_result"
    }
   ],
   "source": [
    "df.shape[0] - df.dropna().shape[0] # there are 643 nan values"
   ]
  },
  {
   "cell_type": "code",
   "execution_count": 12,
   "metadata": {},
   "outputs": [
    {
     "data": {
      "text/html": [
       "<div>\n",
       "<style scoped>\n",
       "    .dataframe tbody tr th:only-of-type {\n",
       "        vertical-align: middle;\n",
       "    }\n",
       "\n",
       "    .dataframe tbody tr th {\n",
       "        vertical-align: top;\n",
       "    }\n",
       "\n",
       "    .dataframe thead th {\n",
       "        text-align: right;\n",
       "    }\n",
       "</style>\n",
       "<table border=\"1\" class=\"dataframe\">\n",
       "  <thead>\n",
       "    <tr style=\"text-align: right;\">\n",
       "      <th></th>\n",
       "      <th>name</th>\n",
       "      <th>age</th>\n",
       "      <th>sex</th>\n",
       "      <th>date_of_birth</th>\n",
       "      <th>street</th>\n",
       "      <th>city</th>\n",
       "      <th>zip_code</th>\n",
       "    </tr>\n",
       "  </thead>\n",
       "  <tbody>\n",
       "    <tr>\n",
       "      <th>8</th>\n",
       "      <td>Harold Miller</td>\n",
       "      <td>NaN</td>\n",
       "      <td>Female</td>\n",
       "      <td>66-06-24</td>\n",
       "      <td>8514 Elizabeth Crescent</td>\n",
       "      <td>West Joseland</td>\n",
       "      <td>GA 49359</td>\n",
       "    </tr>\n",
       "    <tr>\n",
       "      <th>9</th>\n",
       "      <td>Charles Czachorowski</td>\n",
       "      <td>NaN</td>\n",
       "      <td>Male</td>\n",
       "      <td>1957-06-06</td>\n",
       "      <td>6798 Wagner Locks Suite 377</td>\n",
       "      <td>Lake Brenda</td>\n",
       "      <td>DC 53038</td>\n",
       "    </tr>\n",
       "    <tr>\n",
       "      <th>10</th>\n",
       "      <td>Robert Grantham</td>\n",
       "      <td>NaN</td>\n",
       "      <td>Male</td>\n",
       "      <td>1971-08-08</td>\n",
       "      <td>822 Adams Plains</td>\n",
       "      <td>New Karen</td>\n",
       "      <td>AK 92114</td>\n",
       "    </tr>\n",
       "    <tr>\n",
       "      <th>21</th>\n",
       "      <td>Jeffrey Taylor</td>\n",
       "      <td>42.0</td>\n",
       "      <td>Male</td>\n",
       "      <td>27/04/1977</td>\n",
       "      <td>USNV Kim</td>\n",
       "      <td>None</td>\n",
       "      <td>FPO AA 96043</td>\n",
       "    </tr>\n",
       "    <tr>\n",
       "      <th>24</th>\n",
       "      <td>Thaddeus Mackerl</td>\n",
       "      <td>NaN</td>\n",
       "      <td>Female</td>\n",
       "      <td>1969-06-15</td>\n",
       "      <td>8122 Jessica Knolls Apt. 880</td>\n",
       "      <td>Dakotafurt</td>\n",
       "      <td>WV 62098</td>\n",
       "    </tr>\n",
       "    <tr>\n",
       "      <th>...</th>\n",
       "      <td>...</td>\n",
       "      <td>...</td>\n",
       "      <td>...</td>\n",
       "      <td>...</td>\n",
       "      <td>...</td>\n",
       "      <td>...</td>\n",
       "      <td>...</td>\n",
       "    </tr>\n",
       "    <tr>\n",
       "      <th>3915</th>\n",
       "      <td>Drew Garst</td>\n",
       "      <td>50.0</td>\n",
       "      <td>Male</td>\n",
       "      <td>69-01-03</td>\n",
       "      <td>USNS Duarte</td>\n",
       "      <td>None</td>\n",
       "      <td>FPO AA 22046</td>\n",
       "    </tr>\n",
       "    <tr>\n",
       "      <th>3920</th>\n",
       "      <td>David Lackey</td>\n",
       "      <td>44.0</td>\n",
       "      <td>Male</td>\n",
       "      <td>1975-02-15</td>\n",
       "      <td>USNV Patterson</td>\n",
       "      <td>None</td>\n",
       "      <td>FPO AA 81791</td>\n",
       "    </tr>\n",
       "    <tr>\n",
       "      <th>3926</th>\n",
       "      <td>Joseph Leroux</td>\n",
       "      <td>59.0</td>\n",
       "      <td>Male</td>\n",
       "      <td>1960/01/04</td>\n",
       "      <td>Unit 7574 Box 5626</td>\n",
       "      <td>None</td>\n",
       "      <td>DPO AE 77296</td>\n",
       "    </tr>\n",
       "    <tr>\n",
       "      <th>3930</th>\n",
       "      <td>Jared Kinsey</td>\n",
       "      <td>48.0</td>\n",
       "      <td>Male</td>\n",
       "      <td>1971-05-10</td>\n",
       "      <td>Unit 8416 Box 3801</td>\n",
       "      <td>None</td>\n",
       "      <td>DPO AE 31166</td>\n",
       "    </tr>\n",
       "    <tr>\n",
       "      <th>3932</th>\n",
       "      <td>Adalberto Daughters</td>\n",
       "      <td>33.0</td>\n",
       "      <td>Male</td>\n",
       "      <td>1986-10-03</td>\n",
       "      <td>Unit 7931 Box 0601</td>\n",
       "      <td>None</td>\n",
       "      <td>DPO AE 50505</td>\n",
       "    </tr>\n",
       "  </tbody>\n",
       "</table>\n",
       "<p>643 rows × 7 columns</p>\n",
       "</div>"
      ],
      "text/plain": [
       "                      name   age      sex date_of_birth  \\\n",
       "8            Harold Miller   NaN   Female      66-06-24   \n",
       "9     Charles Czachorowski   NaN     Male    1957-06-06   \n",
       "10         Robert Grantham   NaN     Male    1971-08-08   \n",
       "21          Jeffrey Taylor  42.0     Male    27/04/1977   \n",
       "24        Thaddeus Mackerl   NaN   Female    1969-06-15   \n",
       "...                    ...   ...      ...           ...   \n",
       "3915            Drew Garst  50.0     Male      69-01-03   \n",
       "3920          David Lackey  44.0     Male    1975-02-15   \n",
       "3926         Joseph Leroux  59.0     Male    1960/01/04   \n",
       "3930          Jared Kinsey  48.0     Male    1971-05-10   \n",
       "3932   Adalberto Daughters  33.0     Male    1986-10-03   \n",
       "\n",
       "                            street            city       zip_code  \n",
       "8          8514 Elizabeth Crescent   West Joseland       GA 49359  \n",
       "9      6798 Wagner Locks Suite 377     Lake Brenda       DC 53038  \n",
       "10                822 Adams Plains       New Karen       AK 92114  \n",
       "21                        USNV Kim            None   FPO AA 96043  \n",
       "24    8122 Jessica Knolls Apt. 880      Dakotafurt       WV 62098  \n",
       "...                            ...             ...            ...  \n",
       "3915                   USNS Duarte            None   FPO AA 22046  \n",
       "3920                USNV Patterson            None   FPO AA 81791  \n",
       "3926            Unit 7574 Box 5626            None   DPO AE 77296  \n",
       "3930            Unit 8416 Box 3801            None   DPO AE 31166  \n",
       "3932            Unit 7931 Box 0601            None   DPO AE 50505  \n",
       "\n",
       "[643 rows x 7 columns]"
      ]
     },
     "execution_count": 12,
     "metadata": {},
     "output_type": "execute_result"
    }
   ],
   "source": [
    "df[df.isnull().any(axis=1)]"
   ]
  },
  {
   "cell_type": "code",
   "execution_count": 13,
   "metadata": {},
   "outputs": [
    {
     "data": {
      "text/plain": [
       "<AxesSubplot:>"
      ]
     },
     "execution_count": 13,
     "metadata": {},
     "output_type": "execute_result"
    },
    {
     "data": {
      "image/png": "[encoded data removed]",
      "text/plain": [
       "<Figure size 432x288 with 1 Axes>"
      ]
     },
     "metadata": {
      "needs_background": "light"
     },
     "output_type": "display_data"
    }
   ],
   "source": [
    "df.sex.value_counts().plot(kind='bar') # there are about 1600 more records about men than about women "
   ]
  },
  {
   "cell_type": "code",
   "execution_count": 14,
   "metadata": {},
   "outputs": [
    {
     "data": {
      "text/plain": [
       "<AxesSubplot:>"
      ]
     },
     "execution_count": 14,
     "metadata": {},
     "output_type": "execute_result"
    },
    {
     "data": {
      "image/png": "[encoded data removed]",
      "text/plain": [
       "<Figure size 1440x720 with 1 Axes>"
      ]
     },
     "metadata": {
      "needs_background": "light"
     },
     "output_type": "display_data"
    }
   ],
   "source": [
    "df.plot(figsize=(20,10))\n",
    "df.age.value_counts().plot(kind='bar')"
   ]
  },
  {
   "cell_type": "code",
   "execution_count": 15,
   "metadata": {},
   "outputs": [
    {
     "data": {
      "text/plain": [
       "<AxesSubplot:xlabel='age', ylabel='Count'>"
      ]
     },
     "execution_count": 15,
     "metadata": {},
     "output_type": "execute_result"
    },
    {
     "data": {
      "image/png": "[encoded data removed]",
      "text/plain": [
       "<Figure size 432x288 with 1 Axes>"
      ]
     },
     "metadata": {
      "needs_background": "light"
     },
     "output_type": "display_data"
    }
   ],
   "source": [
    "sns.histplot(df.age, bins=30) # Distribution of age values, Positive kurtosis and normal skewness"
   ]
  },
  {
   "cell_type": "code",
   "execution_count": 19,
   "metadata": {},
   "outputs": [
    {
     "name": "stderr",
     "output_type": "stream",
     "text": [
      "c:\\python38\\lib\\site-packages\\seaborn\\distributions.py:2551: FutureWarning: `distplot` is a deprecated function and will be removed in a future version. Please adapt your code to use either `displot` (a figure-level function with similar flexibility) or `histplot` (an axes-level function for histograms).\n",
      "  warnings.warn(msg, FutureWarning)\n"
     ]
    },
    {
     "data": {
      "text/plain": [
       "<AxesSubplot:xlabel='age', ylabel='Density'>"
      ]
     },
     "execution_count": 19,
     "metadata": {},
     "output_type": "execute_result"
    },
    {
     "data": {
      "image/png": "[encoded data removed]",
      "text/plain": [
       "<Figure size 432x288 with 1 Axes>"
      ]
     },
     "metadata": {
      "needs_background": "light"
     },
     "output_type": "display_data"
    }
   ],
   "source": [
    "sns.distplot(df.age, bins=30) # Distribution of age values"
   ]
  },
  {
   "cell_type": "code",
   "execution_count": null,
   "metadata": {},
   "outputs": [],
   "source": []
  }
 ],
 "metadata": {
  "kernelspec": {
   "display_name": "Python 3",
   "language": "python",
   "name": "python3"
  },
  "language_info": {
   "codemirror_mode": {
    "name": "ipython",
    "version": 3
   },
   "file_extension": ".py",
   "mimetype": "text/x-python",
   "name": "python",
   "nbconvert_exporter": "python",
   "pygments_lexer": "ipython3",
   "version": "3.8.3"
  }
 },
 "nbformat": 4,
 "nbformat_minor": 4
}
