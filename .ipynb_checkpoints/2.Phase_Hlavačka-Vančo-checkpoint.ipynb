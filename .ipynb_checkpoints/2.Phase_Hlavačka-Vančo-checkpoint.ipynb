{
 "cells": [
  {
   "cell_type": "code",
   "execution_count": 863,
   "metadata": {},
   "outputs": [],
   "source": [
    "import re\n",
    "import numpy as np\n",
    "import pandas as pd\n",
    "import seaborn as sns\n",
    "pd.options.display.max_columns = None\n",
    "pd.options.display.max_rows = None\n",
    "from pandas_profiling import ProfileReport"
   ]
  },
  {
   "cell_type": "markdown",
   "metadata": {},
   "source": [
    "# Načítanie a úprava dát z csv súborov."
   ]
  },
  {
   "cell_type": "code",
   "execution_count": 864,
   "metadata": {},
   "outputs": [],
   "source": [
    "def strip_columns(dataframe):\n",
    "    for column_name in dataframe:\n",
    "        if dataframe[column_name].dtypes == 'object':\n",
    "            dataframe[column_name] = dataframe[column_name].str.strip()\n",
    "        \n",
    "    return dataframe\n",
    "\n",
    "# other_train\n",
    "df_other = pd.read_csv('./other_train.csv', sep=',', index_col=0) # First column is Unnamed\n",
    "df_other = strip_columns(df_other)"
   ]
  },
  {
   "cell_type": "code",
   "execution_count": 865,
   "metadata": {},
   "outputs": [
    {
     "name": "stdout",
     "output_type": "stream",
     "text": [
      "<class 'pandas.core.frame.DataFrame'>\n",
      "Int64Index: 3983 entries, 0 to 3982\n",
      "Data columns (total 22 columns):\n",
      " #   Column            Non-Null Count  Dtype  \n",
      "---  ------            --------------  -----  \n",
      " 0   name              3983 non-null   object \n",
      " 1   address           3983 non-null   object \n",
      " 2   race              3971 non-null   object \n",
      " 3   marital-status    3709 non-null   object \n",
      " 4   occupation        3968 non-null   object \n",
      " 5   pregnant          3967 non-null   object \n",
      " 6   education-num     3971 non-null   float64\n",
      " 7   relationship      3972 non-null   object \n",
      " 8   skewness_glucose  3968 non-null   float64\n",
      " 9   mean_glucose      3974 non-null   float64\n",
      " 10  capital-gain      3964 non-null   float64\n",
      " 11  kurtosis_glucose  3970 non-null   float64\n",
      " 12  education         3969 non-null   object \n",
      " 13  fnlwgt            3965 non-null   float64\n",
      " 14  class             3972 non-null   float64\n",
      " 15  std_glucose       3966 non-null   float64\n",
      " 16  income            3971 non-null   object \n",
      " 17  medical_info      3967 non-null   object \n",
      " 18  native-country    3967 non-null   object \n",
      " 19  hours-per-week    3971 non-null   float64\n",
      " 20  capital-loss      3971 non-null   float64\n",
      " 21  workclass         3968 non-null   object \n",
      "dtypes: float64(10), object(12)\n",
      "memory usage: 715.7+ KB\n"
     ]
    }
   ],
   "source": [
    "df_other.info() # There are 22 columns. 10 atributes are float type and 12 are object.\n",
    "# All columns expect name and adress have null values"
   ]
  },
  {
   "cell_type": "markdown",
   "metadata": {},
   "source": [
    "V datasete je 22 atribútov, pričom 10 z nich sú typu float a zvyšných 12 je typu object.\n",
    "Všetky stĺpce okrem name a adress majú chýbajúce hodnoty."
   ]
  },
  {
   "cell_type": "code",
   "execution_count": 866,
   "metadata": {},
   "outputs": [
    {
     "data": {
      "text/html": [
       "<div>\n",
       "<style scoped>\n",
       "    .dataframe tbody tr th:only-of-type {\n",
       "        vertical-align: middle;\n",
       "    }\n",
       "\n",
       "    .dataframe tbody tr th {\n",
       "        vertical-align: top;\n",
       "    }\n",
       "\n",
       "    .dataframe thead th {\n",
       "        text-align: right;\n",
       "    }\n",
       "</style>\n",
       "<table border=\"1\" class=\"dataframe\">\n",
       "  <thead>\n",
       "    <tr style=\"text-align: right;\">\n",
       "      <th></th>\n",
       "      <th>education-num</th>\n",
       "      <th>skewness_glucose</th>\n",
       "      <th>mean_glucose</th>\n",
       "      <th>capital-gain</th>\n",
       "      <th>kurtosis_glucose</th>\n",
       "      <th>fnlwgt</th>\n",
       "      <th>class</th>\n",
       "      <th>std_glucose</th>\n",
       "      <th>hours-per-week</th>\n",
       "      <th>capital-loss</th>\n",
       "    </tr>\n",
       "  </thead>\n",
       "  <tbody>\n",
       "    <tr>\n",
       "      <th>count</th>\n",
       "      <td>3971.000000</td>\n",
       "      <td>3968.000000</td>\n",
       "      <td>3974.000000</td>\n",
       "      <td>3964.000000</td>\n",
       "      <td>3970.000000</td>\n",
       "      <td>3.965000e+03</td>\n",
       "      <td>3972.000000</td>\n",
       "      <td>3966.000000</td>\n",
       "      <td>3971.000000</td>\n",
       "      <td>3971.000000</td>\n",
       "    </tr>\n",
       "    <tr>\n",
       "      <th>mean</th>\n",
       "      <td>10.065223</td>\n",
       "      <td>4.233223</td>\n",
       "      <td>69.173141</td>\n",
       "      <td>1228.128406</td>\n",
       "      <td>0.952248</td>\n",
       "      <td>1.911784e+05</td>\n",
       "      <td>0.256294</td>\n",
       "      <td>45.172793</td>\n",
       "      <td>40.505162</td>\n",
       "      <td>73.254092</td>\n",
       "    </tr>\n",
       "    <tr>\n",
       "      <th>std</th>\n",
       "      <td>2.671998</td>\n",
       "      <td>9.715162</td>\n",
       "      <td>3348.917032</td>\n",
       "      <td>8623.958204</td>\n",
       "      <td>1.614087</td>\n",
       "      <td>1.072410e+05</td>\n",
       "      <td>0.436641</td>\n",
       "      <td>7.621144</td>\n",
       "      <td>12.279149</td>\n",
       "      <td>369.551911</td>\n",
       "    </tr>\n",
       "    <tr>\n",
       "      <th>min</th>\n",
       "      <td>1.000000</td>\n",
       "      <td>-1.755332</td>\n",
       "      <td>-18973.437500</td>\n",
       "      <td>0.000000</td>\n",
       "      <td>-1.641515</td>\n",
       "      <td>1.882700e+04</td>\n",
       "      <td>0.000000</td>\n",
       "      <td>25.695250</td>\n",
       "      <td>1.000000</td>\n",
       "      <td>0.000000</td>\n",
       "    </tr>\n",
       "    <tr>\n",
       "      <th>25%</th>\n",
       "      <td>9.000000</td>\n",
       "      <td>-0.120081</td>\n",
       "      <td>83.955078</td>\n",
       "      <td>0.000000</td>\n",
       "      <td>0.070311</td>\n",
       "      <td>1.179830e+05</td>\n",
       "      <td>0.000000</td>\n",
       "      <td>40.151488</td>\n",
       "      <td>40.000000</td>\n",
       "      <td>0.000000</td>\n",
       "    </tr>\n",
       "    <tr>\n",
       "      <th>50%</th>\n",
       "      <td>10.000000</td>\n",
       "      <td>0.376026</td>\n",
       "      <td>110.613281</td>\n",
       "      <td>0.000000</td>\n",
       "      <td>0.311092</td>\n",
       "      <td>1.795090e+05</td>\n",
       "      <td>0.000000</td>\n",
       "      <td>45.878359</td>\n",
       "      <td>40.000000</td>\n",
       "      <td>0.000000</td>\n",
       "    </tr>\n",
       "    <tr>\n",
       "      <th>75%</th>\n",
       "      <td>13.000000</td>\n",
       "      <td>2.090854</td>\n",
       "      <td>125.382812</td>\n",
       "      <td>0.000000</td>\n",
       "      <td>0.776492</td>\n",
       "      <td>2.415230e+05</td>\n",
       "      <td>1.000000</td>\n",
       "      <td>50.350939</td>\n",
       "      <td>45.000000</td>\n",
       "      <td>0.000000</td>\n",
       "    </tr>\n",
       "    <tr>\n",
       "      <th>max</th>\n",
       "      <td>16.000000</td>\n",
       "      <td>68.101622</td>\n",
       "      <td>15887.500000</td>\n",
       "      <td>99999.000000</td>\n",
       "      <td>8.069522</td>\n",
       "      <td>1.366120e+06</td>\n",
       "      <td>1.000000</td>\n",
       "      <td>91.206475</td>\n",
       "      <td>99.000000</td>\n",
       "      <td>2824.000000</td>\n",
       "    </tr>\n",
       "  </tbody>\n",
       "</table>\n",
       "</div>"
      ],
      "text/plain": [
       "       education-num  skewness_glucose  mean_glucose  capital-gain  \\\n",
       "count    3971.000000       3968.000000   3974.000000   3964.000000   \n",
       "mean       10.065223          4.233223     69.173141   1228.128406   \n",
       "std         2.671998          9.715162   3348.917032   8623.958204   \n",
       "min         1.000000         -1.755332 -18973.437500      0.000000   \n",
       "25%         9.000000         -0.120081     83.955078      0.000000   \n",
       "50%        10.000000          0.376026    110.613281      0.000000   \n",
       "75%        13.000000          2.090854    125.382812      0.000000   \n",
       "max        16.000000         68.101622  15887.500000  99999.000000   \n",
       "\n",
       "       kurtosis_glucose        fnlwgt        class  std_glucose  \\\n",
       "count       3970.000000  3.965000e+03  3972.000000  3966.000000   \n",
       "mean           0.952248  1.911784e+05     0.256294    45.172793   \n",
       "std            1.614087  1.072410e+05     0.436641     7.621144   \n",
       "min           -1.641515  1.882700e+04     0.000000    25.695250   \n",
       "25%            0.070311  1.179830e+05     0.000000    40.151488   \n",
       "50%            0.311092  1.795090e+05     0.000000    45.878359   \n",
       "75%            0.776492  2.415230e+05     1.000000    50.350939   \n",
       "max            8.069522  1.366120e+06     1.000000    91.206475   \n",
       "\n",
       "       hours-per-week  capital-loss  \n",
       "count     3971.000000   3971.000000  \n",
       "mean        40.505162     73.254092  \n",
       "std         12.279149    369.551911  \n",
       "min          1.000000      0.000000  \n",
       "25%         40.000000      0.000000  \n",
       "50%         40.000000      0.000000  \n",
       "75%         45.000000      0.000000  \n",
       "max         99.000000   2824.000000  "
      ]
     },
     "execution_count": 866,
     "metadata": {},
     "output_type": "execute_result"
    }
   ],
   "source": [
    "df_other.describe()"
   ]
  },
  {
   "cell_type": "markdown",
   "metadata": {},
   "source": [
    "Štatistické údaje nie sú moc veľa vravné, pretože v nich sú celkom extrémne hodnoty."
   ]
  },
  {
   "cell_type": "code",
   "execution_count": 867,
   "metadata": {},
   "outputs": [
    {
     "data": {
      "text/html": [
       "<div>\n",
       "<style scoped>\n",
       "    .dataframe tbody tr th:only-of-type {\n",
       "        vertical-align: middle;\n",
       "    }\n",
       "\n",
       "    .dataframe tbody tr th {\n",
       "        vertical-align: top;\n",
       "    }\n",
       "\n",
       "    .dataframe thead th {\n",
       "        text-align: right;\n",
       "    }\n",
       "</style>\n",
       "<table border=\"1\" class=\"dataframe\">\n",
       "  <thead>\n",
       "    <tr style=\"text-align: right;\">\n",
       "      <th></th>\n",
       "      <th>name</th>\n",
       "      <th>address</th>\n",
       "      <th>race</th>\n",
       "      <th>marital-status</th>\n",
       "      <th>occupation</th>\n",
       "      <th>pregnant</th>\n",
       "      <th>education-num</th>\n",
       "      <th>relationship</th>\n",
       "      <th>skewness_glucose</th>\n",
       "      <th>mean_glucose</th>\n",
       "      <th>capital-gain</th>\n",
       "      <th>kurtosis_glucose</th>\n",
       "      <th>education</th>\n",
       "      <th>fnlwgt</th>\n",
       "      <th>class</th>\n",
       "      <th>std_glucose</th>\n",
       "      <th>income</th>\n",
       "      <th>medical_info</th>\n",
       "      <th>native-country</th>\n",
       "      <th>hours-per-week</th>\n",
       "      <th>capital-loss</th>\n",
       "      <th>workclass</th>\n",
       "    </tr>\n",
       "  </thead>\n",
       "  <tbody>\n",
       "    <tr>\n",
       "      <th>0</th>\n",
       "      <td>David Hayes</td>\n",
       "      <td>235 Jennifer Throughway Suite 569\\r\\nNew Antho...</td>\n",
       "      <td>Black</td>\n",
       "      <td>??</td>\n",
       "      <td>Prof-specialty</td>\n",
       "      <td>f</td>\n",
       "      <td>5.0</td>\n",
       "      <td>Not-in-family</td>\n",
       "      <td>-0.197692</td>\n",
       "      <td>141.359375</td>\n",
       "      <td>0.0</td>\n",
       "      <td>-0.252430</td>\n",
       "      <td>9th</td>\n",
       "      <td>175431.0</td>\n",
       "      <td>0.0</td>\n",
       "      <td>49.842053</td>\n",
       "      <td>&lt;=50K</td>\n",
       "      <td>{'mean_oxygen':'4.04264214','std_oxygen':'19.4...</td>\n",
       "      <td>United-States</td>\n",
       "      <td>40.0</td>\n",
       "      <td>0.0</td>\n",
       "      <td>Private</td>\n",
       "    </tr>\n",
       "    <tr>\n",
       "      <th>1</th>\n",
       "      <td>Stanley Benny</td>\n",
       "      <td>08954 Johnson Course\\r\\nNew Lauraville, NV 22019</td>\n",
       "      <td>White</td>\n",
       "      <td>Married-civ-spouse</td>\n",
       "      <td>Exec-managerial</td>\n",
       "      <td>f</td>\n",
       "      <td>13.0</td>\n",
       "      <td>Husband</td>\n",
       "      <td>16.019670</td>\n",
       "      <td>53.968750</td>\n",
       "      <td>0.0</td>\n",
       "      <td>3.149333</td>\n",
       "      <td>Bachelors</td>\n",
       "      <td>66473.0</td>\n",
       "      <td>1.0</td>\n",
       "      <td>31.900220</td>\n",
       "      <td>&gt;50K</td>\n",
       "      <td>{'mean_oxygen':'9.294314381','std_oxygen':'35....</td>\n",
       "      <td>United-States</td>\n",
       "      <td>40.0</td>\n",
       "      <td>0.0</td>\n",
       "      <td>Private</td>\n",
       "    </tr>\n",
       "    <tr>\n",
       "      <th>2</th>\n",
       "      <td>Domingo Labriola</td>\n",
       "      <td>36319 Wiley Drive Suite 094\\r\\nSouth Michael, ...</td>\n",
       "      <td>Asian-Pac-Islander</td>\n",
       "      <td>Married-civ-spouse</td>\n",
       "      <td>Farming-fishing</td>\n",
       "      <td>f</td>\n",
       "      <td>3.0</td>\n",
       "      <td>Husband</td>\n",
       "      <td>21.803837</td>\n",
       "      <td>2257.812500</td>\n",
       "      <td>0.0</td>\n",
       "      <td>4.650770</td>\n",
       "      <td>5th-6th</td>\n",
       "      <td>93206.0</td>\n",
       "      <td>1.0</td>\n",
       "      <td>35.793158</td>\n",
       "      <td>&lt;=50K</td>\n",
       "      <td>{'mean_oxygen':'138.7876254','std_oxygen':'79....</td>\n",
       "      <td>Philippines</td>\n",
       "      <td>40.0</td>\n",
       "      <td>0.0</td>\n",
       "      <td>Private</td>\n",
       "    </tr>\n",
       "    <tr>\n",
       "      <th>3</th>\n",
       "      <td>Ronnie Moore</td>\n",
       "      <td>0755 Soto Oval Apt. 443\\r\\nWest Markside, TX 3...</td>\n",
       "      <td>White</td>\n",
       "      <td>Never-married</td>\n",
       "      <td>Other-service</td>\n",
       "      <td>FALSE</td>\n",
       "      <td>10.0</td>\n",
       "      <td>Not-in-family</td>\n",
       "      <td>-0.112191</td>\n",
       "      <td>110.046875</td>\n",
       "      <td>0.0</td>\n",
       "      <td>0.441957</td>\n",
       "      <td>Some-college</td>\n",
       "      <td>137604.0</td>\n",
       "      <td>0.0</td>\n",
       "      <td>53.876575</td>\n",
       "      <td>&lt;=50K</td>\n",
       "      <td>{'mean_oxygen':'3.100334448','std_oxygen':'17....</td>\n",
       "      <td>United-States</td>\n",
       "      <td>40.0</td>\n",
       "      <td>0.0</td>\n",
       "      <td>Private</td>\n",
       "    </tr>\n",
       "    <tr>\n",
       "      <th>4</th>\n",
       "      <td>Victor Mcjunkin</td>\n",
       "      <td>95738 Keller Overpass\\r\\nKennedyland, MO 71071</td>\n",
       "      <td>White</td>\n",
       "      <td>NaN</td>\n",
       "      <td>Adm-clerical</td>\n",
       "      <td>f</td>\n",
       "      <td>10.0</td>\n",
       "      <td>Not-in-family</td>\n",
       "      <td>-0.309642</td>\n",
       "      <td>137.960938</td>\n",
       "      <td>0.0</td>\n",
       "      <td>-0.048518</td>\n",
       "      <td>Some-college</td>\n",
       "      <td>174592.0</td>\n",
       "      <td>0.0</td>\n",
       "      <td>51.885451</td>\n",
       "      <td>&lt;=50K</td>\n",
       "      <td>{'mean_oxygen':'4.203177258','std_oxygen':'23....</td>\n",
       "      <td>United-States</td>\n",
       "      <td>40.0</td>\n",
       "      <td>0.0</td>\n",
       "      <td>Private</td>\n",
       "    </tr>\n",
       "  </tbody>\n",
       "</table>\n",
       "</div>"
      ],
      "text/plain": [
       "               name                                            address  \\\n",
       "0       David Hayes  235 Jennifer Throughway Suite 569\\r\\nNew Antho...   \n",
       "1     Stanley Benny   08954 Johnson Course\\r\\nNew Lauraville, NV 22019   \n",
       "2  Domingo Labriola  36319 Wiley Drive Suite 094\\r\\nSouth Michael, ...   \n",
       "3      Ronnie Moore  0755 Soto Oval Apt. 443\\r\\nWest Markside, TX 3...   \n",
       "4   Victor Mcjunkin     95738 Keller Overpass\\r\\nKennedyland, MO 71071   \n",
       "\n",
       "                 race      marital-status       occupation pregnant  \\\n",
       "0               Black                  ??   Prof-specialty        f   \n",
       "1               White  Married-civ-spouse  Exec-managerial        f   \n",
       "2  Asian-Pac-Islander  Married-civ-spouse  Farming-fishing        f   \n",
       "3               White       Never-married    Other-service    FALSE   \n",
       "4               White                 NaN     Adm-clerical        f   \n",
       "\n",
       "   education-num   relationship  skewness_glucose  mean_glucose  capital-gain  \\\n",
       "0            5.0  Not-in-family         -0.197692    141.359375           0.0   \n",
       "1           13.0        Husband         16.019670     53.968750           0.0   \n",
       "2            3.0        Husband         21.803837   2257.812500           0.0   \n",
       "3           10.0  Not-in-family         -0.112191    110.046875           0.0   \n",
       "4           10.0  Not-in-family         -0.309642    137.960938           0.0   \n",
       "\n",
       "   kurtosis_glucose     education    fnlwgt  class  std_glucose income  \\\n",
       "0         -0.252430           9th  175431.0    0.0    49.842053  <=50K   \n",
       "1          3.149333     Bachelors   66473.0    1.0    31.900220   >50K   \n",
       "2          4.650770       5th-6th   93206.0    1.0    35.793158  <=50K   \n",
       "3          0.441957  Some-college  137604.0    0.0    53.876575  <=50K   \n",
       "4         -0.048518  Some-college  174592.0    0.0    51.885451  <=50K   \n",
       "\n",
       "                                        medical_info native-country  \\\n",
       "0  {'mean_oxygen':'4.04264214','std_oxygen':'19.4...  United-States   \n",
       "1  {'mean_oxygen':'9.294314381','std_oxygen':'35....  United-States   \n",
       "2  {'mean_oxygen':'138.7876254','std_oxygen':'79....    Philippines   \n",
       "3  {'mean_oxygen':'3.100334448','std_oxygen':'17....  United-States   \n",
       "4  {'mean_oxygen':'4.203177258','std_oxygen':'23....  United-States   \n",
       "\n",
       "   hours-per-week  capital-loss workclass  \n",
       "0            40.0           0.0   Private  \n",
       "1            40.0           0.0   Private  \n",
       "2            40.0           0.0   Private  \n",
       "3            40.0           0.0   Private  \n",
       "4            40.0           0.0   Private  "
      ]
     },
     "execution_count": 867,
     "metadata": {},
     "output_type": "execute_result"
    }
   ],
   "source": [
    "df_other.head() "
   ]
  },
  {
   "cell_type": "markdown",
   "metadata": {},
   "source": [
    "medical_info je komplexný objekt, ktorý môže byť rozdelený do viacerých stĺpcov."
   ]
  },
  {
   "cell_type": "code",
   "execution_count": 868,
   "metadata": {},
   "outputs": [
    {
     "data": {
      "text/plain": [
       "337"
      ]
     },
     "execution_count": 868,
     "metadata": {},
     "output_type": "execute_result"
    }
   ],
   "source": [
    "df_other.shape[0] - df_other.dropna().shape[0]"
   ]
  },
  {
   "cell_type": "markdown",
   "metadata": {},
   "source": [
    "Dataframe obsahuje 337 chýbajcich hodnôt."
   ]
  },
  {
   "cell_type": "code",
   "execution_count": 869,
   "metadata": {},
   "outputs": [],
   "source": [
    "def adjust_dataframe_columns(dataframe):\n",
    "    dataframe['marital-status'] = dataframe['marital-status'].replace('??', np.nan)\n",
    "    dataframe['occupation'] = dataframe['occupation'].replace('?', np.nan)\n",
    "    dataframe['pregnant'] = dataframe['pregnant'].replace(['f', 'F', 'FALSE'], 'False')\n",
    "    dataframe['pregnant'] = dataframe['pregnant'].replace(['t', 'T', 'TRUE'], 'True')\n",
    "    dataframe['relationship'] = dataframe['relationship'].replace('Not_in_family', 'Not-in-family')\n",
    "    dataframe['relationship'] = dataframe['relationship'].replace('Own_child', 'Own-child')\n",
    "    dataframe['relationship'] = dataframe['relationship'].replace('Other_relative', 'Other-relative')\n",
    "    dataframe['native-country'] = dataframe['native-country'].replace('?', np.nan)\n",
    "    dataframe['workclass'] = dataframe['workclass'].replace('?', np.nan)\n",
    "\n",
    "    return dataframe\n",
    "\n",
    "df_other = adjust_dataframe_columns(df_other)"
   ]
  },
  {
   "cell_type": "markdown",
   "metadata": {},
   "source": [
    "V prvej fáze sme zanalyzovali, v ktorých stĺpcoch sa nachádzajú aké unikátne hodnoty. Tie, ktoré nám nič nehovorili ako napríklad otázniky sme nahradili hodnotami np.nan aby sa nám jednoduchšie nahrádzali. V prípade, keď stĺpec obsahoval viacero hodnôt, ktoré hovorili to isté, len boli inak napísené, tak sme ich nahradili jednotným označním(napríklad 'f', 'F', 'False' majú teraz jednotné označenie 'False'). "
   ]
  },
  {
   "cell_type": "code",
   "execution_count": 870,
   "metadata": {},
   "outputs": [],
   "source": [
    "def separate_and_delete_medical_info(dataframe):\n",
    "    df2 = pd.DataFrame() \n",
    "    # Iterate through every row and take values from medical_info column\n",
    "    for _,column_data in dataframe['medical_info'].iteritems(): \n",
    "        if isinstance(column_data, str): # If value isn't nan\n",
    "            column_data = column_data[1:-1] # Delect curly brackets from start and end of string\n",
    "            column_data_split = column_data.split(',') # Split string by comma\n",
    "\n",
    "            row = {} \n",
    "            for name_value in column_data_split: # Iterate through split string\n",
    "                name_value_split = name_value.split(':') # Split into name of column and value of column\n",
    "                # Store value into dictionary with name of the column as a key\n",
    "                row[name_value_split[0][1:-1]] = [np.float(name_value_split[1][1:-1])] # Get rid of '' by [1:-1]\n",
    "\n",
    "            row_data_frame = pd.DataFrame(row) # Convert dictionary into DataFrame\n",
    "            df2 = df2.append(row_data_frame, ignore_index=True) # Append row_data_frame into df2\n",
    "        else: # Value is nan, append nan row into df2\n",
    "            df2 = df2.append(pd.Series(np.nan), ignore_index=True)\n",
    "            \n",
    "    df2 = df2.drop(columns=[0]) # Drop last column\n",
    "\n",
    "    # Add values from df2 to main df\n",
    "    for column_name in df2.columns:\n",
    "        dataframe[column_name] = df2[column_name]\n",
    "\n",
    "    del dataframe['medical_info'] # medical info is already divided into another columns, so we can erase it\n",
    "\n",
    "    return dataframe\n",
    "    \n",
    "df_other = separate_and_delete_medical_info(df_other)"
   ]
  },
  {
   "cell_type": "markdown",
   "metadata": {},
   "source": [
    "Pomocou funkcie separate_and_delete_medical_info sme rozdelili hodnoty v stĺpci medical_info do viacerých atribútov, pričom nám tento stĺpec už nebol potrebný, takže sme ho mohli vymazať."
   ]
  },
  {
   "cell_type": "code",
   "execution_count": 871,
   "metadata": {},
   "outputs": [],
   "source": [
    "# personal_train\n",
    "df_personal = pd.read_csv(\"./personal_train.csv\", index_col=0, sep=',') # First column was Unnamend\n",
    "for column_name in df_personal:\n",
    "    if df_personal[column_name].dtypes == 'object':\n",
    "        df_personal[column_name] = df_personal[column_name].str.strip()"
   ]
  },
  {
   "cell_type": "code",
   "execution_count": 872,
   "metadata": {},
   "outputs": [
    {
     "data": {
      "text/html": [
       "<div>\n",
       "<style scoped>\n",
       "    .dataframe tbody tr th:only-of-type {\n",
       "        vertical-align: middle;\n",
       "    }\n",
       "\n",
       "    .dataframe tbody tr th {\n",
       "        vertical-align: top;\n",
       "    }\n",
       "\n",
       "    .dataframe thead th {\n",
       "        text-align: right;\n",
       "    }\n",
       "</style>\n",
       "<table border=\"1\" class=\"dataframe\">\n",
       "  <thead>\n",
       "    <tr style=\"text-align: right;\">\n",
       "      <th></th>\n",
       "      <th>age</th>\n",
       "    </tr>\n",
       "  </thead>\n",
       "  <tbody>\n",
       "    <tr>\n",
       "      <th>count</th>\n",
       "      <td>3540.000000</td>\n",
       "    </tr>\n",
       "    <tr>\n",
       "      <th>mean</th>\n",
       "      <td>51.816949</td>\n",
       "    </tr>\n",
       "    <tr>\n",
       "      <th>std</th>\n",
       "      <td>11.914637</td>\n",
       "    </tr>\n",
       "    <tr>\n",
       "      <th>min</th>\n",
       "      <td>-1.000000</td>\n",
       "    </tr>\n",
       "    <tr>\n",
       "      <th>25%</th>\n",
       "      <td>44.000000</td>\n",
       "    </tr>\n",
       "    <tr>\n",
       "      <th>50%</th>\n",
       "      <td>52.000000</td>\n",
       "    </tr>\n",
       "    <tr>\n",
       "      <th>75%</th>\n",
       "      <td>60.000000</td>\n",
       "    </tr>\n",
       "    <tr>\n",
       "      <th>max</th>\n",
       "      <td>113.000000</td>\n",
       "    </tr>\n",
       "  </tbody>\n",
       "</table>\n",
       "</div>"
      ],
      "text/plain": [
       "               age\n",
       "count  3540.000000\n",
       "mean     51.816949\n",
       "std      11.914637\n",
       "min      -1.000000\n",
       "25%      44.000000\n",
       "50%      52.000000\n",
       "75%      60.000000\n",
       "max     113.000000"
      ]
     },
     "execution_count": 872,
     "metadata": {},
     "output_type": "execute_result"
    }
   ],
   "source": [
    "df_personal.describe()"
   ]
  },
  {
   "cell_type": "markdown",
   "metadata": {},
   "source": [
    "Najmenšie hodnota je -1, čo nebude dobré, pretože sa jedná o vek. Presnosť ostatných vecí nie je možné z tohto tak ľahko posúdiť."
   ]
  },
  {
   "cell_type": "code",
   "execution_count": 873,
   "metadata": {},
   "outputs": [
    {
     "name": "stdout",
     "output_type": "stream",
     "text": [
      "<class 'pandas.core.frame.DataFrame'>\n",
      "Int64Index: 3933 entries, 0 to 3932\n",
      "Data columns (total 5 columns):\n",
      " #   Column         Non-Null Count  Dtype  \n",
      "---  ------         --------------  -----  \n",
      " 0   name           3933 non-null   object \n",
      " 1   address        3933 non-null   object \n",
      " 2   age            3540 non-null   float64\n",
      " 3   sex            3933 non-null   object \n",
      " 4   date_of_birth  3933 non-null   object \n",
      "dtypes: float64(1), object(4)\n",
      "memory usage: 184.4+ KB\n"
     ]
    }
   ],
   "source": [
    "df_personal.info()"
   ]
  },
  {
   "cell_type": "markdown",
   "metadata": {},
   "source": [
    "Dataframe obsahuje 3933 záznamov, pričom každý jeden má 5 atribútov.\n",
    "\n",
    "age je jediný typu float, ostatné sú typu object.\n",
    "\n",
    "age má 393 buniek s chýbajúcou hodnotou.\n",
    "\n",
    "ostatné atribúty nemajú chýbajúce hodnoty."
   ]
  },
  {
   "cell_type": "code",
   "execution_count": 874,
   "metadata": {},
   "outputs": [
    {
     "data": {
      "text/html": [
       "<div>\n",
       "<style scoped>\n",
       "    .dataframe tbody tr th:only-of-type {\n",
       "        vertical-align: middle;\n",
       "    }\n",
       "\n",
       "    .dataframe tbody tr th {\n",
       "        vertical-align: top;\n",
       "    }\n",
       "\n",
       "    .dataframe thead th {\n",
       "        text-align: right;\n",
       "    }\n",
       "</style>\n",
       "<table border=\"1\" class=\"dataframe\">\n",
       "  <thead>\n",
       "    <tr style=\"text-align: right;\">\n",
       "      <th></th>\n",
       "      <th>name</th>\n",
       "      <th>address</th>\n",
       "      <th>age</th>\n",
       "      <th>sex</th>\n",
       "      <th>date_of_birth</th>\n",
       "    </tr>\n",
       "  </thead>\n",
       "  <tbody>\n",
       "    <tr>\n",
       "      <th>0</th>\n",
       "      <td>Roscoe Bohannon</td>\n",
       "      <td>7183 Osborne Ways Apt. 651\\r\\nEast Andrew, OH ...</td>\n",
       "      <td>63.0</td>\n",
       "      <td>Female</td>\n",
       "      <td>1956-10-02</td>\n",
       "    </tr>\n",
       "    <tr>\n",
       "      <th>1</th>\n",
       "      <td>Ernest Kline</td>\n",
       "      <td>391 Ball Road Suite 961\\r\\nFlowersborough, IN ...</td>\n",
       "      <td>58.0</td>\n",
       "      <td>Female</td>\n",
       "      <td>1961-05-14</td>\n",
       "    </tr>\n",
       "    <tr>\n",
       "      <th>2</th>\n",
       "      <td>Harold Hendriks</td>\n",
       "      <td>8702 Vincent Square\\r\\nNew Jerryfurt, CO 30614</td>\n",
       "      <td>47.0</td>\n",
       "      <td>Male</td>\n",
       "      <td>1972-06-19</td>\n",
       "    </tr>\n",
       "    <tr>\n",
       "      <th>3</th>\n",
       "      <td>Randy Baptiste</td>\n",
       "      <td>2751 Harris Crossroad\\r\\nWest Ashley, CA 30311</td>\n",
       "      <td>60.0</td>\n",
       "      <td>Female</td>\n",
       "      <td>1959-02-19</td>\n",
       "    </tr>\n",
       "    <tr>\n",
       "      <th>4</th>\n",
       "      <td>Anthony Colucci</td>\n",
       "      <td>904 Robert Cliffs Suite 186\\r\\nWest Kyle, CO 7...</td>\n",
       "      <td>31.0</td>\n",
       "      <td>Female</td>\n",
       "      <td>1988-08-04</td>\n",
       "    </tr>\n",
       "  </tbody>\n",
       "</table>\n",
       "</div>"
      ],
      "text/plain": [
       "              name                                            address   age  \\\n",
       "0  Roscoe Bohannon  7183 Osborne Ways Apt. 651\\r\\nEast Andrew, OH ...  63.0   \n",
       "1     Ernest Kline  391 Ball Road Suite 961\\r\\nFlowersborough, IN ...  58.0   \n",
       "2  Harold Hendriks     8702 Vincent Square\\r\\nNew Jerryfurt, CO 30614  47.0   \n",
       "3   Randy Baptiste     2751 Harris Crossroad\\r\\nWest Ashley, CA 30311  60.0   \n",
       "4  Anthony Colucci  904 Robert Cliffs Suite 186\\r\\nWest Kyle, CO 7...  31.0   \n",
       "\n",
       "      sex date_of_birth  \n",
       "0  Female    1956-10-02  \n",
       "1  Female    1961-05-14  \n",
       "2    Male    1972-06-19  \n",
       "3  Female    1959-02-19  \n",
       "4  Female    1988-08-04  "
      ]
     },
     "execution_count": 874,
     "metadata": {},
     "output_type": "execute_result"
    }
   ],
   "source": [
    "df_personal.head()"
   ]
  },
  {
   "cell_type": "markdown",
   "metadata": {},
   "source": [
    "Atribút address je možné rozdeliť do viacerých stĺpcov(street, city, zip_code)"
   ]
  },
  {
   "cell_type": "code",
   "execution_count": 875,
   "metadata": {},
   "outputs": [],
   "source": [
    "def separete_and_delete_address(dataframe):\n",
    "    df_addresses = dataframe['address'].replace('\\r', ',', regex=True)\n",
    "    df_addresses = df_addresses.replace('\\n', ' ', regex=True)\n",
    "    df_addresses = df_addresses.str.split(',')\n",
    "\n",
    "    cities = []\n",
    "    streets = []\n",
    "    zip_codes = []\n",
    "\n",
    "    for address in df_addresses:\n",
    "        if len(address) < 3: # these records have cities in address\n",
    "            streets.append(address[0])\n",
    "            cities.append(None)\n",
    "            zip_codes.append(address[1])\n",
    "        else: # these records don't have cities in address\n",
    "            streets.append(address[0])\n",
    "            cities.append(address[1])\n",
    "            zip_codes.append(address[2])\n",
    "    \n",
    "    dataframe['street'] = streets\n",
    "    dataframe['city'] = cities\n",
    "    dataframe['zip_code'] = zip_codes\n",
    "\n",
    "    dataframe = dataframe.drop('address', axis=1)\n",
    "\n",
    "    return dataframe\n",
    "\n",
    "df_personal = separete_and_delete_address(df_personal)"
   ]
  },
  {
   "cell_type": "markdown",
   "metadata": {},
   "source": [
    "Pomocou funkcie separate_and_delete_address sme rozdelili hodnoty v stĺpci address do viacerých atribútov, pričom nám tento stĺpec už nebol potrebný, takže sme ho mohli vymazať."
   ]
  },
  {
   "cell_type": "code",
   "execution_count": 876,
   "metadata": {},
   "outputs": [
    {
     "name": "stdout",
     "output_type": "stream",
     "text": [
      "<class 'pandas.core.frame.DataFrame'>\n",
      "Int64Index: 3933 entries, 0 to 3932\n",
      "Data columns (total 7 columns):\n",
      " #   Column         Non-Null Count  Dtype  \n",
      "---  ------         --------------  -----  \n",
      " 0   name           3933 non-null   object \n",
      " 1   age            3540 non-null   float64\n",
      " 2   sex            3933 non-null   object \n",
      " 3   date_of_birth  3933 non-null   object \n",
      " 4   street         3933 non-null   object \n",
      " 5   city           3657 non-null   object \n",
      " 6   zip_code       3933 non-null   object \n",
      "dtypes: float64(1), object(6)\n",
      "memory usage: 245.8+ KB\n"
     ]
    }
   ],
   "source": [
    "df_personal.info()"
   ]
  },
  {
   "cell_type": "markdown",
   "metadata": {},
   "source": [
    "276 buniek v stĺpci city má chýbajúcu hodnotu."
   ]
  },
  {
   "cell_type": "code",
   "execution_count": 877,
   "metadata": {},
   "outputs": [
    {
     "data": {
      "text/plain": [
       "643"
      ]
     },
     "execution_count": 877,
     "metadata": {},
     "output_type": "execute_result"
    }
   ],
   "source": [
    "df_personal.shape[0] - df_personal.dropna().shape[0] # there are 643 nan values"
   ]
  },
  {
   "cell_type": "markdown",
   "metadata": {},
   "source": [
    "Dataframe obsahuje 643 chýbajúcich hodnôt."
   ]
  },
  {
   "cell_type": "code",
   "execution_count": 878,
   "metadata": {},
   "outputs": [],
   "source": [
    "# df_joined = df_other.join(df_personal.set_index('name'), on='name', how='left') # join other train and personal train on name\n",
    "df_joined = df_other.merge(df_personal, on='name', how='left')"
   ]
  },
  {
   "cell_type": "code",
   "execution_count": 879,
   "metadata": {},
   "outputs": [],
   "source": [
    "del df_joined['address'] # we can also erase disgusting address column, because we have it in detail from personal train"
   ]
  },
  {
   "cell_type": "markdown",
   "metadata": {},
   "source": [
    "df_joined je nový dataframe, ktorý vznikol spojením dataframov other a personal."
   ]
  },
  {
   "cell_type": "code",
   "execution_count": 880,
   "metadata": {},
   "outputs": [
    {
     "name": "stdout",
     "output_type": "stream",
     "text": [
      "<class 'pandas.core.frame.DataFrame'>\n",
      "Int64Index: 3983 entries, 0 to 3982\n",
      "Data columns (total 30 columns):\n",
      " #   Column            Non-Null Count  Dtype  \n",
      "---  ------            --------------  -----  \n",
      " 0   name              3983 non-null   object \n",
      " 1   race              3971 non-null   object \n",
      " 2   marital-status    3570 non-null   object \n",
      " 3   occupation        3744 non-null   object \n",
      " 4   pregnant          3967 non-null   object \n",
      " 5   education-num     3971 non-null   float64\n",
      " 6   relationship      3972 non-null   object \n",
      " 7   skewness_glucose  3968 non-null   float64\n",
      " 8   mean_glucose      3974 non-null   float64\n",
      " 9   capital-gain      3964 non-null   float64\n",
      " 10  kurtosis_glucose  3970 non-null   float64\n",
      " 11  education         3969 non-null   object \n",
      " 12  fnlwgt            3965 non-null   float64\n",
      " 13  class             3972 non-null   float64\n",
      " 14  std_glucose       3966 non-null   float64\n",
      " 15  income            3971 non-null   object \n",
      " 16  native-country    3909 non-null   object \n",
      " 17  hours-per-week    3971 non-null   float64\n",
      " 18  capital-loss      3971 non-null   float64\n",
      " 19  workclass         3741 non-null   object \n",
      " 20  mean_oxygen       3967 non-null   float64\n",
      " 21  std_oxygen        3967 non-null   float64\n",
      " 22  kurtosis_oxygen   3967 non-null   float64\n",
      " 23  skewness_oxygen   3967 non-null   float64\n",
      " 24  age               3586 non-null   float64\n",
      " 25  sex               3983 non-null   object \n",
      " 26  date_of_birth     3983 non-null   object \n",
      " 27  street            3983 non-null   object \n",
      " 28  city              3704 non-null   object \n",
      " 29  zip_code          3983 non-null   object \n",
      "dtypes: float64(15), object(15)\n",
      "memory usage: 964.6+ KB\n"
     ]
    }
   ],
   "source": [
    "df_joined.info() # There are 31 atributes. 16 are objects and the other 15 are floats. There are 3983 records"
   ]
  },
  {
   "cell_type": "markdown",
   "metadata": {},
   "source": [
    "df_joined obsahuje 31 atribútov, pričom 16 z nich sú typu object a zvyšných 15 je typu float. Dataframe má 3983 záznamov."
   ]
  },
  {
   "cell_type": "code",
   "execution_count": 881,
   "metadata": {},
   "outputs": [
    {
     "data": {
      "text/html": [
       "<div>\n",
       "<style scoped>\n",
       "    .dataframe tbody tr th:only-of-type {\n",
       "        vertical-align: middle;\n",
       "    }\n",
       "\n",
       "    .dataframe tbody tr th {\n",
       "        vertical-align: top;\n",
       "    }\n",
       "\n",
       "    .dataframe thead th {\n",
       "        text-align: right;\n",
       "    }\n",
       "</style>\n",
       "<table border=\"1\" class=\"dataframe\">\n",
       "  <thead>\n",
       "    <tr style=\"text-align: right;\">\n",
       "      <th></th>\n",
       "      <th>education-num</th>\n",
       "      <th>skewness_glucose</th>\n",
       "      <th>mean_glucose</th>\n",
       "      <th>capital-gain</th>\n",
       "      <th>kurtosis_glucose</th>\n",
       "      <th>fnlwgt</th>\n",
       "      <th>class</th>\n",
       "      <th>std_glucose</th>\n",
       "      <th>hours-per-week</th>\n",
       "      <th>capital-loss</th>\n",
       "      <th>mean_oxygen</th>\n",
       "      <th>std_oxygen</th>\n",
       "      <th>kurtosis_oxygen</th>\n",
       "      <th>skewness_oxygen</th>\n",
       "      <th>age</th>\n",
       "    </tr>\n",
       "  </thead>\n",
       "  <tbody>\n",
       "    <tr>\n",
       "      <th>count</th>\n",
       "      <td>3971.000000</td>\n",
       "      <td>3968.000000</td>\n",
       "      <td>3974.000000</td>\n",
       "      <td>3964.000000</td>\n",
       "      <td>3970.000000</td>\n",
       "      <td>3.965000e+03</td>\n",
       "      <td>3972.000000</td>\n",
       "      <td>3966.000000</td>\n",
       "      <td>3971.000000</td>\n",
       "      <td>3971.000000</td>\n",
       "      <td>3967.000000</td>\n",
       "      <td>3967.000000</td>\n",
       "      <td>3967.000000</td>\n",
       "      <td>3967.000000</td>\n",
       "      <td>3586.000000</td>\n",
       "    </tr>\n",
       "    <tr>\n",
       "      <th>mean</th>\n",
       "      <td>10.065223</td>\n",
       "      <td>4.233223</td>\n",
       "      <td>69.173141</td>\n",
       "      <td>1228.128406</td>\n",
       "      <td>0.952248</td>\n",
       "      <td>1.911784e+05</td>\n",
       "      <td>0.256294</td>\n",
       "      <td>45.172793</td>\n",
       "      <td>40.505162</td>\n",
       "      <td>73.254092</td>\n",
       "      <td>18.537297</td>\n",
       "      <td>31.183114</td>\n",
       "      <td>7.405864</td>\n",
       "      <td>91.191022</td>\n",
       "      <td>51.828779</td>\n",
       "    </tr>\n",
       "    <tr>\n",
       "      <th>std</th>\n",
       "      <td>2.671998</td>\n",
       "      <td>9.715162</td>\n",
       "      <td>3348.917032</td>\n",
       "      <td>8623.958204</td>\n",
       "      <td>1.614087</td>\n",
       "      <td>1.072410e+05</td>\n",
       "      <td>0.436641</td>\n",
       "      <td>7.621144</td>\n",
       "      <td>12.279149</td>\n",
       "      <td>369.551911</td>\n",
       "      <td>34.828662</td>\n",
       "      <td>22.262766</td>\n",
       "      <td>4.814843</td>\n",
       "      <td>108.575211</td>\n",
       "      <td>11.927593</td>\n",
       "    </tr>\n",
       "    <tr>\n",
       "      <th>min</th>\n",
       "      <td>1.000000</td>\n",
       "      <td>-1.755332</td>\n",
       "      <td>-18973.437500</td>\n",
       "      <td>0.000000</td>\n",
       "      <td>-1.641515</td>\n",
       "      <td>1.882700e+04</td>\n",
       "      <td>0.000000</td>\n",
       "      <td>25.695250</td>\n",
       "      <td>1.000000</td>\n",
       "      <td>0.000000</td>\n",
       "      <td>0.213211</td>\n",
       "      <td>7.370432</td>\n",
       "      <td>-2.597872</td>\n",
       "      <td>-1.976976</td>\n",
       "      <td>-1.000000</td>\n",
       "    </tr>\n",
       "    <tr>\n",
       "      <th>25%</th>\n",
       "      <td>9.000000</td>\n",
       "      <td>-0.120081</td>\n",
       "      <td>83.955078</td>\n",
       "      <td>0.000000</td>\n",
       "      <td>0.070311</td>\n",
       "      <td>1.179830e+05</td>\n",
       "      <td>0.000000</td>\n",
       "      <td>40.151488</td>\n",
       "      <td>40.000000</td>\n",
       "      <td>0.000000</td>\n",
       "      <td>2.065635</td>\n",
       "      <td>15.062338</td>\n",
       "      <td>3.628014</td>\n",
       "      <td>12.743507</td>\n",
       "      <td>44.000000</td>\n",
       "    </tr>\n",
       "    <tr>\n",
       "      <th>50%</th>\n",
       "      <td>10.000000</td>\n",
       "      <td>0.376026</td>\n",
       "      <td>110.613281</td>\n",
       "      <td>0.000000</td>\n",
       "      <td>0.311092</td>\n",
       "      <td>1.795090e+05</td>\n",
       "      <td>0.000000</td>\n",
       "      <td>45.878359</td>\n",
       "      <td>40.000000</td>\n",
       "      <td>0.000000</td>\n",
       "      <td>3.237458</td>\n",
       "      <td>20.594663</td>\n",
       "      <td>7.779635</td>\n",
       "      <td>68.358187</td>\n",
       "      <td>52.000000</td>\n",
       "    </tr>\n",
       "    <tr>\n",
       "      <th>75%</th>\n",
       "      <td>13.000000</td>\n",
       "      <td>2.090854</td>\n",
       "      <td>125.382812</td>\n",
       "      <td>0.000000</td>\n",
       "      <td>0.776492</td>\n",
       "      <td>2.415230e+05</td>\n",
       "      <td>1.000000</td>\n",
       "      <td>50.350939</td>\n",
       "      <td>45.000000</td>\n",
       "      <td>0.000000</td>\n",
       "      <td>12.679766</td>\n",
       "      <td>43.333643</td>\n",
       "      <td>10.260328</td>\n",
       "      <td>126.817691</td>\n",
       "      <td>60.000000</td>\n",
       "    </tr>\n",
       "    <tr>\n",
       "      <th>max</th>\n",
       "      <td>16.000000</td>\n",
       "      <td>68.101622</td>\n",
       "      <td>15887.500000</td>\n",
       "      <td>99999.000000</td>\n",
       "      <td>8.069522</td>\n",
       "      <td>1.366120e+06</td>\n",
       "      <td>1.000000</td>\n",
       "      <td>91.206475</td>\n",
       "      <td>99.000000</td>\n",
       "      <td>2824.000000</td>\n",
       "      <td>217.371238</td>\n",
       "      <td>110.642211</td>\n",
       "      <td>34.539844</td>\n",
       "      <td>1191.000837</td>\n",
       "      <td>113.000000</td>\n",
       "    </tr>\n",
       "  </tbody>\n",
       "</table>\n",
       "</div>"
      ],
      "text/plain": [
       "       education-num  skewness_glucose  mean_glucose  capital-gain  \\\n",
       "count    3971.000000       3968.000000   3974.000000   3964.000000   \n",
       "mean       10.065223          4.233223     69.173141   1228.128406   \n",
       "std         2.671998          9.715162   3348.917032   8623.958204   \n",
       "min         1.000000         -1.755332 -18973.437500      0.000000   \n",
       "25%         9.000000         -0.120081     83.955078      0.000000   \n",
       "50%        10.000000          0.376026    110.613281      0.000000   \n",
       "75%        13.000000          2.090854    125.382812      0.000000   \n",
       "max        16.000000         68.101622  15887.500000  99999.000000   \n",
       "\n",
       "       kurtosis_glucose        fnlwgt        class  std_glucose  \\\n",
       "count       3970.000000  3.965000e+03  3972.000000  3966.000000   \n",
       "mean           0.952248  1.911784e+05     0.256294    45.172793   \n",
       "std            1.614087  1.072410e+05     0.436641     7.621144   \n",
       "min           -1.641515  1.882700e+04     0.000000    25.695250   \n",
       "25%            0.070311  1.179830e+05     0.000000    40.151488   \n",
       "50%            0.311092  1.795090e+05     0.000000    45.878359   \n",
       "75%            0.776492  2.415230e+05     1.000000    50.350939   \n",
       "max            8.069522  1.366120e+06     1.000000    91.206475   \n",
       "\n",
       "       hours-per-week  capital-loss  mean_oxygen   std_oxygen  \\\n",
       "count     3971.000000   3971.000000  3967.000000  3967.000000   \n",
       "mean        40.505162     73.254092    18.537297    31.183114   \n",
       "std         12.279149    369.551911    34.828662    22.262766   \n",
       "min          1.000000      0.000000     0.213211     7.370432   \n",
       "25%         40.000000      0.000000     2.065635    15.062338   \n",
       "50%         40.000000      0.000000     3.237458    20.594663   \n",
       "75%         45.000000      0.000000    12.679766    43.333643   \n",
       "max         99.000000   2824.000000   217.371238   110.642211   \n",
       "\n",
       "       kurtosis_oxygen  skewness_oxygen          age  \n",
       "count      3967.000000      3967.000000  3586.000000  \n",
       "mean          7.405864        91.191022    51.828779  \n",
       "std           4.814843       108.575211    11.927593  \n",
       "min          -2.597872        -1.976976    -1.000000  \n",
       "25%           3.628014        12.743507    44.000000  \n",
       "50%           7.779635        68.358187    52.000000  \n",
       "75%          10.260328       126.817691    60.000000  \n",
       "max          34.539844      1191.000837   113.000000  "
      ]
     },
     "execution_count": 881,
     "metadata": {},
     "output_type": "execute_result"
    }
   ],
   "source": [
    "df_joined.describe()"
   ]
  },
  {
   "cell_type": "markdown",
   "metadata": {},
   "source": [
    "Moc veľa sa z týchto štatistických dáta nedá vyčítať, pretože majú veľa vychýlených hodnôt."
   ]
  },
  {
   "cell_type": "code",
   "execution_count": 882,
   "metadata": {},
   "outputs": [
    {
     "data": {
      "text/plain": [
       "1258"
      ]
     },
     "execution_count": 882,
     "metadata": {},
     "output_type": "execute_result"
    }
   ],
   "source": [
    "df_joined.shape[0] - df_joined.dropna().shape[0]"
   ]
  },
  {
   "cell_type": "markdown",
   "metadata": {},
   "source": [
    "Dataframe df_joined obsahuje 1258 chýbajúcich hodnôt."
   ]
  },
  {
   "cell_type": "code",
   "execution_count": 883,
   "metadata": {},
   "outputs": [
    {
     "name": "stdout",
     "output_type": "stream",
     "text": [
      "<class 'pandas.core.frame.DataFrame'>\n",
      "Int64Index: 3983 entries, 0 to 3982\n",
      "Data columns (total 30 columns):\n",
      " #   Column            Non-Null Count  Dtype  \n",
      "---  ------            --------------  -----  \n",
      " 0   name              3983 non-null   object \n",
      " 1   race              3971 non-null   object \n",
      " 2   marital-status    3570 non-null   object \n",
      " 3   occupation        3744 non-null   object \n",
      " 4   pregnant          3967 non-null   object \n",
      " 5   education-num     3971 non-null   float64\n",
      " 6   relationship      3972 non-null   object \n",
      " 7   skewness_glucose  3968 non-null   float64\n",
      " 8   mean_glucose      3974 non-null   float64\n",
      " 9   capital-gain      3964 non-null   float64\n",
      " 10  kurtosis_glucose  3970 non-null   float64\n",
      " 11  education         3969 non-null   object \n",
      " 12  fnlwgt            3965 non-null   float64\n",
      " 13  class             3972 non-null   float64\n",
      " 14  std_glucose       3966 non-null   float64\n",
      " 15  income            3971 non-null   object \n",
      " 16  native-country    3909 non-null   object \n",
      " 17  hours-per-week    3971 non-null   float64\n",
      " 18  capital-loss      3971 non-null   float64\n",
      " 19  workclass         3741 non-null   object \n",
      " 20  mean_oxygen       3967 non-null   float64\n",
      " 21  std_oxygen        3967 non-null   float64\n",
      " 22  kurtosis_oxygen   3967 non-null   float64\n",
      " 23  skewness_oxygen   3967 non-null   float64\n",
      " 24  age               3586 non-null   float64\n",
      " 25  sex               3983 non-null   object \n",
      " 26  date_of_birth     3983 non-null   object \n",
      " 27  street            3983 non-null   object \n",
      " 28  city              3704 non-null   object \n",
      " 29  zip_code          3983 non-null   object \n",
      "dtypes: float64(15), object(15)\n",
      "memory usage: 964.6+ KB\n"
     ]
    }
   ],
   "source": [
    "df_joined.info()"
   ]
  },
  {
   "cell_type": "code",
   "execution_count": 884,
   "metadata": {},
   "outputs": [],
   "source": [
    "# profile = ProfileReport(df_joined, title=\"Pandas Profiling Report\")\n",
    "# profile"
   ]
  },
  {
   "cell_type": "markdown",
   "metadata": {},
   "source": [
    "Na základe tohto výpisu sme zistili, že dataset obsahuje záznamy s rovnakými menami, pričom jeden záznam obsahoval hodnotu atribútu a druhý obsahoval NaN. Hodnoty NaN sme nahradili a vymazali sme duplikáty."
   ]
  },
  {
   "cell_type": "code",
   "execution_count": 885,
   "metadata": {},
   "outputs": [],
   "source": [
    "def drop_duplicates(data_frame):\n",
    "    df1 = data_frame[data_frame.duplicated('name', keep=False)].sort_values('name')\n",
    "\n",
    "    for i in range(0,len(df1.index),2):\n",
    "        for (column_name1, column_data1), (_, column_data2) in zip(df1.iloc[i].iteritems(), df1.iloc[i + 1].iteritems()):\n",
    "            if pd.isnull(column_data1):\n",
    "                data_frame.loc[df1.iloc[i]['name'] == data_frame['name'], column_name1] = column_data2\n",
    "            else:\n",
    "                data_frame.loc[df1.iloc[i]['name'] == data_frame['name'], column_name1] = column_data1\n",
    "            \n",
    "    data_frame = data_frame.drop_duplicates()\n",
    "    return data_frame\n",
    "\n",
    "df_joined = drop_duplicates(df_joined)"
   ]
  },
  {
   "cell_type": "markdown",
   "metadata": {},
   "source": [
    "Všimli sme si, že formát v stĺpci date_of_birth nie je jednotný, takže sme sa rozhodli z tohto dátamu extrahovať rok narodenia a následne dropnuť stĺpec date_of_birth."
   ]
  },
  {
   "cell_type": "code",
   "execution_count": 886,
   "metadata": {},
   "outputs": [],
   "source": [
    "def extract_year(data_frame):\n",
    "    years = []\n",
    "    for cell in data_frame['date_of_birth']:\n",
    "        if re.match('^[0-9]{2}\\-[0-9]{2}\\-[0-9]{2}$', cell):\n",
    "            year = cell[:2]\n",
    "            years.append(float('19' + year))\n",
    "        elif re.match('[0-9]{4}', cell):\n",
    "            years.append(float(re.findall('[0-9]{4}', cell)[0]))\n",
    "        elif re.match('^[0-9]{2}\\/[0-9]{2}\\/[0-9]{4}$', cell):\n",
    "            years.append(float(cell[-4:]))\n",
    "    \n",
    "    data_frame['year_of_birth'] = years\n",
    "    return data_frame.drop(columns=['date_of_birth'])\n",
    "    \n",
    "df_joined = extract_year(df_joined)"
   ]
  },
  {
   "cell_type": "markdown",
   "metadata": {},
   "source": [
    "Keďže v datasete chýbal niektorým záznamom celkový vek(stĺpec age), tak sme na základe stĺpca year_of_birth, vypočítali ich aktuálny vek a nahradili chýbajúce hodnoty validnými. "
   ]
  },
  {
   "cell_type": "code",
   "execution_count": 887,
   "metadata": {},
   "outputs": [],
   "source": [
    "def calculate_age_from_year(data_frame):\n",
    "    new_age = []\n",
    "    for (age, data1), (year, data2) in zip(data_frame['age'].iteritems(), data_frame['year_of_birth'].iteritems()):\n",
    "        if pd.isnull(data1):\n",
    "            new_age.append(2020 - data2)\n",
    "        else:\n",
    "            new_age.append(data1)\n",
    "            \n",
    "    data_frame['age'] = new_age\n",
    "    return data_frame\n",
    "    \n",
    "df_joined = calculate_age_from_year(df_joined)"
   ]
  },
  {
   "cell_type": "code",
   "execution_count": 888,
   "metadata": {},
   "outputs": [
    {
     "name": "stdout",
     "output_type": "stream",
     "text": [
      "<class 'pandas.core.frame.DataFrame'>\n",
      "Int64Index: 3933 entries, 0 to 3982\n",
      "Data columns (total 30 columns):\n",
      " #   Column            Non-Null Count  Dtype  \n",
      "---  ------            --------------  -----  \n",
      " 0   name              3933 non-null   object \n",
      " 1   race              3933 non-null   object \n",
      " 2   marital-status    3540 non-null   object \n",
      " 3   occupation        3710 non-null   object \n",
      " 4   pregnant          3933 non-null   object \n",
      " 5   education-num     3932 non-null   float64\n",
      " 6   relationship      3933 non-null   object \n",
      " 7   skewness_glucose  3932 non-null   float64\n",
      " 8   mean_glucose      3933 non-null   float64\n",
      " 9   capital-gain      3931 non-null   float64\n",
      " 10  kurtosis_glucose  3933 non-null   float64\n",
      " 11  education         3933 non-null   object \n",
      " 12  fnlwgt            3931 non-null   float64\n",
      " 13  class             3933 non-null   float64\n",
      " 14  std_glucose       3931 non-null   float64\n",
      " 15  income            3933 non-null   object \n",
      " 16  native-country    3874 non-null   object \n",
      " 17  hours-per-week    3932 non-null   float64\n",
      " 18  capital-loss      3932 non-null   float64\n",
      " 19  workclass         3709 non-null   object \n",
      " 20  mean_oxygen       3932 non-null   float64\n",
      " 21  std_oxygen        3932 non-null   float64\n",
      " 22  kurtosis_oxygen   3932 non-null   float64\n",
      " 23  skewness_oxygen   3932 non-null   float64\n",
      " 24  age               3933 non-null   float64\n",
      " 25  sex               3933 non-null   object \n",
      " 26  street            3933 non-null   object \n",
      " 27  city              3657 non-null   object \n",
      " 28  zip_code          3933 non-null   object \n",
      " 29  year_of_birth     3933 non-null   float64\n",
      "dtypes: float64(16), object(14)\n",
      "memory usage: 952.5+ KB\n"
     ]
    }
   ],
   "source": [
    "df_joined.info()"
   ]
  },
  {
   "cell_type": "code",
   "execution_count": 889,
   "metadata": {},
   "outputs": [
    {
     "data": {
      "text/html": [
       "<div>\n",
       "<style scoped>\n",
       "    .dataframe tbody tr th:only-of-type {\n",
       "        vertical-align: middle;\n",
       "    }\n",
       "\n",
       "    .dataframe tbody tr th {\n",
       "        vertical-align: top;\n",
       "    }\n",
       "\n",
       "    .dataframe thead th {\n",
       "        text-align: right;\n",
       "    }\n",
       "</style>\n",
       "<table border=\"1\" class=\"dataframe\">\n",
       "  <thead>\n",
       "    <tr style=\"text-align: right;\">\n",
       "      <th></th>\n",
       "      <th>education-num</th>\n",
       "      <th>skewness_glucose</th>\n",
       "      <th>mean_glucose</th>\n",
       "      <th>capital-gain</th>\n",
       "      <th>kurtosis_glucose</th>\n",
       "      <th>fnlwgt</th>\n",
       "      <th>class</th>\n",
       "      <th>std_glucose</th>\n",
       "      <th>hours-per-week</th>\n",
       "      <th>capital-loss</th>\n",
       "      <th>mean_oxygen</th>\n",
       "      <th>std_oxygen</th>\n",
       "      <th>kurtosis_oxygen</th>\n",
       "      <th>skewness_oxygen</th>\n",
       "      <th>age</th>\n",
       "      <th>year_of_birth</th>\n",
       "    </tr>\n",
       "  </thead>\n",
       "  <tbody>\n",
       "    <tr>\n",
       "      <th>count</th>\n",
       "      <td>3932.000000</td>\n",
       "      <td>3932.000000</td>\n",
       "      <td>3933.000000</td>\n",
       "      <td>3931.000000</td>\n",
       "      <td>3933.000000</td>\n",
       "      <td>3.931000e+03</td>\n",
       "      <td>3933.000000</td>\n",
       "      <td>3931.000000</td>\n",
       "      <td>3932.000000</td>\n",
       "      <td>3932.000000</td>\n",
       "      <td>3932.000000</td>\n",
       "      <td>3932.000000</td>\n",
       "      <td>3932.000000</td>\n",
       "      <td>3932.000000</td>\n",
       "      <td>3933.000000</td>\n",
       "      <td>3933.000000</td>\n",
       "    </tr>\n",
       "    <tr>\n",
       "      <th>mean</th>\n",
       "      <td>10.073245</td>\n",
       "      <td>4.219811</td>\n",
       "      <td>63.696776</td>\n",
       "      <td>1237.183160</td>\n",
       "      <td>0.951283</td>\n",
       "      <td>1.911450e+05</td>\n",
       "      <td>0.255276</td>\n",
       "      <td>45.172534</td>\n",
       "      <td>40.535097</td>\n",
       "      <td>73.980671</td>\n",
       "      <td>18.479727</td>\n",
       "      <td>31.152712</td>\n",
       "      <td>7.414067</td>\n",
       "      <td>91.315050</td>\n",
       "      <td>51.936435</td>\n",
       "      <td>1966.993389</td>\n",
       "    </tr>\n",
       "    <tr>\n",
       "      <th>std</th>\n",
       "      <td>2.674246</td>\n",
       "      <td>9.679145</td>\n",
       "      <td>3358.120098</td>\n",
       "      <td>8659.340002</td>\n",
       "      <td>1.610970</td>\n",
       "      <td>1.073383e+05</td>\n",
       "      <td>0.436072</td>\n",
       "      <td>7.608810</td>\n",
       "      <td>12.301212</td>\n",
       "      <td>371.308180</td>\n",
       "      <td>34.793133</td>\n",
       "      <td>22.269962</td>\n",
       "      <td>4.812653</td>\n",
       "      <td>108.560937</td>\n",
       "      <td>11.820871</td>\n",
       "      <td>11.820308</td>\n",
       "    </tr>\n",
       "    <tr>\n",
       "      <th>min</th>\n",
       "      <td>1.000000</td>\n",
       "      <td>-1.755332</td>\n",
       "      <td>-18973.437500</td>\n",
       "      <td>0.000000</td>\n",
       "      <td>-1.641515</td>\n",
       "      <td>1.882700e+04</td>\n",
       "      <td>0.000000</td>\n",
       "      <td>25.695250</td>\n",
       "      <td>1.000000</td>\n",
       "      <td>0.000000</td>\n",
       "      <td>0.213211</td>\n",
       "      <td>7.370432</td>\n",
       "      <td>-2.597872</td>\n",
       "      <td>-1.976976</td>\n",
       "      <td>-1.000000</td>\n",
       "      <td>1906.000000</td>\n",
       "    </tr>\n",
       "    <tr>\n",
       "      <th>25%</th>\n",
       "      <td>9.000000</td>\n",
       "      <td>-0.120081</td>\n",
       "      <td>83.859375</td>\n",
       "      <td>0.000000</td>\n",
       "      <td>0.072144</td>\n",
       "      <td>1.179345e+05</td>\n",
       "      <td>0.000000</td>\n",
       "      <td>40.163947</td>\n",
       "      <td>40.000000</td>\n",
       "      <td>0.000000</td>\n",
       "      <td>2.064799</td>\n",
       "      <td>15.039457</td>\n",
       "      <td>3.636259</td>\n",
       "      <td>12.863954</td>\n",
       "      <td>45.000000</td>\n",
       "      <td>1959.000000</td>\n",
       "    </tr>\n",
       "    <tr>\n",
       "      <th>50%</th>\n",
       "      <td>10.000000</td>\n",
       "      <td>0.374657</td>\n",
       "      <td>110.539062</td>\n",
       "      <td>0.000000</td>\n",
       "      <td>0.310784</td>\n",
       "      <td>1.795120e+05</td>\n",
       "      <td>0.000000</td>\n",
       "      <td>45.869299</td>\n",
       "      <td>40.000000</td>\n",
       "      <td>0.000000</td>\n",
       "      <td>3.234532</td>\n",
       "      <td>20.564154</td>\n",
       "      <td>7.783017</td>\n",
       "      <td>68.505049</td>\n",
       "      <td>52.000000</td>\n",
       "      <td>1967.000000</td>\n",
       "    </tr>\n",
       "    <tr>\n",
       "      <th>75%</th>\n",
       "      <td>13.000000</td>\n",
       "      <td>2.083826</td>\n",
       "      <td>125.359375</td>\n",
       "      <td>0.000000</td>\n",
       "      <td>0.776762</td>\n",
       "      <td>2.416740e+05</td>\n",
       "      <td>1.000000</td>\n",
       "      <td>50.361097</td>\n",
       "      <td>45.000000</td>\n",
       "      <td>0.000000</td>\n",
       "      <td>12.635452</td>\n",
       "      <td>43.229414</td>\n",
       "      <td>10.263412</td>\n",
       "      <td>127.017151</td>\n",
       "      <td>60.000000</td>\n",
       "      <td>1974.000000</td>\n",
       "    </tr>\n",
       "    <tr>\n",
       "      <th>max</th>\n",
       "      <td>16.000000</td>\n",
       "      <td>68.101622</td>\n",
       "      <td>15887.500000</td>\n",
       "      <td>99999.000000</td>\n",
       "      <td>8.069522</td>\n",
       "      <td>1.366120e+06</td>\n",
       "      <td>1.000000</td>\n",
       "      <td>91.206475</td>\n",
       "      <td>99.000000</td>\n",
       "      <td>2824.000000</td>\n",
       "      <td>217.371238</td>\n",
       "      <td>110.642211</td>\n",
       "      <td>34.539844</td>\n",
       "      <td>1191.000837</td>\n",
       "      <td>113.000000</td>\n",
       "      <td>2020.000000</td>\n",
       "    </tr>\n",
       "  </tbody>\n",
       "</table>\n",
       "</div>"
      ],
      "text/plain": [
       "       education-num  skewness_glucose  mean_glucose  capital-gain  \\\n",
       "count    3932.000000       3932.000000   3933.000000   3931.000000   \n",
       "mean       10.073245          4.219811     63.696776   1237.183160   \n",
       "std         2.674246          9.679145   3358.120098   8659.340002   \n",
       "min         1.000000         -1.755332 -18973.437500      0.000000   \n",
       "25%         9.000000         -0.120081     83.859375      0.000000   \n",
       "50%        10.000000          0.374657    110.539062      0.000000   \n",
       "75%        13.000000          2.083826    125.359375      0.000000   \n",
       "max        16.000000         68.101622  15887.500000  99999.000000   \n",
       "\n",
       "       kurtosis_glucose        fnlwgt        class  std_glucose  \\\n",
       "count       3933.000000  3.931000e+03  3933.000000  3931.000000   \n",
       "mean           0.951283  1.911450e+05     0.255276    45.172534   \n",
       "std            1.610970  1.073383e+05     0.436072     7.608810   \n",
       "min           -1.641515  1.882700e+04     0.000000    25.695250   \n",
       "25%            0.072144  1.179345e+05     0.000000    40.163947   \n",
       "50%            0.310784  1.795120e+05     0.000000    45.869299   \n",
       "75%            0.776762  2.416740e+05     1.000000    50.361097   \n",
       "max            8.069522  1.366120e+06     1.000000    91.206475   \n",
       "\n",
       "       hours-per-week  capital-loss  mean_oxygen   std_oxygen  \\\n",
       "count     3932.000000   3932.000000  3932.000000  3932.000000   \n",
       "mean        40.535097     73.980671    18.479727    31.152712   \n",
       "std         12.301212    371.308180    34.793133    22.269962   \n",
       "min          1.000000      0.000000     0.213211     7.370432   \n",
       "25%         40.000000      0.000000     2.064799    15.039457   \n",
       "50%         40.000000      0.000000     3.234532    20.564154   \n",
       "75%         45.000000      0.000000    12.635452    43.229414   \n",
       "max         99.000000   2824.000000   217.371238   110.642211   \n",
       "\n",
       "       kurtosis_oxygen  skewness_oxygen          age  year_of_birth  \n",
       "count      3932.000000      3932.000000  3933.000000    3933.000000  \n",
       "mean          7.414067        91.315050    51.936435    1966.993389  \n",
       "std           4.812653       108.560937    11.820871      11.820308  \n",
       "min          -2.597872        -1.976976    -1.000000    1906.000000  \n",
       "25%           3.636259        12.863954    45.000000    1959.000000  \n",
       "50%           7.783017        68.505049    52.000000    1967.000000  \n",
       "75%          10.263412       127.017151    60.000000    1974.000000  \n",
       "max          34.539844      1191.000837   113.000000    2020.000000  "
      ]
     },
     "execution_count": 889,
     "metadata": {},
     "output_type": "execute_result"
    }
   ],
   "source": [
    "df_joined.describe()"
   ]
  },
  {
   "cell_type": "code",
   "execution_count": 890,
   "metadata": {},
   "outputs": [
    {
     "data": {
      "text/html": [
       "<div>\n",
       "<style scoped>\n",
       "    .dataframe tbody tr th:only-of-type {\n",
       "        vertical-align: middle;\n",
       "    }\n",
       "\n",
       "    .dataframe tbody tr th {\n",
       "        vertical-align: top;\n",
       "    }\n",
       "\n",
       "    .dataframe thead th {\n",
       "        text-align: right;\n",
       "    }\n",
       "</style>\n",
       "<table border=\"1\" class=\"dataframe\">\n",
       "  <thead>\n",
       "    <tr style=\"text-align: right;\">\n",
       "      <th></th>\n",
       "      <th>name</th>\n",
       "      <th>race</th>\n",
       "      <th>marital-status</th>\n",
       "      <th>occupation</th>\n",
       "      <th>pregnant</th>\n",
       "      <th>education-num</th>\n",
       "      <th>relationship</th>\n",
       "      <th>skewness_glucose</th>\n",
       "      <th>mean_glucose</th>\n",
       "      <th>capital-gain</th>\n",
       "      <th>kurtosis_glucose</th>\n",
       "      <th>education</th>\n",
       "      <th>fnlwgt</th>\n",
       "      <th>class</th>\n",
       "      <th>std_glucose</th>\n",
       "      <th>income</th>\n",
       "      <th>native-country</th>\n",
       "      <th>hours-per-week</th>\n",
       "      <th>capital-loss</th>\n",
       "      <th>workclass</th>\n",
       "      <th>mean_oxygen</th>\n",
       "      <th>std_oxygen</th>\n",
       "      <th>kurtosis_oxygen</th>\n",
       "      <th>skewness_oxygen</th>\n",
       "      <th>age</th>\n",
       "      <th>sex</th>\n",
       "      <th>street</th>\n",
       "      <th>city</th>\n",
       "      <th>zip_code</th>\n",
       "      <th>year_of_birth</th>\n",
       "    </tr>\n",
       "  </thead>\n",
       "  <tbody>\n",
       "    <tr>\n",
       "      <th>0</th>\n",
       "      <td>David Hayes</td>\n",
       "      <td>Black</td>\n",
       "      <td>NaN</td>\n",
       "      <td>Prof-specialty</td>\n",
       "      <td>False</td>\n",
       "      <td>5.0</td>\n",
       "      <td>Not-in-family</td>\n",
       "      <td>-0.197692</td>\n",
       "      <td>141.359375</td>\n",
       "      <td>0.0</td>\n",
       "      <td>-0.252430</td>\n",
       "      <td>9th</td>\n",
       "      <td>175431.0</td>\n",
       "      <td>0.0</td>\n",
       "      <td>49.842053</td>\n",
       "      <td>&lt;=50K</td>\n",
       "      <td>United-States</td>\n",
       "      <td>40.0</td>\n",
       "      <td>0.0</td>\n",
       "      <td>Private</td>\n",
       "      <td>4.042642</td>\n",
       "      <td>19.456469</td>\n",
       "      <td>6.410765</td>\n",
       "      <td>49.813954</td>\n",
       "      <td>45.0</td>\n",
       "      <td>Female</td>\n",
       "      <td>235 Jennifer Throughway Suite 569</td>\n",
       "      <td>New Anthonyland</td>\n",
       "      <td>PA 19524</td>\n",
       "      <td>1974.0</td>\n",
       "    </tr>\n",
       "    <tr>\n",
       "      <th>1</th>\n",
       "      <td>Stanley Benny</td>\n",
       "      <td>White</td>\n",
       "      <td>Married-civ-spouse</td>\n",
       "      <td>Exec-managerial</td>\n",
       "      <td>False</td>\n",
       "      <td>13.0</td>\n",
       "      <td>Husband</td>\n",
       "      <td>16.019670</td>\n",
       "      <td>53.968750</td>\n",
       "      <td>0.0</td>\n",
       "      <td>3.149333</td>\n",
       "      <td>Bachelors</td>\n",
       "      <td>66473.0</td>\n",
       "      <td>1.0</td>\n",
       "      <td>31.900220</td>\n",
       "      <td>&gt;50K</td>\n",
       "      <td>United-States</td>\n",
       "      <td>40.0</td>\n",
       "      <td>0.0</td>\n",
       "      <td>Private</td>\n",
       "      <td>9.294314</td>\n",
       "      <td>35.958174</td>\n",
       "      <td>4.424007</td>\n",
       "      <td>19.868969</td>\n",
       "      <td>42.0</td>\n",
       "      <td>Male</td>\n",
       "      <td>08954 Johnson Course</td>\n",
       "      <td>New Lauraville</td>\n",
       "      <td>NV 22019</td>\n",
       "      <td>1977.0</td>\n",
       "    </tr>\n",
       "    <tr>\n",
       "      <th>2</th>\n",
       "      <td>Domingo Labriola</td>\n",
       "      <td>Asian-Pac-Islander</td>\n",
       "      <td>Married-civ-spouse</td>\n",
       "      <td>Farming-fishing</td>\n",
       "      <td>False</td>\n",
       "      <td>3.0</td>\n",
       "      <td>Husband</td>\n",
       "      <td>21.803837</td>\n",
       "      <td>2257.812500</td>\n",
       "      <td>0.0</td>\n",
       "      <td>4.650770</td>\n",
       "      <td>5th-6th</td>\n",
       "      <td>93206.0</td>\n",
       "      <td>1.0</td>\n",
       "      <td>35.793158</td>\n",
       "      <td>&lt;=50K</td>\n",
       "      <td>Philippines</td>\n",
       "      <td>40.0</td>\n",
       "      <td>0.0</td>\n",
       "      <td>Private</td>\n",
       "      <td>138.787625</td>\n",
       "      <td>79.152788</td>\n",
       "      <td>-0.445270</td>\n",
       "      <td>-0.909086</td>\n",
       "      <td>46.0</td>\n",
       "      <td>Male</td>\n",
       "      <td>36319 Wiley Drive Suite 094</td>\n",
       "      <td>South Michael</td>\n",
       "      <td>WI 41806</td>\n",
       "      <td>1973.0</td>\n",
       "    </tr>\n",
       "    <tr>\n",
       "      <th>3</th>\n",
       "      <td>Ronnie Moore</td>\n",
       "      <td>White</td>\n",
       "      <td>Never-married</td>\n",
       "      <td>Other-service</td>\n",
       "      <td>False</td>\n",
       "      <td>10.0</td>\n",
       "      <td>Not-in-family</td>\n",
       "      <td>-0.112191</td>\n",
       "      <td>110.046875</td>\n",
       "      <td>0.0</td>\n",
       "      <td>0.441957</td>\n",
       "      <td>Some-college</td>\n",
       "      <td>137604.0</td>\n",
       "      <td>0.0</td>\n",
       "      <td>53.876575</td>\n",
       "      <td>&lt;=50K</td>\n",
       "      <td>United-States</td>\n",
       "      <td>40.0</td>\n",
       "      <td>0.0</td>\n",
       "      <td>Private</td>\n",
       "      <td>3.100334</td>\n",
       "      <td>17.819373</td>\n",
       "      <td>8.434320</td>\n",
       "      <td>85.665564</td>\n",
       "      <td>53.0</td>\n",
       "      <td>Male</td>\n",
       "      <td>0755 Soto Oval Apt. 443</td>\n",
       "      <td>West Markside</td>\n",
       "      <td>TX 32737</td>\n",
       "      <td>1966.0</td>\n",
       "    </tr>\n",
       "    <tr>\n",
       "      <th>4</th>\n",
       "      <td>Victor Mcjunkin</td>\n",
       "      <td>White</td>\n",
       "      <td>NaN</td>\n",
       "      <td>Adm-clerical</td>\n",
       "      <td>False</td>\n",
       "      <td>10.0</td>\n",
       "      <td>Not-in-family</td>\n",
       "      <td>-0.309642</td>\n",
       "      <td>137.960938</td>\n",
       "      <td>0.0</td>\n",
       "      <td>-0.048518</td>\n",
       "      <td>Some-college</td>\n",
       "      <td>174592.0</td>\n",
       "      <td>0.0</td>\n",
       "      <td>51.885451</td>\n",
       "      <td>&lt;=50K</td>\n",
       "      <td>United-States</td>\n",
       "      <td>40.0</td>\n",
       "      <td>0.0</td>\n",
       "      <td>Private</td>\n",
       "      <td>4.203177</td>\n",
       "      <td>23.949006</td>\n",
       "      <td>6.531796</td>\n",
       "      <td>45.866688</td>\n",
       "      <td>52.0</td>\n",
       "      <td>Female</td>\n",
       "      <td>95738 Keller Overpass</td>\n",
       "      <td>Kennedyland</td>\n",
       "      <td>MO 71071</td>\n",
       "      <td>1967.0</td>\n",
       "    </tr>\n",
       "  </tbody>\n",
       "</table>\n",
       "</div>"
      ],
      "text/plain": [
       "               name                race      marital-status       occupation  \\\n",
       "0       David Hayes               Black                 NaN   Prof-specialty   \n",
       "1     Stanley Benny               White  Married-civ-spouse  Exec-managerial   \n",
       "2  Domingo Labriola  Asian-Pac-Islander  Married-civ-spouse  Farming-fishing   \n",
       "3      Ronnie Moore               White       Never-married    Other-service   \n",
       "4   Victor Mcjunkin               White                 NaN     Adm-clerical   \n",
       "\n",
       "  pregnant  education-num   relationship  skewness_glucose  mean_glucose  \\\n",
       "0    False            5.0  Not-in-family         -0.197692    141.359375   \n",
       "1    False           13.0        Husband         16.019670     53.968750   \n",
       "2    False            3.0        Husband         21.803837   2257.812500   \n",
       "3    False           10.0  Not-in-family         -0.112191    110.046875   \n",
       "4    False           10.0  Not-in-family         -0.309642    137.960938   \n",
       "\n",
       "   capital-gain  kurtosis_glucose     education    fnlwgt  class  std_glucose  \\\n",
       "0           0.0         -0.252430           9th  175431.0    0.0    49.842053   \n",
       "1           0.0          3.149333     Bachelors   66473.0    1.0    31.900220   \n",
       "2           0.0          4.650770       5th-6th   93206.0    1.0    35.793158   \n",
       "3           0.0          0.441957  Some-college  137604.0    0.0    53.876575   \n",
       "4           0.0         -0.048518  Some-college  174592.0    0.0    51.885451   \n",
       "\n",
       "  income native-country  hours-per-week  capital-loss workclass  mean_oxygen  \\\n",
       "0  <=50K  United-States            40.0           0.0   Private     4.042642   \n",
       "1   >50K  United-States            40.0           0.0   Private     9.294314   \n",
       "2  <=50K    Philippines            40.0           0.0   Private   138.787625   \n",
       "3  <=50K  United-States            40.0           0.0   Private     3.100334   \n",
       "4  <=50K  United-States            40.0           0.0   Private     4.203177   \n",
       "\n",
       "   std_oxygen  kurtosis_oxygen  skewness_oxygen   age     sex  \\\n",
       "0   19.456469         6.410765        49.813954  45.0  Female   \n",
       "1   35.958174         4.424007        19.868969  42.0    Male   \n",
       "2   79.152788        -0.445270        -0.909086  46.0    Male   \n",
       "3   17.819373         8.434320        85.665564  53.0    Male   \n",
       "4   23.949006         6.531796        45.866688  52.0  Female   \n",
       "\n",
       "                              street              city   zip_code  \\\n",
       "0  235 Jennifer Throughway Suite 569   New Anthonyland   PA 19524   \n",
       "1               08954 Johnson Course    New Lauraville   NV 22019   \n",
       "2        36319 Wiley Drive Suite 094     South Michael   WI 41806   \n",
       "3            0755 Soto Oval Apt. 443     West Markside   TX 32737   \n",
       "4              95738 Keller Overpass       Kennedyland   MO 71071   \n",
       "\n",
       "   year_of_birth  \n",
       "0         1974.0  \n",
       "1         1977.0  \n",
       "2         1973.0  \n",
       "3         1966.0  \n",
       "4         1967.0  "
      ]
     },
     "execution_count": 890,
     "metadata": {},
     "output_type": "execute_result"
    }
   ],
   "source": [
    "df_joined.head()"
   ]
  },
  {
   "cell_type": "markdown",
   "metadata": {},
   "source": [
    "Distribúcia year_of_birth má normálový tvar bez úpravy, avšak je možné, že sa tam ocitli nejaké outliery, čo zistíme neskôr a následne ich nahradíme."
   ]
  },
  {
   "cell_type": "code",
   "execution_count": 891,
   "metadata": {},
   "outputs": [
    {
     "data": {
      "text/plain": [
       "<seaborn.axisgrid.FacetGrid at 0x12507ec25b0>"
      ]
     },
     "execution_count": 891,
     "metadata": {},
     "output_type": "execute_result"
    },
    {
     "data": {
      "image/png": "[encoded data removed]",
      "text/plain": [
       "<Figure size 360x360 with 1 Axes>"
      ]
     },
     "metadata": {
      "needs_background": "light"
     },
     "output_type": "display_data"
    }
   ],
   "source": [
    "sns.displot(df_joined['year_of_birth'], kde=True, bins=30) # Distribution of age values, Positive kurtosis and normal skewness"
   ]
  },
  {
   "cell_type": "markdown",
   "metadata": {},
   "source": [
    "Distribúcia age je po doplnení chýbajúcich hodnôt tiež normálového tvaru a s jej outliermi sa vysporiadame neskôr."
   ]
  },
  {
   "cell_type": "code",
   "execution_count": 892,
   "metadata": {},
   "outputs": [
    {
     "data": {
      "text/plain": [
       "<seaborn.axisgrid.FacetGrid at 0x125083174c0>"
      ]
     },
     "execution_count": 892,
     "metadata": {},
     "output_type": "execute_result"
    },
    {
     "data": {
      "image/png": "[encoded data removed]",
      "text/plain": [
       "<Figure size 360x360 with 1 Axes>"
      ]
     },
     "metadata": {
      "needs_background": "light"
     },
     "output_type": "display_data"
    }
   ],
   "source": [
    "sns.displot(df_joined['age'], kde=True, bins=30) # Distribution of age values, Positive kurtosis and normal skewness"
   ]
  },
  {
   "cell_type": "markdown",
   "metadata": {},
   "source": [
    "Dataset obsahoval 1243 chýbajúcich hodnôt a po odstranení duplikátov obsahuje 888."
   ]
  },
  {
   "cell_type": "code",
   "execution_count": 893,
   "metadata": {},
   "outputs": [
    {
     "data": {
      "text/plain": [
       "888"
      ]
     },
     "execution_count": 893,
     "metadata": {},
     "output_type": "execute_result"
    }
   ],
   "source": [
    "df_joined.shape[0] - df_joined.dropna().shape[0] "
   ]
  },
  {
   "cell_type": "markdown",
   "metadata": {},
   "source": [
    "# Riešenie chýbajúcich hodnôt podľa stratégie priemeru"
   ]
  },
  {
   "cell_type": "code",
   "execution_count": 894,
   "metadata": {},
   "outputs": [
    {
     "name": "stdout",
     "output_type": "stream",
     "text": [
      "<class 'pandas.core.frame.DataFrame'>\n",
      "Int64Index: 3933 entries, 0 to 3982\n",
      "Data columns (total 30 columns):\n",
      " #   Column            Non-Null Count  Dtype  \n",
      "---  ------            --------------  -----  \n",
      " 0   name              3933 non-null   object \n",
      " 1   race              3933 non-null   object \n",
      " 2   marital-status    3540 non-null   object \n",
      " 3   occupation        3710 non-null   object \n",
      " 4   pregnant          3933 non-null   object \n",
      " 5   education-num     3932 non-null   float64\n",
      " 6   relationship      3933 non-null   object \n",
      " 7   skewness_glucose  3932 non-null   float64\n",
      " 8   mean_glucose      3933 non-null   float64\n",
      " 9   capital-gain      3931 non-null   float64\n",
      " 10  kurtosis_glucose  3933 non-null   float64\n",
      " 11  education         3933 non-null   object \n",
      " 12  fnlwgt            3931 non-null   float64\n",
      " 13  class             3933 non-null   float64\n",
      " 14  std_glucose       3931 non-null   float64\n",
      " 15  income            3933 non-null   object \n",
      " 16  native-country    3874 non-null   object \n",
      " 17  hours-per-week    3932 non-null   float64\n",
      " 18  capital-loss      3932 non-null   float64\n",
      " 19  workclass         3709 non-null   object \n",
      " 20  mean_oxygen       3932 non-null   float64\n",
      " 21  std_oxygen        3932 non-null   float64\n",
      " 22  kurtosis_oxygen   3932 non-null   float64\n",
      " 23  skewness_oxygen   3932 non-null   float64\n",
      " 24  age               3933 non-null   float64\n",
      " 25  sex               3933 non-null   object \n",
      " 26  street            3933 non-null   object \n",
      " 27  city              3657 non-null   object \n",
      " 28  zip_code          3933 non-null   object \n",
      " 29  year_of_birth     3933 non-null   float64\n",
      "dtypes: float64(16), object(14)\n",
      "memory usage: 952.5+ KB\n"
     ]
    }
   ],
   "source": [
    "from sklearn.impute import SimpleImputer\n",
    "\n",
    "copy_joined = df_joined.copy()\n",
    "nan_map = copy_joined.isnull().any(axis=1)\n",
    "copy_joined[nan_map]\n",
    "\n",
    "imp = SimpleImputer(missing_values=np.nan, strategy='mean')\n",
    "copy_joined['age'] = imp.fit_transform(copy_joined[['age']])\n",
    "copy_joined[nan_map]\n",
    "\n",
    "df_joined.info()"
   ]
  },
  {
   "cell_type": "code",
   "execution_count": 895,
   "metadata": {},
   "outputs": [
    {
     "data": {
      "text/plain": [
       "<seaborn.axisgrid.FacetGrid at 0x125082cd2e0>"
      ]
     },
     "execution_count": 895,
     "metadata": {},
     "output_type": "execute_result"
    },
    {
     "data": {
      "image/png": "[encoded data removed]",
      "text/plain": [
       "<Figure size 360x360 with 1 Axes>"
      ]
     },
     "metadata": {
      "needs_background": "light"
     },
     "output_type": "display_data"
    }
   ],
   "source": [
    "sns.displot(df_joined['age'], kde=True, bins=30) # Distribution of age values, Positive kurtosis and normal skewness"
   ]
  },
  {
   "cell_type": "code",
   "execution_count": 896,
   "metadata": {},
   "outputs": [
    {
     "data": {
      "text/plain": [
       "<seaborn.axisgrid.FacetGrid at 0x125095f3b80>"
      ]
     },
     "execution_count": 896,
     "metadata": {},
     "output_type": "execute_result"
    },
    {
     "data": {
      "image/png": "[encoded data removed]",
      "text/plain": [
       "<Figure size 360x360 with 1 Axes>"
      ]
     },
     "metadata": {
      "needs_background": "light"
     },
     "output_type": "display_data"
    }
   ],
   "source": [
    "sns.displot(copy_joined['age'], kde=True, bins=30)"
   ]
  },
  {
   "cell_type": "markdown",
   "metadata": {},
   "source": [
    "Po chýbajúce hodnoty pre atribút age sme nahradili priemerom celkového atribútu. Výsledkom je, že jeho rozdelenie je o dosť viac špicaté, takže sa ešte menej podobá na normálové rozdelenie ako pred doplnením chýbajúcich hodnôt."
   ]
  },
  {
   "cell_type": "code",
   "execution_count": 897,
   "metadata": {},
   "outputs": [
    {
     "data": {
      "text/plain": [
       "<seaborn.axisgrid.FacetGrid at 0x12509646610>"
      ]
     },
     "execution_count": 897,
     "metadata": {},
     "output_type": "execute_result"
    },
    {
     "data": {
      "image/png": "[encoded data removed]",
      "text/plain": [
       "<Figure size 360x360 with 1 Axes>"
      ]
     },
     "metadata": {
      "needs_background": "light"
     },
     "output_type": "display_data"
    }
   ],
   "source": [
    "sns.displot(df_joined['education-num'], kde=True, bins=30)"
   ]
  },
  {
   "cell_type": "code",
   "execution_count": 898,
   "metadata": {},
   "outputs": [
    {
     "data": {
      "text/plain": [
       "<seaborn.axisgrid.FacetGrid at 0x12509637910>"
      ]
     },
     "execution_count": 898,
     "metadata": {},
     "output_type": "execute_result"
    },
    {
     "data": {
      "image/png": "[encoded data removed]",
      "text/plain": [
       "<Figure size 360x360 with 1 Axes>"
      ]
     },
     "metadata": {
      "needs_background": "light"
     },
     "output_type": "display_data"
    }
   ],
   "source": [
    "copy_joined['education-num'] = imp.fit_transform(copy_joined[['education-num']])\n",
    "copy_joined[nan_map]\n",
    "sns.displot(copy_joined['education-num'], kde=True, bins=30)"
   ]
  },
  {
   "cell_type": "markdown",
   "metadata": {},
   "source": [
    "Pre atribút education-num bola iba jedna vychýlená hodnota, a preto po jej doplnení to nijako neovplyvnilo rozdelenie distribúcie. Vyzerá to tak, že tomuto atribútu viacej pomôže nahradenie outlierov."
   ]
  },
  {
   "cell_type": "code",
   "execution_count": 899,
   "metadata": {},
   "outputs": [
    {
     "data": {
      "text/plain": [
       "<seaborn.axisgrid.FacetGrid at 0x125097da910>"
      ]
     },
     "execution_count": 899,
     "metadata": {},
     "output_type": "execute_result"
    },
    {
     "data": {
      "image/png": "[encoded data removed]",
      "text/plain": [
       "<Figure size 360x360 with 1 Axes>"
      ]
     },
     "metadata": {
      "needs_background": "light"
     },
     "output_type": "display_data"
    }
   ],
   "source": [
    "sns.displot(df_joined['skewness_glucose'], kde=True, bins=30)"
   ]
  },
  {
   "cell_type": "code",
   "execution_count": 900,
   "metadata": {},
   "outputs": [
    {
     "data": {
      "text/plain": [
       "<seaborn.axisgrid.FacetGrid at 0x125098181c0>"
      ]
     },
     "execution_count": 900,
     "metadata": {},
     "output_type": "execute_result"
    },
    {
     "data": {
      "image/png": "[encoded data removed]",
      "text/plain": [
       "<Figure size 360x360 with 1 Axes>"
      ]
     },
     "metadata": {
      "needs_background": "light"
     },
     "output_type": "display_data"
    }
   ],
   "source": [
    "copy_joined['skewness_glucose'] = imp.fit_transform(copy_joined[['skewness_glucose']])\n",
    "copy_joined[nan_map]\n",
    "sns.displot(copy_joined['skewness_glucose'], kde=True, bins=30)"
   ]
  },
  {
   "cell_type": "markdown",
   "metadata": {},
   "source": [
    "Atribút skewness_glucose opäť obsahoval iba jednu, chýbajúcu hodnotu, ktorú keď sme doplnili, tak to distribúciu neupravilo. Avšak niektoré namerané hodnoty sú celkom extrémne oproti priemerným a preto nahradenie vychýlených hodnôt ju môže zlepšiť."
   ]
  },
  {
   "cell_type": "code",
   "execution_count": 901,
   "metadata": {},
   "outputs": [
    {
     "data": {
      "text/plain": [
       "<seaborn.axisgrid.FacetGrid at 0x12509890820>"
      ]
     },
     "execution_count": 901,
     "metadata": {},
     "output_type": "execute_result"
    },
    {
     "data": {
      "image/png": "[encoded data removed]",
      "text/plain": [
       "<Figure size 360x360 with 1 Axes>"
      ]
     },
     "metadata": {
      "needs_background": "light"
     },
     "output_type": "display_data"
    }
   ],
   "source": [
    "sns.displot(df_joined['capital-gain'], kde=True, bins=30)"
   ]
  },
  {
   "cell_type": "code",
   "execution_count": 902,
   "metadata": {},
   "outputs": [
    {
     "data": {
      "text/plain": [
       "<seaborn.axisgrid.FacetGrid at 0x125099b5640>"
      ]
     },
     "execution_count": 902,
     "metadata": {},
     "output_type": "execute_result"
    },
    {
     "data": {
      "image/png": "[encoded data removed]",
      "text/plain": [
       "<Figure size 360x360 with 1 Axes>"
      ]
     },
     "metadata": {
      "needs_background": "light"
     },
     "output_type": "display_data"
    }
   ],
   "source": [
    "copy_joined['capital-gain'] = imp.fit_transform(copy_joined[['capital-gain']])\n",
    "copy_joined[nan_map]\n",
    "sns.displot(copy_joined['capital-gain'], kde=True, bins=30)"
   ]
  },
  {
   "cell_type": "code",
   "execution_count": 903,
   "metadata": {},
   "outputs": [
    {
     "data": {
      "text/plain": [
       "<seaborn.axisgrid.FacetGrid at 0x12509a07a00>"
      ]
     },
     "execution_count": 903,
     "metadata": {},
     "output_type": "execute_result"
    },
    {
     "data": {
      "image/png": "[encoded data removed]",
      "text/plain": [
       "<Figure size 360x360 with 1 Axes>"
      ]
     },
     "metadata": {
      "needs_background": "light"
     },
     "output_type": "display_data"
    }
   ],
   "source": [
    "sns.displot(df_joined['fnlwgt'], kde=True, bins=30)"
   ]
  },
  {
   "cell_type": "code",
   "execution_count": 904,
   "metadata": {},
   "outputs": [
    {
     "data": {
      "text/plain": [
       "<seaborn.axisgrid.FacetGrid at 0x125098c62b0>"
      ]
     },
     "execution_count": 904,
     "metadata": {},
     "output_type": "execute_result"
    },
    {
     "data": {
      "image/png": "[encoded data removed]",
      "text/plain": [
       "<Figure size 360x360 with 1 Axes>"
      ]
     },
     "metadata": {
      "needs_background": "light"
     },
     "output_type": "display_data"
    }
   ],
   "source": [
    "copy_joined['fnlwgt'] = imp.fit_transform(copy_joined[['fnlwgt']])\n",
    "copy_joined[nan_map]\n",
    "sns.displot(copy_joined['fnlwgt'], kde=True, bins=30)"
   ]
  },
  {
   "cell_type": "code",
   "execution_count": 905,
   "metadata": {},
   "outputs": [
    {
     "data": {
      "text/plain": [
       "<seaborn.axisgrid.FacetGrid at 0x125098dd1c0>"
      ]
     },
     "execution_count": 905,
     "metadata": {},
     "output_type": "execute_result"
    },
    {
     "data": {
      "image/png": "[encoded data removed]",
      "text/plain": [
       "<Figure size 360x360 with 1 Axes>"
      ]
     },
     "metadata": {
      "needs_background": "light"
     },
     "output_type": "display_data"
    }
   ],
   "source": [
    "sns.displot(df_joined['std_glucose'], kde=True, bins=30)"
   ]
  },
  {
   "cell_type": "code",
   "execution_count": 906,
   "metadata": {},
   "outputs": [
    {
     "data": {
      "text/plain": [
       "<seaborn.axisgrid.FacetGrid at 0x1250abeeaf0>"
      ]
     },
     "execution_count": 906,
     "metadata": {},
     "output_type": "execute_result"
    },
    {
     "data": {
      "image/png": "[encoded data removed]",
      "text/plain": [
       "<Figure size 360x360 with 1 Axes>"
      ]
     },
     "metadata": {
      "needs_background": "light"
     },
     "output_type": "display_data"
    }
   ],
   "source": [
    "copy_joined['std_glucose'] = imp.fit_transform(copy_joined[['std_glucose']])\n",
    "copy_joined[nan_map]\n",
    "sns.displot(copy_joined['std_glucose'], kde=True, bins=30)"
   ]
  },
  {
   "cell_type": "code",
   "execution_count": 907,
   "metadata": {},
   "outputs": [
    {
     "data": {
      "text/plain": [
       "<seaborn.axisgrid.FacetGrid at 0x1250ac65fd0>"
      ]
     },
     "execution_count": 907,
     "metadata": {},
     "output_type": "execute_result"
    },
    {
     "data": {
      "image/png": "[encoded data removed]",
      "text/plain": [
       "<Figure size 360x360 with 1 Axes>"
      ]
     },
     "metadata": {
      "needs_background": "light"
     },
     "output_type": "display_data"
    }
   ],
   "source": [
    "sns.displot(df_joined['hours-per-week'], kde=True, bins=30)"
   ]
  },
  {
   "cell_type": "code",
   "execution_count": 908,
   "metadata": {},
   "outputs": [
    {
     "data": {
      "text/plain": [
       "<seaborn.axisgrid.FacetGrid at 0x12507c65b50>"
      ]
     },
     "execution_count": 908,
     "metadata": {},
     "output_type": "execute_result"
    },
    {
     "data": {
      "image/png": "[encoded data removed]",
      "text/plain": [
       "<Figure size 360x360 with 1 Axes>"
      ]
     },
     "metadata": {
      "needs_background": "light"
     },
     "output_type": "display_data"
    }
   ],
   "source": [
    "copy_joined['hours-per-week'] = imp.fit_transform(copy_joined[['hours-per-week']])\n",
    "copy_joined[nan_map]\n",
    "sns.displot(copy_joined['hours-per-week'], kde=True, bins=30)"
   ]
  },
  {
   "cell_type": "code",
   "execution_count": 909,
   "metadata": {},
   "outputs": [
    {
     "data": {
      "text/plain": [
       "<seaborn.axisgrid.FacetGrid at 0x12507b3b400>"
      ]
     },
     "execution_count": 909,
     "metadata": {},
     "output_type": "execute_result"
    },
    {
     "data": {
      "image/png": "[encoded data removed]",
      "text/plain": [
       "<Figure size 360x360 with 1 Axes>"
      ]
     },
     "metadata": {
      "needs_background": "light"
     },
     "output_type": "display_data"
    }
   ],
   "source": [
    "sns.displot(df_joined['capital-loss'], kde=True, bins=30)"
   ]
  },
  {
   "cell_type": "code",
   "execution_count": 910,
   "metadata": {},
   "outputs": [
    {
     "data": {
      "text/plain": [
       "<seaborn.axisgrid.FacetGrid at 0x125079e8880>"
      ]
     },
     "execution_count": 910,
     "metadata": {},
     "output_type": "execute_result"
    },
    {
     "data": {
      "image/png": "[encoded data removed]",
      "text/plain": [
       "<Figure size 360x360 with 1 Axes>"
      ]
     },
     "metadata": {
      "needs_background": "light"
     },
     "output_type": "display_data"
    }
   ],
   "source": [
    "copy_joined['capital-loss'] = imp.fit_transform(copy_joined[['capital-loss']])\n",
    "copy_joined[nan_map]\n",
    "sns.displot(copy_joined['capital-loss'], kde=True, bins=30)"
   ]
  },
  {
   "cell_type": "code",
   "execution_count": 911,
   "metadata": {},
   "outputs": [
    {
     "data": {
      "text/plain": [
       "<seaborn.axisgrid.FacetGrid at 0x12507895670>"
      ]
     },
     "execution_count": 911,
     "metadata": {},
     "output_type": "execute_result"
    },
    {
     "data": {
      "image/png": "[encoded data removed]",
      "text/plain": [
       "<Figure size 360x360 with 1 Axes>"
      ]
     },
     "metadata": {
      "needs_background": "light"
     },
     "output_type": "display_data"
    }
   ],
   "source": [
    "sns.displot(df_joined['mean_oxygen'], kde=True, bins=30)"
   ]
  },
  {
   "cell_type": "code",
   "execution_count": 912,
   "metadata": {},
   "outputs": [
    {
     "data": {
      "text/plain": [
       "<seaborn.axisgrid.FacetGrid at 0x12507485280>"
      ]
     },
     "execution_count": 912,
     "metadata": {},
     "output_type": "execute_result"
    },
    {
     "data": {
      "image/png": "[encoded data removed]",
      "text/plain": [
       "<Figure size 360x360 with 1 Axes>"
      ]
     },
     "metadata": {
      "needs_background": "light"
     },
     "output_type": "display_data"
    }
   ],
   "source": [
    "copy_joined['mean_oxygen'] = imp.fit_transform(copy_joined[['mean_oxygen']])\n",
    "copy_joined[nan_map]\n",
    "sns.displot(copy_joined['mean_oxygen'], kde=True, bins=30)"
   ]
  },
  {
   "cell_type": "code",
   "execution_count": 913,
   "metadata": {},
   "outputs": [
    {
     "data": {
      "text/plain": [
       "<seaborn.axisgrid.FacetGrid at 0x12506359580>"
      ]
     },
     "execution_count": 913,
     "metadata": {},
     "output_type": "execute_result"
    },
    {
     "data": {
      "image/png": "[encoded data removed]",
      "text/plain": [
       "<Figure size 360x360 with 1 Axes>"
      ]
     },
     "metadata": {
      "needs_background": "light"
     },
     "output_type": "display_data"
    }
   ],
   "source": [
    "sns.displot(df_joined['std_oxygen'], kde=True, bins=30)"
   ]
  },
  {
   "cell_type": "code",
   "execution_count": 914,
   "metadata": {},
   "outputs": [
    {
     "data": {
      "text/plain": [
       "<seaborn.axisgrid.FacetGrid at 0x125063599a0>"
      ]
     },
     "execution_count": 914,
     "metadata": {},
     "output_type": "execute_result"
    },
    {
     "data": {
      "image/png": "[encoded data removed]",
      "text/plain": [
       "<Figure size 360x360 with 1 Axes>"
      ]
     },
     "metadata": {
      "needs_background": "light"
     },
     "output_type": "display_data"
    }
   ],
   "source": [
    "copy_joined['std_oxygen'] = imp.fit_transform(copy_joined[['std_oxygen']])\n",
    "copy_joined[nan_map]\n",
    "sns.displot(copy_joined['std_oxygen'], kde=True, bins=30)"
   ]
  },
  {
   "cell_type": "code",
   "execution_count": 915,
   "metadata": {},
   "outputs": [
    {
     "data": {
      "text/plain": [
       "<seaborn.axisgrid.FacetGrid at 0x12505f3e5b0>"
      ]
     },
     "execution_count": 915,
     "metadata": {},
     "output_type": "execute_result"
    },
    {
     "data": {
      "image/png": "[encoded data removed]",
      "text/plain": [
       "<Figure size 360x360 with 1 Axes>"
      ]
     },
     "metadata": {
      "needs_background": "light"
     },
     "output_type": "display_data"
    }
   ],
   "source": [
    "sns.displot(df_joined['kurtosis_oxygen'], kde=True, bins=30)"
   ]
  },
  {
   "cell_type": "code",
   "execution_count": 916,
   "metadata": {},
   "outputs": [
    {
     "data": {
      "text/plain": [
       "<seaborn.axisgrid.FacetGrid at 0x12505d9e6d0>"
      ]
     },
     "execution_count": 916,
     "metadata": {},
     "output_type": "execute_result"
    },
    {
     "data": {
      "image/png": "[encoded data removed]",
      "text/plain": [
       "<Figure size 360x360 with 1 Axes>"
      ]
     },
     "metadata": {
      "needs_background": "light"
     },
     "output_type": "display_data"
    }
   ],
   "source": [
    "copy_joined['kurtosis_oxygen'] = imp.fit_transform(copy_joined[['kurtosis_oxygen']])\n",
    "copy_joined[nan_map]\n",
    "sns.displot(copy_joined['kurtosis_oxygen'], kde=True, bins=30)"
   ]
  },
  {
   "cell_type": "code",
   "execution_count": 917,
   "metadata": {},
   "outputs": [
    {
     "data": {
      "text/plain": [
       "<seaborn.axisgrid.FacetGrid at 0x12505cc1940>"
      ]
     },
     "execution_count": 917,
     "metadata": {},
     "output_type": "execute_result"
    },
    {
     "data": {
      "image/png": "[encoded data removed]",
      "text/plain": [
       "<Figure size 360x360 with 1 Axes>"
      ]
     },
     "metadata": {
      "needs_background": "light"
     },
     "output_type": "display_data"
    }
   ],
   "source": [
    "sns.displot(df_joined['skewness_oxygen'], kde=True, bins=30)"
   ]
  },
  {
   "cell_type": "code",
   "execution_count": 918,
   "metadata": {
    "scrolled": false
   },
   "outputs": [
    {
     "data": {
      "text/plain": [
       "<seaborn.axisgrid.FacetGrid at 0x12505d22b50>"
      ]
     },
     "execution_count": 918,
     "metadata": {},
     "output_type": "execute_result"
    },
    {
     "data": {
      "image/png": "[encoded data removed]",
      "text/plain": [
       "<Figure size 360x360 with 1 Axes>"
      ]
     },
     "metadata": {
      "needs_background": "light"
     },
     "output_type": "display_data"
    }
   ],
   "source": [
    "copy_joined['skewness_oxygen'] = imp.fit_transform(copy_joined[['skewness_oxygen']])\n",
    "copy_joined[nan_map]\n",
    "sns.displot(copy_joined['skewness_oxygen'], kde=True, bins=30)"
   ]
  },
  {
   "cell_type": "markdown",
   "metadata": {},
   "source": [
    "Niekotré stĺpce sú zbytočné. Adresu vieme zistiť zo zip kódu, mesto a ulicu teda netreba. V dátach je uvedený vek, preto netreba ani dátum narodenia."
   ]
  },
  {
   "cell_type": "code",
   "execution_count": 919,
   "metadata": {},
   "outputs": [],
   "source": [
    "copy_joined = copy_joined.drop(columns=['city', 'street'])"
   ]
  },
  {
   "cell_type": "markdown",
   "metadata": {},
   "source": [
    "Tu chýbalo priveľa dát, tak namiesto toho, aby sme ich vymazali, označili sme ich za nedefinované."
   ]
  },
  {
   "cell_type": "code",
   "execution_count": 920,
   "metadata": {},
   "outputs": [],
   "source": [
    "copy_joined['marital-status'] = copy_joined['marital-status'].replace(np.nan, 'undefined')"
   ]
  },
  {
   "cell_type": "markdown",
   "metadata": {},
   "source": [
    "Riadky s nekompletnými dátami môžme dropnúť, nie je ich veľa a nedajú sa doplniť. Sú to stringy. "
   ]
  },
  {
   "cell_type": "code",
   "execution_count": 921,
   "metadata": {
    "scrolled": false
   },
   "outputs": [],
   "source": [
    "copy_joined = copy_joined.dropna()"
   ]
  },
  {
   "cell_type": "code",
   "execution_count": 922,
   "metadata": {},
   "outputs": [
    {
     "name": "stdout",
     "output_type": "stream",
     "text": [
      "<class 'pandas.core.frame.DataFrame'>\n",
      "Int64Index: 3653 entries, 0 to 3982\n",
      "Data columns (total 28 columns):\n",
      " #   Column            Non-Null Count  Dtype  \n",
      "---  ------            --------------  -----  \n",
      " 0   name              3653 non-null   object \n",
      " 1   race              3653 non-null   object \n",
      " 2   marital-status    3653 non-null   object \n",
      " 3   occupation        3653 non-null   object \n",
      " 4   pregnant          3653 non-null   object \n",
      " 5   education-num     3653 non-null   float64\n",
      " 6   relationship      3653 non-null   object \n",
      " 7   skewness_glucose  3653 non-null   float64\n",
      " 8   mean_glucose      3653 non-null   float64\n",
      " 9   capital-gain      3653 non-null   float64\n",
      " 10  kurtosis_glucose  3653 non-null   float64\n",
      " 11  education         3653 non-null   object \n",
      " 12  fnlwgt            3653 non-null   float64\n",
      " 13  class             3653 non-null   float64\n",
      " 14  std_glucose       3653 non-null   float64\n",
      " 15  income            3653 non-null   object \n",
      " 16  native-country    3653 non-null   object \n",
      " 17  hours-per-week    3653 non-null   float64\n",
      " 18  capital-loss      3653 non-null   float64\n",
      " 19  workclass         3653 non-null   object \n",
      " 20  mean_oxygen       3653 non-null   float64\n",
      " 21  std_oxygen        3653 non-null   float64\n",
      " 22  kurtosis_oxygen   3653 non-null   float64\n",
      " 23  skewness_oxygen   3653 non-null   float64\n",
      " 24  age               3653 non-null   float64\n",
      " 25  sex               3653 non-null   object \n",
      " 26  zip_code          3653 non-null   object \n",
      " 27  year_of_birth     3653 non-null   float64\n",
      "dtypes: float64(16), object(12)\n",
      "memory usage: 827.6+ KB\n"
     ]
    }
   ],
   "source": [
    "copy_joined.info()"
   ]
  },
  {
   "cell_type": "markdown",
   "metadata": {},
   "source": [
    "## Zhrnutie doplňania chýbajúcich hodnôt podľa stratégie priemeru\n",
    "Ako je možné vidieť, postupom času sme prestali opisovať distribúcie grafov, pretože sa stále opakoval ten istý proces, kde doplnenie chýbajúcej hodnoty/hodnôt nezmenilo distribúciou, pretože sa väčšinou dopĺňala jedna, max 2 hodnoty. Iba pre atribút age bolo chýbajúcich hodnôt viac, ale ich doplnenie nám celkom zhoršilo distribúciu. Avšak distribúcie atribútov ako fnlwgt, std_glucose, std_oxygen, kurtosis_oxygen, skewness_oxygen sa celkom podobajú na klasické normálové rozdelenie, len je potrebné vyriešieť problém s outliermi, ktorých tam je kopec."
   ]
  },
  {
   "cell_type": "markdown",
   "metadata": {},
   "source": [
    "# Riešenie vychýlených hodnôt"
   ]
  },
  {
   "cell_type": "code",
   "execution_count": 980,
   "metadata": {},
   "outputs": [],
   "source": [
    "import scipy.stats as stats\n",
    "from numpy.random import seed\n",
    "from sklearn.preprocessing import PowerTransformer\n",
    "from matplotlib import pyplot\n",
    "from scipy.stats import boxcox\n",
    "from numpy import percentile\n",
    "from numpy import mean\n",
    "from numpy import std\n",
    "import seaborn as sns\n",
    "from sklearn import preprocessing\n",
    "from numpy import exp"
   ]
  },
  {
   "cell_type": "code",
   "execution_count": 924,
   "metadata": {},
   "outputs": [],
   "source": [
    "## _ = copy_joined.hist(figsize=(18, 12), bins=50)\n",
    "\n",
    "save = copy_joined"
   ]
  },
  {
   "cell_type": "code",
   "execution_count": 979,
   "metadata": {},
   "outputs": [],
   "source": [
    "# copy_joined = save "
   ]
  },
  {
   "cell_type": "code",
   "execution_count": 981,
   "metadata": {},
   "outputs": [],
   "source": [
    "def borders(df, l, r):\n",
    "    print('Skewness: ', stats.skew(df))\n",
    "    return df.quantile(l), df.quantile(r)"
   ]
  },
  {
   "cell_type": "code",
   "execution_count": 982,
   "metadata": {},
   "outputs": [],
   "source": [
    "def replace_(df, col, left, right):\n",
    "    df[col] = df[col].replace(df.loc[df[col] < left][col], left)\n",
    "    df[col] = df[col].replace(df.loc[df[col] > right][col], right)\n",
    "    return df[col] "
   ]
  },
  {
   "cell_type": "markdown",
   "metadata": {},
   "source": [
    "# education-num"
   ]
  },
  {
   "cell_type": "code",
   "execution_count": 983,
   "metadata": {},
   "outputs": [
    {
     "data": {
      "text/plain": [
       "Text(0.5, 1.0, 'education-num')"
      ]
     },
     "execution_count": 983,
     "metadata": {},
     "output_type": "execute_result"
    },
    {
     "data": {
      "image/png": "[encoded data removed]",
      "text/plain": [
       "<Figure size 432x288 with 1 Axes>"
      ]
     },
     "metadata": {
      "needs_background": "light"
     },
     "output_type": "display_data"
    }
   ],
   "source": [
    "edu_num = copy_joined['education-num'].hist(bins=50)\n",
    "edu_num.set_title('education-num')"
   ]
  },
  {
   "cell_type": "code",
   "execution_count": 984,
   "metadata": {},
   "outputs": [
    {
     "data": {
      "text/plain": [
       "ShapiroResult(statistic=0.909565806388855, pvalue=3.4205695514168785e-42)"
      ]
     },
     "execution_count": 984,
     "metadata": {},
     "output_type": "execute_result"
    },
    {
     "data": {
      "image/png": "[encoded data removed]",
      "text/plain": [
       "<Figure size 432x288 with 1 Axes>"
      ]
     },
     "metadata": {
      "needs_background": "light"
     },
     "output_type": "display_data"
    }
   ],
   "source": [
    "sns.boxplot(x='education-num', data=copy_joined)\n",
    "stats.shapiro(copy_joined['education-num'])"
   ]
  },
  {
   "cell_type": "code",
   "execution_count": 985,
   "metadata": {},
   "outputs": [
    {
     "name": "stdout",
     "output_type": "stream",
     "text": [
      "Skewness:  -0.15120092732761445\n"
     ]
    },
    {
     "data": {
      "text/plain": [
       "0"
      ]
     },
     "execution_count": 985,
     "metadata": {},
     "output_type": "execute_result"
    }
   ],
   "source": [
    "left, right = borders(copy_joined['education-num'], 0.05, 0.95)\n",
    "sum(copy_joined['education-num'] < left)"
   ]
  },
  {
   "cell_type": "markdown",
   "metadata": {},
   "source": [
    "Celkovo je outlierov 154."
   ]
  },
  {
   "cell_type": "markdown",
   "metadata": {},
   "source": [
    "Nahradíme ich teda za spodnú hodnotu."
   ]
  },
  {
   "cell_type": "code",
   "execution_count": 986,
   "metadata": {
    "scrolled": true
   },
   "outputs": [],
   "source": [
    "copy_joined['education-num'] = replace_(copy_joined, 'education-num', left, right)"
   ]
  },
  {
   "cell_type": "markdown",
   "metadata": {},
   "source": [
    "Dáta sú nahradené krajnými hodnotami."
   ]
  },
  {
   "cell_type": "code",
   "execution_count": 987,
   "metadata": {},
   "outputs": [
    {
     "data": {
      "text/plain": [
       "<matplotlib.axes._subplots.AxesSubplot at 0x122448ffd00>"
      ]
     },
     "execution_count": 987,
     "metadata": {},
     "output_type": "execute_result"
    },
    {
     "data": {
      "image/png": "[encoded data removed]",
      "text/plain": [
       "<Figure size 432x288 with 1 Axes>"
      ]
     },
     "metadata": {
      "needs_background": "light"
     },
     "output_type": "display_data"
    }
   ],
   "source": [
    "sns.boxplot(x='education-num', data=copy_joined)"
   ]
  },
  {
   "cell_type": "code",
   "execution_count": 988,
   "metadata": {},
   "outputs": [
    {
     "data": {
      "text/plain": [
       "ShapiroResult(statistic=0.909565806388855, pvalue=3.4205695514168785e-42)"
      ]
     },
     "execution_count": 988,
     "metadata": {},
     "output_type": "execute_result"
    },
    {
     "data": {
      "image/png": "[encoded data removed]",
      "text/plain": [
       "<Figure size 432x288 with 1 Axes>"
      ]
     },
     "metadata": {
      "needs_background": "light"
     },
     "output_type": "display_data"
    }
   ],
   "source": [
    "edu_num = copy_joined['education-num'].hist(bins=50)\n",
    "edu_num.set_title('education-num')\n",
    "stats.shapiro(copy_joined['education-num'])"
   ]
  },
  {
   "cell_type": "markdown",
   "metadata": {},
   "source": [
    "# skewness_glucose"
   ]
  },
  {
   "cell_type": "code",
   "execution_count": 989,
   "metadata": {},
   "outputs": [
    {
     "data": {
      "text/plain": [
       "ShapiroResult(statistic=0.7617145776748657, pvalue=0.0)"
      ]
     },
     "execution_count": 989,
     "metadata": {},
     "output_type": "execute_result"
    },
    {
     "data": {
      "image/png": "[encoded data removed]",
      "text/plain": [
       "<Figure size 432x288 with 1 Axes>"
      ]
     },
     "metadata": {
      "needs_background": "light"
     },
     "output_type": "display_data"
    }
   ],
   "source": [
    "skew_glu = copy_joined['skewness_glucose'].hist(bins=50)\n",
    "skew_glu.set_title('skewness_glucose')\n",
    "stats.shapiro(copy_joined['skewness_glucose'])"
   ]
  },
  {
   "cell_type": "code",
   "execution_count": 990,
   "metadata": {},
   "outputs": [
    {
     "data": {
      "text/plain": [
       "<matplotlib.axes._subplots.AxesSubplot at 0x12505bbe820>"
      ]
     },
     "execution_count": 990,
     "metadata": {},
     "output_type": "execute_result"
    },
    {
     "data": {
      "image/png": "[encoded data removed]",
      "text/plain": [
       "<Figure size 432x288 with 1 Axes>"
      ]
     },
     "metadata": {
      "needs_background": "light"
     },
     "output_type": "display_data"
    }
   ],
   "source": [
    "sns.boxplot(x='skewness_glucose', data=copy_joined)"
   ]
  },
  {
   "cell_type": "code",
   "execution_count": 992,
   "metadata": {},
   "outputs": [
    {
     "name": "stdout",
     "output_type": "stream",
     "text": [
      "Skewness:  2.242563340671113\n"
     ]
    },
    {
     "data": {
      "text/plain": [
       "366"
      ]
     },
     "execution_count": 992,
     "metadata": {},
     "output_type": "execute_result"
    }
   ],
   "source": [
    "left, right = borders(copy_joined['skewness_glucose'], 0.05, 0.95)\n",
    "sum(copy_joined['skewness_glucose'] < left) + sum(copy_joined['skewness_glucose'] > right)"
   ]
  },
  {
   "cell_type": "code",
   "execution_count": 993,
   "metadata": {},
   "outputs": [],
   "source": [
    "# copy_joined['skewness_glucose'] = replace_(copy_joined, 'skewness_glucose', left, right)\n",
    "for i in copy_joined.index:\n",
    "    if ((copy_joined.loc[i]['skewness_glucose'] > right) or (copy_joined.loc[i]['skewness_glucose'] < left)):\n",
    "        copy_joined = copy_joined.drop([i])"
   ]
  },
  {
   "cell_type": "code",
   "execution_count": 994,
   "metadata": {},
   "outputs": [
    {
     "data": {
      "text/plain": [
       "<matplotlib.axes._subplots.AxesSubplot at 0x125075a0160>"
      ]
     },
     "execution_count": 994,
     "metadata": {},
     "output_type": "execute_result"
    },
    {
     "data": {
      "image/png": "[encoded data removed]",
      "text/plain": [
       "<Figure size 432x288 with 1 Axes>"
      ]
     },
     "metadata": {
      "needs_background": "light"
     },
     "output_type": "display_data"
    }
   ],
   "source": [
    "sns.boxplot(x='skewness_glucose', data=copy_joined)"
   ]
  },
  {
   "cell_type": "code",
   "execution_count": 995,
   "metadata": {},
   "outputs": [
    {
     "name": "stdout",
     "output_type": "stream",
     "text": [
      "Skewness:  1.2045807095075105\n"
     ]
    },
    {
     "data": {
      "image/png": "[encoded data removed]",
      "text/plain": [
       "<Figure size 432x288 with 1 Axes>"
      ]
     },
     "metadata": {
      "needs_background": "light"
     },
     "output_type": "display_data"
    }
   ],
   "source": [
    "pom = copy_joined['skewness_glucose'].hist(bins=50)\n",
    "pom.set_title('skewness_glucose')\n",
    "\n",
    "print('Skewness: ', stats.skew(copy_joined['skewness_glucose']))"
   ]
  },
  {
   "cell_type": "markdown",
   "metadata": {},
   "source": [
    "Logaritmická transformácia"
   ]
  },
  {
   "cell_type": "code",
   "execution_count": 996,
   "metadata": {},
   "outputs": [
    {
     "name": "stdout",
     "output_type": "stream",
     "text": [
      "Skewness: nan\n"
     ]
    },
    {
     "name": "stderr",
     "output_type": "stream",
     "text": [
      "C:\\Users\\vanco\\anaconda3\\lib\\site-packages\\pandas\\core\\series.py:679: RuntimeWarning: invalid value encountered in log\n",
      "  result = getattr(ufunc, method)(*inputs, **kwargs)\n"
     ]
    },
    {
     "data": {
      "image/png": "[encoded data removed]",
      "text/plain": [
       "<Figure size 432x288 with 1 Axes>"
      ]
     },
     "metadata": {
      "needs_background": "light"
     },
     "output_type": "display_data"
    }
   ],
   "source": [
    "transformed = np.log(copy_joined['skewness_glucose'] + 0.5) # zbavíme sa záporných čísel\n",
    "pom = pd.Series(transformed).hist(bins=50)\n",
    "print(\"Skewness:\", stats.skew(transformed))"
   ]
  },
  {
   "cell_type": "markdown",
   "metadata": {},
   "source": [
    "# mean_glucose"
   ]
  },
  {
   "cell_type": "markdown",
   "metadata": {},
   "source": [
    "Podľa bežných hodnôt tohto stĺpca sme inentifikovali, že bežná hodnota sa pohybuje do 200. niektoré hodnoty ako -20000 nedávali zmysel a preto sme ich vydelili 1000."
   ]
  },
  {
   "cell_type": "code",
   "execution_count": 1009,
   "metadata": {
    "scrolled": true
   },
   "outputs": [],
   "source": [
    "copy_joined['mean_glucose'].loc[copy_joined['mean_glucose'] > 1000] /= 1000\n",
    "copy_joined['mean_glucose'].loc[copy_joined['mean_glucose'] < -1000] /= 1000\n",
    "# copy_joined['mean_glucose'].loc[copy_joined['mean_glucose'] < 50] += 100"
   ]
  },
  {
   "cell_type": "code",
   "execution_count": 1010,
   "metadata": {},
   "outputs": [
    {
     "data": {
      "text/plain": [
       "ShapiroResult(statistic=0.8660534024238586, pvalue=0.0)"
      ]
     },
     "execution_count": 1010,
     "metadata": {},
     "output_type": "execute_result"
    },
    {
     "data": {
      "image/png": "[encoded data removed]",
      "text/plain": [
       "<Figure size 432x288 with 1 Axes>"
      ]
     },
     "metadata": {
      "needs_background": "light"
     },
     "output_type": "display_data"
    }
   ],
   "source": [
    "mean_glu = copy_joined['mean_glucose'].hist(bins=50)\n",
    "mean_glu.set_title('mean_glucose')\n",
    "stats.shapiro(copy_joined['mean_glucose'])"
   ]
  },
  {
   "cell_type": "code",
   "execution_count": 944,
   "metadata": {},
   "outputs": [
    {
     "name": "stdout",
     "output_type": "stream",
     "text": [
      "Skewness:  -3.542259717820657\n"
     ]
    },
    {
     "data": {
      "text/plain": [
       "330"
      ]
     },
     "execution_count": 944,
     "metadata": {},
     "output_type": "execute_result"
    }
   ],
   "source": [
    "left, right = borders(copy_joined['mean_glucose'], 0.05, 0.95)\n",
    "sum(copy_joined['mean_glucose'] < left) + sum(copy_joined['mean_glucose'] > right)"
   ]
  },
  {
   "cell_type": "code",
   "execution_count": 945,
   "metadata": {},
   "outputs": [],
   "source": [
    "copy_joined['mean_glucose'] = replace_(copy_joined, 'mean_glucose', left, right)"
   ]
  },
  {
   "cell_type": "code",
   "execution_count": 946,
   "metadata": {},
   "outputs": [
    {
     "data": {
      "text/plain": [
       "<matplotlib.axes._subplots.AxesSubplot at 0x12244223850>"
      ]
     },
     "execution_count": 946,
     "metadata": {},
     "output_type": "execute_result"
    },
    {
     "data": {
      "image/png": "[encoded data removed]",
      "text/plain": [
       "<Figure size 432x288 with 1 Axes>"
      ]
     },
     "metadata": {
      "needs_background": "light"
     },
     "output_type": "display_data"
    }
   ],
   "source": [
    "sns.boxplot(x='mean_glucose', data=copy_joined)"
   ]
  },
  {
   "cell_type": "code",
   "execution_count": 947,
   "metadata": {},
   "outputs": [
    {
     "name": "stdout",
     "output_type": "stream",
     "text": [
      "Skewness:  -1.047965293760323\n"
     ]
    },
    {
     "data": {
      "image/png": "[encoded data removed]",
      "text/plain": [
       "<Figure size 432x288 with 1 Axes>"
      ]
     },
     "metadata": {
      "needs_background": "light"
     },
     "output_type": "display_data"
    }
   ],
   "source": [
    "pom = copy_joined['mean_glucose'].hist(bins=50)\n",
    "pom.set_title('mean_glucose')\n",
    "\n",
    "print('Skewness: ', stats.skew(copy_joined['mean_glucose']))"
   ]
  },
  {
   "cell_type": "code",
   "execution_count": 948,
   "metadata": {},
   "outputs": [
    {
     "name": "stdout",
     "output_type": "stream",
     "text": [
      "Skewness: -2.2591878878066094\n"
     ]
    },
    {
     "data": {
      "image/png": "[encoded data removed]",
      "text/plain": [
       "<Figure size 432x288 with 1 Axes>"
      ]
     },
     "metadata": {
      "needs_background": "light"
     },
     "output_type": "display_data"
    }
   ],
   "source": [
    "transformed = np.log(copy_joined['mean_glucose'] + 3) # zbavíme sa záporných čísel\n",
    "pom = pd.Series(transformed).hist(bins=50)\n",
    "print(\"Skewness:\", stats.skew(transformed))"
   ]
  },
  {
   "cell_type": "markdown",
   "metadata": {},
   "source": [
    "# capital-gain a capital-loss - same 0, ziadna vypovedna hodnota"
   ]
  },
  {
   "cell_type": "code",
   "execution_count": 949,
   "metadata": {},
   "outputs": [],
   "source": [
    "copy_joined = copy_joined.drop(columns=['capital-gain', 'capital-gain']) "
   ]
  },
  {
   "cell_type": "markdown",
   "metadata": {},
   "source": [
    "# kurtosis_glucose"
   ]
  },
  {
   "cell_type": "code",
   "execution_count": 950,
   "metadata": {},
   "outputs": [
    {
     "data": {
      "text/plain": [
       "ShapiroResult(statistic=0.6557791829109192, pvalue=0.0)"
      ]
     },
     "execution_count": 950,
     "metadata": {},
     "output_type": "execute_result"
    },
    {
     "data": {
      "image/png": "[encoded data removed]",
      "text/plain": [
       "<Figure size 432x288 with 1 Axes>"
      ]
     },
     "metadata": {
      "needs_background": "light"
     },
     "output_type": "display_data"
    }
   ],
   "source": [
    "kurt_glu = copy_joined['kurtosis_glucose'].hist(bins=50)\n",
    "kurt_glu.set_title('kurtosis_glucose')\n",
    "stats.shapiro(copy_joined['kurtosis_glucose'])"
   ]
  },
  {
   "cell_type": "code",
   "execution_count": 951,
   "metadata": {},
   "outputs": [
    {
     "name": "stdout",
     "output_type": "stream",
     "text": [
      "Skewness:  2.076031754117425\n"
     ]
    }
   ],
   "source": [
    "left, right = borders(copy_joined['kurtosis_glucose'], 0.05, 0.95)\n",
    "sum(copy_joined['kurtosis_glucose'] < left) + sum(copy_joined['kurtosis_glucose'] > right)\n",
    "copy_joined['kurtosis_glucose'] = replace_(copy_joined, 'kurtosis_glucose', left, right)"
   ]
  },
  {
   "cell_type": "code",
   "execution_count": 952,
   "metadata": {},
   "outputs": [
    {
     "name": "stdout",
     "output_type": "stream",
     "text": [
      "Skewness: 1.3121112401585473\n"
     ]
    },
    {
     "data": {
      "image/png": "[encoded data removed]",
      "text/plain": [
       "<Figure size 432x288 with 1 Axes>"
      ]
     },
     "metadata": {
      "needs_background": "light"
     },
     "output_type": "display_data"
    }
   ],
   "source": [
    "transformed = np.log(copy_joined['kurtosis_glucose'] + 1) # zbavíme sa záporných čísel\n",
    "pom = pd.Series(transformed).hist(bins=50)\n",
    "print(\"Skewness:\", stats.skew(transformed))"
   ]
  },
  {
   "cell_type": "markdown",
   "metadata": {},
   "source": [
    "# fnlwgt"
   ]
  },
  {
   "cell_type": "code",
   "execution_count": 953,
   "metadata": {},
   "outputs": [
    {
     "data": {
      "text/plain": [
       "ShapiroResult(statistic=0.9139624238014221, pvalue=9.955524939795663e-40)"
      ]
     },
     "execution_count": 953,
     "metadata": {},
     "output_type": "execute_result"
    },
    {
     "data": {
      "image/png": "[encoded data removed]",
      "text/plain": [
       "<Figure size 432x288 with 1 Axes>"
      ]
     },
     "metadata": {
      "needs_background": "light"
     },
     "output_type": "display_data"
    }
   ],
   "source": [
    "fnl = copy_joined['fnlwgt'].hist(bins=50)\n",
    "fnl.set_title('fnlwgt')\n",
    "stats.shapiro(copy_joined['fnlwgt'])"
   ]
  },
  {
   "cell_type": "code",
   "execution_count": 954,
   "metadata": {},
   "outputs": [
    {
     "data": {
      "text/plain": [
       "<matplotlib.axes._subplots.AxesSubplot at 0x12245bfbfa0>"
      ]
     },
     "execution_count": 954,
     "metadata": {},
     "output_type": "execute_result"
    },
    {
     "data": {
      "image/png": "[encoded data removed]",
      "text/plain": [
       "<Figure size 432x288 with 1 Axes>"
      ]
     },
     "metadata": {
      "needs_background": "light"
     },
     "output_type": "display_data"
    }
   ],
   "source": [
    "sns.boxplot(x='fnlwgt', data=copy_joined)"
   ]
  },
  {
   "cell_type": "code",
   "execution_count": 955,
   "metadata": {},
   "outputs": [
    {
     "name": "stderr",
     "output_type": "stream",
     "text": [
      "C:\\Users\\vanco\\anaconda3\\lib\\site-packages\\pandas\\core\\indexing.py:671: SettingWithCopyWarning: \n",
      "A value is trying to be set on a copy of a slice from a DataFrame\n",
      "\n",
      "See the caveats in the documentation: https://pandas.pydata.org/pandas-docs/stable/user_guide/indexing.html#returning-a-view-versus-a-copy\n",
      "  self._setitem_with_indexer(indexer, value)\n"
     ]
    }
   ],
   "source": [
    "copy_joined['fnlwgt'].loc[copy_joined['fnlwgt'] > 1] -= 1"
   ]
  },
  {
   "cell_type": "code",
   "execution_count": 956,
   "metadata": {},
   "outputs": [
    {
     "name": "stdout",
     "output_type": "stream",
     "text": [
      "Skewness:  1.626435652033664\n"
     ]
    }
   ],
   "source": [
    "left, right = borders(copy_joined['fnlwgt'], 0.05, 0.95)\n",
    "sum(copy_joined['fnlwgt'] < left) + sum(copy_joined['fnlwgt'] > right)\n",
    "copy_joined['fnlwgt'] = replace_(copy_joined, 'fnlwgt', left, right)"
   ]
  },
  {
   "cell_type": "code",
   "execution_count": 957,
   "metadata": {},
   "outputs": [
    {
     "name": "stdout",
     "output_type": "stream",
     "text": [
      "Skewness: -0.7286177976329749\n"
     ]
    },
    {
     "data": {
      "image/png": "[encoded data removed]",
      "text/plain": [
       "<Figure size 432x288 with 1 Axes>"
      ]
     },
     "metadata": {
      "needs_background": "light"
     },
     "output_type": "display_data"
    }
   ],
   "source": [
    "transformed = np.log(copy_joined['fnlwgt'] + 1) # zbavíme sa záporných čísel\n",
    "pom = pd.Series(transformed).hist(bins=50)\n",
    "print(\"Skewness:\", stats.skew(transformed))"
   ]
  },
  {
   "cell_type": "markdown",
   "metadata": {},
   "source": [
    "# std_glucose"
   ]
  },
  {
   "cell_type": "code",
   "execution_count": 958,
   "metadata": {},
   "outputs": [
    {
     "data": {
      "text/plain": [
       "ShapiroResult(statistic=0.9777504801750183, pvalue=2.7833675930613323e-22)"
      ]
     },
     "execution_count": 958,
     "metadata": {},
     "output_type": "execute_result"
    },
    {
     "data": {
      "image/png": "[encoded data removed]",
      "text/plain": [
       "<Figure size 432x288 with 1 Axes>"
      ]
     },
     "metadata": {
      "needs_background": "light"
     },
     "output_type": "display_data"
    }
   ],
   "source": [
    "std_glu = copy_joined['std_glucose'].hist(bins=50)\n",
    "std_glu.set_title('std_glucose')\n",
    "stats.shapiro(copy_joined['std_glucose'])"
   ]
  },
  {
   "cell_type": "code",
   "execution_count": 959,
   "metadata": {},
   "outputs": [
    {
     "name": "stdout",
     "output_type": "stream",
     "text": [
      "Skewness:  -0.3810114666573596\n"
     ]
    }
   ],
   "source": [
    "left, right = borders(copy_joined['std_glucose'], 0.05, 0.95)\n",
    "sum(copy_joined['std_glucose'] < left) + sum(copy_joined['std_glucose'] > right)\n",
    "copy_joined['std_glucose'] = replace_(copy_joined, 'std_glucose', left, right)"
   ]
  },
  {
   "cell_type": "code",
   "execution_count": 960,
   "metadata": {},
   "outputs": [
    {
     "name": "stdout",
     "output_type": "stream",
     "text": [
      "Skewness: -0.7324039126116711\n"
     ]
    },
    {
     "data": {
      "image/png": "[encoded data removed]",
      "text/plain": [
       "<Figure size 432x288 with 1 Axes>"
      ]
     },
     "metadata": {
      "needs_background": "light"
     },
     "output_type": "display_data"
    }
   ],
   "source": [
    "transformed = np.log(copy_joined['std_glucose']) # zbavíme sa záporných čísel\n",
    "pom = pd.Series(transformed).hist(bins=50)\n",
    "print(\"Skewness:\", stats.skew(transformed))"
   ]
  },
  {
   "cell_type": "markdown",
   "metadata": {},
   "source": [
    "# hours-per-week"
   ]
  },
  {
   "cell_type": "code",
   "execution_count": 961,
   "metadata": {},
   "outputs": [
    {
     "data": {
      "text/plain": [
       "ShapiroResult(statistic=0.88922119140625, pvalue=1.4153114489680652e-43)"
      ]
     },
     "execution_count": 961,
     "metadata": {},
     "output_type": "execute_result"
    },
    {
     "data": {
      "image/png": "[encoded data removed]",
      "text/plain": [
       "<Figure size 432x288 with 1 Axes>"
      ]
     },
     "metadata": {
      "needs_background": "light"
     },
     "output_type": "display_data"
    }
   ],
   "source": [
    "hpw = copy_joined['hours-per-week'].hist(bins=50)\n",
    "hpw.set_title('hours-per-week')\n",
    "stats.shapiro(copy_joined['hours-per-week'])"
   ]
  },
  {
   "cell_type": "code",
   "execution_count": 962,
   "metadata": {},
   "outputs": [
    {
     "name": "stdout",
     "output_type": "stream",
     "text": [
      "Skewness:  0.3034335365917922\n"
     ]
    }
   ],
   "source": [
    "left, right = borders(copy_joined['hours-per-week'], 0.05, 0.95)\n",
    "sum(copy_joined['hours-per-week'] < left) + sum(copy_joined['hours-per-week'] > right)\n",
    "copy_joined['hours-per-week'] = replace_(copy_joined, 'hours-per-week', left, right)"
   ]
  },
  {
   "cell_type": "code",
   "execution_count": 963,
   "metadata": {},
   "outputs": [
    {
     "data": {
      "text/plain": [
       "ShapiroResult(statistic=0.8923250436782837, pvalue=3.923635700109488e-43)"
      ]
     },
     "execution_count": 963,
     "metadata": {},
     "output_type": "execute_result"
    },
    {
     "data": {
      "image/png": "[encoded data removed]",
      "text/plain": [
       "<Figure size 432x288 with 1 Axes>"
      ]
     },
     "metadata": {
      "needs_background": "light"
     },
     "output_type": "display_data"
    }
   ],
   "source": [
    "hpw = copy_joined['hours-per-week'].hist(bins=50)\n",
    "hpw.set_title('hours-per-week')\n",
    "stats.shapiro(copy_joined['hours-per-week'])"
   ]
  },
  {
   "cell_type": "markdown",
   "metadata": {},
   "source": [
    "# mean_oxygen"
   ]
  },
  {
   "cell_type": "code",
   "execution_count": 964,
   "metadata": {},
   "outputs": [
    {
     "data": {
      "text/plain": [
       "ShapiroResult(statistic=0.5313140153884888, pvalue=0.0)"
      ]
     },
     "execution_count": 964,
     "metadata": {},
     "output_type": "execute_result"
    },
    {
     "data": {
      "image/png": "[encoded data removed]",
      "text/plain": [
       "<Figure size 432x288 with 1 Axes>"
      ]
     },
     "metadata": {
      "needs_background": "light"
     },
     "output_type": "display_data"
    }
   ],
   "source": [
    "mean_ox = copy_joined['mean_oxygen'].hist(bins=50)\n",
    "mean_ox.set_title('mean_oxygen')\n",
    "stats.shapiro(copy_joined['mean_oxygen'])"
   ]
  },
  {
   "cell_type": "code",
   "execution_count": 965,
   "metadata": {},
   "outputs": [
    {
     "name": "stdout",
     "output_type": "stream",
     "text": [
      "Skewness:  2.7320315549271017\n"
     ]
    }
   ],
   "source": [
    "left, right = borders(copy_joined['mean_oxygen'], 0.05, 0.95)\n",
    "sum(copy_joined['mean_oxygen'] < left) + sum(copy_joined['mean_oxygen'] > right)\n",
    "copy_joined['mean_oxygen'] = replace_(copy_joined, 'mean_oxygen', left, right)"
   ]
  },
  {
   "cell_type": "code",
   "execution_count": 966,
   "metadata": {},
   "outputs": [
    {
     "name": "stdout",
     "output_type": "stream",
     "text": [
      "Skewness: 1.025882743140416\n"
     ]
    },
    {
     "data": {
      "image/png": "[encoded data removed]",
      "text/plain": [
       "<Figure size 432x288 with 1 Axes>"
      ]
     },
     "metadata": {
      "needs_background": "light"
     },
     "output_type": "display_data"
    }
   ],
   "source": [
    "transformed = np.log(copy_joined['mean_oxygen'])\n",
    "pom = pd.Series(transformed).hist(bins=50)\n",
    "print(\"Skewness:\", stats.skew(transformed))"
   ]
  },
  {
   "cell_type": "markdown",
   "metadata": {},
   "source": [
    "# std_oxygen"
   ]
  },
  {
   "cell_type": "code",
   "execution_count": 967,
   "metadata": {},
   "outputs": [
    {
     "data": {
      "text/plain": [
       "ShapiroResult(statistic=0.7889770269393921, pvalue=0.0)"
      ]
     },
     "execution_count": 967,
     "metadata": {},
     "output_type": "execute_result"
    },
    {
     "data": {
      "image/png": "[encoded data removed]",
      "text/plain": [
       "<Figure size 432x288 with 1 Axes>"
      ]
     },
     "metadata": {
      "needs_background": "light"
     },
     "output_type": "display_data"
    }
   ],
   "source": [
    "std_ox = copy_joined['std_oxygen'].hist(bins=50)\n",
    "std_ox.set_title('std_oxygen')\n",
    "stats.shapiro(copy_joined['std_oxygen'])"
   ]
  },
  {
   "cell_type": "code",
   "execution_count": 968,
   "metadata": {},
   "outputs": [
    {
     "name": "stdout",
     "output_type": "stream",
     "text": [
      "Skewness:  1.3251398639049352\n"
     ]
    }
   ],
   "source": [
    "left, right = borders(copy_joined['std_oxygen'], 0.05, 0.95)\n",
    "sum(copy_joined['std_oxygen'] < left) + sum(copy_joined['std_oxygen'] > right)\n",
    "copy_joined['std_oxygen'] = replace_(copy_joined, 'std_oxygen', left, right)"
   ]
  },
  {
   "cell_type": "code",
   "execution_count": 969,
   "metadata": {},
   "outputs": [
    {
     "name": "stdout",
     "output_type": "stream",
     "text": [
      "Skewness: 0.6599545517397909\n"
     ]
    },
    {
     "data": {
      "image/png": "[encoded data removed]",
      "text/plain": [
       "<Figure size 432x288 with 1 Axes>"
      ]
     },
     "metadata": {
      "needs_background": "light"
     },
     "output_type": "display_data"
    }
   ],
   "source": [
    "transformed = np.log(copy_joined['std_oxygen'])\n",
    "pom = pd.Series(transformed).hist(bins=50)\n",
    "print(\"Skewness:\", stats.skew(transformed))"
   ]
  },
  {
   "cell_type": "markdown",
   "metadata": {},
   "source": [
    "# kurtosis_oxygen"
   ]
  },
  {
   "cell_type": "code",
   "execution_count": 970,
   "metadata": {},
   "outputs": [
    {
     "data": {
      "text/plain": [
       "ShapiroResult(statistic=0.9687983989715576, pvalue=3.7814032084329646e-26)"
      ]
     },
     "execution_count": 970,
     "metadata": {},
     "output_type": "execute_result"
    },
    {
     "data": {
      "image/png": "[encoded data removed]",
      "text/plain": [
       "<Figure size 432x288 with 1 Axes>"
      ]
     },
     "metadata": {
      "needs_background": "light"
     },
     "output_type": "display_data"
    }
   ],
   "source": [
    "kur_ox = copy_joined['kurtosis_oxygen'].hist(bins=50)\n",
    "kur_ox.set_title('kurtosis_oxygen')\n",
    "stats.shapiro(copy_joined['kurtosis_oxygen'])"
   ]
  },
  {
   "cell_type": "code",
   "execution_count": 971,
   "metadata": {},
   "outputs": [
    {
     "name": "stdout",
     "output_type": "stream",
     "text": [
      "Skewness:  0.5121805326409218\n"
     ]
    }
   ],
   "source": [
    "left, right = borders(copy_joined['kurtosis_oxygen'], 0.05, 0.95)\n",
    "sum(copy_joined['kurtosis_oxygen'] < left) + sum(copy_joined['kurtosis_oxygen'] > right)\n",
    "copy_joined['kurtosis_oxygen'] = replace_(copy_joined, 'kurtosis_oxygen', left, right)"
   ]
  },
  {
   "cell_type": "code",
   "execution_count": 972,
   "metadata": {},
   "outputs": [
    {
     "name": "stdout",
     "output_type": "stream",
     "text": [
      "Skewness: -1.1189052829823216\n"
     ]
    },
    {
     "data": {
      "image/png": "[encoded data removed]",
      "text/plain": [
       "<Figure size 432x288 with 1 Axes>"
      ]
     },
     "metadata": {
      "needs_background": "light"
     },
     "output_type": "display_data"
    }
   ],
   "source": [
    "transformed = np.log(copy_joined['kurtosis_oxygen'] + 1)\n",
    "pom = pd.Series(transformed).hist(bins=50)\n",
    "print(\"Skewness:\", stats.skew(transformed))"
   ]
  },
  {
   "cell_type": "markdown",
   "metadata": {},
   "source": [
    "# skewness_oxygen"
   ]
  },
  {
   "cell_type": "code",
   "execution_count": 973,
   "metadata": {},
   "outputs": [
    {
     "data": {
      "text/plain": [
       "ShapiroResult(statistic=0.7611907124519348, pvalue=0.0)"
      ]
     },
     "execution_count": 973,
     "metadata": {},
     "output_type": "execute_result"
    },
    {
     "data": {
      "image/png": "[encoded data removed]",
      "text/plain": [
       "<Figure size 432x288 with 1 Axes>"
      ]
     },
     "metadata": {
      "needs_background": "light"
     },
     "output_type": "display_data"
    }
   ],
   "source": [
    "skew_ox = copy_joined['skewness_oxygen'].hist(bins=50)\n",
    "skew_ox.set_title('skewness_oxygen')\n",
    "stats.shapiro(copy_joined['skewness_oxygen'])"
   ]
  },
  {
   "cell_type": "code",
   "execution_count": 974,
   "metadata": {},
   "outputs": [
    {
     "name": "stdout",
     "output_type": "stream",
     "text": [
      "Skewness:  2.949477771709086\n"
     ]
    }
   ],
   "source": [
    "left, right = borders(copy_joined['skewness_oxygen'], 0.05, 0.95)\n",
    "sum(copy_joined['skewness_oxygen'] < left) + sum(copy_joined['skewness_oxygen'] > right)\n",
    "copy_joined['skewness_oxygen'] = replace_(copy_joined, 'skewness_oxygen', left, right)"
   ]
  },
  {
   "cell_type": "code",
   "execution_count": 975,
   "metadata": {},
   "outputs": [
    {
     "name": "stdout",
     "output_type": "stream",
     "text": [
      "Skewness: -0.7707473397534298\n"
     ]
    },
    {
     "data": {
      "image/png": "[encoded data removed]",
      "text/plain": [
       "<Figure size 432x288 with 1 Axes>"
      ]
     },
     "metadata": {
      "needs_background": "light"
     },
     "output_type": "display_data"
    }
   ],
   "source": [
    "transformed = np.log(copy_joined['skewness_oxygen'] + 4)\n",
    "pom = pd.Series(transformed).hist(bins=50)\n",
    "print(\"Skewness:\", stats.skew(transformed))"
   ]
  },
  {
   "cell_type": "markdown",
   "metadata": {},
   "source": [
    "# age"
   ]
  },
  {
   "cell_type": "code",
   "execution_count": 976,
   "metadata": {},
   "outputs": [
    {
     "data": {
      "text/plain": [
       "ShapiroResult(statistic=0.9959176778793335, pvalue=7.688993264309829e-08)"
      ]
     },
     "execution_count": 976,
     "metadata": {},
     "output_type": "execute_result"
    },
    {
     "data": {
      "image/png": "[encoded data removed]",
      "text/plain": [
       "<Figure size 432x288 with 1 Axes>"
      ]
     },
     "metadata": {
      "needs_background": "light"
     },
     "output_type": "display_data"
    }
   ],
   "source": [
    "age = copy_joined['age'].hist(bins=50)\n",
    "age.set_title('age')\n",
    "stats.shapiro(copy_joined['age'])"
   ]
  },
  {
   "cell_type": "code",
   "execution_count": 977,
   "metadata": {},
   "outputs": [
    {
     "name": "stdout",
     "output_type": "stream",
     "text": [
      "Skewness:  -0.08456137502164852\n"
     ]
    }
   ],
   "source": [
    "left, right = borders(copy_joined['age'], 0.01, 0.99)\n",
    "sum(copy_joined['age'] < left) + sum(copy_joined['age'] > right)\n",
    "copy_joined['age'] = replace_(copy_joined, 'age', left, right)"
   ]
  },
  {
   "cell_type": "code",
   "execution_count": 978,
   "metadata": {},
   "outputs": [
    {
     "data": {
      "text/plain": [
       "ShapiroResult(statistic=0.9951331615447998, pvalue=5.8856159945719355e-09)"
      ]
     },
     "execution_count": 978,
     "metadata": {},
     "output_type": "execute_result"
    },
    {
     "data": {
      "image/png": "[encoded data removed]",
      "text/plain": [
       "<Figure size 432x288 with 1 Axes>"
      ]
     },
     "metadata": {
      "needs_background": "light"
     },
     "output_type": "display_data"
    }
   ],
   "source": [
    "age = copy_joined['age'].hist(bins=50)\n",
    "age.set_title('age')\n",
    "stats.shapiro(copy_joined['age'])"
   ]
  },
  {
   "cell_type": "code",
   "execution_count": null,
   "metadata": {},
   "outputs": [],
   "source": []
  },
  {
   "cell_type": "code",
   "execution_count": null,
   "metadata": {},
   "outputs": [],
   "source": []
  },
  {
   "cell_type": "code",
   "execution_count": 822,
   "metadata": {},
   "outputs": [
    {
     "name": "stdout",
     "output_type": "stream",
     "text": [
      "<class 'pandas.core.frame.DataFrame'>\n",
      "Int64Index: 2957 entries, 0 to 3982\n",
      "Data columns (total 27 columns):\n",
      " #   Column            Non-Null Count  Dtype  \n",
      "---  ------            --------------  -----  \n",
      " 0   name              2957 non-null   object \n",
      " 1   race              2957 non-null   object \n",
      " 2   marital-status    2957 non-null   object \n",
      " 3   occupation        2957 non-null   object \n",
      " 4   pregnant          2957 non-null   object \n",
      " 5   education-num     2957 non-null   float64\n",
      " 6   relationship      2957 non-null   object \n",
      " 7   skewness_glucose  2957 non-null   float64\n",
      " 8   mean_glucose      2957 non-null   float64\n",
      " 9   kurtosis_glucose  2957 non-null   float64\n",
      " 10  education         2957 non-null   object \n",
      " 11  fnlwgt            2957 non-null   float64\n",
      " 12  class             2957 non-null   float64\n",
      " 13  std_glucose       2957 non-null   float64\n",
      " 14  income            2957 non-null   object \n",
      " 15  native-country    2957 non-null   object \n",
      " 16  hours-per-week    2957 non-null   float64\n",
      " 17  capital-loss      2957 non-null   float64\n",
      " 18  workclass         2957 non-null   object \n",
      " 19  mean_oxygen       2957 non-null   float64\n",
      " 20  std_oxygen        2957 non-null   float64\n",
      " 21  kurtosis_oxygen   2957 non-null   float64\n",
      " 22  skewness_oxygen   2957 non-null   float64\n",
      " 23  age               2957 non-null   float64\n",
      " 24  sex               2957 non-null   object \n",
      " 25  zip_code          2957 non-null   object \n",
      " 26  year_of_birth     2957 non-null   float64\n",
      "dtypes: float64(15), object(12)\n",
      "memory usage: 726.8+ KB\n"
     ]
    }
   ],
   "source": [
    "copy_joined.info()"
   ]
  },
  {
   "cell_type": "code",
   "execution_count": null,
   "metadata": {},
   "outputs": [],
   "source": []
  },
  {
   "cell_type": "code",
   "execution_count": 170,
   "metadata": {
    "scrolled": true
   },
   "outputs": [],
   "source": [
    "for i in copy_joined.index:\n",
    "    if ((copy_joined.loc[i]['skewness_glucose'] > whisker_r) or (copy_joined.loc[i]['skewness_glucose'] < whisker_l)):\n",
    "        copy_joined = copy_joined.drop([i])"
   ]
  },
  {
   "cell_type": "markdown",
   "metadata": {},
   "source": [
    "Eliminovanie outlierov - v našom prípade najmä chorých. To je správne?"
   ]
  },
  {
   "cell_type": "code",
   "execution_count": 172,
   "metadata": {},
   "outputs": [
    {
     "data": {
      "text/plain": [
       "3027"
      ]
     },
     "execution_count": 172,
     "metadata": {},
     "output_type": "execute_result"
    }
   ],
   "source": []
  },
  {
   "cell_type": "markdown",
   "metadata": {},
   "source": [
    "Tomuto nechápem"
   ]
  },
  {
   "cell_type": "code",
   "execution_count": 173,
   "metadata": {},
   "outputs": [
    {
     "name": "stdout",
     "output_type": "stream",
     "text": [
      "Skewness: 0.560485402650912\n"
     ]
    },
    {
     "data": {
      "image/png": "[encoded data removed]",
      "text/plain": [
       "<Figure size 432x288 with 1 Axes>"
      ]
     },
     "metadata": {
      "needs_background": "light"
     },
     "output_type": "display_data"
    }
   ],
   "source": [
    "transformed = np.log(copy_joined['skewness_glucose']+2) # zbavíme sa záporných čísel, aby šli zlogaritmovať\n",
    "pom = pd.Series(transformed).hist(bins = 50)\n",
    "print(\"Skewness:\", stats.skew(transformed))"
   ]
  },
  {
   "cell_type": "code",
   "execution_count": 174,
   "metadata": {},
   "outputs": [
    {
     "name": "stderr",
     "output_type": "stream",
     "text": [
      "C:\\Users\\vanco\\anaconda3\\lib\\site-packages\\seaborn\\_decorators.py:36: FutureWarning: Pass the following variable as a keyword arg: x. From version 0.12, the only valid positional argument will be `data`, and passing other arguments without an explicit keyword will result in an error or misinterpretation.\n",
      "  warnings.warn(\n"
     ]
    },
    {
     "data": {
      "text/plain": [
       "<matplotlib.axes._subplots.AxesSubplot at 0x20ee013b790>"
      ]
     },
     "execution_count": 174,
     "metadata": {},
     "output_type": "execute_result"
    },
    {
     "data": {
      "image/png": "[encoded data removed]",
      "text/plain": [
       "<Figure size 432x288 with 1 Axes>"
      ]
     },
     "metadata": {
      "needs_background": "light"
     },
     "output_type": "display_data"
    }
   ],
   "source": [
    "seaborn.boxplot(transformed)"
   ]
  },
  {
   "cell_type": "code",
   "execution_count": 175,
   "metadata": {},
   "outputs": [],
   "source": [
    "from scipy.stats import boxcox"
   ]
  },
  {
   "cell_type": "code",
   "execution_count": 177,
   "metadata": {},
   "outputs": [
    {
     "name": "stdout",
     "output_type": "stream",
     "text": [
      "-0.3111934020234616\n"
     ]
    },
    {
     "data": {
      "image/png": "[encoded data removed]",
      "text/plain": [
       "<Figure size 432x288 with 1 Axes>"
      ]
     },
     "metadata": {
      "needs_background": "light"
     },
     "output_type": "display_data"
    }
   ],
   "source": [
    "transformed, att = boxcox(copy_joined['skewness_glucose'] + 2)# boxcox vrati transformovane data a parametre transformacie. Tie viem zafixovat a v tom pripade mi to vrati len transformovane data\n",
    "pom = pd.Series(transformed).hist(bins=50)\n",
    "print(att)"
   ]
  },
  {
   "cell_type": "code",
   "execution_count": null,
   "metadata": {},
   "outputs": [],
   "source": []
  },
  {
   "cell_type": "code",
   "execution_count": null,
   "metadata": {},
   "outputs": [],
   "source": []
  },
  {
   "cell_type": "code",
   "execution_count": null,
   "metadata": {},
   "outputs": [],
   "source": []
  },
  {
   "cell_type": "code",
   "execution_count": null,
   "metadata": {},
   "outputs": [],
   "source": []
  },
  {
   "cell_type": "code",
   "execution_count": 178,
   "metadata": {},
   "outputs": [
    {
     "data": {
      "text/plain": [
       "3027"
      ]
     },
     "execution_count": 178,
     "metadata": {},
     "output_type": "execute_result"
    }
   ],
   "source": [
    "(copy_joined['skewness_glucose']).count()"
   ]
  },
  {
   "cell_type": "code",
   "execution_count": 184,
   "metadata": {},
   "outputs": [
    {
     "name": "stdout",
     "output_type": "stream",
     "text": [
      "len= 3027 mean= 0.5291844754452871 std= 1.117410926890421\n",
      "cutoff= 3.3522327806712635 lower= -2.8230483052259765 upper= 3.8814172561165505\n",
      "Identified outliers: 79\n"
     ]
    }
   ],
   "source": [
    "# calculate summary statistics\n",
    "data_mean, data_std = mean(copy_joined['skewness_glucose']), std(copy_joined['skewness_glucose'])\n",
    "print('len=', len(copy_joined['skewness_glucose']), 'mean=', data_mean, 'std=', data_std)\n",
    "\n",
    "# define outliers\n",
    "cut_off = data_std * 3\n",
    "lower, upper = data_mean - cut_off, data_mean + cut_off \n",
    "print('cutoff=', cut_off, 'lower=', lower, 'upper=', upper)\n",
    "\n",
    "# identify outliers\n",
    "outliers = [x for x in copy_joined['skewness_glucose'] if x < lower or x > upper] \n",
    "print('Identified outliers: %d' % len(outliers))\n",
    "\n",
    "# remove outliers\n",
    "for i in copy_joined.index:\n",
    "    if ((copy_joined.loc[i]['skewness_glucose'] >= upper) or (copy_joined.loc[i]['skewness_glucose'] <= lower)):\n",
    "        copy_joined = copy_joined.drop([i])\n"
   ]
  },
  {
   "cell_type": "code",
   "execution_count": 185,
   "metadata": {},
   "outputs": [
    {
     "data": {
      "text/plain": [
       "2948"
      ]
     },
     "execution_count": 185,
     "metadata": {},
     "output_type": "execute_result"
    }
   ],
   "source": [
    "(copy_joined['skewness_glucose']).count()"
   ]
  },
  {
   "cell_type": "code",
   "execution_count": 186,
   "metadata": {},
   "outputs": [
    {
     "name": "stdout",
     "output_type": "stream",
     "text": [
      "Skewness:  1.451526790068278\n"
     ]
    },
    {
     "data": {
      "image/png": "[encoded data removed]",
      "text/plain": [
       "<Figure size 432x288 with 1 Axes>"
      ]
     },
     "metadata": {
      "needs_background": "light"
     },
     "output_type": "display_data"
    }
   ],
   "source": [
    "pom = copy_joined['skewness_glucose'].hist(bins=50)\n",
    "pom.set_title('skewness_glucose')\n",
    "\n",
    "print('Skewness: ', stats.skew(copy_joined['skewness_glucose']))"
   ]
  },
  {
   "cell_type": "code",
   "execution_count": null,
   "metadata": {},
   "outputs": [],
   "source": []
  },
  {
   "cell_type": "markdown",
   "metadata": {},
   "source": [
    "# Riešenie chýbajúcich hodnôt druhá stratégia"
   ]
  },
  {
   "cell_type": "markdown",
   "metadata": {},
   "source": [
    "# Transformácia atribútu/ov pomocou Power transform (logaritmus, odmocnina a pod.)"
   ]
  },
  {
   "cell_type": "markdown",
   "metadata": {},
   "source": [
    "# Opätovná realizácia podstatných častí prieskumnej analýzy"
   ]
  },
  {
   "cell_type": "markdown",
   "metadata": {},
   "source": [
    "\n",
    "    Očakáva sa že dokumentujete zmeny distribúcie hodnôt po realizácii predspracovania\n",
    "    Následne dokumentujete LEN zmeny v prieskumnej analýze"
   ]
  }
 ],
 "metadata": {
  "kernelspec": {
   "display_name": "Python 3",
   "language": "python",
   "name": "python3"
  },
  "language_info": {
   "codemirror_mode": {
    "name": "ipython",
    "version": 3
   },
   "file_extension": ".py",
   "mimetype": "text/x-python",
   "name": "python",
   "nbconvert_exporter": "python",
   "pygments_lexer": "ipython3",
   "version": "3.8.3"
  }
 },
 "nbformat": 4,
 "nbformat_minor": 1
}
