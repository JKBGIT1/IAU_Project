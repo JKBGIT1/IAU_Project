{
 "cells": [
  {
   "cell_type": "code",
   "execution_count": 1,
   "metadata": {},
   "outputs": [],
   "source": [
    "import re\n",
    "import numpy as np\n",
    "import pandas as pd\n",
    "import seaborn as sns\n",
    "import scipy.stats as stats\n",
    "from sklearn.pipeline import Pipeline\n",
    "from sklearn.base import BaseEstimator\n",
    "from sklearn.base import TransformerMixin\n",
    "from sklearn.impute import SimpleImputer\n",
    "from sklearn.preprocessing import StandardScaler \n",
    "from numpy import asarray\n",
    "from numpy import percentile\n",
    "from sklearn.preprocessing import LabelEncoder"
   ]
  },
  {
   "cell_type": "markdown",
   "metadata": {},
   "source": [
    "# Načítanie a úprava dát z csv súborov.\n",
    "V prvej fáze sme zanalyzovali, v ktorých stĺpcoch sa nachádzajú aké unikátne hodnoty. Tie, ktoré nám nič nehovorili ako napríklad otázniky sme nahradili hodnotami np.nan aby sa nám jednoduchšie nahrádzali, pretože k nim môžeme pristupovať ako ku chýbajúcim hodnotám. V prípade, keď stĺpec obsahoval viacero hodnôt, ktoré hovorili to isté, len boli inak napísené, tak sme ich nahradili jednotným označním(napríklad 'f', 'F', 'False' majú teraz jednotné označenie 'False'). \n",
    "\n",
    "V datasete sa objavovali aj duplikáty, ktoré sme zistili na základe mena, pričom jeden zo záznamov mal v niektorých atribútoch chýbajúce hodnoty a druhý mal validné dáta. Pomocou classy DropDuplicates sme tieto chýbajúce hodnoty nahradili, z čoho nám vznikli dva rovnaké záznamy, ktoré sme na konci dropli, pretože to boli duplikáty.\n",
    "\n",
    "Osobám, ktorým chýbal vek sme ho vypočítali z dátumu narodenia a to nasledujúcim spôsobom. Najprv sme extrahovali rok narodenia z atribútu date_of_birth. Následne sme vytvorili pre tieto hodnoty samostatný column s názvom year_of_birth. Tým pádom sme stĺpec date_of_birth mohli dropnúť a pomocou atribútu year_of_birth vypočítať aktuálny vek osoby.\n",
    "\n",
    "Adresu sme rozdelili na stĺpce street, city a zip_code. Vzhľadom na to, že v stĺpci zip_code nie sú chýbajúce hodnoty, tak sme mohli dropnúť stĺpce street a city. Zip_code nemal jednotný formát, tak sme ho upravili tým spôsobom, že sme  z neho nechali iba čísla."
   ]
  },
  {
   "cell_type": "code",
   "execution_count": 2,
   "metadata": {},
   "outputs": [],
   "source": [
    "# This class is used for personal and other dataset\n",
    "class MySpritClass(BaseEstimator, TransformerMixin):\n",
    "    def __init__(self):\n",
    "        pass\n",
    "    \n",
    "    def fit(self, X, y = None):\n",
    "        return self\n",
    "    \n",
    "    def transform(self, X):\n",
    "        for column_name in X:\n",
    "            if X[column_name].dtypes == 'object':\n",
    "                X[column_name] = X[column_name].str.strip()\n",
    "        return X\n",
    "\n",
    "# This class is used for other dataset    \n",
    "class MyAdjustClass(BaseEstimator, TransformerMixin):\n",
    "    def __init__(self):\n",
    "        pass\n",
    "    \n",
    "    def fit(self, X, y = None):\n",
    "        return self\n",
    "    \n",
    "    def transform(self, X):\n",
    "        X['marital-status'] = X['marital-status'].replace('??', np.nan)\n",
    "        X['occupation'] = X['occupation'].replace('?', np.nan)\n",
    "        X['pregnant'] = X['pregnant'].replace(['f', 'F', 'FALSE'], 'False')\n",
    "        X['pregnant'] = X['pregnant'].replace(['t', 'T', 'TRUE'], 'True')\n",
    "        X['relationship'] = X['relationship'].replace('Not_in_family', 'Not-in-family')\n",
    "        X['relationship'] = X['relationship'].replace('Own_child', 'Own-child')\n",
    "        X['relationship'] = X['relationship'].replace('Other_relative', 'Other-relative')\n",
    "        X['native-country'] = X['native-country'].replace('?', np.nan)\n",
    "        X['workclass'] = X['workclass'].replace('?', np.nan)\n",
    "        \n",
    "        return X\n",
    "\n",
    "# This class is used for other dataset\n",
    "class SeparateAndDeleteMedicalInfo(BaseEstimator, TransformerMixin):\n",
    "    def __init__(self):\n",
    "        pass\n",
    "    \n",
    "    def fit(self, X, y = None):\n",
    "        return self\n",
    "    \n",
    "    def transform(self, X):\n",
    "        X = self.separate_and_delete_medical_info(X)\n",
    "        return X\n",
    "    \n",
    "    def separate_and_delete_medical_info(self, dataframe):\n",
    "        df2 = pd.DataFrame() \n",
    "        # Iterate through every row and take values from medical_info column\n",
    "        for _,column_data in dataframe['medical_info'].iteritems(): \n",
    "            if isinstance(column_data, str): # If value isn't nan\n",
    "                column_data = column_data[1:-1] # Delect curly brackets from start and end of string\n",
    "                column_data_split = column_data.split(',') # Split string by comma\n",
    "\n",
    "                row = {} \n",
    "                for name_value in column_data_split: # Iterate through split string\n",
    "                    name_value_split = name_value.split(':') # Split into name of column and value of column\n",
    "                    # Store value into dictionary with name of the column as a key\n",
    "                    row[name_value_split[0][1:-1]] = [np.float(name_value_split[1][1:-1])] # Get rid of '' by [1:-1]\n",
    "\n",
    "                row_data_frame = pd.DataFrame(row) # Convert dictionary into DataFrame\n",
    "                df2 = df2.append(row_data_frame, ignore_index=True) # Append row_data_frame into df2\n",
    "            else: # Value is nan, append nan row into df2\n",
    "                df2 = df2.append(pd.Series(np.nan), ignore_index=True)\n",
    "\n",
    "        df2 = df2.drop(columns=[0]) # Drop last column\n",
    "\n",
    "        # Add values from df2 to main df\n",
    "        for column_name in df2.columns:\n",
    "            dataframe[column_name] = df2[column_name]\n",
    "\n",
    "        del dataframe['medical_info'] # medical info is already divided into another columns, so we can erase it\n",
    "\n",
    "        return dataframe\n",
    "\n",
    "# This class is used for personal dataset\n",
    "class SeparateAndDeleteAddress(BaseEstimator, TransformerMixin):\n",
    "    def __init__(self):\n",
    "        pass\n",
    "    \n",
    "    def fit(self, X, y = None):\n",
    "        return self\n",
    "    \n",
    "    def transform(self, X):\n",
    "        X = self.separate_and_delete_address(X)\n",
    "        return X\n",
    "    \n",
    "    def separate_and_delete_address(self, dataframe):\n",
    "        df_addresses = dataframe['address'].replace('\\r', ',', regex=True)\n",
    "        df_addresses = df_addresses.replace('\\n', ' ', regex=True)\n",
    "        df_addresses = df_addresses.str.split(',')\n",
    "\n",
    "        cities = []\n",
    "        streets = []\n",
    "        zip_codes = []\n",
    "\n",
    "        for address in df_addresses:\n",
    "            if len(address) < 3: # these records have cities in address\n",
    "                streets.append(address[0])\n",
    "                cities.append(None)\n",
    "                zip_codes.append(address[1])\n",
    "            else: # these records don't have cities in address\n",
    "                streets.append(address[0])\n",
    "                cities.append(address[1])\n",
    "                zip_codes.append(address[2])\n",
    "\n",
    "        dataframe['street'] = streets\n",
    "        dataframe['city'] = cities\n",
    "        dataframe['zip_code'] = zip_codes\n",
    "\n",
    "        dataframe = dataframe.drop('address', axis=1)\n",
    "\n",
    "        return dataframe\n",
    "    \n",
    "# This class is used for joined dataset    \n",
    "class DropDuplicates(BaseEstimator, TransformerMixin): \n",
    "    def __init__(self):\n",
    "        pass\n",
    "    \n",
    "    def fit(self, X, y = None):\n",
    "        return self\n",
    "    \n",
    "    def transform(self, X):\n",
    "        X = self.drop_duplicates(X)\n",
    "        return X\n",
    "    \n",
    "    def drop_duplicates(self, data_frame):\n",
    "        df1 = data_frame[data_frame.duplicated('name', keep=False)].sort_values('name')\n",
    "\n",
    "        for i in range(0,len(df1.index),2):\n",
    "            for (column_name1, column_data1), (_, column_data2) in zip(df1.iloc[i].iteritems(), df1.iloc[i + 1].iteritems()):\n",
    "                if pd.isnull(column_data1):\n",
    "                    data_frame.loc[df1.iloc[i]['name'] == data_frame['name'], column_name1] = column_data2\n",
    "                else:\n",
    "                    data_frame.loc[df1.iloc[i]['name'] == data_frame['name'], column_name1] = column_data1\n",
    "\n",
    "        data_frame = data_frame.drop_duplicates()\n",
    "\n",
    "        return data_frame\n",
    "    \n",
    "# This class is used for joined dataset    \n",
    "class ExtractYear(BaseEstimator, TransformerMixin): \n",
    "    def __init__(self):\n",
    "        pass\n",
    "    \n",
    "    def fit(self, X, y = None):\n",
    "        return self\n",
    "    \n",
    "    def transform(self, X):\n",
    "        X = self.extract_year(X)\n",
    "        return X\n",
    "    \n",
    "    def extract_year(self, data_frame):\n",
    "        years = []\n",
    "        for cell in data_frame['date_of_birth']:\n",
    "            if re.match('^[0-9]{2}\\-[0-9]{2}\\-[0-9]{2}$', cell):\n",
    "                year = cell[:2]\n",
    "                years.append(int('19' + year))\n",
    "            elif re.match('[0-9]{4}', cell):\n",
    "                years.append(int(re.findall('[0-9]{4}', cell)[0]))\n",
    "            elif re.match('^[0-9]{2}\\/[0-9]{2}\\/[0-9]{4}$', cell):\n",
    "                years.append(int(cell[-4:]))\n",
    "\n",
    "        data_frame['year_of_birth'] = years\n",
    "\n",
    "        return data_frame.drop(columns=['date_of_birth'])\n",
    "    \n",
    "# This class is used for joined dataset    \n",
    "class CalculateAgeFromYear(BaseEstimator, TransformerMixin):\n",
    "    def __init__(self):\n",
    "        pass\n",
    "    \n",
    "    def fit(self, X, y = None):\n",
    "        return self\n",
    "    \n",
    "    def transform(self, X):\n",
    "        X = self.calculate_age_from_year(X)\n",
    "        return X\n",
    "    \n",
    "    def calculate_age_from_year(self, data_frame):\n",
    "        new_age = []\n",
    "        for (age, data1), (year, data2) in zip(data_frame['age'].iteritems(), data_frame['year_of_birth'].iteritems()):\n",
    "            if pd.isnull(data1):\n",
    "                new_age.append(2020 - data2)\n",
    "            else:\n",
    "                new_age.append(data1)\n",
    "\n",
    "        data_frame['age'] = new_age\n",
    "\n",
    "        return data_frame\n",
    "    \n",
    "# This class is used for joined dataset    \n",
    "class GetNumberFromZipCodeDropCityStreet(BaseEstimator, TransformerMixin):\n",
    "    def __init__(self):\n",
    "        pass\n",
    "    \n",
    "    def fit(self, X, y = None):\n",
    "        return self\n",
    "    \n",
    "    def transform(self, X):\n",
    "        X = self.get_number_from_zip_code(X)\n",
    "        X = X.drop('city', axis=1)\n",
    "        X = X.drop('street', axis=1)\n",
    "        return X\n",
    "    \n",
    "    def get_number_from_zip_code(self, dataframe):\n",
    "        zip_numbers = []\n",
    "        for zip_code in dataframe['zip_code']:\n",
    "            zip_numbers.append(int(re.findall('[0-9]{4}', zip_code)[0]))\n",
    "\n",
    "        dataframe['zip_code'] = zip_numbers\n",
    "        \n",
    "        return dataframe    "
   ]
  },
  {
   "cell_type": "markdown",
   "metadata": {},
   "source": [
    "## Úprava other datasetu\n",
    "Už pri načítaní sme dropli prvý stĺpec, ktorý nič nehovoril, pretože bol Unnamed. Následne sme aplikovali sprit na atribúty, ktoré boli typu object, aby sa s nimi lepšie pracovalo a mohli sme ich upraviť na jednotný formát. Potom sme zmenili označenie atribútov, ktoré mali tú istú hodnotu, len vyjadrenú iným formátom. Ako poslednú úpravu pre tento dataset sme rozdelili object medical info na stĺpce mean_oxygen, std_oxygen, kurtosis_oxygen a skewness_oxygen."
   ]
  },
  {
   "cell_type": "code",
   "execution_count": 3,
   "metadata": {},
   "outputs": [],
   "source": [
    "# other_train\n",
    "df_other = pd.read_csv('./other_train.csv', sep=',', index_col=0) # First column is Unnamed\n",
    "\n",
    "other_pipe = Pipeline(steps = [\n",
    "    ('Sprit', MySpritClass()),\n",
    "    ('Adjust', MyAdjustClass()),\n",
    "    ('Separate and delete medical info', SeparateAndDeleteMedicalInfo())\n",
    "])\n",
    "\n",
    "df_other = other_pipe.transform(df_other)"
   ]
  },
  {
   "cell_type": "markdown",
   "metadata": {},
   "source": [
    "## Úprava personal datasetu\n",
    "V tomto prípade sme tiež mohli dropnúť už pri načítaní stĺpec Unnamed. Tiež sme vykonali sprit na atribúty typu object a zložený atribút address sme rozdelili na atribúty street, city a zip_code."
   ]
  },
  {
   "cell_type": "code",
   "execution_count": 4,
   "metadata": {},
   "outputs": [],
   "source": [
    "# personal_train\n",
    "df_personal = pd.read_csv(\"./personal_train.csv\", index_col=0, sep=',') # First column was Unnamend\n",
    "\n",
    "personal_pipe = Pipeline(steps = [\n",
    "    ('Sprit', MySpritClass()),\n",
    "    ('Separate and delete address', SeparateAndDeleteAddress())\n",
    "])\n",
    "\n",
    "df_personal = personal_pipe.transform(df_personal)"
   ]
  },
  {
   "cell_type": "markdown",
   "metadata": {},
   "source": [
    "## Join datasetov\n",
    "Po samostatnej úprave datasetov sme ich joinli podľa mena a dropli stĺpec address, ktorý bol z datasetu other, pretože sme ho mali rozložený na atribúty street, city a zip_code.\n",
    "Takisto sme dropli aj capital gain a capital loss, pretože tieto stĺpce obsahovali priveľké množstvo 0 a nedá sa určiť, či je to nameraná hodnota, alebo neexistujúce dáta."
   ]
  },
  {
   "cell_type": "code",
   "execution_count": 5,
   "metadata": {},
   "outputs": [],
   "source": [
    "df_joined = df_other.merge(df_personal, on='name', how='left') # join other train and personal train on name\n",
    "del df_joined['capital-gain']\n",
    "del df_joined['capital-loss']\n",
    "del df_joined['address'] # we can also erase disgusting address column, because we have it in detail from personal train"
   ]
  },
  {
   "cell_type": "markdown",
   "metadata": {},
   "source": [
    "## Úprava joinutého datasetu\n",
    "Na joinutom datasete bolo potrebné vyriešiť problém s duplikátmi, výpočet aktuálneho veku pre osoby, ktoré ho v zázname nemali uvedený a úprava zip_code na jednotný formát. Tieto procesy sú bližšie opísane na začiatku tejto kapitoly."
   ]
  },
  {
   "cell_type": "code",
   "execution_count": 6,
   "metadata": {},
   "outputs": [
    {
     "name": "stderr",
     "output_type": "stream",
     "text": [
      "<ipython-input-2-069f6547d23e>:165: SettingWithCopyWarning: \n",
      "A value is trying to be set on a copy of a slice from a DataFrame.\n",
      "Try using .loc[row_indexer,col_indexer] = value instead\n",
      "\n",
      "See the caveats in the documentation: https://pandas.pydata.org/pandas-docs/stable/user_guide/indexing.html#returning-a-view-versus-a-copy\n",
      "  data_frame['year_of_birth'] = years\n"
     ]
    }
   ],
   "source": [
    "joined_pipe = Pipeline(steps = [\n",
    "    ('Drop duplicates', DropDuplicates()),\n",
    "    ('Extract year', ExtractYear()),\n",
    "    ('Calculate age from year and drop date_of_birth', CalculateAgeFromYear()),\n",
    "    ('Get numbers from zip_code and drop city and street', GetNumberFromZipCodeDropCityStreet())\n",
    "])\n",
    "\n",
    "df_joined = joined_pipe.transform(df_joined)"
   ]
  },
  {
   "cell_type": "markdown",
   "metadata": {},
   "source": [
    "Síce tu vyhodí warning, ale spraví to, čo má."
   ]
  },
  {
   "cell_type": "code",
   "execution_count": 7,
   "metadata": {},
   "outputs": [
    {
     "name": "stdout",
     "output_type": "stream",
     "text": [
      "<class 'pandas.core.frame.DataFrame'>\n",
      "Int64Index: 3933 entries, 0 to 3982\n",
      "Data columns (total 26 columns):\n",
      " #   Column            Non-Null Count  Dtype  \n",
      "---  ------            --------------  -----  \n",
      " 0   name              3933 non-null   object \n",
      " 1   race              3933 non-null   object \n",
      " 2   marital-status    3540 non-null   object \n",
      " 3   occupation        3710 non-null   object \n",
      " 4   pregnant          3933 non-null   object \n",
      " 5   education-num     3932 non-null   float64\n",
      " 6   relationship      3933 non-null   object \n",
      " 7   skewness_glucose  3932 non-null   float64\n",
      " 8   mean_glucose      3933 non-null   float64\n",
      " 9   kurtosis_glucose  3933 non-null   float64\n",
      " 10  education         3933 non-null   object \n",
      " 11  fnlwgt            3931 non-null   float64\n",
      " 12  class             3933 non-null   float64\n",
      " 13  std_glucose       3931 non-null   float64\n",
      " 14  income            3933 non-null   object \n",
      " 15  native-country    3874 non-null   object \n",
      " 16  hours-per-week    3932 non-null   float64\n",
      " 17  workclass         3709 non-null   object \n",
      " 18  mean_oxygen       3932 non-null   float64\n",
      " 19  std_oxygen        3932 non-null   float64\n",
      " 20  kurtosis_oxygen   3932 non-null   float64\n",
      " 21  skewness_oxygen   3932 non-null   float64\n",
      " 22  age               3933 non-null   float64\n",
      " 23  sex               3933 non-null   object \n",
      " 24  zip_code          3933 non-null   int64  \n",
      " 25  year_of_birth     3933 non-null   int64  \n",
      "dtypes: float64(13), int64(2), object(11)\n",
      "memory usage: 829.6+ KB\n"
     ]
    }
   ],
   "source": [
    "df_joined.info()"
   ]
  },
  {
   "cell_type": "markdown",
   "metadata": {},
   "source": [
    "Výpočtom veku pre záznamy, ktoré ho nemali sme si ušetrili robotu pri náhradzaní chýbajúcich hodnôt."
   ]
  },
  {
   "cell_type": "code",
   "execution_count": 8,
   "metadata": {},
   "outputs": [
    {
     "data": {
      "text/html": [
       "<div>\n",
       "<style scoped>\n",
       "    .dataframe tbody tr th:only-of-type {\n",
       "        vertical-align: middle;\n",
       "    }\n",
       "\n",
       "    .dataframe tbody tr th {\n",
       "        vertical-align: top;\n",
       "    }\n",
       "\n",
       "    .dataframe thead th {\n",
       "        text-align: right;\n",
       "    }\n",
       "</style>\n",
       "<table border=\"1\" class=\"dataframe\">\n",
       "  <thead>\n",
       "    <tr style=\"text-align: right;\">\n",
       "      <th></th>\n",
       "      <th>education-num</th>\n",
       "      <th>skewness_glucose</th>\n",
       "      <th>mean_glucose</th>\n",
       "      <th>kurtosis_glucose</th>\n",
       "      <th>fnlwgt</th>\n",
       "      <th>class</th>\n",
       "      <th>std_glucose</th>\n",
       "      <th>hours-per-week</th>\n",
       "      <th>mean_oxygen</th>\n",
       "      <th>std_oxygen</th>\n",
       "      <th>kurtosis_oxygen</th>\n",
       "      <th>skewness_oxygen</th>\n",
       "      <th>age</th>\n",
       "      <th>zip_code</th>\n",
       "      <th>year_of_birth</th>\n",
       "    </tr>\n",
       "  </thead>\n",
       "  <tbody>\n",
       "    <tr>\n",
       "      <th>count</th>\n",
       "      <td>3932.000000</td>\n",
       "      <td>3932.000000</td>\n",
       "      <td>3933.000000</td>\n",
       "      <td>3933.000000</td>\n",
       "      <td>3.931000e+03</td>\n",
       "      <td>3933.000000</td>\n",
       "      <td>3931.000000</td>\n",
       "      <td>3932.000000</td>\n",
       "      <td>3932.000000</td>\n",
       "      <td>3932.000000</td>\n",
       "      <td>3932.000000</td>\n",
       "      <td>3932.000000</td>\n",
       "      <td>3933.000000</td>\n",
       "      <td>3933.000000</td>\n",
       "      <td>3933.000000</td>\n",
       "    </tr>\n",
       "    <tr>\n",
       "      <th>mean</th>\n",
       "      <td>10.073245</td>\n",
       "      <td>4.219811</td>\n",
       "      <td>63.696776</td>\n",
       "      <td>0.951283</td>\n",
       "      <td>1.911450e+05</td>\n",
       "      <td>0.255276</td>\n",
       "      <td>45.172534</td>\n",
       "      <td>40.535097</td>\n",
       "      <td>18.479727</td>\n",
       "      <td>31.152712</td>\n",
       "      <td>7.414067</td>\n",
       "      <td>91.315050</td>\n",
       "      <td>51.936435</td>\n",
       "      <td>5026.287567</td>\n",
       "      <td>1966.993389</td>\n",
       "    </tr>\n",
       "    <tr>\n",
       "      <th>std</th>\n",
       "      <td>2.674246</td>\n",
       "      <td>9.679145</td>\n",
       "      <td>3358.120098</td>\n",
       "      <td>1.610970</td>\n",
       "      <td>1.073383e+05</td>\n",
       "      <td>0.436072</td>\n",
       "      <td>7.608810</td>\n",
       "      <td>12.301212</td>\n",
       "      <td>34.793133</td>\n",
       "      <td>22.269962</td>\n",
       "      <td>4.812653</td>\n",
       "      <td>108.560937</td>\n",
       "      <td>11.820871</td>\n",
       "      <td>2871.409016</td>\n",
       "      <td>11.820308</td>\n",
       "    </tr>\n",
       "    <tr>\n",
       "      <th>min</th>\n",
       "      <td>1.000000</td>\n",
       "      <td>-1.755332</td>\n",
       "      <td>-18973.437500</td>\n",
       "      <td>-1.641515</td>\n",
       "      <td>1.882700e+04</td>\n",
       "      <td>0.000000</td>\n",
       "      <td>25.695250</td>\n",
       "      <td>1.000000</td>\n",
       "      <td>0.213211</td>\n",
       "      <td>7.370432</td>\n",
       "      <td>-2.597872</td>\n",
       "      <td>-1.976976</td>\n",
       "      <td>-1.000000</td>\n",
       "      <td>52.000000</td>\n",
       "      <td>1906.000000</td>\n",
       "    </tr>\n",
       "    <tr>\n",
       "      <th>25%</th>\n",
       "      <td>9.000000</td>\n",
       "      <td>-0.120081</td>\n",
       "      <td>83.859375</td>\n",
       "      <td>0.072144</td>\n",
       "      <td>1.179345e+05</td>\n",
       "      <td>0.000000</td>\n",
       "      <td>40.163947</td>\n",
       "      <td>40.000000</td>\n",
       "      <td>2.064799</td>\n",
       "      <td>15.039457</td>\n",
       "      <td>3.636259</td>\n",
       "      <td>12.863954</td>\n",
       "      <td>45.000000</td>\n",
       "      <td>2498.000000</td>\n",
       "      <td>1959.000000</td>\n",
       "    </tr>\n",
       "    <tr>\n",
       "      <th>50%</th>\n",
       "      <td>10.000000</td>\n",
       "      <td>0.374657</td>\n",
       "      <td>110.539062</td>\n",
       "      <td>0.310784</td>\n",
       "      <td>1.795120e+05</td>\n",
       "      <td>0.000000</td>\n",
       "      <td>45.869299</td>\n",
       "      <td>40.000000</td>\n",
       "      <td>3.234532</td>\n",
       "      <td>20.564154</td>\n",
       "      <td>7.783017</td>\n",
       "      <td>68.505049</td>\n",
       "      <td>52.000000</td>\n",
       "      <td>5018.000000</td>\n",
       "      <td>1967.000000</td>\n",
       "    </tr>\n",
       "    <tr>\n",
       "      <th>75%</th>\n",
       "      <td>13.000000</td>\n",
       "      <td>2.083826</td>\n",
       "      <td>125.359375</td>\n",
       "      <td>0.776762</td>\n",
       "      <td>2.416740e+05</td>\n",
       "      <td>1.000000</td>\n",
       "      <td>50.361097</td>\n",
       "      <td>45.000000</td>\n",
       "      <td>12.635452</td>\n",
       "      <td>43.229414</td>\n",
       "      <td>10.263412</td>\n",
       "      <td>127.017151</td>\n",
       "      <td>60.000000</td>\n",
       "      <td>7527.000000</td>\n",
       "      <td>1974.000000</td>\n",
       "    </tr>\n",
       "    <tr>\n",
       "      <th>max</th>\n",
       "      <td>16.000000</td>\n",
       "      <td>68.101622</td>\n",
       "      <td>15887.500000</td>\n",
       "      <td>8.069522</td>\n",
       "      <td>1.366120e+06</td>\n",
       "      <td>1.000000</td>\n",
       "      <td>91.206475</td>\n",
       "      <td>99.000000</td>\n",
       "      <td>217.371238</td>\n",
       "      <td>110.642211</td>\n",
       "      <td>34.539844</td>\n",
       "      <td>1191.000837</td>\n",
       "      <td>113.000000</td>\n",
       "      <td>9994.000000</td>\n",
       "      <td>2020.000000</td>\n",
       "    </tr>\n",
       "  </tbody>\n",
       "</table>\n",
       "</div>"
      ],
      "text/plain": [
       "       education-num  skewness_glucose  mean_glucose  kurtosis_glucose  \\\n",
       "count    3932.000000       3932.000000   3933.000000       3933.000000   \n",
       "mean       10.073245          4.219811     63.696776          0.951283   \n",
       "std         2.674246          9.679145   3358.120098          1.610970   \n",
       "min         1.000000         -1.755332 -18973.437500         -1.641515   \n",
       "25%         9.000000         -0.120081     83.859375          0.072144   \n",
       "50%        10.000000          0.374657    110.539062          0.310784   \n",
       "75%        13.000000          2.083826    125.359375          0.776762   \n",
       "max        16.000000         68.101622  15887.500000          8.069522   \n",
       "\n",
       "             fnlwgt        class  std_glucose  hours-per-week  mean_oxygen  \\\n",
       "count  3.931000e+03  3933.000000  3931.000000     3932.000000  3932.000000   \n",
       "mean   1.911450e+05     0.255276    45.172534       40.535097    18.479727   \n",
       "std    1.073383e+05     0.436072     7.608810       12.301212    34.793133   \n",
       "min    1.882700e+04     0.000000    25.695250        1.000000     0.213211   \n",
       "25%    1.179345e+05     0.000000    40.163947       40.000000     2.064799   \n",
       "50%    1.795120e+05     0.000000    45.869299       40.000000     3.234532   \n",
       "75%    2.416740e+05     1.000000    50.361097       45.000000    12.635452   \n",
       "max    1.366120e+06     1.000000    91.206475       99.000000   217.371238   \n",
       "\n",
       "        std_oxygen  kurtosis_oxygen  skewness_oxygen          age  \\\n",
       "count  3932.000000      3932.000000      3932.000000  3933.000000   \n",
       "mean     31.152712         7.414067        91.315050    51.936435   \n",
       "std      22.269962         4.812653       108.560937    11.820871   \n",
       "min       7.370432        -2.597872        -1.976976    -1.000000   \n",
       "25%      15.039457         3.636259        12.863954    45.000000   \n",
       "50%      20.564154         7.783017        68.505049    52.000000   \n",
       "75%      43.229414        10.263412       127.017151    60.000000   \n",
       "max     110.642211        34.539844      1191.000837   113.000000   \n",
       "\n",
       "          zip_code  year_of_birth  \n",
       "count  3933.000000    3933.000000  \n",
       "mean   5026.287567    1966.993389  \n",
       "std    2871.409016      11.820308  \n",
       "min      52.000000    1906.000000  \n",
       "25%    2498.000000    1959.000000  \n",
       "50%    5018.000000    1967.000000  \n",
       "75%    7527.000000    1974.000000  \n",
       "max    9994.000000    2020.000000  "
      ]
     },
     "execution_count": 8,
     "metadata": {},
     "output_type": "execute_result"
    }
   ],
   "source": [
    "df_joined.describe()"
   ]
  },
  {
   "cell_type": "code",
   "execution_count": 9,
   "metadata": {},
   "outputs": [
    {
     "data": {
      "text/html": [
       "<div>\n",
       "<style scoped>\n",
       "    .dataframe tbody tr th:only-of-type {\n",
       "        vertical-align: middle;\n",
       "    }\n",
       "\n",
       "    .dataframe tbody tr th {\n",
       "        vertical-align: top;\n",
       "    }\n",
       "\n",
       "    .dataframe thead th {\n",
       "        text-align: right;\n",
       "    }\n",
       "</style>\n",
       "<table border=\"1\" class=\"dataframe\">\n",
       "  <thead>\n",
       "    <tr style=\"text-align: right;\">\n",
       "      <th></th>\n",
       "      <th>name</th>\n",
       "      <th>race</th>\n",
       "      <th>marital-status</th>\n",
       "      <th>occupation</th>\n",
       "      <th>pregnant</th>\n",
       "      <th>education-num</th>\n",
       "      <th>relationship</th>\n",
       "      <th>skewness_glucose</th>\n",
       "      <th>mean_glucose</th>\n",
       "      <th>kurtosis_glucose</th>\n",
       "      <th>...</th>\n",
       "      <th>hours-per-week</th>\n",
       "      <th>workclass</th>\n",
       "      <th>mean_oxygen</th>\n",
       "      <th>std_oxygen</th>\n",
       "      <th>kurtosis_oxygen</th>\n",
       "      <th>skewness_oxygen</th>\n",
       "      <th>age</th>\n",
       "      <th>sex</th>\n",
       "      <th>zip_code</th>\n",
       "      <th>year_of_birth</th>\n",
       "    </tr>\n",
       "  </thead>\n",
       "  <tbody>\n",
       "    <tr>\n",
       "      <th>0</th>\n",
       "      <td>David Hayes</td>\n",
       "      <td>Black</td>\n",
       "      <td>NaN</td>\n",
       "      <td>Prof-specialty</td>\n",
       "      <td>False</td>\n",
       "      <td>5.0</td>\n",
       "      <td>Not-in-family</td>\n",
       "      <td>-0.197692</td>\n",
       "      <td>141.359375</td>\n",
       "      <td>-0.252430</td>\n",
       "      <td>...</td>\n",
       "      <td>40.0</td>\n",
       "      <td>Private</td>\n",
       "      <td>4.042642</td>\n",
       "      <td>19.456469</td>\n",
       "      <td>6.410765</td>\n",
       "      <td>49.813954</td>\n",
       "      <td>45.0</td>\n",
       "      <td>Female</td>\n",
       "      <td>1952</td>\n",
       "      <td>1974</td>\n",
       "    </tr>\n",
       "    <tr>\n",
       "      <th>1</th>\n",
       "      <td>Stanley Benny</td>\n",
       "      <td>White</td>\n",
       "      <td>Married-civ-spouse</td>\n",
       "      <td>Exec-managerial</td>\n",
       "      <td>False</td>\n",
       "      <td>13.0</td>\n",
       "      <td>Husband</td>\n",
       "      <td>16.019670</td>\n",
       "      <td>53.968750</td>\n",
       "      <td>3.149333</td>\n",
       "      <td>...</td>\n",
       "      <td>40.0</td>\n",
       "      <td>Private</td>\n",
       "      <td>9.294314</td>\n",
       "      <td>35.958174</td>\n",
       "      <td>4.424007</td>\n",
       "      <td>19.868969</td>\n",
       "      <td>42.0</td>\n",
       "      <td>Male</td>\n",
       "      <td>2201</td>\n",
       "      <td>1977</td>\n",
       "    </tr>\n",
       "    <tr>\n",
       "      <th>2</th>\n",
       "      <td>Domingo Labriola</td>\n",
       "      <td>Asian-Pac-Islander</td>\n",
       "      <td>Married-civ-spouse</td>\n",
       "      <td>Farming-fishing</td>\n",
       "      <td>False</td>\n",
       "      <td>3.0</td>\n",
       "      <td>Husband</td>\n",
       "      <td>21.803837</td>\n",
       "      <td>2257.812500</td>\n",
       "      <td>4.650770</td>\n",
       "      <td>...</td>\n",
       "      <td>40.0</td>\n",
       "      <td>Private</td>\n",
       "      <td>138.787625</td>\n",
       "      <td>79.152788</td>\n",
       "      <td>-0.445270</td>\n",
       "      <td>-0.909086</td>\n",
       "      <td>46.0</td>\n",
       "      <td>Male</td>\n",
       "      <td>4180</td>\n",
       "      <td>1973</td>\n",
       "    </tr>\n",
       "    <tr>\n",
       "      <th>3</th>\n",
       "      <td>Ronnie Moore</td>\n",
       "      <td>White</td>\n",
       "      <td>Never-married</td>\n",
       "      <td>Other-service</td>\n",
       "      <td>False</td>\n",
       "      <td>10.0</td>\n",
       "      <td>Not-in-family</td>\n",
       "      <td>-0.112191</td>\n",
       "      <td>110.046875</td>\n",
       "      <td>0.441957</td>\n",
       "      <td>...</td>\n",
       "      <td>40.0</td>\n",
       "      <td>Private</td>\n",
       "      <td>3.100334</td>\n",
       "      <td>17.819373</td>\n",
       "      <td>8.434320</td>\n",
       "      <td>85.665564</td>\n",
       "      <td>53.0</td>\n",
       "      <td>Male</td>\n",
       "      <td>3273</td>\n",
       "      <td>1966</td>\n",
       "    </tr>\n",
       "    <tr>\n",
       "      <th>4</th>\n",
       "      <td>Victor Mcjunkin</td>\n",
       "      <td>White</td>\n",
       "      <td>NaN</td>\n",
       "      <td>Adm-clerical</td>\n",
       "      <td>False</td>\n",
       "      <td>10.0</td>\n",
       "      <td>Not-in-family</td>\n",
       "      <td>-0.309642</td>\n",
       "      <td>137.960938</td>\n",
       "      <td>-0.048518</td>\n",
       "      <td>...</td>\n",
       "      <td>40.0</td>\n",
       "      <td>Private</td>\n",
       "      <td>4.203177</td>\n",
       "      <td>23.949006</td>\n",
       "      <td>6.531796</td>\n",
       "      <td>45.866688</td>\n",
       "      <td>52.0</td>\n",
       "      <td>Female</td>\n",
       "      <td>7107</td>\n",
       "      <td>1967</td>\n",
       "    </tr>\n",
       "  </tbody>\n",
       "</table>\n",
       "<p>5 rows × 26 columns</p>\n",
       "</div>"
      ],
      "text/plain": [
       "               name                race      marital-status       occupation  \\\n",
       "0       David Hayes               Black                 NaN   Prof-specialty   \n",
       "1     Stanley Benny               White  Married-civ-spouse  Exec-managerial   \n",
       "2  Domingo Labriola  Asian-Pac-Islander  Married-civ-spouse  Farming-fishing   \n",
       "3      Ronnie Moore               White       Never-married    Other-service   \n",
       "4   Victor Mcjunkin               White                 NaN     Adm-clerical   \n",
       "\n",
       "  pregnant  education-num   relationship  skewness_glucose  mean_glucose  \\\n",
       "0    False            5.0  Not-in-family         -0.197692    141.359375   \n",
       "1    False           13.0        Husband         16.019670     53.968750   \n",
       "2    False            3.0        Husband         21.803837   2257.812500   \n",
       "3    False           10.0  Not-in-family         -0.112191    110.046875   \n",
       "4    False           10.0  Not-in-family         -0.309642    137.960938   \n",
       "\n",
       "   kurtosis_glucose  ... hours-per-week  workclass  mean_oxygen  std_oxygen  \\\n",
       "0         -0.252430  ...           40.0    Private     4.042642   19.456469   \n",
       "1          3.149333  ...           40.0    Private     9.294314   35.958174   \n",
       "2          4.650770  ...           40.0    Private   138.787625   79.152788   \n",
       "3          0.441957  ...           40.0    Private     3.100334   17.819373   \n",
       "4         -0.048518  ...           40.0    Private     4.203177   23.949006   \n",
       "\n",
       "  kurtosis_oxygen skewness_oxygen   age     sex  zip_code  year_of_birth  \n",
       "0        6.410765       49.813954  45.0  Female      1952           1974  \n",
       "1        4.424007       19.868969  42.0    Male      2201           1977  \n",
       "2       -0.445270       -0.909086  46.0    Male      4180           1973  \n",
       "3        8.434320       85.665564  53.0    Male      3273           1966  \n",
       "4        6.531796       45.866688  52.0  Female      7107           1967  \n",
       "\n",
       "[5 rows x 26 columns]"
      ]
     },
     "execution_count": 9,
     "metadata": {},
     "output_type": "execute_result"
    }
   ],
   "source": [
    "df_joined.head()"
   ]
  },
  {
   "cell_type": "markdown",
   "metadata": {},
   "source": [
    "## Zhrnutie\n",
    "Po tejto fáze majú hodnoty jednotlivých atribútov jednotný formát, čo bolo našim cieľom. Pri ich úprave sme využili Pipeline z sklearn, taktiež sme vytvorili vlastné classy a funkcie na úpravu dáta, takže riešenie je znovu použitelné aj na testovacie dáta."
   ]
  },
  {
   "cell_type": "code",
   "execution_count": 10,
   "metadata": {},
   "outputs": [
    {
     "data": {
      "text/plain": [
       "<seaborn.axisgrid.FacetGrid at 0x245a2ff4220>"
      ]
     },
     "execution_count": 10,
     "metadata": {},
     "output_type": "execute_result"
    },
    {
     "data": {
      "image/png": "[encoded data removed]",
      "text/plain": [
       "<Figure size 360x360 with 1 Axes>"
      ]
     },
     "metadata": {
      "needs_background": "light"
     },
     "output_type": "display_data"
    }
   ],
   "source": [
    "sns.displot(df_joined['year_of_birth'], kde=True, bins=30) # Distribution of age values, Positive kurtosis and normal skewness"
   ]
  },
  {
   "cell_type": "code",
   "execution_count": 11,
   "metadata": {},
   "outputs": [
    {
     "data": {
      "text/plain": [
       "<seaborn.axisgrid.FacetGrid at 0x245a8f65280>"
      ]
     },
     "execution_count": 11,
     "metadata": {},
     "output_type": "execute_result"
    },
    {
     "data": {
      "image/png": "[encoded data removed]",
      "text/plain": [
       "<Figure size 360x360 with 1 Axes>"
      ]
     },
     "metadata": {
      "needs_background": "light"
     },
     "output_type": "display_data"
    }
   ],
   "source": [
    "sns.displot(df_joined['age'], kde=True, bins=30) # Distribution of age values, Positive kurtosis and normal skewness"
   ]
  },
  {
   "cell_type": "markdown",
   "metadata": {},
   "source": [
    "Nový atribút year_of_birth a atribút age s doplnenými chýbajúcimi hodnotami maju dobré normálové rozdelenie, s čím sa bude neskôr dobre pracovať."
   ]
  },
  {
   "cell_type": "markdown",
   "metadata": {},
   "source": [
    "# Riešenie chýbajúcich hodnôt"
   ]
  },
  {
   "cell_type": "code",
   "execution_count": 12,
   "metadata": {},
   "outputs": [],
   "source": [
    "class FillNaNsWithMean(BaseEstimator, TransformerMixin):\n",
    "    def __init__(self):\n",
    "        pass\n",
    "    \n",
    "    def fit(self, X, y = None):\n",
    "        return self\n",
    "    \n",
    "    def transform(self, X):\n",
    "        nan_map = X.isnull().any(axis=1)\n",
    "        X[nan_map]\n",
    "\n",
    "        imp = SimpleImputer(missing_values=np.nan, strategy='mean')\n",
    "        for column_name in X:\n",
    "            if X[column_name].dtypes != 'object':\n",
    "                X[column_name] = imp.fit_transform(X[[column_name]])\n",
    "                X[nan_map]\n",
    "\n",
    "        return X\n",
    "    \n",
    "class FillNaNsWithMostFrequent(BaseEstimator, TransformerMixin):\n",
    "    def __init__(self):\n",
    "        pass\n",
    "    \n",
    "    def fit(self, X, y = None):\n",
    "        return self\n",
    "    \n",
    "    def transform(self, X):\n",
    "        nan_map = X.isnull().any(axis=1)\n",
    "        X[nan_map]\n",
    "\n",
    "        imp = SimpleImputer(missing_values=np.nan, strategy='most_frequent')\n",
    "        for column_name in X:\n",
    "            if X[column_name].dtypes == 'object':\n",
    "                X[column_name] = imp.fit_transform(X[[column_name]])\n",
    "                X[nan_map]\n",
    "\n",
    "        return X"
   ]
  },
  {
   "cell_type": "markdown",
   "metadata": {},
   "source": [
    "## Nahradenie chýbajúcich hodnôt v číselných atribútoch pomocou stratégie priemeru"
   ]
  },
  {
   "cell_type": "code",
   "execution_count": 13,
   "metadata": {},
   "outputs": [],
   "source": [
    "filling_nans_pipe = Pipeline(steps = [\n",
    "    ('Filling NaNs with mean strategy', FillNaNsWithMean())\n",
    "])\n",
    "\n",
    "df_joined = filling_nans_pipe.transform(df_joined)"
   ]
  },
  {
   "cell_type": "code",
   "execution_count": 14,
   "metadata": {},
   "outputs": [
    {
     "name": "stdout",
     "output_type": "stream",
     "text": [
      "<class 'pandas.core.frame.DataFrame'>\n",
      "Int64Index: 3933 entries, 0 to 3982\n",
      "Data columns (total 26 columns):\n",
      " #   Column            Non-Null Count  Dtype  \n",
      "---  ------            --------------  -----  \n",
      " 0   name              3933 non-null   object \n",
      " 1   race              3933 non-null   object \n",
      " 2   marital-status    3540 non-null   object \n",
      " 3   occupation        3710 non-null   object \n",
      " 4   pregnant          3933 non-null   object \n",
      " 5   education-num     3933 non-null   float64\n",
      " 6   relationship      3933 non-null   object \n",
      " 7   skewness_glucose  3933 non-null   float64\n",
      " 8   mean_glucose      3933 non-null   float64\n",
      " 9   kurtosis_glucose  3933 non-null   float64\n",
      " 10  education         3933 non-null   object \n",
      " 11  fnlwgt            3933 non-null   float64\n",
      " 12  class             3933 non-null   float64\n",
      " 13  std_glucose       3933 non-null   float64\n",
      " 14  income            3933 non-null   object \n",
      " 15  native-country    3874 non-null   object \n",
      " 16  hours-per-week    3933 non-null   float64\n",
      " 17  workclass         3709 non-null   object \n",
      " 18  mean_oxygen       3933 non-null   float64\n",
      " 19  std_oxygen        3933 non-null   float64\n",
      " 20  kurtosis_oxygen   3933 non-null   float64\n",
      " 21  skewness_oxygen   3933 non-null   float64\n",
      " 22  age               3933 non-null   float64\n",
      " 23  sex               3933 non-null   object \n",
      " 24  zip_code          3933 non-null   float64\n",
      " 25  year_of_birth     3933 non-null   float64\n",
      "dtypes: float64(15), object(11)\n",
      "memory usage: 829.6+ KB\n"
     ]
    }
   ],
   "source": [
    "df_joined.info()"
   ]
  },
  {
   "cell_type": "markdown",
   "metadata": {},
   "source": [
    "### Zhrnutie doplňania chýbajúcich hodnôt pre číselné atribúty podľa stratégie priemeru\n",
    "Doplnenie chýbajúcej hodnoty/hodnôt nezmenilo distribúciou, pretože sa väčšinou dopĺňala jedna, max 2 hodnoty. Tým pádom nebolo možné, aby takáto malá úprava zmenila distribúciu na takomto množstve záznamov, preto sme jednotlivé distribúcie ani nevykreslovi. Taktiež nie je potrebné vyskúšať ďalšie stratégie riešenia chýbajúcich hodnôt, pretože by  to bol minimálny rozdiel(ak vôbec nejaký) oproti tejto. "
   ]
  },
  {
   "cell_type": "markdown",
   "metadata": {},
   "source": [
    "## Riešenie chýbajúcich hodnôt v nečíselných atribútoch"
   ]
  },
  {
   "cell_type": "code",
   "execution_count": 15,
   "metadata": {},
   "outputs": [],
   "source": [
    "most_frequent_pipe = Pipeline(steps = [\n",
    "    ('Filling NaNs with most frequent strategy', FillNaNsWithMostFrequent())\n",
    "])\n",
    "\n",
    "df_joined = most_frequent_pipe.transform(df_joined)"
   ]
  },
  {
   "cell_type": "code",
   "execution_count": 16,
   "metadata": {},
   "outputs": [
    {
     "name": "stdout",
     "output_type": "stream",
     "text": [
      "<class 'pandas.core.frame.DataFrame'>\n",
      "Int64Index: 3933 entries, 0 to 3982\n",
      "Data columns (total 26 columns):\n",
      " #   Column            Non-Null Count  Dtype  \n",
      "---  ------            --------------  -----  \n",
      " 0   name              3933 non-null   object \n",
      " 1   race              3933 non-null   object \n",
      " 2   marital-status    3933 non-null   object \n",
      " 3   occupation        3933 non-null   object \n",
      " 4   pregnant          3933 non-null   object \n",
      " 5   education-num     3933 non-null   float64\n",
      " 6   relationship      3933 non-null   object \n",
      " 7   skewness_glucose  3933 non-null   float64\n",
      " 8   mean_glucose      3933 non-null   float64\n",
      " 9   kurtosis_glucose  3933 non-null   float64\n",
      " 10  education         3933 non-null   object \n",
      " 11  fnlwgt            3933 non-null   float64\n",
      " 12  class             3933 non-null   float64\n",
      " 13  std_glucose       3933 non-null   float64\n",
      " 14  income            3933 non-null   object \n",
      " 15  native-country    3933 non-null   object \n",
      " 16  hours-per-week    3933 non-null   float64\n",
      " 17  workclass         3933 non-null   object \n",
      " 18  mean_oxygen       3933 non-null   float64\n",
      " 19  std_oxygen        3933 non-null   float64\n",
      " 20  kurtosis_oxygen   3933 non-null   float64\n",
      " 21  skewness_oxygen   3933 non-null   float64\n",
      " 22  age               3933 non-null   float64\n",
      " 23  sex               3933 non-null   object \n",
      " 24  zip_code          3933 non-null   float64\n",
      " 25  year_of_birth     3933 non-null   float64\n",
      "dtypes: float64(15), object(11)\n",
      "memory usage: 829.6+ KB\n"
     ]
    }
   ],
   "source": [
    "df_joined.info()"
   ]
  },
  {
   "cell_type": "markdown",
   "metadata": {},
   "source": [
    "### Zhrnutie doplňania chýbajúcich hodnôt pre nečíselné atribúty podľa stratégie most frequent\n",
    "Po vykonaní tohto kroku dataset neobsahuje chýbajúceho hodnoty a je pripravený na riešenie vychýlených hodnôt a náslendú transformáciu"
   ]
  },
  {
   "cell_type": "code",
   "execution_count": 45,
   "metadata": {},
   "outputs": [],
   "source": [
    "save = df_joined.copy()"
   ]
  },
  {
   "cell_type": "markdown",
   "metadata": {},
   "source": [
    "Domnievame sa, že niektoré hodnoty boli namerané v rôznych jednotkách, a preto sme sa rozhodli, že ich zjednodušíme. "
   ]
  },
  {
   "cell_type": "code",
   "execution_count": 46,
   "metadata": {},
   "outputs": [
    {
     "name": "stderr",
     "output_type": "stream",
     "text": [
      "C:\\Users\\vanco\\anaconda3\\lib\\site-packages\\pandas\\core\\indexing.py:671: SettingWithCopyWarning: \n",
      "A value is trying to be set on a copy of a slice from a DataFrame\n",
      "\n",
      "See the caveats in the documentation: https://pandas.pydata.org/pandas-docs/stable/user_guide/indexing.html#returning-a-view-versus-a-copy\n",
      "  self._setitem_with_indexer(indexer, value)\n"
     ]
    }
   ],
   "source": [
    "save['mean_glucose'].loc[save['mean_glucose'] > 1000] /= 1000\n",
    "save['mean_glucose'].loc[save['mean_glucose'] < -1000] /= 1000\n",
    "save['skewness_glucose'].loc[save['skewness_glucose'] > 10] /= 10\n",
    "save['mean_oxygen'].loc[save['mean_oxygen'] > 50] /= 10"
   ]
  },
  {
   "cell_type": "code",
   "execution_count": 47,
   "metadata": {},
   "outputs": [],
   "source": [
    "save = save[['name', 'race', 'marital-status', 'occupation', 'pregnant',\n",
    "       'education-num', 'relationship', 'skewness_glucose', 'mean_glucose',\n",
    "       'kurtosis_glucose', 'std_glucose', 'mean_oxygen', 'std_oxygen', \n",
    "       'kurtosis_oxygen', 'skewness_oxygen', 'fnlwgt', 'education', 'class',\n",
    "       'income', 'native-country', 'hours-per-week', 'workclass',\n",
    "       'age', 'sex', 'zip_code', 'year_of_birth']]"
   ]
  },
  {
   "cell_type": "markdown",
   "metadata": {},
   "source": [
    "# Riešenie vychýlených hodnôt"
   ]
  },
  {
   "cell_type": "code",
   "execution_count": 48,
   "metadata": {},
   "outputs": [],
   "source": [
    "# medical data\n",
    "class IdentifyAndReplaceOutliers(BaseEstimator, TransformerMixin):\n",
    "    def __init__(self):\n",
    "        pass\n",
    "    \n",
    "    def fit(self, X, y = None):\n",
    "        return self\n",
    "    \n",
    "    def transform(self, X):\n",
    "        X = self.identify(X)\n",
    "        return X\n",
    "    \n",
    "    def identify(self, dataframe):\n",
    "        medical = ['skewness_oxygen', 'kurtosis_oxygen', 'std_oxygen', 'mean_oxygen',\n",
    "                   'skewness_glucose', 'kurtosis_glucose', 'std_glucose', 'mean_glucose', 'fnlwgt']\n",
    "        for col in dataframe.columns:\n",
    "            if col not in medical:\n",
    "                continue\n",
    "                \n",
    "            data = dataframe[col]\n",
    "            # calculate interquartile range\n",
    "            q25, q75 = percentile(data, 25), percentile(data, 75)\n",
    "            iqr = q75 - q25\n",
    "\n",
    "            # calculate the outlier cutoff\n",
    "            cut_off = iqr * 2\n",
    "            lower, upper = q25 - cut_off, q75 + cut_off\n",
    "            \n",
    "            # if there are few outliers, drop them\n",
    "            if sum(dataframe[col] < lower) + sum(dataframe[col] > upper) < 50:\n",
    "                for i in dataframe.index:\n",
    "                    if ((dataframe.loc[i][col] < lower) or (dataframe.loc[i][col] > upper)):\n",
    "                        dataframe = dataframe.drop([i])\n",
    "            # otherwise make their value to more okey-ish\n",
    "            else:\n",
    "                dataframe[col] = dataframe[col].apply(lambda x: lower if x < lower else x)\n",
    "                dataframe[col] = dataframe[col].apply(lambda x: upper if x > upper else x)\n",
    "        return dataframe"
   ]
  },
  {
   "cell_type": "code",
   "execution_count": 49,
   "metadata": {},
   "outputs": [],
   "source": [
    "filling_nans_pipe = Pipeline(steps = [\n",
    "    ('Identify medical outliers', IdentifyAndReplaceOutliers())\n",
    "])\n",
    "\n",
    "save = filling_nans_pipe.transform(save)"
   ]
  },
  {
   "cell_type": "markdown",
   "metadata": {},
   "source": [
    "# Transformácia atribútu/ov pomocou Power transform (logaritmus, odmocnina a pod.)"
   ]
  },
  {
   "cell_type": "code",
   "execution_count": 50,
   "metadata": {},
   "outputs": [],
   "source": [
    "# medical\n",
    "class Transformation(BaseEstimator, TransformerMixin):\n",
    "    def __init__(self):\n",
    "        pass\n",
    "    \n",
    "    def fit(self, X, y = None):\n",
    "        return self\n",
    "    \n",
    "    def transform(self, X):\n",
    "        X = self.makeNormal(X)\n",
    "        return X\n",
    "    \n",
    "    def makeNormal(self, dataframe):\n",
    "        medical = ['skewness_oxygen', 'kurtosis_oxygen', 'std_oxygen', 'mean_oxygen',\n",
    "                   'skewness_glucose', 'kurtosis_glucose', 'std_glucose', 'mean_glucose', 'fnlwgt']\n",
    "        for col in dataframe.columns:\n",
    "            if col not in medical:\n",
    "                continue\n",
    "            # if the scewness is higher than 2, firstly, we do logaritmic transformation \n",
    "            if stats.skew(dataframe[col]) > 2:\n",
    "                dataframe[col] = np.log(dataframe[col] + dataframe[col].min() + 0.5) # zbavíme sa záporných čísel\n",
    "            \n",
    "            # then, we scale the data\n",
    "            \n",
    "            # define standard scaler\n",
    "            scaler = StandardScaler()\n",
    "\n",
    "            # transform data\n",
    "            scaled = scaler.fit_transform(np.array(dataframe[col]).reshape((len(dataframe[col]), 1)))\n",
    "            dataframe[col] = scaled\n",
    "            \n",
    "        return dataframe"
   ]
  },
  {
   "cell_type": "code",
   "execution_count": 51,
   "metadata": {},
   "outputs": [],
   "source": [
    "filling_nans_pipe = Pipeline(steps = [\n",
    "    ('Transform into more normal distribution', Transformation())\n",
    "])\n",
    "\n",
    "save = filling_nans_pipe.transform(save)"
   ]
  },
  {
   "cell_type": "code",
   "execution_count": 52,
   "metadata": {},
   "outputs": [
    {
     "data": {
      "image/png": "[encoded data removed]",
      "text/plain": [
       "<Figure size 1296x864 with 16 Axes>"
      ]
     },
     "metadata": {
      "needs_background": "light"
     },
     "output_type": "display_data"
    }
   ],
   "source": [
    "_ = save.hist(figsize=(18, 12), bins=50)"
   ]
  },
  {
   "cell_type": "markdown",
   "metadata": {},
   "source": [
    "# Transformácia kategorických atribútov na numerické"
   ]
  },
  {
   "cell_type": "markdown",
   "metadata": {},
   "source": [
    "Keďže sa táto úprava skladá iba z jedného kroku, tak nám prišlo zbytočné vytvárať pipeline a použili sme vlastnú funkciu, ktorá identifikuje všetky kategorické atribúty v datase a následne ich hodnoty transformuje na numerické."
   ]
  },
  {
   "cell_type": "code",
   "execution_count": 25,
   "metadata": {},
   "outputs": [],
   "source": [
    "def transform_categoric_to_numeric(dataframe):\n",
    "    copy_dataframe = dataframe.copy()\n",
    "    label_encoder = LabelEncoder()\n",
    "    \n",
    "    for column_name in copy_dataframe:\n",
    "        if copy_dataframe[column_name].dtypes == 'object':\n",
    "            copy_dataframe[column_name] = label_encoder.fit_transform(copy_dataframe[column_name])\n",
    "            \n",
    "    return copy_dataframe\n",
    "\n",
    "df_for_ML = transform_categoric_to_numeric(df_joined)"
   ]
  },
  {
   "cell_type": "code",
   "execution_count": 26,
   "metadata": {},
   "outputs": [
    {
     "name": "stdout",
     "output_type": "stream",
     "text": [
      "<class 'pandas.core.frame.DataFrame'>\n",
      "Int64Index: 3933 entries, 0 to 3982\n",
      "Data columns (total 26 columns):\n",
      " #   Column            Non-Null Count  Dtype  \n",
      "---  ------            --------------  -----  \n",
      " 0   name              3933 non-null   int32  \n",
      " 1   race              3933 non-null   int32  \n",
      " 2   marital-status    3933 non-null   int32  \n",
      " 3   occupation        3933 non-null   int32  \n",
      " 4   pregnant          3933 non-null   int32  \n",
      " 5   education-num     3933 non-null   float64\n",
      " 6   relationship      3933 non-null   int32  \n",
      " 7   skewness_glucose  3933 non-null   float64\n",
      " 8   mean_glucose      3933 non-null   float64\n",
      " 9   kurtosis_glucose  3933 non-null   float64\n",
      " 10  education         3933 non-null   int32  \n",
      " 11  fnlwgt            3933 non-null   float64\n",
      " 12  class             3933 non-null   float64\n",
      " 13  std_glucose       3933 non-null   float64\n",
      " 14  income            3933 non-null   int32  \n",
      " 15  native-country    3933 non-null   int32  \n",
      " 16  hours-per-week    3933 non-null   float64\n",
      " 17  workclass         3933 non-null   int32  \n",
      " 18  mean_oxygen       3933 non-null   float64\n",
      " 19  std_oxygen        3933 non-null   float64\n",
      " 20  kurtosis_oxygen   3933 non-null   float64\n",
      " 21  skewness_oxygen   3933 non-null   float64\n",
      " 22  age               3933 non-null   float64\n",
      " 23  sex               3933 non-null   int32  \n",
      " 24  zip_code          3933 non-null   float64\n",
      " 25  year_of_birth     3933 non-null   float64\n",
      "dtypes: float64(15), int32(11)\n",
      "memory usage: 660.6 KB\n"
     ]
    }
   ],
   "source": [
    "df_for_ML.info()"
   ]
  },
  {
   "cell_type": "markdown",
   "metadata": {},
   "source": [
    "Pomocou LabelEncodera sa nám podarilo transformovať všetky kategorické atribúty na číselné. Tieto úpravy sme nerobili na datasete df_joined, pretože ako posledný bod je dokumentácia zmien oproti prieskumnej analýze, čo by sme chceli porovnávať s atribútmi, ktoré majú rovnaký formát hodnôt ako mali tie v prieskumnej analýze, aby to pre čitateľa nebolo mätúce."
   ]
  },
  {
   "cell_type": "code",
   "execution_count": 27,
   "metadata": {},
   "outputs": [
    {
     "data": {
      "text/plain": [
       "<matplotlib.axes._subplots.AxesSubplot at 0x245a93e3550>"
      ]
     },
     "execution_count": 27,
     "metadata": {},
     "output_type": "execute_result"
    },
    {
     "data": {
      "image/png": "[encoded data removed]",
      "text/plain": [
       "<Figure size 432x288 with 1 Axes>"
      ]
     },
     "metadata": {
      "needs_background": "light"
     },
     "output_type": "display_data"
    }
   ],
   "source": [
    "df_for_ML['education'].value_counts().plot(kind='bar')"
   ]
  },
  {
   "cell_type": "code",
   "execution_count": 28,
   "metadata": {},
   "outputs": [
    {
     "data": {
      "text/plain": [
       "<matplotlib.axes._subplots.AxesSubplot at 0x245ab3e3a00>"
      ]
     },
     "execution_count": 28,
     "metadata": {},
     "output_type": "execute_result"
    },
    {
     "data": {
      "image/png": "[encoded data removed]",
      "text/plain": [
       "<Figure size 432x288 with 1 Axes>"
      ]
     },
     "metadata": {
      "needs_background": "light"
     },
     "output_type": "display_data"
    }
   ],
   "source": [
    "df_joined['education'].value_counts().plot(kind='bar')"
   ]
  },
  {
   "cell_type": "markdown",
   "metadata": {},
   "source": [
    "Tieto dva histogramy majú slúžiť len na kontrolu, či sa hodnoty atribútov správne transformovali."
   ]
  },
  {
   "cell_type": "markdown",
   "metadata": {},
   "source": [
    "# Opätovná realizácia podstatných častí prieskumnej analýzy\n",
    "Očakáva sa že dokumentujete zmeny distribúcie hodnôt po realizácii predspracovania.\n",
    "\n",
    "Následne dokumentujete LEN zmeny v prieskumnej analýze."
   ]
  },
  {
   "cell_type": "code",
   "execution_count": 29,
   "metadata": {},
   "outputs": [
    {
     "name": "stdout",
     "output_type": "stream",
     "text": [
      "<class 'pandas.core.frame.DataFrame'>\n",
      "Int64Index: 3933 entries, 0 to 3982\n",
      "Data columns (total 26 columns):\n",
      " #   Column            Non-Null Count  Dtype  \n",
      "---  ------            --------------  -----  \n",
      " 0   name              3933 non-null   object \n",
      " 1   race              3933 non-null   object \n",
      " 2   marital-status    3933 non-null   object \n",
      " 3   occupation        3933 non-null   object \n",
      " 4   pregnant          3933 non-null   object \n",
      " 5   education-num     3933 non-null   float64\n",
      " 6   relationship      3933 non-null   object \n",
      " 7   skewness_glucose  3933 non-null   float64\n",
      " 8   mean_glucose      3933 non-null   float64\n",
      " 9   kurtosis_glucose  3933 non-null   float64\n",
      " 10  education         3933 non-null   object \n",
      " 11  fnlwgt            3933 non-null   float64\n",
      " 12  class             3933 non-null   float64\n",
      " 13  std_glucose       3933 non-null   float64\n",
      " 14  income            3933 non-null   object \n",
      " 15  native-country    3933 non-null   object \n",
      " 16  hours-per-week    3933 non-null   float64\n",
      " 17  workclass         3933 non-null   object \n",
      " 18  mean_oxygen       3933 non-null   float64\n",
      " 19  std_oxygen        3933 non-null   float64\n",
      " 20  kurtosis_oxygen   3933 non-null   float64\n",
      " 21  skewness_oxygen   3933 non-null   float64\n",
      " 22  age               3933 non-null   float64\n",
      " 23  sex               3933 non-null   object \n",
      " 24  zip_code          3933 non-null   float64\n",
      " 25  year_of_birth     3933 non-null   float64\n",
      "dtypes: float64(15), object(11)\n",
      "memory usage: 829.6+ KB\n"
     ]
    }
   ],
   "source": [
    "df_joined.info()"
   ]
  },
  {
   "cell_type": "code",
   "execution_count": 1,
   "metadata": {},
   "outputs": [
    {
     "name": "stdout",
     "output_type": "stream",
     "text": [
      "Hello\n"
     ]
    }
   ],
   "source": [
    "print('Hello')"
   ]
  },
  {
   "cell_type": "code",
   "execution_count": null,
   "metadata": {},
   "outputs": [],
   "source": []
  }
 ],
 "metadata": {
  "kernelspec": {
   "display_name": "Python 3",
   "language": "python",
   "name": "python3"
  },
  "language_info": {
   "codemirror_mode": {
    "name": "ipython",
    "version": 3
   },
   "file_extension": ".py",
   "mimetype": "text/x-python",
   "name": "python",
   "nbconvert_exporter": "python",
   "pygments_lexer": "ipython3",
   "version": "3.8.3"
  }
 },
 "nbformat": 4,
 "nbformat_minor": 4
}
