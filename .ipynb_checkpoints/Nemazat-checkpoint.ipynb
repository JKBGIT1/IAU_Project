{
 "cells": [
  {
   "cell_type": "code",
   "execution_count": 1,
   "metadata": {},
   "outputs": [],
   "source": [
    "import sklearn"
   ]
  },
  {
   "cell_type": "code",
   "execution_count": 2,
   "metadata": {},
   "outputs": [],
   "source": [
    "import numpy as np\n",
    "import pandas as pd"
   ]
  },
  {
   "cell_type": "code",
   "execution_count": 3,
   "metadata": {},
   "outputs": [
    {
     "name": "stdout",
     "output_type": "stream",
     "text": [
      "[0]\n"
     ]
    }
   ],
   "source": [
    "from sklearn import tree\n",
    "\n",
    "features = [\n",
    "    [150, 1],\n",
    "    [170, 1],\n",
    "    [140, 0],\n",
    "    [130, 0],\n",
    "]\n",
    "labels = [0, 0, 1, 1]\n",
    "\n",
    "clf = tree.DecisionTreeClassifier()\n",
    "clf = clf.fit(features, labels)\n",
    "\n",
    "print(clf.predict([[150, 0]]))"
   ]
  },
  {
   "cell_type": "code",
   "execution_count": 6,
   "metadata": {},
   "outputs": [],
   "source": [
    "from sklearn.datasets import load_iris\n",
    "iris = load_iris()"
   ]
  },
  {
   "cell_type": "code",
   "execution_count": 18,
   "metadata": {},
   "outputs": [
    {
     "data": {
      "text/plain": [
       "[Text(167.4, 199.32, 'X[2] <= 2.45\\ngini = 0.667\\nsamples = 147\\nvalue = [49, 49, 49]'),\n",
       " Text(141.64615384615385, 163.07999999999998, 'gini = 0.0\\nsamples = 49\\nvalue = [49, 0, 0]'),\n",
       " Text(193.15384615384616, 163.07999999999998, 'X[3] <= 1.75\\ngini = 0.5\\nsamples = 98\\nvalue = [0, 49, 49]'),\n",
       " Text(103.01538461538462, 126.83999999999999, 'X[2] <= 4.95\\ngini = 0.171\\nsamples = 53\\nvalue = [0, 48, 5]'),\n",
       " Text(51.50769230769231, 90.6, 'X[3] <= 1.65\\ngini = 0.042\\nsamples = 47\\nvalue = [0, 46, 1]'),\n",
       " Text(25.753846153846155, 54.359999999999985, 'gini = 0.0\\nsamples = 46\\nvalue = [0, 46, 0]'),\n",
       " Text(77.26153846153846, 54.359999999999985, 'gini = 0.0\\nsamples = 1\\nvalue = [0, 0, 1]'),\n",
       " Text(154.52307692307693, 90.6, 'X[3] <= 1.55\\ngini = 0.444\\nsamples = 6\\nvalue = [0, 2, 4]'),\n",
       " Text(128.76923076923077, 54.359999999999985, 'gini = 0.0\\nsamples = 3\\nvalue = [0, 0, 3]'),\n",
       " Text(180.27692307692308, 54.359999999999985, 'X[0] <= 6.95\\ngini = 0.444\\nsamples = 3\\nvalue = [0, 2, 1]'),\n",
       " Text(154.52307692307693, 18.119999999999976, 'gini = 0.0\\nsamples = 2\\nvalue = [0, 2, 0]'),\n",
       " Text(206.03076923076924, 18.119999999999976, 'gini = 0.0\\nsamples = 1\\nvalue = [0, 0, 1]'),\n",
       " Text(283.2923076923077, 126.83999999999999, 'X[2] <= 4.85\\ngini = 0.043\\nsamples = 45\\nvalue = [0, 1, 44]'),\n",
       " Text(257.53846153846155, 90.6, 'X[1] <= 3.1\\ngini = 0.444\\nsamples = 3\\nvalue = [0, 1, 2]'),\n",
       " Text(231.7846153846154, 54.359999999999985, 'gini = 0.0\\nsamples = 2\\nvalue = [0, 0, 2]'),\n",
       " Text(283.2923076923077, 54.359999999999985, 'gini = 0.0\\nsamples = 1\\nvalue = [0, 1, 0]'),\n",
       " Text(309.04615384615386, 90.6, 'gini = 0.0\\nsamples = 42\\nvalue = [0, 0, 42]')]"
      ]
     },
     "execution_count": 18,
     "metadata": {},
     "output_type": "execute_result"
    },
    {
     "data": {
      "image/png": "[encoded data removed]",
      "text/plain": [
       "<Figure size 432x288 with 1 Axes>"
      ]
     },
     "metadata": {
      "needs_background": "light"
     },
     "output_type": "display_data"
    }
   ],
   "source": [
    "tree.plot_tree(clf)"
   ]
  },
  {
   "cell_type": "code",
   "execution_count": 23,
   "metadata": {},
   "outputs": [],
   "source": [
    "from io import StringIO\n",
    "import pydot\n",
    "\n",
    "dot_data = StringIO()\n",
    "\n",
    "tree.export_graphviz(clf, out_file=dot_data,  \n",
    "                     feature_names=iris['feature_names'],  \n",
    "                     class_names=iris['target_names'],  \n",
    "                     filled=True, rounded=True,  \n",
    "                     special_characters=True)\n",
    "\n",
    "# graph = pydot.graph_from_dot_data(dot_data.getvalue())\n",
    "# graph[0].write_pdf(\"iris.pdf\")"
   ]
  },
  {
   "cell_type": "code",
   "execution_count": 28,
   "metadata": {},
   "outputs": [
    {
     "data": {
      "image/png": "[encoded data removed]",
      "text/plain": [
       "<Figure size 432x288 with 1 Axes>"
      ]
     },
     "metadata": {
      "needs_background": "light"
     },
     "output_type": "display_data"
    }
   ],
   "source": [
    "import matplotlib.pyplot as plt\n",
    "\n",
    "greyhound = 500\n",
    "labs = 500\n",
    "\n",
    "grey_height = 28 + 4 * np.random.randn(greyhound)\n",
    "lab_height = 24 + 4 * np.random.randn(labs)\n",
    "\n",
    "plt.hist([grey_height, lab_height], stacked=True, color=['r', 'b'])\n",
    "plt.show()"
   ]
  },
  {
   "cell_type": "code",
   "execution_count": 35,
   "metadata": {},
   "outputs": [
    {
     "name": "stdout",
     "output_type": "stream",
     "text": [
      "[2 2 0 1 2 0 0 0 2 2 0 0 2 1 1 1 2 1 2 2 0 2 2 0 0 1 1 2 0 0 2 1 1 0 0 2 1\n",
      " 0 0 0 1 0 0 2 0 0 0 1 1 1 0 2 1 2 1 2 0 1 1 2 1 1 0 0 0 0 2 1 2 1 2 1 1 2\n",
      " 1]\n"
     ]
    }
   ],
   "source": [
    "X = iris.data\n",
    "y = iris.target\n",
    "\n",
    "from sklearn.model_selection import train_test_split \n",
    "# Half fort train and half for test\n",
    "X_train, X_test, y_train, y_test = train_test_split(X, y, test_size = .5)\n",
    "\n",
    "my_classifier = tree.DecisionTreeClassifier()\n",
    "my_classifier.fit(X_train, y_train)\n",
    "\n",
    "predictions = my_classifier.predict(X_test)\n",
    "print(predictions)"
   ]
  },
  {
   "cell_type": "code",
   "execution_count": 38,
   "metadata": {},
   "outputs": [
    {
     "name": "stdout",
     "output_type": "stream",
     "text": [
      "0.9333333333333333\n"
     ]
    }
   ],
   "source": [
    "from sklearn.metrics import accuracy_score\n",
    "print(accuracy_score(y_test, predictions))"
   ]
  },
  {
   "cell_type": "code",
   "execution_count": 41,
   "metadata": {},
   "outputs": [
    {
     "name": "stdout",
     "output_type": "stream",
     "text": [
      "0.9466666666666667\n"
     ]
    }
   ],
   "source": [
    "from sklearn.neighbors import KNeighborsClassifier\n",
    "neighbor_classifier = KNeighborsClassifier()\n",
    "neighbor_classifier.fit(X_train, y_train)\n",
    "\n",
    "predictions = neighbor_classifier.predict(X_test)\n",
    "print(accuracy_score(y_test, predictions))"
   ]
  },
  {
   "cell_type": "code",
   "execution_count": 44,
   "metadata": {},
   "outputs": [
    {
     "name": "stdout",
     "output_type": "stream",
     "text": [
      "0.92\n"
     ]
    }
   ],
   "source": [
    "from scipy.spatial import distance \n",
    "\n",
    "def euc(a, b):\n",
    "    return distance.euclidean(a, b)\n",
    "\n",
    "class ScrappyKNN():\n",
    "    def __init__(self):\n",
    "        pass\n",
    "    \n",
    "    def fit(self, X_train, y_train):\n",
    "        self.X_train = X_train\n",
    "        self.y_train = y_train\n",
    "    \n",
    "    def predict(self, X_test):\n",
    "        predictions = []\n",
    "        \n",
    "        for row in X_test:\n",
    "            label = self.closest(row)\n",
    "            predictions.append(label)\n",
    "        \n",
    "        return predictions\n",
    "    \n",
    "    def closest(self, row):\n",
    "        best_dist = euc(row, self.X_train[0])\n",
    "        best_index = 0\n",
    "        \n",
    "        for i in range(1, len(self.X_train)):\n",
    "            dist = euc(row, self.X_train[i])\n",
    "            if dist < best_dist:\n",
    "                best_dist = dist\n",
    "                best_index = i\n",
    "        return self.y_train[best_index]\n",
    "    \n",
    "my_classifier = ScrappyKNN()\n",
    "my_classifier.fit(X_train, y_train)\n",
    "\n",
    "predictions = my_classifier.predict(X_test)\n",
    "print(accuracy_score(y_test, predictions))"
   ]
  },
  {
   "cell_type": "code",
   "execution_count": null,
   "metadata": {},
   "outputs": [],
   "source": [
    "# there is source code https://www.youtube.com/watch?v=LDRbO9a6XPU&list=PLOU2XLYxmsIIuiBfYad6rFYQU_jL2ryal&index=8"
   ]
  },
  {
   "cell_type": "code",
   "execution_count": 61,
   "metadata": {},
   "outputs": [
    {
     "data": {
      "text/plain": [
       "DecisionTreeClassifier()"
      ]
     },
     "execution_count": 61,
     "metadata": {},
     "output_type": "execute_result"
    }
   ],
   "source": [
    "from sklearn import tree\n",
    "\n",
    "model = tree.DecisionTreeClassifier()\n",
    "model.fit(inputs_n, target)"
   ]
  },
  {
   "cell_type": "code",
   "execution_count": 62,
   "metadata": {},
   "outputs": [
    {
     "data": {
      "text/plain": [
       "array([1], dtype=int64)"
      ]
     },
     "execution_count": 62,
     "metadata": {},
     "output_type": "execute_result"
    }
   ],
   "source": [
    "model.predict([[1, 1, 0]])"
   ]
  },
  {
   "cell_type": "code",
   "execution_count": 63,
   "metadata": {},
   "outputs": [
    {
     "data": {
      "text/plain": [
       "1.0"
      ]
     },
     "execution_count": 63,
     "metadata": {},
     "output_type": "execute_result"
    }
   ],
   "source": [
    "model.score(inputs_n, target) # Using same data for score and fit"
   ]
  },
  {
   "cell_type": "code",
   "execution_count": 41,
   "metadata": {},
   "outputs": [
    {
     "data": {
      "text/plain": [
       "{'c', 'd', 'j'}"
      ]
     },
     "execution_count": 41,
     "metadata": {},
     "output_type": "execute_result"
    }
   ],
   "source": [
    "set_unique = set([row[0] for row in inputs_n])\n",
    "set_unique"
   ]
  },
  {
   "cell_type": "code",
   "execution_count": 8,
   "metadata": {},
   "outputs": [],
   "source": [
    "import numpy as np\n",
    "import pandas as pd\n",
    "from sklearn.preprocessing import LabelEncoder\n",
    "\n",
    "columns = ['Company', 'Job', 'Degree', 'Salary_more_then_100k']\n",
    "\n",
    "data = [\n",
    "    ['google', 'sales executive', 'bachelors', 0],\n",
    "    ['google', 'sales executive', 'masters', 0],\n",
    "    ['google', 'business manager', 'bachelors', 1],\n",
    "    ['google', 'business manager', 'masters', 1],\n",
    "    ['google', 'computer programmer', 'bachelors', 0],\n",
    "    ['google', 'computer programmer', 'masters', 1],\n",
    "    ['abc pharma', 'sales executive', 'masters', 0],\n",
    "    ['abc pharma', 'computer programmer', 'bacherols', 0],\n",
    "    ['abc pharma', 'business manager', 'bacherols', 0],\n",
    "    ['abc pharma', 'business manager', 'masters', 1],\n",
    "    ['facebook', 'sales executive', 'bachelors', 1],\n",
    "    ['facebook', 'sales executive', 'masters', 1],\n",
    "    ['facebook', 'business manager', 'bachelors', 1],\n",
    "    ['facebook', 'business manager', 'masters', 1],\n",
    "    ['facebook', 'computer programmer', 'bachelors', 1],\n",
    "    ['facebook', 'computer programmer', 'masters', 1],\n",
    "]\n",
    "\n",
    "df = pd.DataFrame(data, columns=columns)\n",
    "inputs = df.copy()\n",
    "\n",
    "le_company = LabelEncoder()\n",
    "le_job = LabelEncoder()\n",
    "le_degree = LabelEncoder()\n",
    "\n",
    "inputs['company_n'] = le_company.fit_transform(inputs['Company'])\n",
    "inputs['job_n'] = le_job.fit_transform(inputs['Job'])\n",
    "inputs['degree_n'] = le_degree.fit_transform(inputs['Degree'])\n",
    "\n",
    "inputs_n = inputs.drop(['Company', 'Job', 'Degree'], axis='columns')\n",
    "salary = inputs_n['Salary_more_then_100k']\n",
    "inputs_n = inputs_n.drop(['Salary_more_then_100k'], axis='columns')\n",
    "inputs_n['salary_more_then_100k'] = salary "
   ]
  },
  {
   "cell_type": "code",
   "execution_count": 13,
   "metadata": {},
   "outputs": [],
   "source": [
    "def unique_vals(dataframe, col): # This works the right way\n",
    "    return set([value for value in dataframe[col]])"
   ]
  },
  {
   "cell_type": "code",
   "execution_count": 14,
   "metadata": {},
   "outputs": [
    {
     "data": {
      "text/plain": [
       "{0, 1, 2}"
      ]
     },
     "execution_count": 14,
     "metadata": {},
     "output_type": "execute_result"
    }
   ],
   "source": [
    "unique_vals(inputs_n, 'job_n')"
   ]
  },
  {
   "cell_type": "code",
   "execution_count": 28,
   "metadata": {},
   "outputs": [],
   "source": [
    "def class_counts_for_list_of_df_rows(list_of_rows):\n",
    "    \"\"\"Counts the number of each type of example in a dataset.\"\"\"\n",
    "    counts = {}  # a dictionary of label -> count.\n",
    "    for row in list:\n",
    "        # in our dataset format, the label is always the last column\n",
    "        label = row.iloc[-1]\n",
    "        if label not in counts:\n",
    "            counts[label] = 0\n",
    "        counts[label] += 1\n",
    "    return counts"
   ]
  },
  {
   "cell_type": "code",
   "execution_count": 20,
   "metadata": {},
   "outputs": [],
   "source": [
    "class Question: # as and example you have to put dataframe row\n",
    "    def __init__(self, column, value):\n",
    "        # column has to be name of column in dataframe\n",
    "        self.column = column\n",
    "        self.value = value\n",
    "        \n",
    "    def match(self, example):\n",
    "        val = example[self.column]\n",
    "        return val == self.value\n",
    "    \n",
    "    def show_condition(self):\n",
    "        return 'Is %s %s %s?' % (self.column, '==', str(self.value))"
   ]
  },
  {
   "cell_type": "code",
   "execution_count": 21,
   "metadata": {},
   "outputs": [],
   "source": [
    "def partition(column, question):\n",
    "    true_rows, false_rows = [], []\n",
    "    \n",
    "    for i in range(len(column)):\n",
    "        if question.match(column.iloc[i]):\n",
    "            true_rows.append(column.iloc[i])\n",
    "        else:\n",
    "            false_rows.append(column.iloc[i])\n",
    "            \n",
    "    return true_rows, false_rows"
   ]
  },
  {
   "cell_type": "code",
   "execution_count": 24,
   "metadata": {},
   "outputs": [
    {
     "data": {
      "text/plain": [
       "False"
      ]
     },
     "execution_count": 24,
     "metadata": {},
     "output_type": "execute_result"
    }
   ],
   "source": [
    "q = Question('job_n', 0)\n",
    "q.match(inputs_n.iloc[0])"
   ]
  },
  {
   "cell_type": "code",
   "execution_count": 87,
   "metadata": {},
   "outputs": [],
   "source": [
    "true_rows, false_rows = partition(inputs_n, Question('salary_more_then_100k', 1))"
   ]
  },
  {
   "cell_type": "code",
   "execution_count": 88,
   "metadata": {},
   "outputs": [],
   "source": [
    "def gini_for_list_of_df_rows(rows): # there might be a column name for class .. to specify label\n",
    "    counts = class_counts_for_list_of_df_rows(rows)\n",
    "    impurity = 1\n",
    "    \n",
    "    for label in counts:\n",
    "        prob_of_label = counts[label] / float(len(rows))\n",
    "        impurity -= prob_of_label**2\n",
    "        \n",
    "    return impurity"
   ]
  },
  {
   "cell_type": "code",
   "execution_count": 89,
   "metadata": {},
   "outputs": [],
   "source": [
    "def gini_for_dataframe_column(column):\n",
    "    counts = class_counts_dataframe_column(column)\n",
    "    impurity = 1\n",
    "    \n",
    "    for label in counts:\n",
    "        prob_of_label = counts[label] / float(len(column))\n",
    "        impurity -= prob_of_label**2\n",
    "        \n",
    "    return impurity"
   ]
  },
  {
   "cell_type": "code",
   "execution_count": 90,
   "metadata": {},
   "outputs": [
    {
     "data": {
      "text/plain": [
       "0.0"
      ]
     },
     "execution_count": 90,
     "metadata": {},
     "output_type": "execute_result"
    }
   ],
   "source": [
    "gini_for_list_of_df_rows(true_rows)"
   ]
  },
  {
   "cell_type": "code",
   "execution_count": 91,
   "metadata": {},
   "outputs": [
    {
     "data": {
      "text/plain": [
       "0.0"
      ]
     },
     "execution_count": 91,
     "metadata": {},
     "output_type": "execute_result"
    }
   ],
   "source": [
    "gini_for_list_of_df_rows(false_rows)"
   ]
  },
  {
   "cell_type": "code",
   "execution_count": 92,
   "metadata": {},
   "outputs": [],
   "source": [
    "def info_gain(left, right, current_uncertainty):\n",
    "    p = float(len(left) / len(left) + len(right))\n",
    "    return current_uncertainty - p * gini_for_list_of_df_rows(left) - (1 - p) * gini_for_list_of_df_rows(right)"
   ]
  },
  {
   "cell_type": "code",
   "execution_count": 93,
   "metadata": {},
   "outputs": [
    {
     "data": {
      "text/plain": [
       "0.46875"
      ]
     },
     "execution_count": 93,
     "metadata": {},
     "output_type": "execute_result"
    }
   ],
   "source": [
    "current_uncertainty = gini_for_dataframe_column(inputs_n['salary_more_then_100k'])\n",
    "current_uncertainty"
   ]
  },
  {
   "cell_type": "code",
   "execution_count": 94,
   "metadata": {},
   "outputs": [
    {
     "data": {
      "text/plain": [
       "0.46875"
      ]
     },
     "execution_count": 94,
     "metadata": {},
     "output_type": "execute_result"
    }
   ],
   "source": [
    "info_gain(true_rows, false_rows, current_uncertainty)"
   ]
  },
  {
   "cell_type": "code",
   "execution_count": 381,
   "metadata": {},
   "outputs": [],
   "source": [
    "def gini_for_dataframe(dataframe): # This is working right\n",
    "    last_column = dataframe[dataframe.columns[len(dataframe.columns)-1]]\n",
    "    counts = class_counts_dataframe_column(last_column) # last is label\n",
    "    impurity = 1\n",
    "    \n",
    "    for label in counts:\n",
    "        prob_of_label = counts[label] / float(len(last_column))\n",
    "        impurity -= prob_of_label**2\n",
    "        \n",
    "    return impurity"
   ]
  },
  {
   "cell_type": "code",
   "execution_count": 382,
   "metadata": {},
   "outputs": [
    {
     "data": {
      "text/plain": [
       "0.46875"
      ]
     },
     "execution_count": 382,
     "metadata": {},
     "output_type": "execute_result"
    }
   ],
   "source": [
    "gini_for_dataframe(inputs_n)"
   ]
  },
  {
   "cell_type": "code",
   "execution_count": 383,
   "metadata": {},
   "outputs": [],
   "source": [
    "class Question: # as and example you have to put dataframe row\n",
    "    def __init__(self, column_index, value):\n",
    "        # column has to be name of column in dataframe\n",
    "        self.column_index = column_index\n",
    "        self.value = value\n",
    "        \n",
    "    def match(self, dataframe_row):\n",
    "        val = dataframe_row[self.column_index]\n",
    "        return val == self.value\n",
    "    \n",
    "    def show_condition(self):\n",
    "        return 'Is %s %s %s?' % (self.column_index, '==', str(self.value))"
   ]
  },
  {
   "cell_type": "code",
   "execution_count": 384,
   "metadata": {},
   "outputs": [],
   "source": [
    "def partition(dataframe, question): # need to pass whole dataframe here\n",
    "    true_rows, false_rows = [], []\n",
    "    \n",
    "    for i in range(len(dataframe)):\n",
    "        if question.match(dataframe.iloc[i]):\n",
    "            true_rows.append(dataframe.iloc[i])\n",
    "        else:\n",
    "            false_rows.append(dataframe.iloc[i])\n",
    "            \n",
    "    return true_rows, false_rows"
   ]
  },
  {
   "cell_type": "code",
   "execution_count": 395,
   "metadata": {},
   "outputs": [],
   "source": [
    "def class_counts_for_list_of_df_rows(list_of_rows):\n",
    "    counts = {}  # a dictionary of label -> count.\n",
    "    for row in list_of_rows:\n",
    "        # in our dataset format, the label is always the last column\n",
    "        label = row.iloc[-1]\n",
    "        if label not in counts:\n",
    "            counts[label] = 0\n",
    "        counts[label] += 1\n",
    "    \n",
    "    return counts"
   ]
  },
  {
   "cell_type": "code",
   "execution_count": 396,
   "metadata": {},
   "outputs": [],
   "source": [
    "def gini_for_list_of_df_rows(list_of_rows): # there might be a column name for class .. to specify label\n",
    "    counts = class_counts_for_list_of_df_rows(list_of_rows)\n",
    "    impurity = 1\n",
    "    \n",
    "    for label in counts:\n",
    "        prob_of_label = counts[label] / float(len(list_of_rows))\n",
    "        impurity -= prob_of_label**2\n",
    "        \n",
    "    return impurity"
   ]
  },
  {
   "cell_type": "code",
   "execution_count": 397,
   "metadata": {},
   "outputs": [],
   "source": [
    "def info_gain(left, right, current_uncertainty):\n",
    "    p = float(len(left) / len(left) + len(right))\n",
    "    left_gini = gini_for_list_of_df_rows(left)\n",
    "    right_gini = gini_for_list_of_df_rows(right)\n",
    "    print(left_gini, right_gini) # GINI IS WORKING RIGHT FOR BOTH CASES AND DATAFRAME TOO\n",
    "    return current_uncertainty - p * left_gini - (1 - p) * right_gini"
   ]
  },
  {
   "cell_type": "code",
   "execution_count": 326,
   "metadata": {},
   "outputs": [],
   "source": [
    "# inputs_n[inputs_n.columns[0]]\n",
    "# inputs_n"
   ]
  },
  {
   "cell_type": "code",
   "execution_count": 331,
   "metadata": {},
   "outputs": [
    {
     "data": {
      "text/html": [
       "<div>\n",
       "<style scoped>\n",
       "    .dataframe tbody tr th:only-of-type {\n",
       "        vertical-align: middle;\n",
       "    }\n",
       "\n",
       "    .dataframe tbody tr th {\n",
       "        vertical-align: top;\n",
       "    }\n",
       "\n",
       "    .dataframe thead th {\n",
       "        text-align: right;\n",
       "    }\n",
       "</style>\n",
       "<table border=\"1\" class=\"dataframe\">\n",
       "  <thead>\n",
       "    <tr style=\"text-align: right;\">\n",
       "      <th></th>\n",
       "      <th>color</th>\n",
       "      <th>diameter</th>\n",
       "      <th>label</th>\n",
       "    </tr>\n",
       "  </thead>\n",
       "  <tbody>\n",
       "    <tr>\n",
       "      <th>0</th>\n",
       "      <td>0</td>\n",
       "      <td>3</td>\n",
       "      <td>0</td>\n",
       "    </tr>\n",
       "    <tr>\n",
       "      <th>1</th>\n",
       "      <td>1</td>\n",
       "      <td>3</td>\n",
       "      <td>0</td>\n",
       "    </tr>\n",
       "    <tr>\n",
       "      <th>2</th>\n",
       "      <td>2</td>\n",
       "      <td>1</td>\n",
       "      <td>1</td>\n",
       "    </tr>\n",
       "    <tr>\n",
       "      <th>3</th>\n",
       "      <td>2</td>\n",
       "      <td>1</td>\n",
       "      <td>1</td>\n",
       "    </tr>\n",
       "    <tr>\n",
       "      <th>4</th>\n",
       "      <td>1</td>\n",
       "      <td>3</td>\n",
       "      <td>2</td>\n",
       "    </tr>\n",
       "  </tbody>\n",
       "</table>\n",
       "</div>"
      ],
      "text/plain": [
       "   color  diameter  label\n",
       "0      0         3      0\n",
       "1      1         3      0\n",
       "2      2         1      1\n",
       "3      2         1      1\n",
       "4      1         3      2"
      ]
     },
     "execution_count": 331,
     "metadata": {},
     "output_type": "execute_result"
    }
   ],
   "source": [
    "testing_data = [\n",
    "    [0, 3, 0],\n",
    "    [1, 3, 0],\n",
    "    [2, 1, 1],\n",
    "    [2, 1, 1],\n",
    "    [1, 3, 2],\n",
    "]\n",
    "\n",
    "fruits = pd.DataFrame(data=testing_data, columns=['color', 'diameter', 'label'])\n",
    "fruits"
   ]
  },
  {
   "cell_type": "code",
   "execution_count": 435,
   "metadata": {},
   "outputs": [
    {
     "name": "stdout",
     "output_type": "stream",
     "text": [
      "0.0 0.625\n",
      "1 4\n",
      "0.6399999999999999\n",
      "0.2\n"
     ]
    },
    {
     "data": {
      "text/plain": [
       "0.1399999999999999"
      ]
     },
     "execution_count": 435,
     "metadata": {},
     "output_type": "execute_result"
    }
   ],
   "source": [
    "training_data = [\n",
    "    ['Green', 3, 'Apple'],\n",
    "    ['Yellow', 3, 'Apple'],\n",
    "    ['Red', 1, 'Grape'],\n",
    "    ['Red', 1, 'Grape'],\n",
    "    ['Yellow', 3, 'Lemon'],\n",
    "]\n",
    "\n",
    "def unique_vals(rows, col):\n",
    "    \"\"\"Find the unique values for a column in a dataset.\"\"\"\n",
    "    return set([row[col] for row in rows])\n",
    "\n",
    "def class_counts(rows):\n",
    "    \"\"\"Counts the number of each type of example in a dataset.\"\"\"\n",
    "    counts = {}  # a dictionary of label -> count.\n",
    "    for row in rows:\n",
    "        # in our dataset format, the label is always the last column\n",
    "        label = row[-1]\n",
    "        if label not in counts:\n",
    "            counts[label] = 0\n",
    "        counts[label] += 1\n",
    "    return counts\n",
    "\n",
    "def is_numeric(value):\n",
    "    \"\"\"Test if a value is numeric.\"\"\"\n",
    "    return isinstance(value, int) or isinstance(value, float)\n",
    "\n",
    "class TheirQuestion:\n",
    "    \"\"\"A Question is used to partition a dataset.\n",
    "\n",
    "    This class just records a 'column number' (e.g., 0 for Color) and a\n",
    "    'column value' (e.g., Green). The 'match' method is used to compare\n",
    "    the feature value in an example to the feature value stored in the\n",
    "    question. See the demo below.\n",
    "    \"\"\"\n",
    "\n",
    "    def __init__(self, column, value):\n",
    "        self.column = column\n",
    "        self.value = value\n",
    "\n",
    "    def match(self, example):\n",
    "        # Compare the feature value in an example to the\n",
    "        # feature value in this question.\n",
    "        val = example[self.column]\n",
    "        if is_numeric(val):\n",
    "            return val >= self.value\n",
    "        else:\n",
    "            return val == self.value\n",
    "\n",
    "    def __repr__(self):\n",
    "        # This is just a helper method to print\n",
    "        # the question in a readable format.\n",
    "        condition = \"==\"\n",
    "        if is_numeric(self.value):\n",
    "            condition = \">=\"\n",
    "        return \"Is %s %s %s?\" % (\n",
    "            header[self.column], condition, str(self.value))\n",
    "    \n",
    "\n",
    "def their_partition(rows, question):\n",
    "    \"\"\"Partitions a dataset.\n",
    "\n",
    "    For each row in the dataset, check if it matches the question. If\n",
    "    so, add it to 'true rows', otherwise, add it to 'false rows'.\n",
    "    \"\"\"\n",
    "    true_rows, false_rows = [], []\n",
    "    for row in rows:\n",
    "        if question.match(row):\n",
    "            true_rows.append(row)\n",
    "        else:\n",
    "            false_rows.append(row)\n",
    "    return true_rows, false_rows\n",
    "\n",
    "def gini(rows):\n",
    "    \"\"\"Calculate the Gini Impurity for a list of rows.\n",
    "\n",
    "    There are a few different ways to do this, I thought this one was\n",
    "    the most concise. See:\n",
    "    https://en.wikipedia.org/wiki/Decision_tree_learning#Gini_impurity\n",
    "    \"\"\"\n",
    "    counts = class_counts(rows)\n",
    "    impurity = 1\n",
    "    for lbl in counts:\n",
    "        prob_of_lbl = counts[lbl] / float(len(rows))\n",
    "        impurity -= prob_of_lbl**2\n",
    "    return impurity\n",
    "\n",
    "def their_info_gain(left, right, current_uncertainty):\n",
    "    \"\"\"Information Gain.\n",
    "\n",
    "    The uncertainty of the starting node, minus the weighted impurity of\n",
    "    two child nodes.\n",
    "    \"\"\"\n",
    "    print(gini(left), gini(right))\n",
    "    print(len(left), len(right))\n",
    "    print(current_uncertainty)\n",
    "    p = float(len(left)) / (len(left) + len(right))\n",
    "    print(p)\n",
    "    return current_uncertainty - p * gini(left) - (1 - p) * gini(right)\n",
    "\n",
    "current_uncertainty = gini(training_data)\n",
    "current_uncertainty\n",
    "\n",
    "\n",
    "\n",
    "# How much information do we gain by partioning on 'Green'?\n",
    "their_true_rows, their_false_rows = their_partition(training_data, TheirQuestion(0, 'Green'))\n",
    "their_info_gain(their_true_rows, their_false_rows, current_uncertainty)"
   ]
  },
  {
   "cell_type": "code",
   "execution_count": 526,
   "metadata": {},
   "outputs": [
    {
     "data": {
      "text/plain": [
       "{'Apple': 2, 'Grape': 2, 'Lemon': 1}"
      ]
     },
     "execution_count": 526,
     "metadata": {},
     "output_type": "execute_result"
    }
   ],
   "source": [
    "class_counts(training_data)"
   ]
  },
  {
   "cell_type": "code",
   "execution_count": 527,
   "metadata": {},
   "outputs": [
    {
     "data": {
      "text/plain": [
       "{0: 2, 1: 2, 2: 1}"
      ]
     },
     "execution_count": 527,
     "metadata": {},
     "output_type": "execute_result"
    }
   ],
   "source": [
    "class_counts_dataframe_column(fruits['label'])"
   ]
  },
  {
   "cell_type": "code",
   "execution_count": null,
   "metadata": {},
   "outputs": [],
   "source": [
    "def class_counts_dataframe_column(column): # This works right for columns\n",
    "    counts = {}\n",
    "    \n",
    "    for value in column:\n",
    "        if value not in counts:\n",
    "            counts[value] = 0\n",
    "        counts[value] += 1\n",
    "    \n",
    "    return counts"
   ]
  },
  {
   "cell_type": "code",
   "execution_count": 445,
   "metadata": {},
   "outputs": [],
   "source": [
    "def gini_for_dataframe(dataframe): # This is working right\n",
    "    last_column = dataframe[dataframe.columns[len(dataframe.columns)-1]]\n",
    "    counts = class_counts_dataframe_column(last_column) # last is label\n",
    "    impurity = 1\n",
    "    \n",
    "    for label in counts:\n",
    "        prob_of_label = counts[label] / float(len(last_column))\n",
    "        impurity -= prob_of_label**2\n",
    "        \n",
    "    return impurity"
   ]
  },
  {
   "cell_type": "code",
   "execution_count": 444,
   "metadata": {},
   "outputs": [],
   "source": [
    "class Question: # as and example you have to put dataframe row\n",
    "    def __init__(self, column_index, value):\n",
    "        # column has to be name of column in dataframe\n",
    "        self.column_index = column_index\n",
    "        self.value = value\n",
    "        \n",
    "    def match(self, dataframe_row):\n",
    "        val = dataframe_row[self.column_index]\n",
    "        return val == self.value\n",
    "    \n",
    "    def show_condition(self):\n",
    "        return 'Is %s %s %s?' % (self.column_index, '==', str(self.value))"
   ]
  },
  {
   "cell_type": "code",
   "execution_count": 443,
   "metadata": {},
   "outputs": [],
   "source": [
    "def partition(dataframe, question): # need to pass whole dataframe here\n",
    "    true_rows, false_rows = [], []\n",
    "    \n",
    "    for i in range(len(dataframe)):\n",
    "        if question.match(dataframe.iloc[i]):\n",
    "            true_rows.append(dataframe.iloc[i])\n",
    "        else:\n",
    "            false_rows.append(dataframe.iloc[i])\n",
    "            \n",
    "    return true_rows, false_rows"
   ]
  },
  {
   "cell_type": "code",
   "execution_count": 442,
   "metadata": {},
   "outputs": [],
   "source": [
    "def class_counts_for_list_of_df_rows(list_of_rows):\n",
    "    counts = {}  # a dictionary of label -> count.\n",
    "    for row in list_of_rows:\n",
    "        # in our dataset format, the label is always the last column\n",
    "        label = row.iloc[-1]\n",
    "        if label not in counts:\n",
    "            counts[label] = 0\n",
    "        counts[label] += 1\n",
    "    \n",
    "    return counts"
   ]
  },
  {
   "cell_type": "code",
   "execution_count": 439,
   "metadata": {},
   "outputs": [],
   "source": [
    "def gini_for_list_of_df_rows(list_of_rows): # there might be a column name for class .. to specify label\n",
    "    counts = class_counts_for_list_of_df_rows(list_of_rows)\n",
    "    impurity = 1\n",
    "\n",
    "    for label in counts:\n",
    "        prob_of_label = counts[label] / float(len(list_of_rows))\n",
    "        impurity -= prob_of_label**2\n",
    "        \n",
    "    return impurity"
   ]
  },
  {
   "cell_type": "code",
   "execution_count": 440,
   "metadata": {},
   "outputs": [],
   "source": [
    "def info_gain(left, right, current_uncertainty): # Working right\n",
    "    p = float(len(left)) / (len(left) + len(right))\n",
    "    left_gini = gini_for_list_of_df_rows(left)\n",
    "    right_gini = gini_for_list_of_df_rows(right)\n",
    "    return current_uncertainty - p * left_gini - (1 - p) * right_gini"
   ]
  },
  {
   "cell_type": "code",
   "execution_count": 453,
   "metadata": {},
   "outputs": [],
   "source": [
    "def find_best_split(dataframe):\n",
    "    best_gain = 0  # keep track of the best information gain\n",
    "    best_question = None  # keep train of the feature / value that produced it\n",
    "    current_uncertainty = gini_for_dataframe(dataframe)\n",
    "    n_features = len(dataframe.columns) - 1  # number of columns\n",
    "\n",
    "    for col_index in range(n_features):  # for each feature\n",
    "        dataframe_column = dataframe[dataframe.columns[col_index]]\n",
    "        # unique values in the column, this line works right\n",
    "        values = set([value for value in dataframe_column])\n",
    "#         values = set([row[col] for row in rows])\n",
    "\n",
    "#         if col_index == 1:\n",
    "#             return best_gain, best_question\n",
    "        \n",
    "        for value in values:  # for each value\n",
    "            question = Question(col_index, value) # This is handled\n",
    "\n",
    "            # try splitting the dataframe\n",
    "            true_rows, false_rows = partition(dataframe, question)\n",
    "            \n",
    "            # Everything should work right \n",
    "            # Skip this split if it doesn't divide the dataframe\n",
    "            if len(true_rows) == 0 or len(false_rows) == 0:\n",
    "                continue\n",
    "            \n",
    "            # Calculate the information gain from this split\n",
    "            gain = info_gain(true_rows, false_rows, current_uncertainty)\n",
    "\n",
    "            # You actually can use '>' instead of '>=' here\n",
    "            # but I wanted the tree to look a certain way for our\n",
    "            # toy dataset.\n",
    "            if gain >= best_gain:\n",
    "                best_gain, best_question = gain, question\n",
    "                \n",
    "#         if col_index == 1:\n",
    "#             return best_gain, best_question\n",
    "                \n",
    "    return best_gain, best_question"
   ]
  },
  {
   "cell_type": "code",
   "execution_count": 460,
   "metadata": {},
   "outputs": [
    {
     "data": {
      "text/plain": [
       "0.1399999999999999"
      ]
     },
     "execution_count": 460,
     "metadata": {},
     "output_type": "execute_result"
    }
   ],
   "source": [
    "true_rows, false_rows = partition(fruits, Question(0, 0))\n",
    "info_gain(true_rows, false_rows, gini_for_dataframe(fruits))"
   ]
  },
  {
   "cell_type": "code",
   "execution_count": 457,
   "metadata": {},
   "outputs": [
    {
     "name": "stdout",
     "output_type": "stream",
     "text": [
      "0.37333333333333324\n"
     ]
    },
    {
     "data": {
      "text/plain": [
       "'Is 1 == 3?'"
      ]
     },
     "execution_count": 457,
     "metadata": {},
     "output_type": "execute_result"
    }
   ],
   "source": [
    "best_gain, best_question = find_best_split(fruits)\n",
    "print(best_gain)\n",
    "best_question.show_condition()\n",
    "\n",
    "# best_gain, best_question = find_best_split(inputs_n)\n",
    "# print(best_gain)\n",
    "# best_question.show_condition()"
   ]
  },
  {
   "cell_type": "code",
   "execution_count": 520,
   "metadata": {},
   "outputs": [],
   "source": [
    "class Leaf:\n",
    "    def __init__(self, rows):\n",
    "        last_column = rows[rows.columns[len(rows.columns)-1]]\n",
    "        counts = class_counts_dataframe_column(last_column) # last is label\n",
    "        self.predictions = counts\n",
    "    \n",
    "class Decision_Node:\n",
    "    def __init__(self, question, true_branch, false_branch):\n",
    "        self.question = question\n",
    "        self.true_branch = true_branch\n",
    "        self.false_branch = false_branch"
   ]
  },
  {
   "cell_type": "code",
   "execution_count": 528,
   "metadata": {},
   "outputs": [],
   "source": [
    "def build_tree(rows):\n",
    "    gain, question = find_best_split(rows)\n",
    "    \n",
    "    if gain == 0:\n",
    "        print(rows)\n",
    "        return Leaf(rows)\n",
    "    \n",
    "    true_rows, false_rows = partition(rows, question) # rows isn't dataframe, need to hanle it\n",
    "\n",
    "    true_branch = build_tree(pd.DataFrame(true_rows)) # Need to convert list of series into dataframe\n",
    "    \n",
    "    false_branch = build_tree(pd.DataFrame(false_rows)) # Need to convert list of series into dataframe\n",
    "\n",
    "    return Decision_Node(question, true_branch, false_branch)"
   ]
  },
  {
   "cell_type": "code",
   "execution_count": 530,
   "metadata": {},
   "outputs": [
    {
     "name": "stdout",
     "output_type": "stream",
     "text": [
      "   color  diameter  label\n",
      "1      1         3      0\n",
      "4      1         3      2\n",
      "   color  diameter  label\n",
      "0      0         3      0\n",
      "   color  diameter  label\n",
      "2      2         1      1\n",
      "3      2         1      1\n"
     ]
    }
   ],
   "source": [
    "my_tree = build_tree(fruits) # Should be alright"
   ]
  },
  {
   "cell_type": "code",
   "execution_count": 523,
   "metadata": {},
   "outputs": [],
   "source": [
    "def print_tree(node, spacing=''):\n",
    "    if isinstance(node, Leaf):\n",
    "        print(spacing + 'Predict', node.predictions)\n",
    "        return\n",
    "    \n",
    "    print(spacing + node.question.show_condition())\n",
    "    \n",
    "    print(spacing + '--> True:')\n",
    "    print_tree(node.true_branch, spacing + ' ')\n",
    "    print(spacing + '--> False:')\n",
    "    print_tree(node.false_branch, spacing + ' ')"
   ]
  },
  {
   "cell_type": "code",
   "execution_count": 524,
   "metadata": {},
   "outputs": [
    {
     "name": "stdout",
     "output_type": "stream",
     "text": [
      "Is 1 == 3?\n",
      "--> True:\n",
      " Is 0 == 1?\n",
      " --> True:\n",
      "  Predict {0: 1, 2: 1}\n",
      " --> False:\n",
      "  Predict {0: 1}\n",
      "--> False:\n",
      " Predict {1: 2}\n"
     ]
    }
   ],
   "source": [
    "print_tree(my_tree)"
   ]
  },
  {
   "cell_type": "code",
   "execution_count": null,
   "metadata": {},
   "outputs": [],
   "source": []
  }
 ],
 "metadata": {
  "kernelspec": {
   "display_name": "Python 3",
   "language": "python",
   "name": "python3"
  },
  "language_info": {
   "codemirror_mode": {
    "name": "ipython",
    "version": 3
   },
   "file_extension": ".py",
   "mimetype": "text/x-python",
   "name": "python",
   "nbconvert_exporter": "python",
   "pygments_lexer": "ipython3",
   "version": "3.8.3"
  }
 },
 "nbformat": 4,
 "nbformat_minor": 4
}
