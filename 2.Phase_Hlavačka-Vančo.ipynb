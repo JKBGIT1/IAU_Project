{
 "cells": [
  {
   "cell_type": "code",
   "execution_count": 176,
   "metadata": {},
   "outputs": [],
   "source": [
    "import numpy as np\n",
    "import pandas as pd\n",
    "import seaborn as sns\n",
    "pd.options.display.max_columns = None\n",
    "pd.options.display.max_rows = None\n",
    "from pandas_profiling import ProfileReport"
   ]
  },
  {
   "cell_type": "markdown",
   "metadata": {},
   "source": [
    "# Načítanie a úprava dát z csv súborov."
   ]
  },
  {
   "cell_type": "code",
   "execution_count": 177,
   "metadata": {},
   "outputs": [],
   "source": [
    "def strip_columns(dataframe):\n",
    "    for column_name in dataframe:\n",
    "        if dataframe[column_name].dtypes == 'object':\n",
    "            dataframe[column_name] = dataframe[column_name].str.strip()\n",
    "        \n",
    "    return dataframe\n",
    "\n",
    "# other_train\n",
    "df_other = pd.read_csv('./other_train.csv', sep=',', index_col=0) # First column is Unnamed\n",
    "df_other = strip_columns(df_other)"
   ]
  },
  {
   "cell_type": "code",
   "execution_count": 178,
   "metadata": {},
   "outputs": [
    {
     "name": "stdout",
     "output_type": "stream",
     "text": [
      "<class 'pandas.core.frame.DataFrame'>\n",
      "Int64Index: 3983 entries, 0 to 3982\n",
      "Data columns (total 22 columns):\n",
      " #   Column            Non-Null Count  Dtype  \n",
      "---  ------            --------------  -----  \n",
      " 0   name              3983 non-null   object \n",
      " 1   address           3983 non-null   object \n",
      " 2   race              3971 non-null   object \n",
      " 3   marital-status    3709 non-null   object \n",
      " 4   occupation        3968 non-null   object \n",
      " 5   pregnant          3967 non-null   object \n",
      " 6   education-num     3971 non-null   float64\n",
      " 7   relationship      3972 non-null   object \n",
      " 8   skewness_glucose  3968 non-null   float64\n",
      " 9   mean_glucose      3974 non-null   float64\n",
      " 10  capital-gain      3964 non-null   float64\n",
      " 11  kurtosis_glucose  3970 non-null   float64\n",
      " 12  education         3969 non-null   object \n",
      " 13  fnlwgt            3965 non-null   float64\n",
      " 14  class             3972 non-null   float64\n",
      " 15  std_glucose       3966 non-null   float64\n",
      " 16  income            3971 non-null   object \n",
      " 17  medical_info      3967 non-null   object \n",
      " 18  native-country    3967 non-null   object \n",
      " 19  hours-per-week    3971 non-null   float64\n",
      " 20  capital-loss      3971 non-null   float64\n",
      " 21  workclass         3968 non-null   object \n",
      "dtypes: float64(10), object(12)\n",
      "memory usage: 715.7+ KB\n"
     ]
    }
   ],
   "source": [
    "df_other.info() # There are 22 columns. 10 atributes are float type and 12 are object.\n",
    "# All columns expect name and adress have null values"
   ]
  },
  {
   "cell_type": "markdown",
   "metadata": {},
   "source": [
    "V datasete je 22 atribútov, pričom 10 z nich sú typu float a zvyšných 12 je typu object.\n",
    "Všetky stĺpce okrem name a adress majú chýbajúce hodnoty."
   ]
  },
  {
   "cell_type": "code",
   "execution_count": 179,
   "metadata": {},
   "outputs": [
    {
     "data": {
      "text/html": [
       "<div>\n",
       "<style scoped>\n",
       "    .dataframe tbody tr th:only-of-type {\n",
       "        vertical-align: middle;\n",
       "    }\n",
       "\n",
       "    .dataframe tbody tr th {\n",
       "        vertical-align: top;\n",
       "    }\n",
       "\n",
       "    .dataframe thead th {\n",
       "        text-align: right;\n",
       "    }\n",
       "</style>\n",
       "<table border=\"1\" class=\"dataframe\">\n",
       "  <thead>\n",
       "    <tr style=\"text-align: right;\">\n",
       "      <th></th>\n",
       "      <th>education-num</th>\n",
       "      <th>skewness_glucose</th>\n",
       "      <th>mean_glucose</th>\n",
       "      <th>capital-gain</th>\n",
       "      <th>kurtosis_glucose</th>\n",
       "      <th>fnlwgt</th>\n",
       "      <th>class</th>\n",
       "      <th>std_glucose</th>\n",
       "      <th>hours-per-week</th>\n",
       "      <th>capital-loss</th>\n",
       "    </tr>\n",
       "  </thead>\n",
       "  <tbody>\n",
       "    <tr>\n",
       "      <th>count</th>\n",
       "      <td>3971.000000</td>\n",
       "      <td>3968.000000</td>\n",
       "      <td>3974.000000</td>\n",
       "      <td>3964.000000</td>\n",
       "      <td>3970.000000</td>\n",
       "      <td>3.965000e+03</td>\n",
       "      <td>3972.000000</td>\n",
       "      <td>3966.000000</td>\n",
       "      <td>3971.000000</td>\n",
       "      <td>3971.000000</td>\n",
       "    </tr>\n",
       "    <tr>\n",
       "      <th>mean</th>\n",
       "      <td>10.065223</td>\n",
       "      <td>4.233223</td>\n",
       "      <td>69.173141</td>\n",
       "      <td>1228.128406</td>\n",
       "      <td>0.952248</td>\n",
       "      <td>1.911784e+05</td>\n",
       "      <td>0.256294</td>\n",
       "      <td>45.172793</td>\n",
       "      <td>40.505162</td>\n",
       "      <td>73.254092</td>\n",
       "    </tr>\n",
       "    <tr>\n",
       "      <th>std</th>\n",
       "      <td>2.671998</td>\n",
       "      <td>9.715162</td>\n",
       "      <td>3348.917032</td>\n",
       "      <td>8623.958204</td>\n",
       "      <td>1.614087</td>\n",
       "      <td>1.072410e+05</td>\n",
       "      <td>0.436641</td>\n",
       "      <td>7.621144</td>\n",
       "      <td>12.279149</td>\n",
       "      <td>369.551911</td>\n",
       "    </tr>\n",
       "    <tr>\n",
       "      <th>min</th>\n",
       "      <td>1.000000</td>\n",
       "      <td>-1.755332</td>\n",
       "      <td>-18973.437500</td>\n",
       "      <td>0.000000</td>\n",
       "      <td>-1.641515</td>\n",
       "      <td>1.882700e+04</td>\n",
       "      <td>0.000000</td>\n",
       "      <td>25.695250</td>\n",
       "      <td>1.000000</td>\n",
       "      <td>0.000000</td>\n",
       "    </tr>\n",
       "    <tr>\n",
       "      <th>25%</th>\n",
       "      <td>9.000000</td>\n",
       "      <td>-0.120081</td>\n",
       "      <td>83.955078</td>\n",
       "      <td>0.000000</td>\n",
       "      <td>0.070311</td>\n",
       "      <td>1.179830e+05</td>\n",
       "      <td>0.000000</td>\n",
       "      <td>40.151488</td>\n",
       "      <td>40.000000</td>\n",
       "      <td>0.000000</td>\n",
       "    </tr>\n",
       "    <tr>\n",
       "      <th>50%</th>\n",
       "      <td>10.000000</td>\n",
       "      <td>0.376026</td>\n",
       "      <td>110.613281</td>\n",
       "      <td>0.000000</td>\n",
       "      <td>0.311092</td>\n",
       "      <td>1.795090e+05</td>\n",
       "      <td>0.000000</td>\n",
       "      <td>45.878359</td>\n",
       "      <td>40.000000</td>\n",
       "      <td>0.000000</td>\n",
       "    </tr>\n",
       "    <tr>\n",
       "      <th>75%</th>\n",
       "      <td>13.000000</td>\n",
       "      <td>2.090854</td>\n",
       "      <td>125.382812</td>\n",
       "      <td>0.000000</td>\n",
       "      <td>0.776492</td>\n",
       "      <td>2.415230e+05</td>\n",
       "      <td>1.000000</td>\n",
       "      <td>50.350939</td>\n",
       "      <td>45.000000</td>\n",
       "      <td>0.000000</td>\n",
       "    </tr>\n",
       "    <tr>\n",
       "      <th>max</th>\n",
       "      <td>16.000000</td>\n",
       "      <td>68.101622</td>\n",
       "      <td>15887.500000</td>\n",
       "      <td>99999.000000</td>\n",
       "      <td>8.069522</td>\n",
       "      <td>1.366120e+06</td>\n",
       "      <td>1.000000</td>\n",
       "      <td>91.206475</td>\n",
       "      <td>99.000000</td>\n",
       "      <td>2824.000000</td>\n",
       "    </tr>\n",
       "  </tbody>\n",
       "</table>\n",
       "</div>"
      ],
      "text/plain": [
       "       education-num  skewness_glucose  mean_glucose  capital-gain  \\\n",
       "count    3971.000000       3968.000000   3974.000000   3964.000000   \n",
       "mean       10.065223          4.233223     69.173141   1228.128406   \n",
       "std         2.671998          9.715162   3348.917032   8623.958204   \n",
       "min         1.000000         -1.755332 -18973.437500      0.000000   \n",
       "25%         9.000000         -0.120081     83.955078      0.000000   \n",
       "50%        10.000000          0.376026    110.613281      0.000000   \n",
       "75%        13.000000          2.090854    125.382812      0.000000   \n",
       "max        16.000000         68.101622  15887.500000  99999.000000   \n",
       "\n",
       "       kurtosis_glucose        fnlwgt        class  std_glucose  \\\n",
       "count       3970.000000  3.965000e+03  3972.000000  3966.000000   \n",
       "mean           0.952248  1.911784e+05     0.256294    45.172793   \n",
       "std            1.614087  1.072410e+05     0.436641     7.621144   \n",
       "min           -1.641515  1.882700e+04     0.000000    25.695250   \n",
       "25%            0.070311  1.179830e+05     0.000000    40.151488   \n",
       "50%            0.311092  1.795090e+05     0.000000    45.878359   \n",
       "75%            0.776492  2.415230e+05     1.000000    50.350939   \n",
       "max            8.069522  1.366120e+06     1.000000    91.206475   \n",
       "\n",
       "       hours-per-week  capital-loss  \n",
       "count     3971.000000   3971.000000  \n",
       "mean        40.505162     73.254092  \n",
       "std         12.279149    369.551911  \n",
       "min          1.000000      0.000000  \n",
       "25%         40.000000      0.000000  \n",
       "50%         40.000000      0.000000  \n",
       "75%         45.000000      0.000000  \n",
       "max         99.000000   2824.000000  "
      ]
     },
     "execution_count": 179,
     "metadata": {},
     "output_type": "execute_result"
    }
   ],
   "source": [
    "df_other.describe()"
   ]
  },
  {
   "cell_type": "markdown",
   "metadata": {},
   "source": [
    "Štatistické údaje nie sú moc veľa vravné, pretože v nich sú celkom extrémne hodnoty."
   ]
  },
  {
   "cell_type": "code",
   "execution_count": 180,
   "metadata": {},
   "outputs": [
    {
     "data": {
      "text/html": [
       "<div>\n",
       "<style scoped>\n",
       "    .dataframe tbody tr th:only-of-type {\n",
       "        vertical-align: middle;\n",
       "    }\n",
       "\n",
       "    .dataframe tbody tr th {\n",
       "        vertical-align: top;\n",
       "    }\n",
       "\n",
       "    .dataframe thead th {\n",
       "        text-align: right;\n",
       "    }\n",
       "</style>\n",
       "<table border=\"1\" class=\"dataframe\">\n",
       "  <thead>\n",
       "    <tr style=\"text-align: right;\">\n",
       "      <th></th>\n",
       "      <th>name</th>\n",
       "      <th>address</th>\n",
       "      <th>race</th>\n",
       "      <th>marital-status</th>\n",
       "      <th>occupation</th>\n",
       "      <th>pregnant</th>\n",
       "      <th>education-num</th>\n",
       "      <th>relationship</th>\n",
       "      <th>skewness_glucose</th>\n",
       "      <th>mean_glucose</th>\n",
       "      <th>capital-gain</th>\n",
       "      <th>kurtosis_glucose</th>\n",
       "      <th>education</th>\n",
       "      <th>fnlwgt</th>\n",
       "      <th>class</th>\n",
       "      <th>std_glucose</th>\n",
       "      <th>income</th>\n",
       "      <th>medical_info</th>\n",
       "      <th>native-country</th>\n",
       "      <th>hours-per-week</th>\n",
       "      <th>capital-loss</th>\n",
       "      <th>workclass</th>\n",
       "    </tr>\n",
       "  </thead>\n",
       "  <tbody>\n",
       "    <tr>\n",
       "      <th>0</th>\n",
       "      <td>David Hayes</td>\n",
       "      <td>235 Jennifer Throughway Suite 569\\r\\nNew Antho...</td>\n",
       "      <td>Black</td>\n",
       "      <td>??</td>\n",
       "      <td>Prof-specialty</td>\n",
       "      <td>f</td>\n",
       "      <td>5.0</td>\n",
       "      <td>Not-in-family</td>\n",
       "      <td>-0.197692</td>\n",
       "      <td>141.359375</td>\n",
       "      <td>0.0</td>\n",
       "      <td>-0.252430</td>\n",
       "      <td>9th</td>\n",
       "      <td>175431.0</td>\n",
       "      <td>0.0</td>\n",
       "      <td>49.842053</td>\n",
       "      <td>&lt;=50K</td>\n",
       "      <td>{'mean_oxygen':'4.04264214','std_oxygen':'19.4...</td>\n",
       "      <td>United-States</td>\n",
       "      <td>40.0</td>\n",
       "      <td>0.0</td>\n",
       "      <td>Private</td>\n",
       "    </tr>\n",
       "    <tr>\n",
       "      <th>1</th>\n",
       "      <td>Stanley Benny</td>\n",
       "      <td>08954 Johnson Course\\r\\nNew Lauraville, NV 22019</td>\n",
       "      <td>White</td>\n",
       "      <td>Married-civ-spouse</td>\n",
       "      <td>Exec-managerial</td>\n",
       "      <td>f</td>\n",
       "      <td>13.0</td>\n",
       "      <td>Husband</td>\n",
       "      <td>16.019670</td>\n",
       "      <td>53.968750</td>\n",
       "      <td>0.0</td>\n",
       "      <td>3.149333</td>\n",
       "      <td>Bachelors</td>\n",
       "      <td>66473.0</td>\n",
       "      <td>1.0</td>\n",
       "      <td>31.900220</td>\n",
       "      <td>&gt;50K</td>\n",
       "      <td>{'mean_oxygen':'9.294314381','std_oxygen':'35....</td>\n",
       "      <td>United-States</td>\n",
       "      <td>40.0</td>\n",
       "      <td>0.0</td>\n",
       "      <td>Private</td>\n",
       "    </tr>\n",
       "    <tr>\n",
       "      <th>2</th>\n",
       "      <td>Domingo Labriola</td>\n",
       "      <td>36319 Wiley Drive Suite 094\\r\\nSouth Michael, ...</td>\n",
       "      <td>Asian-Pac-Islander</td>\n",
       "      <td>Married-civ-spouse</td>\n",
       "      <td>Farming-fishing</td>\n",
       "      <td>f</td>\n",
       "      <td>3.0</td>\n",
       "      <td>Husband</td>\n",
       "      <td>21.803837</td>\n",
       "      <td>2257.812500</td>\n",
       "      <td>0.0</td>\n",
       "      <td>4.650770</td>\n",
       "      <td>5th-6th</td>\n",
       "      <td>93206.0</td>\n",
       "      <td>1.0</td>\n",
       "      <td>35.793158</td>\n",
       "      <td>&lt;=50K</td>\n",
       "      <td>{'mean_oxygen':'138.7876254','std_oxygen':'79....</td>\n",
       "      <td>Philippines</td>\n",
       "      <td>40.0</td>\n",
       "      <td>0.0</td>\n",
       "      <td>Private</td>\n",
       "    </tr>\n",
       "    <tr>\n",
       "      <th>3</th>\n",
       "      <td>Ronnie Moore</td>\n",
       "      <td>0755 Soto Oval Apt. 443\\r\\nWest Markside, TX 3...</td>\n",
       "      <td>White</td>\n",
       "      <td>Never-married</td>\n",
       "      <td>Other-service</td>\n",
       "      <td>FALSE</td>\n",
       "      <td>10.0</td>\n",
       "      <td>Not-in-family</td>\n",
       "      <td>-0.112191</td>\n",
       "      <td>110.046875</td>\n",
       "      <td>0.0</td>\n",
       "      <td>0.441957</td>\n",
       "      <td>Some-college</td>\n",
       "      <td>137604.0</td>\n",
       "      <td>0.0</td>\n",
       "      <td>53.876575</td>\n",
       "      <td>&lt;=50K</td>\n",
       "      <td>{'mean_oxygen':'3.100334448','std_oxygen':'17....</td>\n",
       "      <td>United-States</td>\n",
       "      <td>40.0</td>\n",
       "      <td>0.0</td>\n",
       "      <td>Private</td>\n",
       "    </tr>\n",
       "    <tr>\n",
       "      <th>4</th>\n",
       "      <td>Victor Mcjunkin</td>\n",
       "      <td>95738 Keller Overpass\\r\\nKennedyland, MO 71071</td>\n",
       "      <td>White</td>\n",
       "      <td>NaN</td>\n",
       "      <td>Adm-clerical</td>\n",
       "      <td>f</td>\n",
       "      <td>10.0</td>\n",
       "      <td>Not-in-family</td>\n",
       "      <td>-0.309642</td>\n",
       "      <td>137.960938</td>\n",
       "      <td>0.0</td>\n",
       "      <td>-0.048518</td>\n",
       "      <td>Some-college</td>\n",
       "      <td>174592.0</td>\n",
       "      <td>0.0</td>\n",
       "      <td>51.885451</td>\n",
       "      <td>&lt;=50K</td>\n",
       "      <td>{'mean_oxygen':'4.203177258','std_oxygen':'23....</td>\n",
       "      <td>United-States</td>\n",
       "      <td>40.0</td>\n",
       "      <td>0.0</td>\n",
       "      <td>Private</td>\n",
       "    </tr>\n",
       "  </tbody>\n",
       "</table>\n",
       "</div>"
      ],
      "text/plain": [
       "               name                                            address  \\\n",
       "0       David Hayes  235 Jennifer Throughway Suite 569\\r\\nNew Antho...   \n",
       "1     Stanley Benny   08954 Johnson Course\\r\\nNew Lauraville, NV 22019   \n",
       "2  Domingo Labriola  36319 Wiley Drive Suite 094\\r\\nSouth Michael, ...   \n",
       "3      Ronnie Moore  0755 Soto Oval Apt. 443\\r\\nWest Markside, TX 3...   \n",
       "4   Victor Mcjunkin     95738 Keller Overpass\\r\\nKennedyland, MO 71071   \n",
       "\n",
       "                 race      marital-status       occupation pregnant  \\\n",
       "0               Black                  ??   Prof-specialty        f   \n",
       "1               White  Married-civ-spouse  Exec-managerial        f   \n",
       "2  Asian-Pac-Islander  Married-civ-spouse  Farming-fishing        f   \n",
       "3               White       Never-married    Other-service    FALSE   \n",
       "4               White                 NaN     Adm-clerical        f   \n",
       "\n",
       "   education-num   relationship  skewness_glucose  mean_glucose  capital-gain  \\\n",
       "0            5.0  Not-in-family         -0.197692    141.359375           0.0   \n",
       "1           13.0        Husband         16.019670     53.968750           0.0   \n",
       "2            3.0        Husband         21.803837   2257.812500           0.0   \n",
       "3           10.0  Not-in-family         -0.112191    110.046875           0.0   \n",
       "4           10.0  Not-in-family         -0.309642    137.960938           0.0   \n",
       "\n",
       "   kurtosis_glucose     education    fnlwgt  class  std_glucose income  \\\n",
       "0         -0.252430           9th  175431.0    0.0    49.842053  <=50K   \n",
       "1          3.149333     Bachelors   66473.0    1.0    31.900220   >50K   \n",
       "2          4.650770       5th-6th   93206.0    1.0    35.793158  <=50K   \n",
       "3          0.441957  Some-college  137604.0    0.0    53.876575  <=50K   \n",
       "4         -0.048518  Some-college  174592.0    0.0    51.885451  <=50K   \n",
       "\n",
       "                                        medical_info native-country  \\\n",
       "0  {'mean_oxygen':'4.04264214','std_oxygen':'19.4...  United-States   \n",
       "1  {'mean_oxygen':'9.294314381','std_oxygen':'35....  United-States   \n",
       "2  {'mean_oxygen':'138.7876254','std_oxygen':'79....    Philippines   \n",
       "3  {'mean_oxygen':'3.100334448','std_oxygen':'17....  United-States   \n",
       "4  {'mean_oxygen':'4.203177258','std_oxygen':'23....  United-States   \n",
       "\n",
       "   hours-per-week  capital-loss workclass  \n",
       "0            40.0           0.0   Private  \n",
       "1            40.0           0.0   Private  \n",
       "2            40.0           0.0   Private  \n",
       "3            40.0           0.0   Private  \n",
       "4            40.0           0.0   Private  "
      ]
     },
     "execution_count": 180,
     "metadata": {},
     "output_type": "execute_result"
    }
   ],
   "source": [
    "df_other.head() "
   ]
  },
  {
   "cell_type": "markdown",
   "metadata": {},
   "source": [
    "medical_info je komplexný objekt, ktorý môže byť rozdelený do viacerých stĺpcov."
   ]
  },
  {
   "cell_type": "code",
   "execution_count": 181,
   "metadata": {},
   "outputs": [
    {
     "data": {
      "text/plain": [
       "337"
      ]
     },
     "execution_count": 181,
     "metadata": {},
     "output_type": "execute_result"
    }
   ],
   "source": [
    "df_other.shape[0] - df_other.dropna().shape[0]"
   ]
  },
  {
   "cell_type": "markdown",
   "metadata": {},
   "source": [
    "Dataframe obsahuje 337 chýbajcich hodnôt."
   ]
  },
  {
   "cell_type": "code",
   "execution_count": 182,
   "metadata": {},
   "outputs": [],
   "source": [
    "def adjust_dataframe_columns(dataframe):\n",
    "    dataframe['marital-status'] = dataframe['marital-status'].replace('??', np.nan)\n",
    "    dataframe['occupation'] = dataframe['occupation'].replace('?', np.nan)\n",
    "    dataframe['pregnant'] = dataframe['pregnant'].replace(['f', 'F', 'FALSE'], 'False')\n",
    "    dataframe['pregnant'] = dataframe['pregnant'].replace(['t', 'T', 'TRUE'], 'True')\n",
    "    dataframe['relationship'] = dataframe['relationship'].replace('Not_in_family', 'Not-in-family')\n",
    "    dataframe['relationship'] = dataframe['relationship'].replace('Own_child', 'Own-child')\n",
    "    dataframe['relationship'] = dataframe['relationship'].replace('Other_relative', 'Other-relative')\n",
    "    dataframe['native-country'] = dataframe['native-country'].replace('?', np.nan)\n",
    "    dataframe['workclass'] = dataframe['workclass'].replace('?', np.nan)\n",
    "\n",
    "    return dataframe\n",
    "\n",
    "df_other = adjust_dataframe_columns(df_other)"
   ]
  },
  {
   "cell_type": "markdown",
   "metadata": {},
   "source": [
    "V prvej fáze sme zanalyzovali, v ktorých stĺpcoch sa nachádzajú aké unikátne hodnoty. Tie, ktoré nám nič nehovorili ako napríklad otázniky sme nahradili hodnotami np.nan aby sa nám jednoduchšie nahrádzali. V prípade, keď stĺpec obsahoval viacero hodnôt, ktoré hovorili to isté, len boli inak napísené, tak sme ich nahradili jednotným označním(napríklad 'f', 'F', 'False' majú teraz jednotné označenie 'False'). "
   ]
  },
  {
   "cell_type": "code",
   "execution_count": 183,
   "metadata": {},
   "outputs": [],
   "source": [
    "def separate_and_delete_medical_info(dataframe):\n",
    "    df2 = pd.DataFrame() \n",
    "    # Iterate through every row and take values from medical_info column\n",
    "    for _,column_data in dataframe['medical_info'].iteritems(): \n",
    "        if isinstance(column_data, str): # If value isn't nan\n",
    "            column_data = column_data[1:-1] # Delect curly brackets from start and end of string\n",
    "            column_data_split = column_data.split(',') # Split string by comma\n",
    "\n",
    "            row = {} \n",
    "            for name_value in column_data_split: # Iterate through split string\n",
    "                name_value_split = name_value.split(':') # Split into name of column and value of column\n",
    "                # Store value into dictionary with name of the column as a key\n",
    "                row[name_value_split[0][1:-1]] = [np.float(name_value_split[1][1:-1])] # Get rid of '' by [1:-1]\n",
    "\n",
    "            row_data_frame = pd.DataFrame(row) # Convert dictionary into DataFrame\n",
    "            df2 = df2.append(row_data_frame, ignore_index=True) # Append row_data_frame into df2\n",
    "        else: # Value is nan, append nan row into df2\n",
    "            df2 = df2.append(pd.Series(np.nan), ignore_index=True)\n",
    "            \n",
    "    df2 = df2.drop(columns=[0]) # Drop last column\n",
    "\n",
    "    # Add values from df2 to main df\n",
    "    for column_name in df2.columns:\n",
    "        dataframe[column_name] = df2[column_name]\n",
    "\n",
    "    del dataframe['medical_info'] # medical info is already divided into another columns, so we can erase it\n",
    "\n",
    "    return dataframe\n",
    "    \n",
    "df_other = separate_and_delete_medical_info(df_other)"
   ]
  },
  {
   "cell_type": "markdown",
   "metadata": {},
   "source": [
    "Pomocou funkcie separate_and_delete_medical_info sme rozdelili hodnoty v stĺpci medical_info do viacerých atribútov, pričom nám tento stĺpec už nebol potrebný, takže sme ho mohli vymazať."
   ]
  },
  {
   "cell_type": "code",
   "execution_count": 184,
   "metadata": {},
   "outputs": [],
   "source": [
    "# personal_train\n",
    "df_personal = pd.read_csv(\"./personal_train.csv\", index_col=0, sep=',') # First column was Unnamend\n",
    "for column_name in df_personal:\n",
    "    if df_personal[column_name].dtypes == 'object':\n",
    "        df_personal[column_name] = df_personal[column_name].str.strip()"
   ]
  },
  {
   "cell_type": "code",
   "execution_count": 185,
   "metadata": {},
   "outputs": [
    {
     "data": {
      "text/html": [
       "<div>\n",
       "<style scoped>\n",
       "    .dataframe tbody tr th:only-of-type {\n",
       "        vertical-align: middle;\n",
       "    }\n",
       "\n",
       "    .dataframe tbody tr th {\n",
       "        vertical-align: top;\n",
       "    }\n",
       "\n",
       "    .dataframe thead th {\n",
       "        text-align: right;\n",
       "    }\n",
       "</style>\n",
       "<table border=\"1\" class=\"dataframe\">\n",
       "  <thead>\n",
       "    <tr style=\"text-align: right;\">\n",
       "      <th></th>\n",
       "      <th>age</th>\n",
       "    </tr>\n",
       "  </thead>\n",
       "  <tbody>\n",
       "    <tr>\n",
       "      <th>count</th>\n",
       "      <td>3540.000000</td>\n",
       "    </tr>\n",
       "    <tr>\n",
       "      <th>mean</th>\n",
       "      <td>51.816949</td>\n",
       "    </tr>\n",
       "    <tr>\n",
       "      <th>std</th>\n",
       "      <td>11.914637</td>\n",
       "    </tr>\n",
       "    <tr>\n",
       "      <th>min</th>\n",
       "      <td>-1.000000</td>\n",
       "    </tr>\n",
       "    <tr>\n",
       "      <th>25%</th>\n",
       "      <td>44.000000</td>\n",
       "    </tr>\n",
       "    <tr>\n",
       "      <th>50%</th>\n",
       "      <td>52.000000</td>\n",
       "    </tr>\n",
       "    <tr>\n",
       "      <th>75%</th>\n",
       "      <td>60.000000</td>\n",
       "    </tr>\n",
       "    <tr>\n",
       "      <th>max</th>\n",
       "      <td>113.000000</td>\n",
       "    </tr>\n",
       "  </tbody>\n",
       "</table>\n",
       "</div>"
      ],
      "text/plain": [
       "               age\n",
       "count  3540.000000\n",
       "mean     51.816949\n",
       "std      11.914637\n",
       "min      -1.000000\n",
       "25%      44.000000\n",
       "50%      52.000000\n",
       "75%      60.000000\n",
       "max     113.000000"
      ]
     },
     "execution_count": 185,
     "metadata": {},
     "output_type": "execute_result"
    }
   ],
   "source": [
    "df_personal.describe()"
   ]
  },
  {
   "cell_type": "markdown",
   "metadata": {},
   "source": [
    "Najmenšie hodnota je -1, čo nebude dobré, pretože sa jedná o vek. Presnosť ostatných vecí nie je možné z tohto tak ľahko posúdiť."
   ]
  },
  {
   "cell_type": "code",
   "execution_count": 186,
   "metadata": {},
   "outputs": [
    {
     "name": "stdout",
     "output_type": "stream",
     "text": [
      "<class 'pandas.core.frame.DataFrame'>\n",
      "Int64Index: 3933 entries, 0 to 3932\n",
      "Data columns (total 5 columns):\n",
      " #   Column         Non-Null Count  Dtype  \n",
      "---  ------         --------------  -----  \n",
      " 0   name           3933 non-null   object \n",
      " 1   address        3933 non-null   object \n",
      " 2   age            3540 non-null   float64\n",
      " 3   sex            3933 non-null   object \n",
      " 4   date_of_birth  3933 non-null   object \n",
      "dtypes: float64(1), object(4)\n",
      "memory usage: 184.4+ KB\n"
     ]
    }
   ],
   "source": [
    "df_personal.info()"
   ]
  },
  {
   "cell_type": "markdown",
   "metadata": {},
   "source": [
    "Dataframe obsahuje 3933 záznamov, pričom každý jeden má 5 atribútov.\n",
    "\n",
    "age je jediný typu float, ostatné sú typu object.\n",
    "\n",
    "age má 393 buniek s chýbajúcou hodnotou.\n",
    "\n",
    "ostatné atribúty nemajú chýbajúce hodnoty."
   ]
  },
  {
   "cell_type": "code",
   "execution_count": 187,
   "metadata": {},
   "outputs": [
    {
     "data": {
      "text/html": [
       "<div>\n",
       "<style scoped>\n",
       "    .dataframe tbody tr th:only-of-type {\n",
       "        vertical-align: middle;\n",
       "    }\n",
       "\n",
       "    .dataframe tbody tr th {\n",
       "        vertical-align: top;\n",
       "    }\n",
       "\n",
       "    .dataframe thead th {\n",
       "        text-align: right;\n",
       "    }\n",
       "</style>\n",
       "<table border=\"1\" class=\"dataframe\">\n",
       "  <thead>\n",
       "    <tr style=\"text-align: right;\">\n",
       "      <th></th>\n",
       "      <th>name</th>\n",
       "      <th>address</th>\n",
       "      <th>age</th>\n",
       "      <th>sex</th>\n",
       "      <th>date_of_birth</th>\n",
       "    </tr>\n",
       "  </thead>\n",
       "  <tbody>\n",
       "    <tr>\n",
       "      <th>0</th>\n",
       "      <td>Roscoe Bohannon</td>\n",
       "      <td>7183 Osborne Ways Apt. 651\\r\\nEast Andrew, OH ...</td>\n",
       "      <td>63.0</td>\n",
       "      <td>Female</td>\n",
       "      <td>1956-10-02</td>\n",
       "    </tr>\n",
       "    <tr>\n",
       "      <th>1</th>\n",
       "      <td>Ernest Kline</td>\n",
       "      <td>391 Ball Road Suite 961\\r\\nFlowersborough, IN ...</td>\n",
       "      <td>58.0</td>\n",
       "      <td>Female</td>\n",
       "      <td>1961-05-14</td>\n",
       "    </tr>\n",
       "    <tr>\n",
       "      <th>2</th>\n",
       "      <td>Harold Hendriks</td>\n",
       "      <td>8702 Vincent Square\\r\\nNew Jerryfurt, CO 30614</td>\n",
       "      <td>47.0</td>\n",
       "      <td>Male</td>\n",
       "      <td>1972-06-19</td>\n",
       "    </tr>\n",
       "    <tr>\n",
       "      <th>3</th>\n",
       "      <td>Randy Baptiste</td>\n",
       "      <td>2751 Harris Crossroad\\r\\nWest Ashley, CA 30311</td>\n",
       "      <td>60.0</td>\n",
       "      <td>Female</td>\n",
       "      <td>1959-02-19</td>\n",
       "    </tr>\n",
       "    <tr>\n",
       "      <th>4</th>\n",
       "      <td>Anthony Colucci</td>\n",
       "      <td>904 Robert Cliffs Suite 186\\r\\nWest Kyle, CO 7...</td>\n",
       "      <td>31.0</td>\n",
       "      <td>Female</td>\n",
       "      <td>1988-08-04</td>\n",
       "    </tr>\n",
       "  </tbody>\n",
       "</table>\n",
       "</div>"
      ],
      "text/plain": [
       "              name                                            address   age  \\\n",
       "0  Roscoe Bohannon  7183 Osborne Ways Apt. 651\\r\\nEast Andrew, OH ...  63.0   \n",
       "1     Ernest Kline  391 Ball Road Suite 961\\r\\nFlowersborough, IN ...  58.0   \n",
       "2  Harold Hendriks     8702 Vincent Square\\r\\nNew Jerryfurt, CO 30614  47.0   \n",
       "3   Randy Baptiste     2751 Harris Crossroad\\r\\nWest Ashley, CA 30311  60.0   \n",
       "4  Anthony Colucci  904 Robert Cliffs Suite 186\\r\\nWest Kyle, CO 7...  31.0   \n",
       "\n",
       "      sex date_of_birth  \n",
       "0  Female    1956-10-02  \n",
       "1  Female    1961-05-14  \n",
       "2    Male    1972-06-19  \n",
       "3  Female    1959-02-19  \n",
       "4  Female    1988-08-04  "
      ]
     },
     "execution_count": 187,
     "metadata": {},
     "output_type": "execute_result"
    }
   ],
   "source": [
    "df_personal.head()"
   ]
  },
  {
   "cell_type": "markdown",
   "metadata": {},
   "source": [
    "Atribút address je možné rozdeliť do viacerých stĺpcov(street, city, zip_code)"
   ]
  },
  {
   "cell_type": "code",
   "execution_count": 188,
   "metadata": {},
   "outputs": [],
   "source": [
    "def separete_and_delete_address(dataframe):\n",
    "    df_addresses = dataframe['address'].replace('\\r', ',', regex=True)\n",
    "    df_addresses = df_addresses.replace('\\n', ' ', regex=True)\n",
    "    df_addresses = df_addresses.str.split(',')\n",
    "\n",
    "    cities = []\n",
    "    streets = []\n",
    "    zip_codes = []\n",
    "\n",
    "    for address in df_addresses:\n",
    "        if len(address) < 3: # these records have cities in address\n",
    "            streets.append(address[0])\n",
    "            cities.append(None)\n",
    "            zip_codes.append(address[1])\n",
    "        else: # these records don't have cities in address\n",
    "            streets.append(address[0])\n",
    "            cities.append(address[1])\n",
    "            zip_codes.append(address[2])\n",
    "    \n",
    "    dataframe['street'] = streets\n",
    "    dataframe['city'] = cities\n",
    "    dataframe['zip_code'] = zip_codes\n",
    "\n",
    "    dataframe = dataframe.drop('address', axis=1)\n",
    "\n",
    "    return dataframe\n",
    "\n",
    "df_personal = separete_and_delete_address(df_personal)"
   ]
  },
  {
   "cell_type": "markdown",
   "metadata": {},
   "source": [
    "Pomocou funkcie separate_and_delete_address sme rozdelili hodnoty v stĺpci address do viacerých atribútov, pričom nám tento stĺpec už nebol potrebný, takže sme ho mohli vymazať."
   ]
  },
  {
   "cell_type": "code",
   "execution_count": 189,
   "metadata": {},
   "outputs": [
    {
     "name": "stdout",
     "output_type": "stream",
     "text": [
      "<class 'pandas.core.frame.DataFrame'>\n",
      "Int64Index: 3933 entries, 0 to 3932\n",
      "Data columns (total 7 columns):\n",
      " #   Column         Non-Null Count  Dtype  \n",
      "---  ------         --------------  -----  \n",
      " 0   name           3933 non-null   object \n",
      " 1   age            3540 non-null   float64\n",
      " 2   sex            3933 non-null   object \n",
      " 3   date_of_birth  3933 non-null   object \n",
      " 4   street         3933 non-null   object \n",
      " 5   city           3657 non-null   object \n",
      " 6   zip_code       3933 non-null   object \n",
      "dtypes: float64(1), object(6)\n",
      "memory usage: 245.8+ KB\n"
     ]
    }
   ],
   "source": [
    "df_personal.info()"
   ]
  },
  {
   "cell_type": "markdown",
   "metadata": {},
   "source": [
    "276 buniek v stĺpci city má chýbajúcu hodnotu."
   ]
  },
  {
   "cell_type": "code",
   "execution_count": 190,
   "metadata": {},
   "outputs": [
    {
     "data": {
      "text/plain": [
       "643"
      ]
     },
     "execution_count": 190,
     "metadata": {},
     "output_type": "execute_result"
    }
   ],
   "source": [
    "df_personal.shape[0] - df_personal.dropna().shape[0] # there are 643 nan values"
   ]
  },
  {
   "cell_type": "markdown",
   "metadata": {},
   "source": [
    "Dataframe obsahuje 643 chýbajúcich hodnôt."
   ]
  },
  {
   "cell_type": "code",
   "execution_count": 191,
   "metadata": {},
   "outputs": [],
   "source": [
    "# df_joined = df_other.join(df_personal.set_index('name'), on='name', how='left') # join other train and personal train on name\n",
    "df_joined = df_other.merge(df_personal, on='name', how='left')"
   ]
  },
  {
   "cell_type": "code",
   "execution_count": 192,
   "metadata": {},
   "outputs": [],
   "source": [
    "del df_joined['address'] # we can also erase disgusting address column, because we have it in detail from personal train"
   ]
  },
  {
   "cell_type": "markdown",
   "metadata": {},
   "source": [
    "df_joined je nový dataframe, ktorý vznikol spojením dataframov other a personal."
   ]
  },
  {
   "cell_type": "code",
   "execution_count": 193,
   "metadata": {},
   "outputs": [
    {
     "name": "stdout",
     "output_type": "stream",
     "text": [
      "<class 'pandas.core.frame.DataFrame'>\n",
      "Int64Index: 3983 entries, 0 to 3982\n",
      "Data columns (total 30 columns):\n",
      " #   Column            Non-Null Count  Dtype  \n",
      "---  ------            --------------  -----  \n",
      " 0   name              3983 non-null   object \n",
      " 1   race              3971 non-null   object \n",
      " 2   marital-status    3570 non-null   object \n",
      " 3   occupation        3744 non-null   object \n",
      " 4   pregnant          3967 non-null   object \n",
      " 5   education-num     3971 non-null   float64\n",
      " 6   relationship      3972 non-null   object \n",
      " 7   skewness_glucose  3968 non-null   float64\n",
      " 8   mean_glucose      3974 non-null   float64\n",
      " 9   capital-gain      3964 non-null   float64\n",
      " 10  kurtosis_glucose  3970 non-null   float64\n",
      " 11  education         3969 non-null   object \n",
      " 12  fnlwgt            3965 non-null   float64\n",
      " 13  class             3972 non-null   float64\n",
      " 14  std_glucose       3966 non-null   float64\n",
      " 15  income            3971 non-null   object \n",
      " 16  native-country    3909 non-null   object \n",
      " 17  hours-per-week    3971 non-null   float64\n",
      " 18  capital-loss      3971 non-null   float64\n",
      " 19  workclass         3741 non-null   object \n",
      " 20  mean_oxygen       3967 non-null   float64\n",
      " 21  std_oxygen        3967 non-null   float64\n",
      " 22  kurtosis_oxygen   3967 non-null   float64\n",
      " 23  skewness_oxygen   3967 non-null   float64\n",
      " 24  age               3586 non-null   float64\n",
      " 25  sex               3983 non-null   object \n",
      " 26  date_of_birth     3983 non-null   object \n",
      " 27  street            3983 non-null   object \n",
      " 28  city              3704 non-null   object \n",
      " 29  zip_code          3983 non-null   object \n",
      "dtypes: float64(15), object(15)\n",
      "memory usage: 964.6+ KB\n"
     ]
    }
   ],
   "source": [
    "df_joined.info() # There are 31 atributes. 16 are objects and the other 15 are floats. There are 3983 records"
   ]
  },
  {
   "cell_type": "markdown",
   "metadata": {},
   "source": [
    "df_joined obsahuje 31 atribútov, pričom 16 z nich sú typu object a zvyšných 15 je typu float. Dataframe má 3983 záznamov."
   ]
  },
  {
   "cell_type": "code",
   "execution_count": 194,
   "metadata": {},
   "outputs": [
    {
     "data": {
      "text/html": [
       "<div>\n",
       "<style scoped>\n",
       "    .dataframe tbody tr th:only-of-type {\n",
       "        vertical-align: middle;\n",
       "    }\n",
       "\n",
       "    .dataframe tbody tr th {\n",
       "        vertical-align: top;\n",
       "    }\n",
       "\n",
       "    .dataframe thead th {\n",
       "        text-align: right;\n",
       "    }\n",
       "</style>\n",
       "<table border=\"1\" class=\"dataframe\">\n",
       "  <thead>\n",
       "    <tr style=\"text-align: right;\">\n",
       "      <th></th>\n",
       "      <th>education-num</th>\n",
       "      <th>skewness_glucose</th>\n",
       "      <th>mean_glucose</th>\n",
       "      <th>capital-gain</th>\n",
       "      <th>kurtosis_glucose</th>\n",
       "      <th>fnlwgt</th>\n",
       "      <th>class</th>\n",
       "      <th>std_glucose</th>\n",
       "      <th>hours-per-week</th>\n",
       "      <th>capital-loss</th>\n",
       "      <th>mean_oxygen</th>\n",
       "      <th>std_oxygen</th>\n",
       "      <th>kurtosis_oxygen</th>\n",
       "      <th>skewness_oxygen</th>\n",
       "      <th>age</th>\n",
       "    </tr>\n",
       "  </thead>\n",
       "  <tbody>\n",
       "    <tr>\n",
       "      <th>count</th>\n",
       "      <td>3971.000000</td>\n",
       "      <td>3968.000000</td>\n",
       "      <td>3974.000000</td>\n",
       "      <td>3964.000000</td>\n",
       "      <td>3970.000000</td>\n",
       "      <td>3.965000e+03</td>\n",
       "      <td>3972.000000</td>\n",
       "      <td>3966.000000</td>\n",
       "      <td>3971.000000</td>\n",
       "      <td>3971.000000</td>\n",
       "      <td>3967.000000</td>\n",
       "      <td>3967.000000</td>\n",
       "      <td>3967.000000</td>\n",
       "      <td>3967.000000</td>\n",
       "      <td>3586.000000</td>\n",
       "    </tr>\n",
       "    <tr>\n",
       "      <th>mean</th>\n",
       "      <td>10.065223</td>\n",
       "      <td>4.233223</td>\n",
       "      <td>69.173141</td>\n",
       "      <td>1228.128406</td>\n",
       "      <td>0.952248</td>\n",
       "      <td>1.911784e+05</td>\n",
       "      <td>0.256294</td>\n",
       "      <td>45.172793</td>\n",
       "      <td>40.505162</td>\n",
       "      <td>73.254092</td>\n",
       "      <td>18.537297</td>\n",
       "      <td>31.183114</td>\n",
       "      <td>7.405864</td>\n",
       "      <td>91.191022</td>\n",
       "      <td>51.828779</td>\n",
       "    </tr>\n",
       "    <tr>\n",
       "      <th>std</th>\n",
       "      <td>2.671998</td>\n",
       "      <td>9.715162</td>\n",
       "      <td>3348.917032</td>\n",
       "      <td>8623.958204</td>\n",
       "      <td>1.614087</td>\n",
       "      <td>1.072410e+05</td>\n",
       "      <td>0.436641</td>\n",
       "      <td>7.621144</td>\n",
       "      <td>12.279149</td>\n",
       "      <td>369.551911</td>\n",
       "      <td>34.828662</td>\n",
       "      <td>22.262766</td>\n",
       "      <td>4.814843</td>\n",
       "      <td>108.575211</td>\n",
       "      <td>11.927593</td>\n",
       "    </tr>\n",
       "    <tr>\n",
       "      <th>min</th>\n",
       "      <td>1.000000</td>\n",
       "      <td>-1.755332</td>\n",
       "      <td>-18973.437500</td>\n",
       "      <td>0.000000</td>\n",
       "      <td>-1.641515</td>\n",
       "      <td>1.882700e+04</td>\n",
       "      <td>0.000000</td>\n",
       "      <td>25.695250</td>\n",
       "      <td>1.000000</td>\n",
       "      <td>0.000000</td>\n",
       "      <td>0.213211</td>\n",
       "      <td>7.370432</td>\n",
       "      <td>-2.597872</td>\n",
       "      <td>-1.976976</td>\n",
       "      <td>-1.000000</td>\n",
       "    </tr>\n",
       "    <tr>\n",
       "      <th>25%</th>\n",
       "      <td>9.000000</td>\n",
       "      <td>-0.120081</td>\n",
       "      <td>83.955078</td>\n",
       "      <td>0.000000</td>\n",
       "      <td>0.070311</td>\n",
       "      <td>1.179830e+05</td>\n",
       "      <td>0.000000</td>\n",
       "      <td>40.151488</td>\n",
       "      <td>40.000000</td>\n",
       "      <td>0.000000</td>\n",
       "      <td>2.065635</td>\n",
       "      <td>15.062338</td>\n",
       "      <td>3.628014</td>\n",
       "      <td>12.743507</td>\n",
       "      <td>44.000000</td>\n",
       "    </tr>\n",
       "    <tr>\n",
       "      <th>50%</th>\n",
       "      <td>10.000000</td>\n",
       "      <td>0.376026</td>\n",
       "      <td>110.613281</td>\n",
       "      <td>0.000000</td>\n",
       "      <td>0.311092</td>\n",
       "      <td>1.795090e+05</td>\n",
       "      <td>0.000000</td>\n",
       "      <td>45.878359</td>\n",
       "      <td>40.000000</td>\n",
       "      <td>0.000000</td>\n",
       "      <td>3.237458</td>\n",
       "      <td>20.594663</td>\n",
       "      <td>7.779635</td>\n",
       "      <td>68.358187</td>\n",
       "      <td>52.000000</td>\n",
       "    </tr>\n",
       "    <tr>\n",
       "      <th>75%</th>\n",
       "      <td>13.000000</td>\n",
       "      <td>2.090854</td>\n",
       "      <td>125.382812</td>\n",
       "      <td>0.000000</td>\n",
       "      <td>0.776492</td>\n",
       "      <td>2.415230e+05</td>\n",
       "      <td>1.000000</td>\n",
       "      <td>50.350939</td>\n",
       "      <td>45.000000</td>\n",
       "      <td>0.000000</td>\n",
       "      <td>12.679766</td>\n",
       "      <td>43.333643</td>\n",
       "      <td>10.260328</td>\n",
       "      <td>126.817691</td>\n",
       "      <td>60.000000</td>\n",
       "    </tr>\n",
       "    <tr>\n",
       "      <th>max</th>\n",
       "      <td>16.000000</td>\n",
       "      <td>68.101622</td>\n",
       "      <td>15887.500000</td>\n",
       "      <td>99999.000000</td>\n",
       "      <td>8.069522</td>\n",
       "      <td>1.366120e+06</td>\n",
       "      <td>1.000000</td>\n",
       "      <td>91.206475</td>\n",
       "      <td>99.000000</td>\n",
       "      <td>2824.000000</td>\n",
       "      <td>217.371238</td>\n",
       "      <td>110.642211</td>\n",
       "      <td>34.539844</td>\n",
       "      <td>1191.000837</td>\n",
       "      <td>113.000000</td>\n",
       "    </tr>\n",
       "  </tbody>\n",
       "</table>\n",
       "</div>"
      ],
      "text/plain": [
       "       education-num  skewness_glucose  mean_glucose  capital-gain  \\\n",
       "count    3971.000000       3968.000000   3974.000000   3964.000000   \n",
       "mean       10.065223          4.233223     69.173141   1228.128406   \n",
       "std         2.671998          9.715162   3348.917032   8623.958204   \n",
       "min         1.000000         -1.755332 -18973.437500      0.000000   \n",
       "25%         9.000000         -0.120081     83.955078      0.000000   \n",
       "50%        10.000000          0.376026    110.613281      0.000000   \n",
       "75%        13.000000          2.090854    125.382812      0.000000   \n",
       "max        16.000000         68.101622  15887.500000  99999.000000   \n",
       "\n",
       "       kurtosis_glucose        fnlwgt        class  std_glucose  \\\n",
       "count       3970.000000  3.965000e+03  3972.000000  3966.000000   \n",
       "mean           0.952248  1.911784e+05     0.256294    45.172793   \n",
       "std            1.614087  1.072410e+05     0.436641     7.621144   \n",
       "min           -1.641515  1.882700e+04     0.000000    25.695250   \n",
       "25%            0.070311  1.179830e+05     0.000000    40.151488   \n",
       "50%            0.311092  1.795090e+05     0.000000    45.878359   \n",
       "75%            0.776492  2.415230e+05     1.000000    50.350939   \n",
       "max            8.069522  1.366120e+06     1.000000    91.206475   \n",
       "\n",
       "       hours-per-week  capital-loss  mean_oxygen   std_oxygen  \\\n",
       "count     3971.000000   3971.000000  3967.000000  3967.000000   \n",
       "mean        40.505162     73.254092    18.537297    31.183114   \n",
       "std         12.279149    369.551911    34.828662    22.262766   \n",
       "min          1.000000      0.000000     0.213211     7.370432   \n",
       "25%         40.000000      0.000000     2.065635    15.062338   \n",
       "50%         40.000000      0.000000     3.237458    20.594663   \n",
       "75%         45.000000      0.000000    12.679766    43.333643   \n",
       "max         99.000000   2824.000000   217.371238   110.642211   \n",
       "\n",
       "       kurtosis_oxygen  skewness_oxygen          age  \n",
       "count      3967.000000      3967.000000  3586.000000  \n",
       "mean          7.405864        91.191022    51.828779  \n",
       "std           4.814843       108.575211    11.927593  \n",
       "min          -2.597872        -1.976976    -1.000000  \n",
       "25%           3.628014        12.743507    44.000000  \n",
       "50%           7.779635        68.358187    52.000000  \n",
       "75%          10.260328       126.817691    60.000000  \n",
       "max          34.539844      1191.000837   113.000000  "
      ]
     },
     "execution_count": 194,
     "metadata": {},
     "output_type": "execute_result"
    }
   ],
   "source": [
    "df_joined.describe()"
   ]
  },
  {
   "cell_type": "markdown",
   "metadata": {},
   "source": [
    "Moc veľa sa z týchto štatistických dáta nedá vyčítať, pretože majú veľa vychýlených hodnôt."
   ]
  },
  {
   "cell_type": "code",
   "execution_count": 195,
   "metadata": {},
   "outputs": [
    {
     "data": {
      "text/plain": [
       "1258"
      ]
     },
     "execution_count": 195,
     "metadata": {},
     "output_type": "execute_result"
    }
   ],
   "source": [
    "df_joined.shape[0] - df_joined.dropna().shape[0]"
   ]
  },
  {
   "cell_type": "markdown",
   "metadata": {},
   "source": [
    "Dataframe df_joined obsahuje 1258 chýbajúcich hodnôt."
   ]
  },
  {
   "cell_type": "code",
   "execution_count": 196,
   "metadata": {},
   "outputs": [
    {
     "name": "stdout",
     "output_type": "stream",
     "text": [
      "<class 'pandas.core.frame.DataFrame'>\n",
      "Int64Index: 3983 entries, 0 to 3982\n",
      "Data columns (total 30 columns):\n",
      " #   Column            Non-Null Count  Dtype  \n",
      "---  ------            --------------  -----  \n",
      " 0   name              3983 non-null   object \n",
      " 1   race              3971 non-null   object \n",
      " 2   marital-status    3570 non-null   object \n",
      " 3   occupation        3744 non-null   object \n",
      " 4   pregnant          3967 non-null   object \n",
      " 5   education-num     3971 non-null   float64\n",
      " 6   relationship      3972 non-null   object \n",
      " 7   skewness_glucose  3968 non-null   float64\n",
      " 8   mean_glucose      3974 non-null   float64\n",
      " 9   capital-gain      3964 non-null   float64\n",
      " 10  kurtosis_glucose  3970 non-null   float64\n",
      " 11  education         3969 non-null   object \n",
      " 12  fnlwgt            3965 non-null   float64\n",
      " 13  class             3972 non-null   float64\n",
      " 14  std_glucose       3966 non-null   float64\n",
      " 15  income            3971 non-null   object \n",
      " 16  native-country    3909 non-null   object \n",
      " 17  hours-per-week    3971 non-null   float64\n",
      " 18  capital-loss      3971 non-null   float64\n",
      " 19  workclass         3741 non-null   object \n",
      " 20  mean_oxygen       3967 non-null   float64\n",
      " 21  std_oxygen        3967 non-null   float64\n",
      " 22  kurtosis_oxygen   3967 non-null   float64\n",
      " 23  skewness_oxygen   3967 non-null   float64\n",
      " 24  age               3586 non-null   float64\n",
      " 25  sex               3983 non-null   object \n",
      " 26  date_of_birth     3983 non-null   object \n",
      " 27  street            3983 non-null   object \n",
      " 28  city              3704 non-null   object \n",
      " 29  zip_code          3983 non-null   object \n",
      "dtypes: float64(15), object(15)\n",
      "memory usage: 964.6+ KB\n"
     ]
    }
   ],
   "source": [
    "df_joined.info()"
   ]
  },
  {
   "cell_type": "code",
   "execution_count": 197,
   "metadata": {},
   "outputs": [],
   "source": [
    "# profile = ProfileReport(df_joined, title=\"Pandas Profiling Report\")\n",
    "# profile"
   ]
  },
  {
   "cell_type": "markdown",
   "metadata": {},
   "source": [
    "Na základe tohto výpisu sme zistili, že dataset obsahuje záznamy s rovnakými menami, pričom jeden záznam obsahoval hodnotu atribútu a druhý obsahoval NaN. Hodnoty NaN sme nahradili a vymazali sme duplikáty."
   ]
  },
  {
   "cell_type": "code",
   "execution_count": 198,
   "metadata": {},
   "outputs": [
    {
     "name": "stdout",
     "output_type": "stream",
     "text": [
      "<class 'pandas.core.frame.DataFrame'>\n",
      "Int64Index: 3933 entries, 0 to 3982\n",
      "Data columns (total 30 columns):\n",
      " #   Column            Non-Null Count  Dtype  \n",
      "---  ------            --------------  -----  \n",
      " 0   name              3933 non-null   object \n",
      " 1   race              3933 non-null   object \n",
      " 2   marital-status    3540 non-null   object \n",
      " 3   occupation        3710 non-null   object \n",
      " 4   pregnant          3933 non-null   object \n",
      " 5   education-num     3932 non-null   float64\n",
      " 6   relationship      3933 non-null   object \n",
      " 7   skewness_glucose  3932 non-null   float64\n",
      " 8   mean_glucose      3933 non-null   float64\n",
      " 9   capital-gain      3931 non-null   float64\n",
      " 10  kurtosis_glucose  3933 non-null   float64\n",
      " 11  education         3933 non-null   object \n",
      " 12  fnlwgt            3931 non-null   float64\n",
      " 13  class             3933 non-null   float64\n",
      " 14  std_glucose       3931 non-null   float64\n",
      " 15  income            3933 non-null   object \n",
      " 16  native-country    3874 non-null   object \n",
      " 17  hours-per-week    3932 non-null   float64\n",
      " 18  capital-loss      3932 non-null   float64\n",
      " 19  workclass         3709 non-null   object \n",
      " 20  mean_oxygen       3932 non-null   float64\n",
      " 21  std_oxygen        3932 non-null   float64\n",
      " 22  kurtosis_oxygen   3932 non-null   float64\n",
      " 23  skewness_oxygen   3932 non-null   float64\n",
      " 24  age               3540 non-null   float64\n",
      " 25  sex               3933 non-null   object \n",
      " 26  date_of_birth     3933 non-null   object \n",
      " 27  street            3933 non-null   object \n",
      " 28  city              3657 non-null   object \n",
      " 29  zip_code          3933 non-null   object \n",
      "dtypes: float64(15), object(15)\n",
      "memory usage: 952.5+ KB\n"
     ]
    }
   ],
   "source": [
    "df1 = df_joined[df_joined.duplicated('name', keep=False)].sort_values('name')\n",
    "\n",
    "for i in range(0,len(df1.index),2):\n",
    "    for (column_name1, column_data1), (_, column_data2) in zip(df1.iloc[i].iteritems(), df1.iloc[i + 1].iteritems()):\n",
    "        if pd.isnull(column_data1):\n",
    "            df_joined.loc[df1.iloc[i]['name'] == df_joined['name'], column_name1] = column_data2\n",
    "        else:\n",
    "            df_joined.loc[df1.iloc[i]['name'] == df_joined['name'], column_name1] = column_data1\n",
    "            \n",
    "df_joined = df_joined.drop_duplicates()\n",
    "df_joined.info()"
   ]
  },
  {
   "cell_type": "code",
   "execution_count": 199,
   "metadata": {},
   "outputs": [
    {
     "data": {
      "text/plain": [
       "643"
      ]
     },
     "execution_count": 199,
     "metadata": {},
     "output_type": "execute_result"
    }
   ],
   "source": [
    "df_personal.shape[0] - df_personal.dropna().shape[0] "
   ]
  },
  {
   "cell_type": "markdown",
   "metadata": {},
   "source": [
    "Dataset obsahoval 1243 chýbajúcich hodnôt a po odstranení duplikátov obsahuje iba 643."
   ]
  },
  {
   "cell_type": "markdown",
   "metadata": {},
   "source": [
    "# Riešenie chýbajúcich hodnôt podľa stratégie priemeru"
   ]
  },
  {
   "cell_type": "code",
   "execution_count": 200,
   "metadata": {},
   "outputs": [
    {
     "name": "stdout",
     "output_type": "stream",
     "text": [
      "<class 'pandas.core.frame.DataFrame'>\n",
      "Int64Index: 3933 entries, 0 to 3982\n",
      "Data columns (total 30 columns):\n",
      " #   Column            Non-Null Count  Dtype  \n",
      "---  ------            --------------  -----  \n",
      " 0   name              3933 non-null   object \n",
      " 1   race              3933 non-null   object \n",
      " 2   marital-status    3540 non-null   object \n",
      " 3   occupation        3710 non-null   object \n",
      " 4   pregnant          3933 non-null   object \n",
      " 5   education-num     3932 non-null   float64\n",
      " 6   relationship      3933 non-null   object \n",
      " 7   skewness_glucose  3932 non-null   float64\n",
      " 8   mean_glucose      3933 non-null   float64\n",
      " 9   capital-gain      3931 non-null   float64\n",
      " 10  kurtosis_glucose  3933 non-null   float64\n",
      " 11  education         3933 non-null   object \n",
      " 12  fnlwgt            3931 non-null   float64\n",
      " 13  class             3933 non-null   float64\n",
      " 14  std_glucose       3931 non-null   float64\n",
      " 15  income            3933 non-null   object \n",
      " 16  native-country    3874 non-null   object \n",
      " 17  hours-per-week    3932 non-null   float64\n",
      " 18  capital-loss      3932 non-null   float64\n",
      " 19  workclass         3709 non-null   object \n",
      " 20  mean_oxygen       3932 non-null   float64\n",
      " 21  std_oxygen        3932 non-null   float64\n",
      " 22  kurtosis_oxygen   3932 non-null   float64\n",
      " 23  skewness_oxygen   3932 non-null   float64\n",
      " 24  age               3540 non-null   float64\n",
      " 25  sex               3933 non-null   object \n",
      " 26  date_of_birth     3933 non-null   object \n",
      " 27  street            3933 non-null   object \n",
      " 28  city              3657 non-null   object \n",
      " 29  zip_code          3933 non-null   object \n",
      "dtypes: float64(15), object(15)\n",
      "memory usage: 952.5+ KB\n"
     ]
    }
   ],
   "source": [
    "from sklearn.impute import SimpleImputer\n",
    "\n",
    "copy_joined = df_joined.copy()\n",
    "nan_map = copy_joined.isnull().any(axis=1)\n",
    "copy_joined[nan_map]\n",
    "\n",
    "imp = SimpleImputer(missing_values=np.nan, strategy='mean')\n",
    "copy_joined['age'] = imp.fit_transform(copy_joined[['age']])\n",
    "copy_joined[nan_map]\n",
    "\n",
    "df_joined.info()"
   ]
  },
  {
   "cell_type": "code",
   "execution_count": 201,
   "metadata": {},
   "outputs": [
    {
     "data": {
      "text/plain": [
       "<seaborn.axisgrid.FacetGrid at 0x1cacd1232b0>"
      ]
     },
     "execution_count": 201,
     "metadata": {},
     "output_type": "execute_result"
    },
    {
     "data": {
      "image/png": "[encoded data removed]",
      "text/plain": [
       "<Figure size 360x360 with 1 Axes>"
      ]
     },
     "metadata": {
      "needs_background": "light"
     },
     "output_type": "display_data"
    }
   ],
   "source": [
    "sns.displot(df_joined['age'], kde=True, bins=30) # Distribution of age values, Positive kurtosis and normal skewness"
   ]
  },
  {
   "cell_type": "code",
   "execution_count": 202,
   "metadata": {},
   "outputs": [
    {
     "data": {
      "text/plain": [
       "<seaborn.axisgrid.FacetGrid at 0x1cad22d85e0>"
      ]
     },
     "execution_count": 202,
     "metadata": {},
     "output_type": "execute_result"
    },
    {
     "data": {
      "image/png": "[encoded data removed]",
      "text/plain": [
       "<Figure size 360x360 with 1 Axes>"
      ]
     },
     "metadata": {
      "needs_background": "light"
     },
     "output_type": "display_data"
    }
   ],
   "source": [
    "sns.displot(copy_joined['age'], kde=True, bins=30)"
   ]
  },
  {
   "cell_type": "markdown",
   "metadata": {},
   "source": [
    "Po chýbajúce hodnoty pre atribút age sme nahradili priemerom celkového atribútu. Výsledkom je, že jeho rozdelenie je o dosť viac špicaté, takže sa ešte menej podobá na normálové rozdelenie ako pred doplnením chýbajúcich hodnôt."
   ]
  },
  {
   "cell_type": "code",
   "execution_count": 203,
   "metadata": {},
   "outputs": [
    {
     "data": {
      "text/plain": [
       "<seaborn.axisgrid.FacetGrid at 0x1cad22d88e0>"
      ]
     },
     "execution_count": 203,
     "metadata": {},
     "output_type": "execute_result"
    },
    {
     "data": {
      "image/png": "[encoded data removed]",
      "text/plain": [
       "<Figure size 360x360 with 1 Axes>"
      ]
     },
     "metadata": {
      "needs_background": "light"
     },
     "output_type": "display_data"
    }
   ],
   "source": [
    "sns.displot(df_joined['education-num'], kde=True, bins=30)"
   ]
  },
  {
   "cell_type": "code",
   "execution_count": 204,
   "metadata": {},
   "outputs": [
    {
     "data": {
      "text/plain": [
       "<seaborn.axisgrid.FacetGrid at 0x1cad2321be0>"
      ]
     },
     "execution_count": 204,
     "metadata": {},
     "output_type": "execute_result"
    },
    {
     "data": {
      "image/png": "[encoded data removed]",
      "text/plain": [
       "<Figure size 360x360 with 1 Axes>"
      ]
     },
     "metadata": {
      "needs_background": "light"
     },
     "output_type": "display_data"
    }
   ],
   "source": [
    "copy_joined['education-num'] = imp.fit_transform(copy_joined[['education-num']])\n",
    "copy_joined[nan_map]\n",
    "sns.displot(copy_joined['education-num'], kde=True, bins=30)"
   ]
  },
  {
   "cell_type": "markdown",
   "metadata": {},
   "source": [
    "Pre atribút education-num bola iba jedna vychýlená hodnota, a preto po jej doplnení to nijako neovplyvnilo rozdelenie distribúcie. Vyzerá to tak, že tomuto atribútu viacej pomôže nahradenie outlierov."
   ]
  },
  {
   "cell_type": "code",
   "execution_count": 205,
   "metadata": {},
   "outputs": [
    {
     "data": {
      "text/plain": [
       "<seaborn.axisgrid.FacetGrid at 0x1cad241ae20>"
      ]
     },
     "execution_count": 205,
     "metadata": {},
     "output_type": "execute_result"
    },
    {
     "data": {
      "image/png": "[encoded data removed]",
      "text/plain": [
       "<Figure size 360x360 with 1 Axes>"
      ]
     },
     "metadata": {
      "needs_background": "light"
     },
     "output_type": "display_data"
    }
   ],
   "source": [
    "sns.displot(df_joined['skewness_glucose'], kde=True, bins=30)"
   ]
  },
  {
   "cell_type": "code",
   "execution_count": 206,
   "metadata": {},
   "outputs": [
    {
     "data": {
      "text/plain": [
       "<seaborn.axisgrid.FacetGrid at 0x1cad237bb20>"
      ]
     },
     "execution_count": 206,
     "metadata": {},
     "output_type": "execute_result"
    },
    {
     "data": {
      "image/png": "[encoded data removed]",
      "text/plain": [
       "<Figure size 360x360 with 1 Axes>"
      ]
     },
     "metadata": {
      "needs_background": "light"
     },
     "output_type": "display_data"
    }
   ],
   "source": [
    "copy_joined['skewness_glucose'] = imp.fit_transform(copy_joined[['skewness_glucose']])\n",
    "copy_joined[nan_map]\n",
    "sns.displot(copy_joined['skewness_glucose'], kde=True, bins=30)"
   ]
  },
  {
   "cell_type": "markdown",
   "metadata": {},
   "source": [
    "Atribút skewness_glucose opäť obsahoval iba jednu, chýbajúcu hodnotu, ktorú keď sme doplnili, tak to distribúciu neupravilo. Avšak niektoré namerané hodnoty sú celkom extrémne oproti priemerným a preto nahradenie vychýlených hodnôt ju môže zlepšiť."
   ]
  },
  {
   "cell_type": "code",
   "execution_count": 207,
   "metadata": {},
   "outputs": [
    {
     "data": {
      "text/plain": [
       "<seaborn.axisgrid.FacetGrid at 0x1cad24c8e20>"
      ]
     },
     "execution_count": 207,
     "metadata": {},
     "output_type": "execute_result"
    },
    {
     "data": {
      "image/png": "[encoded data removed]",
      "text/plain": [
       "<Figure size 360x360 with 1 Axes>"
      ]
     },
     "metadata": {
      "needs_background": "light"
     },
     "output_type": "display_data"
    }
   ],
   "source": [
    "sns.displot(df_joined['capital-gain'], kde=True, bins=30)"
   ]
  },
  {
   "cell_type": "code",
   "execution_count": 208,
   "metadata": {},
   "outputs": [
    {
     "data": {
      "text/plain": [
       "<seaborn.axisgrid.FacetGrid at 0x1cad26563d0>"
      ]
     },
     "execution_count": 208,
     "metadata": {},
     "output_type": "execute_result"
    },
    {
     "data": {
      "image/png": "[encoded data removed]",
      "text/plain": [
       "<Figure size 360x360 with 1 Axes>"
      ]
     },
     "metadata": {
      "needs_background": "light"
     },
     "output_type": "display_data"
    }
   ],
   "source": [
    "copy_joined['capital-gain'] = imp.fit_transform(copy_joined[['capital-gain']])\n",
    "copy_joined[nan_map]\n",
    "sns.displot(copy_joined['capital-gain'], kde=True, bins=30)"
   ]
  },
  {
   "cell_type": "code",
   "execution_count": 209,
   "metadata": {},
   "outputs": [
    {
     "data": {
      "text/plain": [
       "<seaborn.axisgrid.FacetGrid at 0x1cad2646130>"
      ]
     },
     "execution_count": 209,
     "metadata": {},
     "output_type": "execute_result"
    },
    {
     "data": {
      "image/png": "[encoded data removed]",
      "text/plain": [
       "<Figure size 360x360 with 1 Axes>"
      ]
     },
     "metadata": {
      "needs_background": "light"
     },
     "output_type": "display_data"
    }
   ],
   "source": [
    "sns.displot(df_joined['fnlwgt'], kde=True, bins=30)"
   ]
  },
  {
   "cell_type": "code",
   "execution_count": 210,
   "metadata": {},
   "outputs": [
    {
     "data": {
      "text/plain": [
       "<seaborn.axisgrid.FacetGrid at 0x1cad262a8e0>"
      ]
     },
     "execution_count": 210,
     "metadata": {},
     "output_type": "execute_result"
    },
    {
     "data": {
      "image/png": "[encoded data removed]",
      "text/plain": [
       "<Figure size 360x360 with 1 Axes>"
      ]
     },
     "metadata": {
      "needs_background": "light"
     },
     "output_type": "display_data"
    }
   ],
   "source": [
    "copy_joined['fnlwgt'] = imp.fit_transform(copy_joined[['fnlwgt']])\n",
    "copy_joined[nan_map]\n",
    "sns.displot(copy_joined['fnlwgt'], kde=True, bins=30)"
   ]
  },
  {
   "cell_type": "code",
   "execution_count": 211,
   "metadata": {},
   "outputs": [
    {
     "data": {
      "text/plain": [
       "<seaborn.axisgrid.FacetGrid at 0x1cad3804e80>"
      ]
     },
     "execution_count": 211,
     "metadata": {},
     "output_type": "execute_result"
    },
    {
     "data": {
      "image/png": "[encoded data removed]",
      "text/plain": [
       "<Figure size 360x360 with 1 Axes>"
      ]
     },
     "metadata": {
      "needs_background": "light"
     },
     "output_type": "display_data"
    }
   ],
   "source": [
    "sns.displot(df_joined['std_glucose'], kde=True, bins=30)"
   ]
  },
  {
   "cell_type": "code",
   "execution_count": 212,
   "metadata": {},
   "outputs": [
    {
     "data": {
      "text/plain": [
       "<seaborn.axisgrid.FacetGrid at 0x1cad258a4c0>"
      ]
     },
     "execution_count": 212,
     "metadata": {},
     "output_type": "execute_result"
    },
    {
     "data": {
      "image/png": "[encoded data removed]",
      "text/plain": [
       "<Figure size 360x360 with 1 Axes>"
      ]
     },
     "metadata": {
      "needs_background": "light"
     },
     "output_type": "display_data"
    }
   ],
   "source": [
    "copy_joined['std_glucose'] = imp.fit_transform(copy_joined[['std_glucose']])\n",
    "copy_joined[nan_map]\n",
    "sns.displot(copy_joined['std_glucose'], kde=True, bins=30)"
   ]
  },
  {
   "cell_type": "code",
   "execution_count": 213,
   "metadata": {},
   "outputs": [
    {
     "data": {
      "text/plain": [
       "<seaborn.axisgrid.FacetGrid at 0x1cad38633d0>"
      ]
     },
     "execution_count": 213,
     "metadata": {},
     "output_type": "execute_result"
    },
    {
     "data": {
      "image/png": "[encoded data removed]",
      "text/plain": [
       "<Figure size 360x360 with 1 Axes>"
      ]
     },
     "metadata": {
      "needs_background": "light"
     },
     "output_type": "display_data"
    }
   ],
   "source": [
    "sns.displot(df_joined['hours-per-week'], kde=True, bins=30)"
   ]
  },
  {
   "cell_type": "code",
   "execution_count": 214,
   "metadata": {},
   "outputs": [
    {
     "data": {
      "text/plain": [
       "<seaborn.axisgrid.FacetGrid at 0x1cad3904be0>"
      ]
     },
     "execution_count": 214,
     "metadata": {},
     "output_type": "execute_result"
    },
    {
     "data": {
      "image/png": "[encoded data removed]",
      "text/plain": [
       "<Figure size 360x360 with 1 Axes>"
      ]
     },
     "metadata": {
      "needs_background": "light"
     },
     "output_type": "display_data"
    }
   ],
   "source": [
    "copy_joined['hours-per-week'] = imp.fit_transform(copy_joined[['hours-per-week']])\n",
    "copy_joined[nan_map]\n",
    "sns.displot(copy_joined['hours-per-week'], kde=True, bins=30)"
   ]
  },
  {
   "cell_type": "code",
   "execution_count": 215,
   "metadata": {},
   "outputs": [
    {
     "data": {
      "text/plain": [
       "<seaborn.axisgrid.FacetGrid at 0x1cad3ab3d90>"
      ]
     },
     "execution_count": 215,
     "metadata": {},
     "output_type": "execute_result"
    },
    {
     "data": {
      "image/png": "[encoded data removed]",
      "text/plain": [
       "<Figure size 360x360 with 1 Axes>"
      ]
     },
     "metadata": {
      "needs_background": "light"
     },
     "output_type": "display_data"
    }
   ],
   "source": [
    "sns.displot(df_joined['capital-loss'], kde=True, bins=30)"
   ]
  },
  {
   "cell_type": "code",
   "execution_count": 216,
   "metadata": {},
   "outputs": [
    {
     "data": {
      "text/plain": [
       "<seaborn.axisgrid.FacetGrid at 0x1cad38fd460>"
      ]
     },
     "execution_count": 216,
     "metadata": {},
     "output_type": "execute_result"
    },
    {
     "data": {
      "image/png": "[encoded data removed]",
      "text/plain": [
       "<Figure size 360x360 with 1 Axes>"
      ]
     },
     "metadata": {
      "needs_background": "light"
     },
     "output_type": "display_data"
    }
   ],
   "source": [
    "copy_joined['capital-loss'] = imp.fit_transform(copy_joined[['capital-loss']])\n",
    "copy_joined[nan_map]\n",
    "sns.displot(copy_joined['capital-loss'], kde=True, bins=30)"
   ]
  },
  {
   "cell_type": "code",
   "execution_count": 217,
   "metadata": {},
   "outputs": [
    {
     "data": {
      "text/plain": [
       "<seaborn.axisgrid.FacetGrid at 0x1cad3b9ccd0>"
      ]
     },
     "execution_count": 217,
     "metadata": {},
     "output_type": "execute_result"
    },
    {
     "data": {
      "image/png": "[encoded data removed]",
      "text/plain": [
       "<Figure size 360x360 with 1 Axes>"
      ]
     },
     "metadata": {
      "needs_background": "light"
     },
     "output_type": "display_data"
    }
   ],
   "source": [
    "sns.displot(df_joined['mean_oxygen'], kde=True, bins=30)"
   ]
  },
  {
   "cell_type": "code",
   "execution_count": 218,
   "metadata": {},
   "outputs": [
    {
     "data": {
      "text/plain": [
       "<seaborn.axisgrid.FacetGrid at 0x1cad3c37be0>"
      ]
     },
     "execution_count": 218,
     "metadata": {},
     "output_type": "execute_result"
    },
    {
     "data": {
      "image/png": "[encoded data removed]",
      "text/plain": [
       "<Figure size 360x360 with 1 Axes>"
      ]
     },
     "metadata": {
      "needs_background": "light"
     },
     "output_type": "display_data"
    }
   ],
   "source": [
    "copy_joined['mean_oxygen'] = imp.fit_transform(copy_joined[['mean_oxygen']])\n",
    "copy_joined[nan_map]\n",
    "sns.displot(copy_joined['mean_oxygen'], kde=True, bins=30)"
   ]
  },
  {
   "cell_type": "code",
   "execution_count": 219,
   "metadata": {},
   "outputs": [
    {
     "data": {
      "text/plain": [
       "<seaborn.axisgrid.FacetGrid at 0x1cad3d03a60>"
      ]
     },
     "execution_count": 219,
     "metadata": {},
     "output_type": "execute_result"
    },
    {
     "data": {
      "image/png": "[encoded data removed]",
      "text/plain": [
       "<Figure size 360x360 with 1 Axes>"
      ]
     },
     "metadata": {
      "needs_background": "light"
     },
     "output_type": "display_data"
    }
   ],
   "source": [
    "sns.displot(df_joined['std_oxygen'], kde=True, bins=30)"
   ]
  },
  {
   "cell_type": "code",
   "execution_count": 220,
   "metadata": {},
   "outputs": [
    {
     "data": {
      "text/plain": [
       "<seaborn.axisgrid.FacetGrid at 0x1cad0981ee0>"
      ]
     },
     "execution_count": 220,
     "metadata": {},
     "output_type": "execute_result"
    },
    {
     "data": {
      "image/png": "[encoded data removed]",
      "text/plain": [
       "<Figure size 360x360 with 1 Axes>"
      ]
     },
     "metadata": {
      "needs_background": "light"
     },
     "output_type": "display_data"
    }
   ],
   "source": [
    "copy_joined['std_oxygen'] = imp.fit_transform(copy_joined[['std_oxygen']])\n",
    "copy_joined[nan_map]\n",
    "sns.displot(copy_joined['std_oxygen'], kde=True, bins=30)"
   ]
  },
  {
   "cell_type": "code",
   "execution_count": 221,
   "metadata": {},
   "outputs": [
    {
     "data": {
      "text/plain": [
       "<seaborn.axisgrid.FacetGrid at 0x1cad0a55b80>"
      ]
     },
     "execution_count": 221,
     "metadata": {},
     "output_type": "execute_result"
    },
    {
     "data": {
      "image/png": "[encoded data removed]",
      "text/plain": [
       "<Figure size 360x360 with 1 Axes>"
      ]
     },
     "metadata": {
      "needs_background": "light"
     },
     "output_type": "display_data"
    }
   ],
   "source": [
    "sns.displot(df_joined['kurtosis_oxygen'], kde=True, bins=30)"
   ]
  },
  {
   "cell_type": "code",
   "execution_count": 222,
   "metadata": {},
   "outputs": [
    {
     "data": {
      "text/plain": [
       "<seaborn.axisgrid.FacetGrid at 0x1cacec2ddf0>"
      ]
     },
     "execution_count": 222,
     "metadata": {},
     "output_type": "execute_result"
    },
    {
     "data": {
      "image/png": "[encoded data removed]",
      "text/plain": [
       "<Figure size 360x360 with 1 Axes>"
      ]
     },
     "metadata": {
      "needs_background": "light"
     },
     "output_type": "display_data"
    }
   ],
   "source": [
    "copy_joined['kurtosis_oxygen'] = imp.fit_transform(copy_joined[['kurtosis_oxygen']])\n",
    "copy_joined[nan_map]\n",
    "sns.displot(copy_joined['kurtosis_oxygen'], kde=True, bins=30)"
   ]
  },
  {
   "cell_type": "code",
   "execution_count": 223,
   "metadata": {},
   "outputs": [
    {
     "data": {
      "text/plain": [
       "<seaborn.axisgrid.FacetGrid at 0x1cacc914790>"
      ]
     },
     "execution_count": 223,
     "metadata": {},
     "output_type": "execute_result"
    },
    {
     "data": {
      "image/png": "[encoded data removed]",
      "text/plain": [
       "<Figure size 360x360 with 1 Axes>"
      ]
     },
     "metadata": {
      "needs_background": "light"
     },
     "output_type": "display_data"
    }
   ],
   "source": [
    "sns.displot(df_joined['skewness_oxygen'], kde=True, bins=30)"
   ]
  },
  {
   "cell_type": "code",
   "execution_count": 224,
   "metadata": {},
   "outputs": [
    {
     "data": {
      "text/plain": [
       "<seaborn.axisgrid.FacetGrid at 0x1cacc815880>"
      ]
     },
     "execution_count": 224,
     "metadata": {},
     "output_type": "execute_result"
    },
    {
     "data": {
      "image/png": "[encoded data removed]",
      "text/plain": [
       "<Figure size 360x360 with 1 Axes>"
      ]
     },
     "metadata": {
      "needs_background": "light"
     },
     "output_type": "display_data"
    }
   ],
   "source": [
    "copy_joined['skewness_oxygen'] = imp.fit_transform(copy_joined[['skewness_oxygen']])\n",
    "copy_joined[nan_map]\n",
    "sns.displot(copy_joined['skewness_oxygen'], kde=True, bins=30)"
   ]
  },
  {
   "cell_type": "markdown",
   "metadata": {},
   "source": [
    "## Zhrnutie doplňania chýbajúcich hodnôt podľa stratégie priemeru\n",
    "Ako je možné vidieť, postupom času sme prestali opisovať distribúcie grafov, pretože sa stále opakoval ten istý proces, kde doplnenie chýbajúcej hodnoty/hodnôt nezmenilo distribúciou, pretože sa väčšinou dopĺňala jedna, max 2 hodnoty. Iba pre atribút age bolo chýbajúcich hodnôt viac, ale ich doplnenie nám celkom zhoršilo distribúciu. Avšak distribúcie atribútov ako fnlwgt, std_glucose, std_oxygen, kurtosis_oxygen, skewness_oxygen sa celkom podobajú na klasické normálové rozdelenie, len je potrebné vyriešieť problém s outliermi, ktorých tam je kopec."
   ]
  },
  {
   "cell_type": "markdown",
   "metadata": {},
   "source": [
    "# Riešenie vychýlených hodnôt"
   ]
  },
  {
   "cell_type": "code",
   "execution_count": 225,
   "metadata": {},
   "outputs": [],
   "source": [
    "import scipy.stats as stats"
   ]
  },
  {
   "cell_type": "code",
   "execution_count": 226,
   "metadata": {},
   "outputs": [
    {
     "data": {
      "text/plain": [
       "<matplotlib.axes._subplots.AxesSubplot at 0x1cad0bd8250>"
      ]
     },
     "execution_count": 226,
     "metadata": {},
     "output_type": "execute_result"
    },
    {
     "data": {
      "image/png": "[encoded data removed]",
      "text/plain": [
       "<Figure size 432x288 with 1 Axes>"
      ]
     },
     "metadata": {
      "needs_background": "light"
     },
     "output_type": "display_data"
    }
   ],
   "source": [
    "sns.boxplot(x='skewness_glucose', data=df_joined)"
   ]
  },
  {
   "cell_type": "code",
   "execution_count": 227,
   "metadata": {},
   "outputs": [
    {
     "name": "stdout",
     "output_type": "stream",
     "text": [
      "Skewness:  nan\n"
     ]
    },
    {
     "data": {
      "image/png": "[encoded data removed]",
      "text/plain": [
       "<Figure size 432x288 with 1 Axes>"
      ]
     },
     "metadata": {
      "needs_background": "light"
     },
     "output_type": "display_data"
    }
   ],
   "source": [
    "pom = df_joined['skewness_glucose'].hist(bins=50)\n",
    "pom.set_title('skewness_glucose')\n",
    "\n",
    "print('Skewness: ', stats.skew(df_joined['skewness_glucose']))"
   ]
  },
  {
   "cell_type": "markdown",
   "metadata": {},
   "source": [
    "cviko 6"
   ]
  },
  {
   "cell_type": "code",
   "execution_count": 228,
   "metadata": {},
   "outputs": [
    {
     "data": {
      "text/plain": [
       "(-1.755331667, 5.389685531125)"
      ]
     },
     "execution_count": 228,
     "metadata": {},
     "output_type": "execute_result"
    }
   ],
   "source": [
    "descr = df_joined['skewness_glucose'].describe()\n",
    "whisker_r = descr['75%'] + (1.5 * (descr['75%'] - descr['25%']))\n",
    "whisker_r\n",
    "\n",
    "descr = df_joined['skewness_glucose'].describe()\n",
    "whisker_r = np.min([descr['max'], descr['75%'] + (1.5 * (descr['75%'] - descr['25%']))])\n",
    "whisker_l = np.max([descr['min'], descr['25%'] - (1.5 * (descr['75%'] - descr['25%']))])\n",
    "whisker_l, whisker_r"
   ]
  },
  {
   "cell_type": "markdown",
   "metadata": {},
   "source": [
    "3932 záznamov celkovo"
   ]
  },
  {
   "cell_type": "code",
   "execution_count": 229,
   "metadata": {},
   "outputs": [
    {
     "data": {
      "text/plain": [
       "3932"
      ]
     },
     "execution_count": 229,
     "metadata": {},
     "output_type": "execute_result"
    }
   ],
   "source": [
    "(df_joined['skewness_glucose']).count()"
   ]
  },
  {
   "cell_type": "markdown",
   "metadata": {},
   "source": [
    "678 outlierov"
   ]
  },
  {
   "cell_type": "code",
   "execution_count": 230,
   "metadata": {},
   "outputs": [
    {
     "data": {
      "text/plain": [
       "678"
      ]
     },
     "execution_count": 230,
     "metadata": {},
     "output_type": "execute_result"
    }
   ],
   "source": [
    "sum(df_joined['skewness_glucose'] > whisker_r) + sum(df_joined['skewness_glucose'] < whisker_l)"
   ]
  },
  {
   "cell_type": "code",
   "execution_count": 231,
   "metadata": {
    "scrolled": true
   },
   "outputs": [],
   "source": [
    "for i in df_joined.index:\n",
    "    if ((df_joined.loc[i]['skewness_glucose'] > whisker_r) or (df_joined.loc[i]['skewness_glucose'] < whisker_l)):\n",
    "        df_joined = df_joined.drop([i])"
   ]
  },
  {
   "cell_type": "markdown",
   "metadata": {},
   "source": [
    "Eliminovanie outlierov - v našom prípade najmä chorých. To je správne?"
   ]
  },
  {
   "cell_type": "code",
   "execution_count": 232,
   "metadata": {},
   "outputs": [
    {
     "data": {
      "text/plain": [
       "3254"
      ]
     },
     "execution_count": 232,
     "metadata": {},
     "output_type": "execute_result"
    }
   ],
   "source": [
    "(df_joined['skewness_glucose']).count()"
   ]
  },
  {
   "cell_type": "markdown",
   "metadata": {},
   "source": [
    "Tomuto nechápem"
   ]
  },
  {
   "cell_type": "code",
   "execution_count": 233,
   "metadata": {},
   "outputs": [
    {
     "name": "stdout",
     "output_type": "stream",
     "text": [
      "Skewness: nan\n"
     ]
    },
    {
     "data": {
      "image/png": "[encoded data removed]",
      "text/plain": [
       "<Figure size 432x288 with 1 Axes>"
      ]
     },
     "metadata": {
      "needs_background": "light"
     },
     "output_type": "display_data"
    }
   ],
   "source": [
    "transformed = np.log(df_joined['skewness_glucose']+2) # zbavíme sa záporných čísel, aby šli zlogaritmovať\n",
    "pom = pd.Series(transformed).hist(bins = 50)\n",
    "print(\"Skewness:\", stats.skew(transformed))"
   ]
  },
  {
   "cell_type": "code",
   "execution_count": 234,
   "metadata": {},
   "outputs": [
    {
     "name": "stderr",
     "output_type": "stream",
     "text": [
      "C:\\Users\\vanco\\anaconda3\\lib\\site-packages\\seaborn\\_decorators.py:36: FutureWarning: Pass the following variable as a keyword arg: x. From version 0.12, the only valid positional argument will be `data`, and passing other arguments without an explicit keyword will result in an error or misinterpretation.\n",
      "  warnings.warn(\n"
     ]
    },
    {
     "data": {
      "text/plain": [
       "<matplotlib.axes._subplots.AxesSubplot at 0x1cad4eacee0>"
      ]
     },
     "execution_count": 234,
     "metadata": {},
     "output_type": "execute_result"
    },
    {
     "data": {
      "image/png": "[encoded data removed]",
      "text/plain": [
       "<Figure size 432x288 with 1 Axes>"
      ]
     },
     "metadata": {
      "needs_background": "light"
     },
     "output_type": "display_data"
    }
   ],
   "source": [
    "import seaborn\n",
    "from sklearn import preprocessing\n",
    "seaborn.boxplot(transformed)"
   ]
  },
  {
   "cell_type": "code",
   "execution_count": 235,
   "metadata": {},
   "outputs": [],
   "source": [
    "from scipy.stats import boxcox"
   ]
  },
  {
   "cell_type": "code",
   "execution_count": 236,
   "metadata": {},
   "outputs": [
    {
     "name": "stderr",
     "output_type": "stream",
     "text": [
      "C:\\Users\\vanco\\anaconda3\\lib\\site-packages\\scipy\\stats\\morestats.py:1042: RuntimeWarning: invalid value encountered in less_equal\n",
      "  if any(x <= 0):\n"
     ]
    },
    {
     "name": "stdout",
     "output_type": "stream",
     "text": [
      "8.472135811722177\n"
     ]
    },
    {
     "data": {
      "image/png": "[encoded data removed]",
      "text/plain": [
       "<Figure size 432x288 with 1 Axes>"
      ]
     },
     "metadata": {
      "needs_background": "light"
     },
     "output_type": "display_data"
    }
   ],
   "source": [
    "transformed, att = boxcox(df_joined['skewness_glucose'] + 2)# boxcox vrati transformovane data a parametre transformacie. Tie viem zafixovat a v tom pripade mi to vrati len transformovane data\n",
    "pom = pd.Series(transformed).hist(bins=50)\n",
    "print(att)"
   ]
  },
  {
   "cell_type": "code",
   "execution_count": null,
   "metadata": {},
   "outputs": [],
   "source": []
  },
  {
   "cell_type": "code",
   "execution_count": null,
   "metadata": {},
   "outputs": [],
   "source": []
  },
  {
   "cell_type": "code",
   "execution_count": null,
   "metadata": {},
   "outputs": [],
   "source": []
  },
  {
   "cell_type": "code",
   "execution_count": null,
   "metadata": {},
   "outputs": [],
   "source": []
  },
  {
   "cell_type": "code",
   "execution_count": 237,
   "metadata": {},
   "outputs": [
    {
     "data": {
      "text/plain": [
       "3254"
      ]
     },
     "execution_count": 237,
     "metadata": {},
     "output_type": "execute_result"
    }
   ],
   "source": [
    "(df_joined['skewness_glucose']).count()"
   ]
  },
  {
   "cell_type": "code",
   "execution_count": 238,
   "metadata": {},
   "outputs": [
    {
     "name": "stdout",
     "output_type": "stream",
     "text": [
      "len= 3255 mean= 0.5231524147037476 std= 1.1100848130801635\n",
      "cutoff= 3.3302544392404902 lower= -2.807102024536743 upper= 3.8534068539442377\n",
      "Identified outliers: 85\n"
     ]
    }
   ],
   "source": [
    "# calculate summary statistics\n",
    "data_mean, data_std = mean(df_joined['skewness_glucose']), std(df_joined['skewness_glucose'])\n",
    "print('len=', len(df_joined['skewness_glucose']), 'mean=', data_mean, 'std=', data_std)\n",
    "\n",
    "# define outliers\n",
    "cut_off = data_std * 3\n",
    "lower, upper = data_mean - cut_off, data_mean + cut_off \n",
    "print('cutoff=', cut_off, 'lower=', lower, 'upper=', upper)\n",
    "\n",
    "# identify outliers\n",
    "outliers = [x for x in df_joined['skewness_glucose'] if x < lower or x > upper] \n",
    "print('Identified outliers: %d' % len(outliers))\n",
    "\n",
    "# remove outliers\n",
    "for i in df_joined.index:\n",
    "    if ((df_joined.loc[i]['skewness_glucose'] >= upper) or (df_joined.loc[i]['skewness_glucose'] <= lower)):\n",
    "        df_joined = df_joined.drop([i])\n"
   ]
  },
  {
   "cell_type": "code",
   "execution_count": 239,
   "metadata": {},
   "outputs": [
    {
     "data": {
      "text/plain": [
       "3169"
      ]
     },
     "execution_count": 239,
     "metadata": {},
     "output_type": "execute_result"
    }
   ],
   "source": [
    "(df_joined['skewness_glucose']).count()"
   ]
  },
  {
   "cell_type": "code",
   "execution_count": 240,
   "metadata": {},
   "outputs": [
    {
     "name": "stdout",
     "output_type": "stream",
     "text": [
      "Skewness:  nan\n"
     ]
    },
    {
     "data": {
      "image/png": "[encoded data removed]",
      "text/plain": [
       "<Figure size 432x288 with 1 Axes>"
      ]
     },
     "metadata": {
      "needs_background": "light"
     },
     "output_type": "display_data"
    }
   ],
   "source": [
    "pom = df_joined['skewness_glucose'].hist(bins=50)\n",
    "pom.set_title('skewness_glucose')\n",
    "\n",
    "print('Skewness: ', stats.skew(df_joined['skewness_glucose']))"
   ]
  },
  {
   "cell_type": "code",
   "execution_count": null,
   "metadata": {},
   "outputs": [],
   "source": []
  },
  {
   "cell_type": "markdown",
   "metadata": {},
   "source": [
    "# Riešenie chýbajúcich hodnôt druhá stratégia"
   ]
  },
  {
   "cell_type": "markdown",
   "metadata": {},
   "source": [
    "# Transformácia atribútu/ov pomocou Power transform (logaritmus, odmocnina a pod.)"
   ]
  },
  {
   "cell_type": "markdown",
   "metadata": {},
   "source": [
    "# Opätovná realizácia podstatných častí prieskumnej analýzy"
   ]
  },
  {
   "cell_type": "markdown",
   "metadata": {},
   "source": [
    "\n",
    "    Očakáva sa že dokumentujete zmeny distribúcie hodnôt po realizácii predspracovania\n",
    "    Následne dokumentujete LEN zmeny v prieskumnej analýze"
   ]
  }
 ],
 "metadata": {
  "kernelspec": {
   "display_name": "Python 3",
   "language": "python",
   "name": "python3"
  },
  "language_info": {
   "codemirror_mode": {
    "name": "ipython",
    "version": 3
   },
   "file_extension": ".py",
   "mimetype": "text/x-python",
   "name": "python",
   "nbconvert_exporter": "python",
   "pygments_lexer": "ipython3",
   "version": "3.8.3"
  }
 },
 "nbformat": 4,
 "nbformat_minor": 1
}
