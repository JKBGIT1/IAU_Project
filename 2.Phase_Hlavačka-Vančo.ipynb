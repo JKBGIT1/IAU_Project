{
  "cells":[
    {
      "cell_type":"code",
      "source":[
        "import numpy as np\n",
        "import pandas as pd\n",
        "import seaborn as sns\n",
        "pd.options.display.max_columns = None\n",
        "pd.options.display.max_rows = None"
      ],
      "execution_count":0,
      "outputs":[
        {
          "ename":"ModuleNotFoundError",
          "evalue":"ModuleNotFoundError: No module named 'pandas_profiling'",
          "traceback":[
            "\u001b[0;31m---------------------------------------------------------------------------",
            "Traceback (most recent call last)",
            "    at line 6 in <module>",
            "ModuleNotFoundError: No module named 'pandas_profiling'"
          ],
          "output_type":"error"
        }
      ],
      "metadata":{
        
      }
    },
    {
      "cell_type":"markdown",
      "source":[
        "# Načítanie a úprava dát z csv súborov."
      ],
      "metadata":{
        
      }
    },
    {
      "cell_type":"code",
      "source":[
        "def strip_columns(dataframe):\n",
        "    for column_name in dataframe:\n",
        "        if dataframe[column_name].dtypes == 'object':\n",
        "            dataframe[column_name] = dataframe[column_name].str.strip()\n",
        "        \n",
        "    return dataframe\n",
        "\n",
        "# other_train\n",
        "df_other = pd.read_csv('.\/other_train.csv', sep=',', index_col=0) # First column is Unnamed\n",
        "df_other = strip_columns(df_other)"
      ],
      "execution_count":0,
      "outputs":[
        
      ],
      "metadata":{
        
      }
    },
    {
      "cell_type":"code",
      "source":[
        "df_other.info() # There are 22 columns. 10 atributes are float type and 12 are object.\n",
        "# All columns expect name and adress have null values"
      ],
      "execution_count":0,
      "outputs":[
        {
          "name":"stdout",
          "text":[
            "<class 'pandas.core.frame.DataFrame'>\n",
            "Int64Index: 3983 entries, 0 to 3982\n",
            "Data columns (total 22 columns):\n",
            " #   Column            Non-Null Count  Dtype  \n",
            "---  ------            --------------  -----  \n",
            " 0   name              3983 non-null   object \n",
            " 1   address           3983 non-null   object \n",
            " 2   race              3971 non-null   object \n",
            " 3   marital-status    3709 non-null   object \n",
            " 4   occupation        3968 non-null   object \n",
            " 5   pregnant          3967 non-null   object \n",
            " 6   education-num     3971 non-null   float64\n",
            " 7   relationship      3972 non-null   object \n",
            " 8   skewness_glucose  3968 non-null   float64\n",
            " 9   mean_glucose      3974 non-null   float64\n",
            " 10  capital-gain      3964 non-null   float64\n",
            " 11  kurtosis_glucose  3970 non-null   float64\n",
            " 12  education         3969 non-null   object \n",
            " 13  fnlwgt            3965 non-null   float64\n",
            " 14  class             3972 non-null   float64\n",
            " 15  std_glucose       3966 non-null   float64\n",
            " 16  income            3971 non-null   object \n",
            " 17  medical_info      3967 non-null   object \n",
            " 18  native-country    3967 non-null   object \n",
            " 19  hours-per-week    3971 non-null   float64\n",
            " 20  capital-loss      3971 non-null   float64\n",
            " 21  workclass         3968 non-null   object \n",
            "dtypes: float64(10), object(12)\n",
            "memory usage: 715.7+ KB\n"
          ],
          "output_type":"stream"
        }
      ],
      "metadata":{
        
      }
    },
    {
      "cell_type":"markdown",
      "source":[
        "V datasete je 22 atribútov, pričom 10 z nich sú typu float a zvyšných 12 je typu object.\n",
        "Všetky stĺpce okrem name a adress majú chýbajúce hodnoty."
      ],
      "metadata":{
        
      }
    },
    {
      "cell_type":"code",
      "source":[
        "df_other.describe()"
      ],
      "execution_count":0,
      "outputs":[
        {
          "data":{
            "text\/html":[
              "<div>\n",
              "<style scoped>\n",
              "    .dataframe tbody tr th:only-of-type {\n",
              "        vertical-align: middle;\n",
              "    }\n",
              "\n",
              "    .dataframe tbody tr th {\n",
              "        vertical-align: top;\n",
              "    }\n",
              "\n",
              "    .dataframe thead th {\n",
              "        text-align: right;\n",
              "    }\n",
              "<\/style>\n",
              "<table border=\"1\" class=\"dataframe\">\n",
              "  <thead>\n",
              "    <tr style=\"text-align: right;\">\n",
              "      <th><\/th>\n",
              "      <th>education-num<\/th>\n",
              "      <th>skewness_glucose<\/th>\n",
              "      <th>mean_glucose<\/th>\n",
              "      <th>capital-gain<\/th>\n",
              "      <th>kurtosis_glucose<\/th>\n",
              "      <th>fnlwgt<\/th>\n",
              "      <th>class<\/th>\n",
              "      <th>std_glucose<\/th>\n",
              "      <th>hours-per-week<\/th>\n",
              "      <th>capital-loss<\/th>\n",
              "    <\/tr>\n",
              "  <\/thead>\n",
              "  <tbody>\n",
              "    <tr>\n",
              "      <th>count<\/th>\n",
              "      <td>3971.000000<\/td>\n",
              "      <td>3968.000000<\/td>\n",
              "      <td>3974.000000<\/td>\n",
              "      <td>3964.000000<\/td>\n",
              "      <td>3970.000000<\/td>\n",
              "      <td>3.965000e+03<\/td>\n",
              "      <td>3972.000000<\/td>\n",
              "      <td>3966.000000<\/td>\n",
              "      <td>3971.000000<\/td>\n",
              "      <td>3971.000000<\/td>\n",
              "    <\/tr>\n",
              "    <tr>\n",
              "      <th>mean<\/th>\n",
              "      <td>10.065223<\/td>\n",
              "      <td>4.233223<\/td>\n",
              "      <td>69.173141<\/td>\n",
              "      <td>1228.128406<\/td>\n",
              "      <td>0.952248<\/td>\n",
              "      <td>1.911784e+05<\/td>\n",
              "      <td>0.256294<\/td>\n",
              "      <td>45.172793<\/td>\n",
              "      <td>40.505162<\/td>\n",
              "      <td>73.254092<\/td>\n",
              "    <\/tr>\n",
              "    <tr>\n",
              "      <th>std<\/th>\n",
              "      <td>2.671998<\/td>\n",
              "      <td>9.715162<\/td>\n",
              "      <td>3348.917032<\/td>\n",
              "      <td>8623.958204<\/td>\n",
              "      <td>1.614087<\/td>\n",
              "      <td>1.072410e+05<\/td>\n",
              "      <td>0.436641<\/td>\n",
              "      <td>7.621144<\/td>\n",
              "      <td>12.279149<\/td>\n",
              "      <td>369.551911<\/td>\n",
              "    <\/tr>\n",
              "    <tr>\n",
              "      <th>min<\/th>\n",
              "      <td>1.000000<\/td>\n",
              "      <td>-1.755332<\/td>\n",
              "      <td>-18973.437500<\/td>\n",
              "      <td>0.000000<\/td>\n",
              "      <td>-1.641515<\/td>\n",
              "      <td>1.882700e+04<\/td>\n",
              "      <td>0.000000<\/td>\n",
              "      <td>25.695250<\/td>\n",
              "      <td>1.000000<\/td>\n",
              "      <td>0.000000<\/td>\n",
              "    <\/tr>\n",
              "    <tr>\n",
              "      <th>25%<\/th>\n",
              "      <td>9.000000<\/td>\n",
              "      <td>-0.120081<\/td>\n",
              "      <td>83.955078<\/td>\n",
              "      <td>0.000000<\/td>\n",
              "      <td>0.070311<\/td>\n",
              "      <td>1.179830e+05<\/td>\n",
              "      <td>0.000000<\/td>\n",
              "      <td>40.151488<\/td>\n",
              "      <td>40.000000<\/td>\n",
              "      <td>0.000000<\/td>\n",
              "    <\/tr>\n",
              "    <tr>\n",
              "      <th>50%<\/th>\n",
              "      <td>10.000000<\/td>\n",
              "      <td>0.376026<\/td>\n",
              "      <td>110.613281<\/td>\n",
              "      <td>0.000000<\/td>\n",
              "      <td>0.311092<\/td>\n",
              "      <td>1.795090e+05<\/td>\n",
              "      <td>0.000000<\/td>\n",
              "      <td>45.878359<\/td>\n",
              "      <td>40.000000<\/td>\n",
              "      <td>0.000000<\/td>\n",
              "    <\/tr>\n",
              "    <tr>\n",
              "      <th>75%<\/th>\n",
              "      <td>13.000000<\/td>\n",
              "      <td>2.090854<\/td>\n",
              "      <td>125.382812<\/td>\n",
              "      <td>0.000000<\/td>\n",
              "      <td>0.776492<\/td>\n",
              "      <td>2.415230e+05<\/td>\n",
              "      <td>1.000000<\/td>\n",
              "      <td>50.350939<\/td>\n",
              "      <td>45.000000<\/td>\n",
              "      <td>0.000000<\/td>\n",
              "    <\/tr>\n",
              "    <tr>\n",
              "      <th>max<\/th>\n",
              "      <td>16.000000<\/td>\n",
              "      <td>68.101622<\/td>\n",
              "      <td>15887.500000<\/td>\n",
              "      <td>99999.000000<\/td>\n",
              "      <td>8.069522<\/td>\n",
              "      <td>1.366120e+06<\/td>\n",
              "      <td>1.000000<\/td>\n",
              "      <td>91.206475<\/td>\n",
              "      <td>99.000000<\/td>\n",
              "      <td>2824.000000<\/td>\n",
              "    <\/tr>\n",
              "  <\/tbody>\n",
              "<\/table>\n",
              "<\/div>"
            ]
          },
          "metadata":{
            
          },
          "output_type":"display_data"
        }
      ],
      "metadata":{
        
      }
    },
    {
      "cell_type":"markdown",
      "source":[
        "Štatistické údaje nie sú moc veľa vravné, pretože v nich sú celkom extrémne hodnoty."
      ],
      "metadata":{
        
      }
    },
    {
      "cell_type":"code",
      "source":[
        "df_other.head() "
      ],
      "execution_count":0,
      "outputs":[
        {
          "data":{
            "text\/html":[
              "<div>\n",
              "<style scoped>\n",
              "    .dataframe tbody tr th:only-of-type {\n",
              "        vertical-align: middle;\n",
              "    }\n",
              "\n",
              "    .dataframe tbody tr th {\n",
              "        vertical-align: top;\n",
              "    }\n",
              "\n",
              "    .dataframe thead th {\n",
              "        text-align: right;\n",
              "    }\n",
              "<\/style>\n",
              "<table border=\"1\" class=\"dataframe\">\n",
              "  <thead>\n",
              "    <tr style=\"text-align: right;\">\n",
              "      <th><\/th>\n",
              "      <th>name<\/th>\n",
              "      <th>address<\/th>\n",
              "      <th>race<\/th>\n",
              "      <th>marital-status<\/th>\n",
              "      <th>occupation<\/th>\n",
              "      <th>pregnant<\/th>\n",
              "      <th>education-num<\/th>\n",
              "      <th>relationship<\/th>\n",
              "      <th>skewness_glucose<\/th>\n",
              "      <th>mean_glucose<\/th>\n",
              "      <th>capital-gain<\/th>\n",
              "      <th>kurtosis_glucose<\/th>\n",
              "      <th>education<\/th>\n",
              "      <th>fnlwgt<\/th>\n",
              "      <th>class<\/th>\n",
              "      <th>std_glucose<\/th>\n",
              "      <th>income<\/th>\n",
              "      <th>medical_info<\/th>\n",
              "      <th>native-country<\/th>\n",
              "      <th>hours-per-week<\/th>\n",
              "      <th>capital-loss<\/th>\n",
              "      <th>workclass<\/th>\n",
              "    <\/tr>\n",
              "  <\/thead>\n",
              "  <tbody>\n",
              "    <tr>\n",
              "      <th>0<\/th>\n",
              "      <td>David Hayes<\/td>\n",
              "      <td>235 Jennifer Throughway Suite 569\\r\\nNew Antho...<\/td>\n",
              "      <td>Black<\/td>\n",
              "      <td>??<\/td>\n",
              "      <td>Prof-specialty<\/td>\n",
              "      <td>f<\/td>\n",
              "      <td>5.0<\/td>\n",
              "      <td>Not-in-family<\/td>\n",
              "      <td>-0.197692<\/td>\n",
              "      <td>141.359375<\/td>\n",
              "      <td>0.0<\/td>\n",
              "      <td>-0.252430<\/td>\n",
              "      <td>9th<\/td>\n",
              "      <td>175431.0<\/td>\n",
              "      <td>0.0<\/td>\n",
              "      <td>49.842053<\/td>\n",
              "      <td>&lt;=50K<\/td>\n",
              "      <td>{'mean_oxygen':'4.04264214','std_oxygen':'19.4...<\/td>\n",
              "      <td>United-States<\/td>\n",
              "      <td>40.0<\/td>\n",
              "      <td>0.0<\/td>\n",
              "      <td>Private<\/td>\n",
              "    <\/tr>\n",
              "    <tr>\n",
              "      <th>1<\/th>\n",
              "      <td>Stanley Benny<\/td>\n",
              "      <td>08954 Johnson Course\\r\\nNew Lauraville, NV 22019<\/td>\n",
              "      <td>White<\/td>\n",
              "      <td>Married-civ-spouse<\/td>\n",
              "      <td>Exec-managerial<\/td>\n",
              "      <td>f<\/td>\n",
              "      <td>13.0<\/td>\n",
              "      <td>Husband<\/td>\n",
              "      <td>16.019670<\/td>\n",
              "      <td>53.968750<\/td>\n",
              "      <td>0.0<\/td>\n",
              "      <td>3.149333<\/td>\n",
              "      <td>Bachelors<\/td>\n",
              "      <td>66473.0<\/td>\n",
              "      <td>1.0<\/td>\n",
              "      <td>31.900220<\/td>\n",
              "      <td>&gt;50K<\/td>\n",
              "      <td>{'mean_oxygen':'9.294314381','std_oxygen':'35....<\/td>\n",
              "      <td>United-States<\/td>\n",
              "      <td>40.0<\/td>\n",
              "      <td>0.0<\/td>\n",
              "      <td>Private<\/td>\n",
              "    <\/tr>\n",
              "    <tr>\n",
              "      <th>2<\/th>\n",
              "      <td>Domingo Labriola<\/td>\n",
              "      <td>36319 Wiley Drive Suite 094\\r\\nSouth Michael, ...<\/td>\n",
              "      <td>Asian-Pac-Islander<\/td>\n",
              "      <td>Married-civ-spouse<\/td>\n",
              "      <td>Farming-fishing<\/td>\n",
              "      <td>f<\/td>\n",
              "      <td>3.0<\/td>\n",
              "      <td>Husband<\/td>\n",
              "      <td>21.803837<\/td>\n",
              "      <td>2257.812500<\/td>\n",
              "      <td>0.0<\/td>\n",
              "      <td>4.650770<\/td>\n",
              "      <td>5th-6th<\/td>\n",
              "      <td>93206.0<\/td>\n",
              "      <td>1.0<\/td>\n",
              "      <td>35.793158<\/td>\n",
              "      <td>&lt;=50K<\/td>\n",
              "      <td>{'mean_oxygen':'138.7876254','std_oxygen':'79....<\/td>\n",
              "      <td>Philippines<\/td>\n",
              "      <td>40.0<\/td>\n",
              "      <td>0.0<\/td>\n",
              "      <td>Private<\/td>\n",
              "    <\/tr>\n",
              "    <tr>\n",
              "      <th>3<\/th>\n",
              "      <td>Ronnie Moore<\/td>\n",
              "      <td>0755 Soto Oval Apt. 443\\r\\nWest Markside, TX 3...<\/td>\n",
              "      <td>White<\/td>\n",
              "      <td>Never-married<\/td>\n",
              "      <td>Other-service<\/td>\n",
              "      <td>FALSE<\/td>\n",
              "      <td>10.0<\/td>\n",
              "      <td>Not-in-family<\/td>\n",
              "      <td>-0.112191<\/td>\n",
              "      <td>110.046875<\/td>\n",
              "      <td>0.0<\/td>\n",
              "      <td>0.441957<\/td>\n",
              "      <td>Some-college<\/td>\n",
              "      <td>137604.0<\/td>\n",
              "      <td>0.0<\/td>\n",
              "      <td>53.876575<\/td>\n",
              "      <td>&lt;=50K<\/td>\n",
              "      <td>{'mean_oxygen':'3.100334448','std_oxygen':'17....<\/td>\n",
              "      <td>United-States<\/td>\n",
              "      <td>40.0<\/td>\n",
              "      <td>0.0<\/td>\n",
              "      <td>Private<\/td>\n",
              "    <\/tr>\n",
              "    <tr>\n",
              "      <th>4<\/th>\n",
              "      <td>Victor Mcjunkin<\/td>\n",
              "      <td>95738 Keller Overpass\\r\\nKennedyland, MO 71071<\/td>\n",
              "      <td>White<\/td>\n",
              "      <td>NaN<\/td>\n",
              "      <td>Adm-clerical<\/td>\n",
              "      <td>f<\/td>\n",
              "      <td>10.0<\/td>\n",
              "      <td>Not-in-family<\/td>\n",
              "      <td>-0.309642<\/td>\n",
              "      <td>137.960938<\/td>\n",
              "      <td>0.0<\/td>\n",
              "      <td>-0.048518<\/td>\n",
              "      <td>Some-college<\/td>\n",
              "      <td>174592.0<\/td>\n",
              "      <td>0.0<\/td>\n",
              "      <td>51.885451<\/td>\n",
              "      <td>&lt;=50K<\/td>\n",
              "      <td>{'mean_oxygen':'4.203177258','std_oxygen':'23....<\/td>\n",
              "      <td>United-States<\/td>\n",
              "      <td>40.0<\/td>\n",
              "      <td>0.0<\/td>\n",
              "      <td>Private<\/td>\n",
              "    <\/tr>\n",
              "  <\/tbody>\n",
              "<\/table>\n",
              "<\/div>"
            ]
          },
          "metadata":{
            
          },
          "output_type":"display_data"
        }
      ],
      "metadata":{
        
      }
    },
    {
      "cell_type":"markdown",
      "source":[
        "medical_info je komplexný objekt, ktorý môže byť rozdelený do viacerých stĺpcov."
      ],
      "metadata":{
        
      }
    },
    {
      "cell_type":"code",
      "source":[
        "df_other.shape[0] - df_other.dropna().shape[0]"
      ],
      "execution_count":0,
      "outputs":[
        {
          "data":{
            "text\/plain":[
              "337"
            ]
          },
          "metadata":{
            
          },
          "output_type":"display_data"
        }
      ],
      "metadata":{
        
      }
    },
    {
      "cell_type":"markdown",
      "source":[
        "Dataframe obsahuje 337 chýbajcich hodnôt."
      ],
      "metadata":{
        
      }
    },
    {
      "cell_type":"code",
      "source":[
        "def adjust_dataframe_columns(dataframe):\n",
        "    dataframe['marital-status'] = dataframe['marital-status'].replace('??', np.nan)\n",
        "    dataframe['occupation'] = dataframe['occupation'].replace('?', np.nan)\n",
        "    dataframe['pregnant'] = dataframe['pregnant'].replace(['f', 'F', 'FALSE'], 'False')\n",
        "    dataframe['pregnant'] = dataframe['pregnant'].replace(['t', 'T', 'TRUE'], 'True')\n",
        "    dataframe['relationship'] = dataframe['relationship'].replace('Not_in_family', 'Not-in-family')\n",
        "    dataframe['relationship'] = dataframe['relationship'].replace('Own_child', 'Own-child')\n",
        "    dataframe['relationship'] = dataframe['relationship'].replace('Other_relative', 'Other-relative')\n",
        "    dataframe['native-country'] = dataframe['native-country'].replace('?', np.nan)\n",
        "    dataframe['workclass'] = dataframe['workclass'].replace('?', np.nan)\n",
        "\n",
        "    return dataframe\n",
        "\n",
        "df_other = adjust_dataframe_columns(df_other)"
      ],
      "execution_count":0,
      "outputs":[
        
      ],
      "metadata":{
        
      }
    },
    {
      "cell_type":"markdown",
      "source":[
        "V prvej fáze sme zanalyzovali, v ktorých stĺpcoch sa nachádzajú aké unikátne hodnoty. Tie, ktoré nám nič nehovorili ako napríklad otázniky sme nahradili hodnotami np.nan aby sa nám jednoduchšie nahrádzali. V prípade, keď stĺpec obsahoval viacero hodnôt, ktoré hovorili to isté, len boli inak napísené, tak sme ich nahradili jednotným označním(napríklad 'f', 'F', 'False' majú teraz jednotné označenie 'False'). "
      ],
      "metadata":{
        
      }
    },
    {
      "cell_type":"code",
      "source":[
        "def separate_and_delete_medical_info(dataframe):\n",
        "    df2 = pd.DataFrame() \n",
        "    # Iterate through every row and take values from medical_info column\n",
        "    for _,column_data in dataframe['medical_info'].iteritems(): \n",
        "        if isinstance(column_data, str): # If value isn't nan\n",
        "            column_data = column_data[1:-1] # Delect curly brackets from start and end of string\n",
        "            column_data_split = column_data.split(',') # Split string by comma\n",
        "\n",
        "            row = {} \n",
        "            for name_value in column_data_split: # Iterate through split string\n",
        "                name_value_split = name_value.split(':') # Split into name of column and value of column\n",
        "                # Store value into dictionary with name of the column as a key\n",
        "                row[name_value_split[0][1:-1]] = [np.float(name_value_split[1][1:-1])] # Get rid of '' by [1:-1]\n",
        "\n",
        "            row_data_frame = pd.DataFrame(row) # Convert dictionary into DataFrame\n",
        "            df2 = df2.append(row_data_frame, ignore_index=True) # Append row_data_frame into df2\n",
        "        else: # Value is nan, append nan row into df2\n",
        "            df2 = df2.append(pd.Series(np.nan), ignore_index=True)\n",
        "            \n",
        "    df2 = df2.drop(columns=[0]) # Drop last column\n",
        "\n",
        "    # Add values from df2 to main df\n",
        "    for column_name in df2.columns:\n",
        "        dataframe[column_name] = df2[column_name]\n",
        "\n",
        "    del dataframe['medical_info'] # medical info is already divided into another columns, so we can erase it\n",
        "\n",
        "    return dataframe\n",
        "    \n",
        "df_other = separate_and_delete_medical_info(df_other)"
      ],
      "execution_count":0,
      "outputs":[
        
      ],
      "metadata":{
        
      }
    },
    {
      "cell_type":"markdown",
      "source":[
        "Pomocou funkcie separate_and_delete_medical_info sme rozdelili hodnoty v stĺpci medical_info do viacerých atribútov, pričom nám tento stĺpec už nebol potrebný, takže sme ho mohli vymazať."
      ],
      "metadata":{
        
      }
    },
    {
      "cell_type":"code",
      "source":[
        "# personal_train\n",
        "df_personal = pd.read_csv(\".\/personal_train.csv\", index_col=0, sep=',') # First column was Unnamend\n",
        "for column_name in df_personal:\n",
        "    if df_personal[column_name].dtypes == 'object':\n",
        "        df_personal[column_name] = df_personal[column_name].str.strip()"
      ],
      "execution_count":0,
      "outputs":[
        
      ],
      "metadata":{
        
      }
    },
    {
      "cell_type":"code",
      "source":[
        "df_personal.describe()"
      ],
      "execution_count":0,
      "outputs":[
        {
          "data":{
            "text\/html":[
              "<div>\n",
              "<style scoped>\n",
              "    .dataframe tbody tr th:only-of-type {\n",
              "        vertical-align: middle;\n",
              "    }\n",
              "\n",
              "    .dataframe tbody tr th {\n",
              "        vertical-align: top;\n",
              "    }\n",
              "\n",
              "    .dataframe thead th {\n",
              "        text-align: right;\n",
              "    }\n",
              "<\/style>\n",
              "<table border=\"1\" class=\"dataframe\">\n",
              "  <thead>\n",
              "    <tr style=\"text-align: right;\">\n",
              "      <th><\/th>\n",
              "      <th>age<\/th>\n",
              "    <\/tr>\n",
              "  <\/thead>\n",
              "  <tbody>\n",
              "    <tr>\n",
              "      <th>count<\/th>\n",
              "      <td>3540.000000<\/td>\n",
              "    <\/tr>\n",
              "    <tr>\n",
              "      <th>mean<\/th>\n",
              "      <td>51.816949<\/td>\n",
              "    <\/tr>\n",
              "    <tr>\n",
              "      <th>std<\/th>\n",
              "      <td>11.914637<\/td>\n",
              "    <\/tr>\n",
              "    <tr>\n",
              "      <th>min<\/th>\n",
              "      <td>-1.000000<\/td>\n",
              "    <\/tr>\n",
              "    <tr>\n",
              "      <th>25%<\/th>\n",
              "      <td>44.000000<\/td>\n",
              "    <\/tr>\n",
              "    <tr>\n",
              "      <th>50%<\/th>\n",
              "      <td>52.000000<\/td>\n",
              "    <\/tr>\n",
              "    <tr>\n",
              "      <th>75%<\/th>\n",
              "      <td>60.000000<\/td>\n",
              "    <\/tr>\n",
              "    <tr>\n",
              "      <th>max<\/th>\n",
              "      <td>113.000000<\/td>\n",
              "    <\/tr>\n",
              "  <\/tbody>\n",
              "<\/table>\n",
              "<\/div>"
            ]
          },
          "metadata":{
            
          },
          "output_type":"display_data"
        }
      ],
      "metadata":{
        
      }
    },
    {
      "cell_type":"markdown",
      "source":[
        "Najmenšie hodnota je -1, čo nebude dobré, pretože sa jedná o vek. Presnosť ostatných vecí nie je možné z tohto tak ľahko posúdiť."
      ],
      "metadata":{
        
      }
    },
    {
      "cell_type":"code",
      "source":[
        "df_personal.info()"
      ],
      "execution_count":0,
      "outputs":[
        {
          "name":"stdout",
          "text":[
            "<class 'pandas.core.frame.DataFrame'>\n",
            "Int64Index: 3933 entries, 0 to 3932\n",
            "Data columns (total 5 columns):\n",
            " #   Column         Non-Null Count  Dtype  \n",
            "---  ------         --------------  -----  \n",
            " 0   name           3933 non-null   object \n",
            " 1   address        3933 non-null   object \n",
            " 2   age            3540 non-null   float64\n",
            " 3   sex            3933 non-null   object \n",
            " 4   date_of_birth  3933 non-null   object \n",
            "dtypes: float64(1), object(4)\n",
            "memory usage: 184.4+ KB\n"
          ],
          "output_type":"stream"
        }
      ],
      "metadata":{
        
      }
    },
    {
      "cell_type":"markdown",
      "source":[
        "Dataframe obsahuje 3933 záznamov, pričom každý jeden má 5 atribútov.\n",
        "\n",
        "age je jediný typu float, ostatné sú typu object.\n",
        "\n",
        "age má 393 buniek s chýbajúcou hodnotou.\n",
        "\n",
        "ostatné atribúty nemajú chýbajúce hodnoty."
      ],
      "metadata":{
        
      }
    },
    {
      "cell_type":"code",
      "source":[
        "df_personal.head()"
      ],
      "execution_count":0,
      "outputs":[
        {
          "data":{
            "text\/html":[
              "<div>\n",
              "<style scoped>\n",
              "    .dataframe tbody tr th:only-of-type {\n",
              "        vertical-align: middle;\n",
              "    }\n",
              "\n",
              "    .dataframe tbody tr th {\n",
              "        vertical-align: top;\n",
              "    }\n",
              "\n",
              "    .dataframe thead th {\n",
              "        text-align: right;\n",
              "    }\n",
              "<\/style>\n",
              "<table border=\"1\" class=\"dataframe\">\n",
              "  <thead>\n",
              "    <tr style=\"text-align: right;\">\n",
              "      <th><\/th>\n",
              "      <th>name<\/th>\n",
              "      <th>address<\/th>\n",
              "      <th>age<\/th>\n",
              "      <th>sex<\/th>\n",
              "      <th>date_of_birth<\/th>\n",
              "    <\/tr>\n",
              "  <\/thead>\n",
              "  <tbody>\n",
              "    <tr>\n",
              "      <th>0<\/th>\n",
              "      <td>Roscoe Bohannon<\/td>\n",
              "      <td>7183 Osborne Ways Apt. 651\\r\\nEast Andrew, OH ...<\/td>\n",
              "      <td>63.0<\/td>\n",
              "      <td>Female<\/td>\n",
              "      <td>1956-10-02<\/td>\n",
              "    <\/tr>\n",
              "    <tr>\n",
              "      <th>1<\/th>\n",
              "      <td>Ernest Kline<\/td>\n",
              "      <td>391 Ball Road Suite 961\\r\\nFlowersborough, IN ...<\/td>\n",
              "      <td>58.0<\/td>\n",
              "      <td>Female<\/td>\n",
              "      <td>1961-05-14<\/td>\n",
              "    <\/tr>\n",
              "    <tr>\n",
              "      <th>2<\/th>\n",
              "      <td>Harold Hendriks<\/td>\n",
              "      <td>8702 Vincent Square\\r\\nNew Jerryfurt, CO 30614<\/td>\n",
              "      <td>47.0<\/td>\n",
              "      <td>Male<\/td>\n",
              "      <td>1972-06-19<\/td>\n",
              "    <\/tr>\n",
              "    <tr>\n",
              "      <th>3<\/th>\n",
              "      <td>Randy Baptiste<\/td>\n",
              "      <td>2751 Harris Crossroad\\r\\nWest Ashley, CA 30311<\/td>\n",
              "      <td>60.0<\/td>\n",
              "      <td>Female<\/td>\n",
              "      <td>1959-02-19<\/td>\n",
              "    <\/tr>\n",
              "    <tr>\n",
              "      <th>4<\/th>\n",
              "      <td>Anthony Colucci<\/td>\n",
              "      <td>904 Robert Cliffs Suite 186\\r\\nWest Kyle, CO 7...<\/td>\n",
              "      <td>31.0<\/td>\n",
              "      <td>Female<\/td>\n",
              "      <td>1988-08-04<\/td>\n",
              "    <\/tr>\n",
              "  <\/tbody>\n",
              "<\/table>\n",
              "<\/div>"
            ]
          },
          "metadata":{
            
          },
          "output_type":"display_data"
        }
      ],
      "metadata":{
        
      }
    },
    {
      "cell_type":"markdown",
      "source":[
        "Atribút address je možné rozdeliť do viacerých stĺpcov(street, city, zip_code)"
      ],
      "metadata":{
        
      }
    },
    {
      "cell_type":"code",
      "source":[
        "def separete_and_delete_address(dataframe):\n",
        "    df_addresses = dataframe['address'].replace('\\r', ',', regex=True)\n",
        "    df_addresses = df_addresses.replace('\\n', ' ', regex=True)\n",
        "    df_addresses = df_addresses.str.split(',')\n",
        "\n",
        "    cities = []\n",
        "    streets = []\n",
        "    zip_codes = []\n",
        "\n",
        "    for address in df_addresses:\n",
        "        if len(address) < 3: # these records have cities in address\n",
        "            streets.append(address[0])\n",
        "            cities.append(None)\n",
        "            zip_codes.append(address[1])\n",
        "        else: # these records don't have cities in address\n",
        "            streets.append(address[0])\n",
        "            cities.append(address[1])\n",
        "            zip_codes.append(address[2])\n",
        "    \n",
        "    dataframe['street'] = streets\n",
        "    dataframe['city'] = cities\n",
        "    dataframe['zip_code'] = zip_codes\n",
        "\n",
        "    dataframe = dataframe.drop('address', axis=1)\n",
        "\n",
        "    return dataframe\n",
        "\n",
        "df_personal = separete_and_delete_address(df_personal)"
      ],
      "execution_count":0,
      "outputs":[
        
      ],
      "metadata":{
        
      }
    },
    {
      "cell_type":"markdown",
      "source":[
        "Pomocou funkcie separate_and_delete_address sme rozdelili hodnoty v stĺpci address do viacerých atribútov, pričom nám tento stĺpec už nebol potrebný, takže sme ho mohli vymazať."
      ],
      "metadata":{
        
      }
    },
    {
      "cell_type":"code",
      "source":[
        "df_personal.info()"
      ],
      "execution_count":0,
      "outputs":[
        {
          "name":"stdout",
          "text":[
            "<class 'pandas.core.frame.DataFrame'>\n",
            "Int64Index: 3933 entries, 0 to 3932\n",
            "Data columns (total 7 columns):\n",
            " #   Column         Non-Null Count  Dtype  \n",
            "---  ------         --------------  -----  \n",
            " 0   name           3933 non-null   object \n",
            " 1   age            3540 non-null   float64\n",
            " 2   sex            3933 non-null   object \n",
            " 3   date_of_birth  3933 non-null   object \n",
            " 4   street         3933 non-null   object \n",
            " 5   city           3657 non-null   object \n",
            " 6   zip_code       3933 non-null   object \n",
            "dtypes: float64(1), object(6)\n",
            "memory usage: 245.8+ KB\n"
          ],
          "output_type":"stream"
        }
      ],
      "metadata":{
        
      }
    },
    {
      "cell_type":"markdown",
      "source":[
        "276 buniek v stĺpci city má chýbajúcu hodnotu."
      ],
      "metadata":{
        
      }
    },
    {
      "cell_type":"code",
      "source":[
        "df_personal.shape[0] - df_personal.dropna().shape[0] # there are 643 nan values"
      ],
      "execution_count":0,
      "outputs":[
        {
          "data":{
            "text\/plain":[
              "643"
            ]
          },
          "metadata":{
            
          },
          "output_type":"display_data"
        }
      ],
      "metadata":{
        
      }
    },
    {
      "cell_type":"markdown",
      "source":[
        "Dataframe obsahuje 643 chýbajúcich hodnôt."
      ],
      "metadata":{
        
      }
    },
    {
      "cell_type":"code",
      "source":[
        "df_joined = df_other.join(df_personal.set_index('name'), on='name') # join other train and personal train on name"
      ],
      "execution_count":0,
      "outputs":[
        
      ],
      "metadata":{
        
      }
    },
    {
      "cell_type":"code",
      "source":[
        "del df_joined['address'] # we can also erase disgusting address column, because we have it in detail from personal train"
      ],
      "execution_count":0,
      "outputs":[
        
      ],
      "metadata":{
        
      }
    },
    {
      "cell_type":"markdown",
      "source":[
        "df_joined je nový dataframe, ktorý vznikol spojením dataframov other a personal."
      ],
      "metadata":{
        
      }
    },
    {
      "cell_type":"code",
      "source":[
        "df_joined.info() # There are 31 atributes. 16 are objects and the other 15 are floats. There are 3983 records"
      ],
      "execution_count":0,
      "outputs":[
        {
          "name":"stdout",
          "text":[
            "<class 'pandas.core.frame.DataFrame'>\n",
            "Int64Index: 3983 entries, 0 to 3982\n",
            "Data columns (total 30 columns):\n",
            " #   Column            Non-Null Count  Dtype  \n",
            "---  ------            --------------  -----  \n",
            " 0   name              3983 non-null   object \n",
            " 1   race              3971 non-null   object \n",
            " 2   marital-status    3570 non-null   object \n",
            " 3   occupation        3744 non-null   object \n",
            " 4   pregnant          3967 non-null   object \n",
            " 5   education-num     3971 non-null   float64\n",
            " 6   relationship      3972 non-null   object \n",
            " 7   skewness_glucose  3968 non-null   float64\n",
            " 8   mean_glucose      3974 non-null   float64\n",
            " 9   capital-gain      3964 non-null   float64\n",
            " 10  kurtosis_glucose  3970 non-null   float64\n",
            " 11  education         3969 non-null   object \n",
            " 12  fnlwgt            3965 non-null   float64\n",
            " 13  class             3972 non-null   float64\n",
            " 14  std_glucose       3966 non-null   float64\n",
            " 15  income            3971 non-null   object \n",
            " 16  native-country    3909 non-null   object \n",
            " 17  hours-per-week    3971 non-null   float64\n",
            " 18  capital-loss      3971 non-null   float64\n",
            " 19  workclass         3741 non-null   object \n",
            " 20  mean_oxygen       3967 non-null   float64\n",
            " 21  std_oxygen        3967 non-null   float64\n",
            " 22  kurtosis_oxygen   3967 non-null   float64\n",
            " 23  skewness_oxygen   3967 non-null   float64\n",
            " 24  age               3586 non-null   float64\n",
            " 25  sex               3983 non-null   object \n",
            " 26  date_of_birth     3983 non-null   object \n",
            " 27  street            3983 non-null   object \n",
            " 28  city              3704 non-null   object \n",
            " 29  zip_code          3983 non-null   object \n",
            "dtypes: float64(15), object(15)\n",
            "memory usage: 964.6+ KB\n"
          ],
          "output_type":"stream"
        }
      ],
      "metadata":{
        
      }
    },
    {
      "cell_type":"markdown",
      "source":[
        "df_joined obsahuje 31 atribútov, pričom 16 z nich sú typu object a zvyšných 15 je typu float. Dataframe má 3983 záznamov."
      ],
      "metadata":{
        
      }
    },
    {
      "cell_type":"code",
      "source":[
        "df_joined.describe()"
      ],
      "execution_count":0,
      "outputs":[
        {
          "data":{
            "text\/html":[
              "<div>\n",
              "<style scoped>\n",
              "    .dataframe tbody tr th:only-of-type {\n",
              "        vertical-align: middle;\n",
              "    }\n",
              "\n",
              "    .dataframe tbody tr th {\n",
              "        vertical-align: top;\n",
              "    }\n",
              "\n",
              "    .dataframe thead th {\n",
              "        text-align: right;\n",
              "    }\n",
              "<\/style>\n",
              "<table border=\"1\" class=\"dataframe\">\n",
              "  <thead>\n",
              "    <tr style=\"text-align: right;\">\n",
              "      <th><\/th>\n",
              "      <th>education-num<\/th>\n",
              "      <th>skewness_glucose<\/th>\n",
              "      <th>mean_glucose<\/th>\n",
              "      <th>capital-gain<\/th>\n",
              "      <th>kurtosis_glucose<\/th>\n",
              "      <th>fnlwgt<\/th>\n",
              "      <th>class<\/th>\n",
              "      <th>std_glucose<\/th>\n",
              "      <th>hours-per-week<\/th>\n",
              "      <th>capital-loss<\/th>\n",
              "      <th>mean_oxygen<\/th>\n",
              "      <th>std_oxygen<\/th>\n",
              "      <th>kurtosis_oxygen<\/th>\n",
              "      <th>skewness_oxygen<\/th>\n",
              "      <th>age<\/th>\n",
              "    <\/tr>\n",
              "  <\/thead>\n",
              "  <tbody>\n",
              "    <tr>\n",
              "      <th>count<\/th>\n",
              "      <td>3971.000000<\/td>\n",
              "      <td>3968.000000<\/td>\n",
              "      <td>3974.000000<\/td>\n",
              "      <td>3964.000000<\/td>\n",
              "      <td>3970.000000<\/td>\n",
              "      <td>3.965000e+03<\/td>\n",
              "      <td>3972.000000<\/td>\n",
              "      <td>3966.000000<\/td>\n",
              "      <td>3971.000000<\/td>\n",
              "      <td>3971.000000<\/td>\n",
              "      <td>3967.000000<\/td>\n",
              "      <td>3967.000000<\/td>\n",
              "      <td>3967.000000<\/td>\n",
              "      <td>3967.000000<\/td>\n",
              "      <td>3586.000000<\/td>\n",
              "    <\/tr>\n",
              "    <tr>\n",
              "      <th>mean<\/th>\n",
              "      <td>10.065223<\/td>\n",
              "      <td>4.233223<\/td>\n",
              "      <td>69.173141<\/td>\n",
              "      <td>1228.128406<\/td>\n",
              "      <td>0.952248<\/td>\n",
              "      <td>1.911784e+05<\/td>\n",
              "      <td>0.256294<\/td>\n",
              "      <td>45.172793<\/td>\n",
              "      <td>40.505162<\/td>\n",
              "      <td>73.254092<\/td>\n",
              "      <td>18.537297<\/td>\n",
              "      <td>31.183114<\/td>\n",
              "      <td>7.405864<\/td>\n",
              "      <td>91.191022<\/td>\n",
              "      <td>51.828779<\/td>\n",
              "    <\/tr>\n",
              "    <tr>\n",
              "      <th>std<\/th>\n",
              "      <td>2.671998<\/td>\n",
              "      <td>9.715162<\/td>\n",
              "      <td>3348.917032<\/td>\n",
              "      <td>8623.958204<\/td>\n",
              "      <td>1.614087<\/td>\n",
              "      <td>1.072410e+05<\/td>\n",
              "      <td>0.436641<\/td>\n",
              "      <td>7.621144<\/td>\n",
              "      <td>12.279149<\/td>\n",
              "      <td>369.551911<\/td>\n",
              "      <td>34.828662<\/td>\n",
              "      <td>22.262766<\/td>\n",
              "      <td>4.814843<\/td>\n",
              "      <td>108.575211<\/td>\n",
              "      <td>11.927593<\/td>\n",
              "    <\/tr>\n",
              "    <tr>\n",
              "      <th>min<\/th>\n",
              "      <td>1.000000<\/td>\n",
              "      <td>-1.755332<\/td>\n",
              "      <td>-18973.437500<\/td>\n",
              "      <td>0.000000<\/td>\n",
              "      <td>-1.641515<\/td>\n",
              "      <td>1.882700e+04<\/td>\n",
              "      <td>0.000000<\/td>\n",
              "      <td>25.695250<\/td>\n",
              "      <td>1.000000<\/td>\n",
              "      <td>0.000000<\/td>\n",
              "      <td>0.213211<\/td>\n",
              "      <td>7.370432<\/td>\n",
              "      <td>-2.597872<\/td>\n",
              "      <td>-1.976976<\/td>\n",
              "      <td>-1.000000<\/td>\n",
              "    <\/tr>\n",
              "    <tr>\n",
              "      <th>25%<\/th>\n",
              "      <td>9.000000<\/td>\n",
              "      <td>-0.120081<\/td>\n",
              "      <td>83.955078<\/td>\n",
              "      <td>0.000000<\/td>\n",
              "      <td>0.070311<\/td>\n",
              "      <td>1.179830e+05<\/td>\n",
              "      <td>0.000000<\/td>\n",
              "      <td>40.151488<\/td>\n",
              "      <td>40.000000<\/td>\n",
              "      <td>0.000000<\/td>\n",
              "      <td>2.065635<\/td>\n",
              "      <td>15.062338<\/td>\n",
              "      <td>3.628014<\/td>\n",
              "      <td>12.743507<\/td>\n",
              "      <td>44.000000<\/td>\n",
              "    <\/tr>\n",
              "    <tr>\n",
              "      <th>50%<\/th>\n",
              "      <td>10.000000<\/td>\n",
              "      <td>0.376026<\/td>\n",
              "      <td>110.613281<\/td>\n",
              "      <td>0.000000<\/td>\n",
              "      <td>0.311092<\/td>\n",
              "      <td>1.795090e+05<\/td>\n",
              "      <td>0.000000<\/td>\n",
              "      <td>45.878359<\/td>\n",
              "      <td>40.000000<\/td>\n",
              "      <td>0.000000<\/td>\n",
              "      <td>3.237458<\/td>\n",
              "      <td>20.594663<\/td>\n",
              "      <td>7.779635<\/td>\n",
              "      <td>68.358187<\/td>\n",
              "      <td>52.000000<\/td>\n",
              "    <\/tr>\n",
              "    <tr>\n",
              "      <th>75%<\/th>\n",
              "      <td>13.000000<\/td>\n",
              "      <td>2.090854<\/td>\n",
              "      <td>125.382812<\/td>\n",
              "      <td>0.000000<\/td>\n",
              "      <td>0.776492<\/td>\n",
              "      <td>2.415230e+05<\/td>\n",
              "      <td>1.000000<\/td>\n",
              "      <td>50.350939<\/td>\n",
              "      <td>45.000000<\/td>\n",
              "      <td>0.000000<\/td>\n",
              "      <td>12.679766<\/td>\n",
              "      <td>43.333643<\/td>\n",
              "      <td>10.260328<\/td>\n",
              "      <td>126.817691<\/td>\n",
              "      <td>60.000000<\/td>\n",
              "    <\/tr>\n",
              "    <tr>\n",
              "      <th>max<\/th>\n",
              "      <td>16.000000<\/td>\n",
              "      <td>68.101622<\/td>\n",
              "      <td>15887.500000<\/td>\n",
              "      <td>99999.000000<\/td>\n",
              "      <td>8.069522<\/td>\n",
              "      <td>1.366120e+06<\/td>\n",
              "      <td>1.000000<\/td>\n",
              "      <td>91.206475<\/td>\n",
              "      <td>99.000000<\/td>\n",
              "      <td>2824.000000<\/td>\n",
              "      <td>217.371238<\/td>\n",
              "      <td>110.642211<\/td>\n",
              "      <td>34.539844<\/td>\n",
              "      <td>1191.000837<\/td>\n",
              "      <td>113.000000<\/td>\n",
              "    <\/tr>\n",
              "  <\/tbody>\n",
              "<\/table>\n",
              "<\/div>"
            ]
          },
          "metadata":{
            
          },
          "output_type":"display_data"
        }
      ],
      "metadata":{
        
      }
    },
    {
      "cell_type":"markdown",
      "source":[
        "Moc veľa sa z týchto štatistických dáta nedá vyčítať, pretože majú veľa vychýlených hodnôt."
      ],
      "metadata":{
        
      }
    },
    {
      "cell_type":"code",
      "source":[
        "df_joined.shape[0] - df_joined.dropna().shape[0]"
      ],
      "execution_count":0,
      "outputs":[
        {
          "data":{
            "text\/plain":[
              "1258"
            ]
          },
          "metadata":{
            
          },
          "output_type":"display_data"
        }
      ],
      "metadata":{
        
      }
    },
    {
      "cell_type":"markdown",
      "source":[
        "Dataframe df_joined obsahuje 1258 chýbajúcich hodnôt."
      ],
      "metadata":{
        
      }
    },
    {
      "cell_type":"code",
      "source":[
        "df_joined.info()"
      ],
      "execution_count":0,
      "outputs":[
        {
          "name":"stdout",
          "text":[
            "<class 'pandas.core.frame.DataFrame'>\n",
            "Int64Index: 3983 entries, 0 to 3982\n",
            "Data columns (total 30 columns):\n",
            " #   Column            Non-Null Count  Dtype  \n",
            "---  ------            --------------  -----  \n",
            " 0   name              3983 non-null   object \n",
            " 1   race              3971 non-null   object \n",
            " 2   marital-status    3570 non-null   object \n",
            " 3   occupation        3744 non-null   object \n",
            " 4   pregnant          3967 non-null   object \n",
            " 5   education-num     3971 non-null   float64\n",
            " 6   relationship      3972 non-null   object \n",
            " 7   skewness_glucose  3968 non-null   float64\n",
            " 8   mean_glucose      3974 non-null   float64\n",
            " 9   capital-gain      3964 non-null   float64\n",
            " 10  kurtosis_glucose  3970 non-null   float64\n",
            " 11  education         3969 non-null   object \n",
            " 12  fnlwgt            3965 non-null   float64\n",
            " 13  class             3972 non-null   float64\n",
            " 14  std_glucose       3966 non-null   float64\n",
            " 15  income            3971 non-null   object \n",
            " 16  native-country    3909 non-null   object \n",
            " 17  hours-per-week    3971 non-null   float64\n",
            " 18  capital-loss      3971 non-null   float64\n",
            " 19  workclass         3741 non-null   object \n",
            " 20  mean_oxygen       3967 non-null   float64\n",
            " 21  std_oxygen        3967 non-null   float64\n",
            " 22  kurtosis_oxygen   3967 non-null   float64\n",
            " 23  skewness_oxygen   3967 non-null   float64\n",
            " 24  age               3586 non-null   float64\n",
            " 25  sex               3983 non-null   object \n",
            " 26  date_of_birth     3983 non-null   object \n",
            " 27  street            3983 non-null   object \n",
            " 28  city              3704 non-null   object \n",
            " 29  zip_code          3983 non-null   object \n",
            "dtypes: float64(15), object(15)\n",
            "memory usage: 964.6+ KB\n"
          ],
          "output_type":"stream"
        }
      ],
      "metadata":{
        
      }
    },
    {
      "cell_type":"markdown",
      "source":[
        "# Riešenie chýbajúcich hodnôt prvá stratégia"
      ],
      "metadata":{
        
      }
    },
    {
      "cell_type":"code",
      "source":[
        "from sklearn.impute import SimpleImputer\n",
        "\n",
        "copy_joined = df_joined.copy()\n",
        "nan_map = copy_joined.isnull().any(axis=1)\n",
        "copy_joined[nan_map]\n",
        "\n",
        "imp = SimpleImputer(missing_values=np.nan, strategy='mean')\n",
        "copy_joined['age'] = imp.fit_transform(copy_joined[['age']])\n",
        "copy_joined[nan_map]\n",
        "\n",
        "df_joined.info()"
      ],
      "execution_count":0,
      "outputs":[
        {
          "name":"stdout",
          "text":[
            "<class 'pandas.core.frame.DataFrame'>\n",
            "Int64Index: 3983 entries, 0 to 3982\n",
            "Data columns (total 30 columns):\n",
            " #   Column            Non-Null Count  Dtype  \n",
            "---  ------            --------------  -----  \n",
            " 0   name              3983 non-null   object \n",
            " 1   race              3971 non-null   object \n",
            " 2   marital-status    3570 non-null   object \n",
            " 3   occupation        3744 non-null   object \n",
            " 4   pregnant          3967 non-null   object \n",
            " 5   education-num     3971 non-null   float64\n",
            " 6   relationship      3972 non-null   object \n",
            " 7   skewness_glucose  3968 non-null   float64\n",
            " 8   mean_glucose      3974 non-null   float64\n",
            " 9   capital-gain      3964 non-null   float64\n",
            " 10  kurtosis_glucose  3970 non-null   float64\n",
            " 11  education         3969 non-null   object \n",
            " 12  fnlwgt            3965 non-null   float64\n",
            " 13  class             3972 non-null   float64\n",
            " 14  std_glucose       3966 non-null   float64\n",
            " 15  income            3971 non-null   object \n",
            " 16  native-country    3909 non-null   object \n",
            " 17  hours-per-week    3971 non-null   float64\n",
            " 18  capital-loss      3971 non-null   float64\n",
            " 19  workclass         3741 non-null   object \n",
            " 20  mean_oxygen       3967 non-null   float64\n",
            " 21  std_oxygen        3967 non-null   float64\n",
            " 22  kurtosis_oxygen   3967 non-null   float64\n",
            " 23  skewness_oxygen   3967 non-null   float64\n",
            " 24  age               3586 non-null   float64\n",
            " 25  sex               3983 non-null   object \n",
            " 26  date_of_birth     3983 non-null   object \n",
            " 27  street            3983 non-null   object \n",
            " 28  city              3704 non-null   object \n",
            " 29  zip_code          3983 non-null   object \n",
            "dtypes: float64(15), object(15)\n",
            "memory usage: 964.6+ KB\n"
          ],
          "output_type":"stream"
        }
      ],
      "metadata":{
        
      }
    },
    {
      "cell_type":"code",
      "source":[
        "sns.displot(df_joined['age'], kde=True, bins=30) # Distribution of age values, Positive kurtosis and normal skewness"
      ],
      "execution_count":0,
      "outputs":[
        {
          "data":{
            "text\/plain":[
              "<seaborn.axisgrid.FacetGrid at 0x7f255d4fef50>"
            ],
            "image\/png":"[encoded data removed]"
          },
          "metadata":{
            "image\/png":{
              "width":0,
              "height":0
            }
          },
          "output_type":"display_data"
        }
      ],
      "metadata":{
        
      }
    },
    {
      "cell_type":"code",
      "source":[
        "sns.displot(copy_joined['age'], kde=True, bins=30) # Distribution of age values, Positive kurtosis and normal skewness"
      ],
      "execution_count":0,
      "outputs":[
        {
          "data":{
            "text\/plain":[
              "<seaborn.axisgrid.FacetGrid at 0x7f255d12b090>"
            ],
            "image\/png":"[encoded data removed]"
          },
          "metadata":{
            "image\/png":{
              "width":0,
              "height":0
            }
          },
          "output_type":"display_data"
        }
      ],
      "metadata":{
        
      }
    },
    {
      "cell_type":"markdown",
      "source":[
        "# Riešenie chýbajúcich hodnôt druhá stratégia"
      ],
      "metadata":{
        
      }
    },
    {
      "cell_type":"markdown",
      "source":[
        "# Riešenie vychýlených hodnôt"
      ],
      "metadata":{
        
      }
    },
    {
      "cell_type":"markdown",
      "source":[
        "# Transformácia atribútu\/ov pomocou Power transform (logaritmus, odmocnina a pod.)"
      ],
      "metadata":{
        
      }
    },
    {
      "cell_type":"markdown",
      "source":[
        "# Opätovná realizácia podstatných častí prieskumnej analýzy"
      ],
      "metadata":{
        
      }
    },
    {
      "cell_type":"markdown",
      "source":[
        "\n",
        "    Očakáva sa že dokumentujete zmeny distribúcie hodnôt po realizácii predspracovania\n",
        "    Následne dokumentujete LEN zmeny v prieskumnej analýze"
      ],
      "metadata":{
        
      }
    }
  ],
  "metadata":{
    
  },
  "nbformat":4,
  "nbformat_minor":0
}